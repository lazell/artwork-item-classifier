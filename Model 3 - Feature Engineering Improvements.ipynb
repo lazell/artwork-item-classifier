{
 "cells": [
  {
   "cell_type": "markdown",
   "metadata": {},
   "source": [
    "## Feature Engineering Improvements\n",
    "\n",
    "Added new key words to furniture, decorative object, print category.\n",
    "Corrected spelling of terms and added works to print category.\n",
    "Remove length check from long list of items\n",
    "Added new feature **sculpture_keywords()**"
   ]
  },
  {
   "cell_type": "code",
   "execution_count": 1,
   "metadata": {},
   "outputs": [],
   "source": [
    "import pandas as pd\n",
    "import numpy as np\n",
    "\n",
    "import pickle\n",
    "import matplotlib.pyplot as plt\n",
    "import seaborn as sns\n",
    "import auth\n",
    "from comet_ml import Experiment\n",
    "\n",
    "from feature_engineering import functions\n",
    "from utils import utils\n",
    "from sklearn.pipeline import Pipeline\n",
    "\n",
    "from sklearn.model_selection import train_test_split\n",
    "from sklearn.metrics import accuracy_score, confusion_matrix, classification_report"
   ]
  },
  {
   "cell_type": "code",
   "execution_count": 2,
   "metadata": {},
   "outputs": [],
   "source": [
    "# Import MoMA dataset\n",
    "\n",
    "df = pd.read_csv('data/moma_baseline_model_balanced_dataset_05_11_2011.csv')"
   ]
  },
  {
   "cell_type": "code",
   "execution_count": 3,
   "metadata": {},
   "outputs": [],
   "source": [
    "# assign column names\n",
    "\n",
    "title_desc_col = 'Title'\n",
    "medium_col = 'Medium'\n",
    "dimension_col = 'Dimensions'\n",
    "url_col = 'ThumbnailURL'\n"
   ]
  },
  {
   "cell_type": "code",
   "execution_count": 4,
   "metadata": {},
   "outputs": [],
   "source": [
    "# Re-compute features\n",
    "df_transformed = functions.text_based_transformer(df\n",
    "                                        , medium=medium_col\n",
    "                                        , dimensions=dimension_col\n",
    "                                        , title=title_desc_col)"
   ]
  },
  {
   "cell_type": "code",
   "execution_count": 5,
   "metadata": {},
   "outputs": [
    {
     "name": "stderr",
     "output_type": "stream",
     "text": [
      "/Users/katielazell-fairman/.pyenv/versions/3.8.0/lib/python3.8/site-packages/pandas/core/computation/expressions.py:190: UserWarning: evaluating in Python space because the '+' operator is not supported by numexpr for the bool dtype, use '|' instead\n",
      "  warnings.warn(\n"
     ]
    }
   ],
   "source": [
    "df_transformed_1 = functions.is_drawing(df_transformed)\n",
    "\n",
    "df_transformed_1['long_list_of_things'] = df_transformed_1[medium_col].apply(lambda x: \n",
    "                                                                    functions.long_list_of_things(str(x)))\n",
    "\n",
    "df = df_transformed_1"
   ]
  },
  {
   "cell_type": "code",
   "execution_count": 6,
   "metadata": {},
   "outputs": [
    {
     "name": "stdout",
     "output_type": "stream",
     "text": [
      "(5340, 45)\n"
     ]
    },
    {
     "data": {
      "text/html": [
       "<div>\n",
       "<style scoped>\n",
       "    .dataframe tbody tr th:only-of-type {\n",
       "        vertical-align: middle;\n",
       "    }\n",
       "\n",
       "    .dataframe tbody tr th {\n",
       "        vertical-align: top;\n",
       "    }\n",
       "\n",
       "    .dataframe thead th {\n",
       "        text-align: right;\n",
       "    }\n",
       "</style>\n",
       "<table border=\"1\" class=\"dataframe\">\n",
       "  <thead>\n",
       "    <tr style=\"text-align: right;\">\n",
       "      <th></th>\n",
       "      <th>index</th>\n",
       "    </tr>\n",
       "    <tr>\n",
       "      <th>Classification</th>\n",
       "      <th></th>\n",
       "    </tr>\n",
       "  </thead>\n",
       "  <tbody>\n",
       "    <tr>\n",
       "      <th>Drawing</th>\n",
       "      <td>750</td>\n",
       "    </tr>\n",
       "    <tr>\n",
       "      <th>Painting</th>\n",
       "      <td>750</td>\n",
       "    </tr>\n",
       "    <tr>\n",
       "      <th>Photograph</th>\n",
       "      <td>750</td>\n",
       "    </tr>\n",
       "    <tr>\n",
       "      <th>Print</th>\n",
       "      <td>750</td>\n",
       "    </tr>\n",
       "    <tr>\n",
       "      <th>Sculpture</th>\n",
       "      <td>750</td>\n",
       "    </tr>\n",
       "    <tr>\n",
       "      <th>decorative_object</th>\n",
       "      <td>750</td>\n",
       "    </tr>\n",
       "    <tr>\n",
       "      <th>furniture</th>\n",
       "      <td>504</td>\n",
       "    </tr>\n",
       "    <tr>\n",
       "      <th>Installation</th>\n",
       "      <td>336</td>\n",
       "    </tr>\n",
       "  </tbody>\n",
       "</table>\n",
       "</div>"
      ],
      "text/plain": [
       "                   index\n",
       "Classification          \n",
       "Drawing              750\n",
       "Painting             750\n",
       "Photograph           750\n",
       "Print                750\n",
       "Sculpture            750\n",
       "decorative_object    750\n",
       "furniture            504\n",
       "Installation         336"
      ]
     },
     "execution_count": 6,
     "metadata": {},
     "output_type": "execute_result"
    }
   ],
   "source": [
    "print(df.shape)\n",
    "\n",
    "df[['index', 'Classification']].groupby('Classification').count().sort_values('index', ascending=False)"
   ]
  },
  {
   "cell_type": "code",
   "execution_count": 7,
   "metadata": {},
   "outputs": [],
   "source": [
    "# Select columns to use as featureset\n",
    "\n",
    "cols_to_use = ['long_list_of_things'\n",
    "        , 'installation_keyword'\n",
    "        , 'print_keyword'\n",
    "        , 'drawing_paper_word'\n",
    "        , 'drawing_keyword'\n",
    "        , 'painting_keyword'\n",
    "        , 'photo_keyword'\n",
    "        , 'has_3dimensions'\n",
    "        , 'furniture_keyword'\n",
    "        , 'sculpture_keyword'\n",
    "        , 'decorative_obj_keyword'\n",
    "        , 'decorative_obj_keyword_med'\n",
    "        , 'is_drawing'\n",
    "              ]"
   ]
  },
  {
   "cell_type": "code",
   "execution_count": 8,
   "metadata": {},
   "outputs": [],
   "source": [
    "#Create labels & Training data \n",
    "\n",
    "y = pd.get_dummies(df['Classification'])\n",
    "\n",
    "X = df[cols_to_use]"
   ]
  },
  {
   "cell_type": "code",
   "execution_count": 9,
   "metadata": {},
   "outputs": [],
   "source": [
    "# Segragate Data into test, train split\n",
    "\n",
    "X_train, X_test, y_train, y_test = train_test_split(X, y, test_size=0.40, random_state=88)\n"
   ]
  },
  {
   "cell_type": "code",
   "execution_count": 10,
   "metadata": {},
   "outputs": [
    {
     "data": {
      "text/html": [
       "<div>\n",
       "<style scoped>\n",
       "    .dataframe tbody tr th:only-of-type {\n",
       "        vertical-align: middle;\n",
       "    }\n",
       "\n",
       "    .dataframe tbody tr th {\n",
       "        vertical-align: top;\n",
       "    }\n",
       "\n",
       "    .dataframe thead th {\n",
       "        text-align: right;\n",
       "    }\n",
       "</style>\n",
       "<table border=\"1\" class=\"dataframe\">\n",
       "  <thead>\n",
       "    <tr style=\"text-align: right;\">\n",
       "      <th></th>\n",
       "      <th>Drawing</th>\n",
       "      <th>Installation</th>\n",
       "      <th>Painting</th>\n",
       "      <th>Photograph</th>\n",
       "      <th>Print</th>\n",
       "      <th>Sculpture</th>\n",
       "      <th>decorative_object</th>\n",
       "      <th>furniture</th>\n",
       "    </tr>\n",
       "  </thead>\n",
       "  <tbody>\n",
       "    <tr>\n",
       "      <th>5312</th>\n",
       "      <td>0</td>\n",
       "      <td>0</td>\n",
       "      <td>0</td>\n",
       "      <td>0</td>\n",
       "      <td>0</td>\n",
       "      <td>0</td>\n",
       "      <td>0</td>\n",
       "      <td>1</td>\n",
       "    </tr>\n",
       "    <tr>\n",
       "      <th>466</th>\n",
       "      <td>0</td>\n",
       "      <td>0</td>\n",
       "      <td>0</td>\n",
       "      <td>0</td>\n",
       "      <td>1</td>\n",
       "      <td>0</td>\n",
       "      <td>0</td>\n",
       "      <td>0</td>\n",
       "    </tr>\n",
       "    <tr>\n",
       "      <th>4899</th>\n",
       "      <td>0</td>\n",
       "      <td>0</td>\n",
       "      <td>0</td>\n",
       "      <td>0</td>\n",
       "      <td>0</td>\n",
       "      <td>0</td>\n",
       "      <td>0</td>\n",
       "      <td>1</td>\n",
       "    </tr>\n",
       "    <tr>\n",
       "      <th>1987</th>\n",
       "      <td>0</td>\n",
       "      <td>0</td>\n",
       "      <td>0</td>\n",
       "      <td>1</td>\n",
       "      <td>0</td>\n",
       "      <td>0</td>\n",
       "      <td>0</td>\n",
       "      <td>0</td>\n",
       "    </tr>\n",
       "    <tr>\n",
       "      <th>4522</th>\n",
       "      <td>0</td>\n",
       "      <td>0</td>\n",
       "      <td>0</td>\n",
       "      <td>0</td>\n",
       "      <td>0</td>\n",
       "      <td>0</td>\n",
       "      <td>1</td>\n",
       "      <td>0</td>\n",
       "    </tr>\n",
       "    <tr>\n",
       "      <th>...</th>\n",
       "      <td>...</td>\n",
       "      <td>...</td>\n",
       "      <td>...</td>\n",
       "      <td>...</td>\n",
       "      <td>...</td>\n",
       "      <td>...</td>\n",
       "      <td>...</td>\n",
       "      <td>...</td>\n",
       "    </tr>\n",
       "    <tr>\n",
       "      <th>3253</th>\n",
       "      <td>0</td>\n",
       "      <td>0</td>\n",
       "      <td>0</td>\n",
       "      <td>0</td>\n",
       "      <td>0</td>\n",
       "      <td>1</td>\n",
       "      <td>0</td>\n",
       "      <td>0</td>\n",
       "    </tr>\n",
       "    <tr>\n",
       "      <th>3464</th>\n",
       "      <td>0</td>\n",
       "      <td>0</td>\n",
       "      <td>0</td>\n",
       "      <td>0</td>\n",
       "      <td>0</td>\n",
       "      <td>1</td>\n",
       "      <td>0</td>\n",
       "      <td>0</td>\n",
       "    </tr>\n",
       "    <tr>\n",
       "      <th>2601</th>\n",
       "      <td>0</td>\n",
       "      <td>0</td>\n",
       "      <td>1</td>\n",
       "      <td>0</td>\n",
       "      <td>0</td>\n",
       "      <td>0</td>\n",
       "      <td>0</td>\n",
       "      <td>0</td>\n",
       "    </tr>\n",
       "    <tr>\n",
       "      <th>3936</th>\n",
       "      <td>0</td>\n",
       "      <td>1</td>\n",
       "      <td>0</td>\n",
       "      <td>0</td>\n",
       "      <td>0</td>\n",
       "      <td>0</td>\n",
       "      <td>0</td>\n",
       "      <td>0</td>\n",
       "    </tr>\n",
       "    <tr>\n",
       "      <th>2410</th>\n",
       "      <td>0</td>\n",
       "      <td>0</td>\n",
       "      <td>1</td>\n",
       "      <td>0</td>\n",
       "      <td>0</td>\n",
       "      <td>0</td>\n",
       "      <td>0</td>\n",
       "      <td>0</td>\n",
       "    </tr>\n",
       "  </tbody>\n",
       "</table>\n",
       "<p>2136 rows × 8 columns</p>\n",
       "</div>"
      ],
      "text/plain": [
       "      Drawing  Installation  Painting  Photograph  Print  Sculpture  \\\n",
       "5312        0             0         0           0      0          0   \n",
       "466         0             0         0           0      1          0   \n",
       "4899        0             0         0           0      0          0   \n",
       "1987        0             0         0           1      0          0   \n",
       "4522        0             0         0           0      0          0   \n",
       "...       ...           ...       ...         ...    ...        ...   \n",
       "3253        0             0         0           0      0          1   \n",
       "3464        0             0         0           0      0          1   \n",
       "2601        0             0         1           0      0          0   \n",
       "3936        0             1         0           0      0          0   \n",
       "2410        0             0         1           0      0          0   \n",
       "\n",
       "      decorative_object  furniture  \n",
       "5312                  0          1  \n",
       "466                   0          0  \n",
       "4899                  0          1  \n",
       "1987                  0          0  \n",
       "4522                  1          0  \n",
       "...                 ...        ...  \n",
       "3253                  0          0  \n",
       "3464                  0          0  \n",
       "2601                  0          0  \n",
       "3936                  0          0  \n",
       "2410                  0          0  \n",
       "\n",
       "[2136 rows x 8 columns]"
      ]
     },
     "execution_count": 10,
     "metadata": {},
     "output_type": "execute_result"
    }
   ],
   "source": [
    "y_test"
   ]
  },
  {
   "cell_type": "markdown",
   "metadata": {},
   "source": [
    "## Test with Baseline Heuristic Model"
   ]
  },
  {
   "cell_type": "code",
   "execution_count": 11,
   "metadata": {},
   "outputs": [],
   "source": [
    "# Manual Logic Predictor\n",
    "\n",
    "def if_then_classifier(y_test):\n",
    "\n",
    "    y_pred_manual = np.array([y_test.columns])\n",
    "\n",
    "    for index, row in X_test.iterrows():\n",
    "        if row['print_keyword']:\n",
    "            result= [0,0,0,0,1,0,0,0]\n",
    "        elif row['photo_keyword']:\n",
    "            result= [0,0,0,1,0,0,0,0]\n",
    "        elif row['decorative_obj_keyword']:\n",
    "            result= [0,0,0,0,0,0,1,0]\n",
    "        elif row['furniture_keyword']:\n",
    "            result= [0,0,0,0,0,0,0,1]\n",
    "        elif row['is_drawing'].any():\n",
    "            result= [1,0,0,0,0,0,0,0]\n",
    "        elif row['has_3dimensions']:\n",
    "            if row['installation_keyword']:\n",
    "                result = [0,1,0,0,0,0,0,0]\n",
    "            elif row['sculpture_keyword']: # <------ New section added\n",
    "                result = [0,0,0,0,0,1,0,0]\n",
    "            elif row['long_list_of_things']:\n",
    "                    result = [0,1,0,0,0,0,0,0]  \n",
    "            else:\n",
    "                result = [0,0,0,0,0,1,0,0]\n",
    "        elif row['painting_keyword']:\n",
    "            result = [0,0,1,0,0,0,0,0]\n",
    "        else:\n",
    "            result = [0,0,0,0,0,0,0,0]\n",
    "        y_pred_manual = np.vstack((y_pred_manual, result))\n",
    "        \n",
    "    y_pred_manual_final = pd.DataFrame(y_pred_manual[1:,]\n",
    "                                   , columns=y_test.columns\n",
    "                                   , index=X_test.index).astype('int')\n",
    "    return y_pred_manual_final"
   ]
  },
  {
   "cell_type": "code",
   "execution_count": 12,
   "metadata": {},
   "outputs": [],
   "source": [
    "y_pred_manual_final = if_then_classifier(y_test)"
   ]
  },
  {
   "cell_type": "code",
   "execution_count": 13,
   "metadata": {},
   "outputs": [
    {
     "name": "stdout",
     "output_type": "stream",
     "text": [
      "0.8080524344569289\n"
     ]
    }
   ],
   "source": [
    "accuracy = accuracy_score(y_test, y_pred_manual_final)\n",
    "print(accuracy)"
   ]
  },
  {
   "cell_type": "code",
   "execution_count": 14,
   "metadata": {},
   "outputs": [
    {
     "name": "stdout",
     "output_type": "stream",
     "text": [
      "                   precision    recall  f1-score   support\n",
      "\n",
      "          Drawing       0.87      0.91      0.89       306\n",
      "     Installation       0.37      0.12      0.18       150\n",
      "         Painting       0.93      0.78      0.85       316\n",
      "       Photograph       0.93      0.92      0.92       293\n",
      "            Print       0.94      0.91      0.92       264\n",
      "        Sculpture       0.82      0.67      0.74       295\n",
      "decorative_object       0.94      0.88      0.91       310\n",
      "        furniture       0.93      0.99      0.96       202\n",
      "\n",
      "        micro avg       0.89      0.81      0.85      2136\n",
      "        macro avg       0.84      0.77      0.80      2136\n",
      "     weighted avg       0.87      0.81      0.83      2136\n",
      "      samples avg       0.81      0.81      0.81      2136\n",
      "\n"
     ]
    },
    {
     "name": "stderr",
     "output_type": "stream",
     "text": [
      "/Users/katielazell-fairman/.pyenv/versions/3.8.0/lib/python3.8/site-packages/sklearn/metrics/_classification.py:1272: UndefinedMetricWarning: Precision and F-score are ill-defined and being set to 0.0 in samples with no predicted labels. Use `zero_division` parameter to control this behavior.\n",
      "  _warn_prf(average, modifier, msg_start, len(result))\n"
     ]
    }
   ],
   "source": [
    "report = classification_report(y_test, y_pred_manual_final, target_names=y_test.columns)\n",
    "print(report)"
   ]
  },
  {
   "cell_type": "code",
   "execution_count": 15,
   "metadata": {},
   "outputs": [
    {
     "name": "stderr",
     "output_type": "stream",
     "text": [
      "COMET INFO: Experiment is live on comet.ml https://www.comet.ml/lazell/artwork-classification/fd45382230e24d38a124241a0aae4c7f\n",
      "\n"
     ]
    }
   ],
   "source": [
    "experiment = Experiment(api_key=auth.comet_api_key,\n",
    "                         project_name=\"artwork-classification\", workspace=\"lazell\")"
   ]
  },
  {
   "cell_type": "code",
   "execution_count": 31,
   "metadata": {},
   "outputs": [],
   "source": [
    "# Create an comet.ml experiment\n",
    "\n",
    "experiment.add_tag('Baseline Model with v3 of features')\n",
    "experiment.log_metric(\"accuracy\", accuracy)\n",
    "\n",
    "experiment.log_metric(\"f1-score micro\", 0.85)\n",
    "experiment.log_metric(\"f1-score macro\", 0.80)\n",
    "experiment.log_metric(\"f1-score weighted\", 0.83)\n",
    "\n",
    "experiment.log_metric(\"precision micro\", 0.89)\n",
    "experiment.log_metric(\"precision macro\", 0.84)\n",
    "experiment.log_metric(\"precision weighted\", 0.87)\n",
    "\n",
    "experiment.log_metric(\"recall micro\", 0.81)\n",
    "experiment.log_metric(\"recall macro\", 0.77)\n",
    "experiment.log_metric(\"recall weighted\", 0.81)"
   ]
  },
  {
   "cell_type": "markdown",
   "metadata": {},
   "source": [
    "## Descision Tree Classifier"
   ]
  },
  {
   "cell_type": "code",
   "execution_count": 32,
   "metadata": {},
   "outputs": [
    {
     "name": "stderr",
     "output_type": "stream",
     "text": [
      "COMET INFO: ---------------------------\n",
      "COMET INFO: Comet.ml Experiment Summary\n",
      "COMET INFO: ---------------------------\n",
      "COMET INFO:   Data:\n",
      "COMET INFO:     display_summary_level : 1\n",
      "COMET INFO:     url                   : https://www.comet.ml/lazell/artwork-classification/fd45382230e24d38a124241a0aae4c7f\n",
      "COMET INFO:   Metrics [count] (min, max):\n",
      "COMET INFO:     accuracy [2]           : 0.8080524344569289\n",
      "COMET INFO:     f1-score macro [2]     : (0.79, 0.8)\n",
      "COMET INFO:     f1-score micro [2]     : (0.84, 0.85)\n",
      "COMET INFO:     f1-score weighted [2]  : 0.83\n",
      "COMET INFO:     precision macro [2]    : 0.84\n",
      "COMET INFO:     precision micro [2]    : 0.89\n",
      "COMET INFO:     precision weighted [2] : 0.87\n",
      "COMET INFO:     recall macro [2]       : 0.77\n",
      "COMET INFO:     recall micro [2]       : (0.8, 0.81)\n",
      "COMET INFO:     recall weighted [2]    : (0.8, 0.81)\n",
      "COMET INFO:   Uploads:\n",
      "COMET INFO:     environment details      : 1\n",
      "COMET INFO:     filename                 : 1\n",
      "COMET INFO:     git metadata             : 1\n",
      "COMET INFO:     git-patch (uncompressed) : 1 (38 KB)\n",
      "COMET INFO:     installed packages       : 1\n",
      "COMET INFO: ---------------------------\n",
      "COMET INFO: Experiment is live on comet.ml https://www.comet.ml/lazell/artwork-classification/82c6533d21c84ac0a67e366c91aa6abd\n",
      "\n"
     ]
    }
   ],
   "source": [
    "# Train Decision Tree Classifier\n",
    "\n",
    "from sklearn.tree import DecisionTreeClassifier\n",
    "\n",
    "experiment = Experiment(api_key=auth.comet_api_key,\n",
    "                         project_name=\"artwork-classification\", workspace=\"lazell\")\n",
    "\n",
    "experiment.add_tag('Model 3 - DecisionTree Classifier with v3 of features')\n",
    "\n",
    "clf = DecisionTreeClassifier(min_samples_split=5\n",
    "                             ,max_depth=10\n",
    "                             ).fit(X_train, y_train)"
   ]
  },
  {
   "cell_type": "code",
   "execution_count": 35,
   "metadata": {},
   "outputs": [
    {
     "data": {
      "text/plain": [
       "<bound method BaseExperiment.end of <comet_ml.Experiment object at 0x125ef9c70>>"
      ]
     },
     "execution_count": 35,
     "metadata": {},
     "output_type": "execute_result"
    }
   ],
   "source": [
    "experiment.end"
   ]
  },
  {
   "cell_type": "code",
   "execution_count": 33,
   "metadata": {},
   "outputs": [],
   "source": [
    "# Get Test Results\n",
    "\n",
    "results = clf.predict(X_test)\n",
    "y_pred = pd.DataFrame(columns=y_test.columns\n",
    "                      , data=results\n",
    "                      , index=X_test.index)"
   ]
  },
  {
   "cell_type": "code",
   "execution_count": 34,
   "metadata": {},
   "outputs": [
    {
     "name": "stdout",
     "output_type": "stream",
     "text": [
      "0.8080524344569289\n"
     ]
    }
   ],
   "source": [
    "accuracy = accuracy_score(y_test, y_pred_manual_final)\n",
    "print(accuracy)"
   ]
  },
  {
   "cell_type": "code",
   "execution_count": 20,
   "metadata": {},
   "outputs": [
    {
     "name": "stdout",
     "output_type": "stream",
     "text": [
      "                   precision    recall  f1-score   support\n",
      "\n",
      "          Drawing       0.87      0.91      0.89       306\n",
      "     Installation       0.37      0.12      0.18       150\n",
      "         Painting       0.93      0.78      0.85       316\n",
      "       Photograph       0.93      0.92      0.92       293\n",
      "            Print       0.94      0.91      0.92       264\n",
      "        Sculpture       0.82      0.67      0.74       295\n",
      "decorative_object       0.94      0.88      0.91       310\n",
      "        furniture       0.93      0.99      0.96       202\n",
      "\n",
      "        micro avg       0.89      0.81      0.85      2136\n",
      "        macro avg       0.84      0.77      0.80      2136\n",
      "     weighted avg       0.87      0.81      0.83      2136\n",
      "      samples avg       0.81      0.81      0.81      2136\n",
      "\n"
     ]
    },
    {
     "name": "stderr",
     "output_type": "stream",
     "text": [
      "/Users/katielazell-fairman/.pyenv/versions/3.8.0/lib/python3.8/site-packages/sklearn/metrics/_classification.py:1272: UndefinedMetricWarning: Precision and F-score are ill-defined and being set to 0.0 in samples with no predicted labels. Use `zero_division` parameter to control this behavior.\n",
      "  _warn_prf(average, modifier, msg_start, len(result))\n"
     ]
    }
   ],
   "source": [
    "report = classification_report(y_test, y_pred_manual_final, target_names=y_test.columns)\n",
    "print(report)"
   ]
  },
  {
   "cell_type": "code",
   "execution_count": 21,
   "metadata": {},
   "outputs": [
    {
     "data": {
      "text/html": [
       "<div>\n",
       "<style scoped>\n",
       "    .dataframe tbody tr th:only-of-type {\n",
       "        vertical-align: middle;\n",
       "    }\n",
       "\n",
       "    .dataframe tbody tr th {\n",
       "        vertical-align: top;\n",
       "    }\n",
       "\n",
       "    .dataframe thead th {\n",
       "        text-align: right;\n",
       "    }\n",
       "</style>\n",
       "<table border=\"1\" class=\"dataframe\">\n",
       "  <thead>\n",
       "    <tr style=\"text-align: right;\">\n",
       "      <th></th>\n",
       "      <th>0</th>\n",
       "    </tr>\n",
       "  </thead>\n",
       "  <tbody>\n",
       "    <tr>\n",
       "      <th>print_keyword</th>\n",
       "      <td>0.175838</td>\n",
       "    </tr>\n",
       "    <tr>\n",
       "      <th>photo_keyword</th>\n",
       "      <td>0.161654</td>\n",
       "    </tr>\n",
       "    <tr>\n",
       "      <th>decorative_obj_keyword</th>\n",
       "      <td>0.151461</td>\n",
       "    </tr>\n",
       "    <tr>\n",
       "      <th>is_drawing</th>\n",
       "      <td>0.133653</td>\n",
       "    </tr>\n",
       "    <tr>\n",
       "      <th>furniture_keyword</th>\n",
       "      <td>0.126680</td>\n",
       "    </tr>\n",
       "    <tr>\n",
       "      <th>has_3dimensions</th>\n",
       "      <td>0.106998</td>\n",
       "    </tr>\n",
       "    <tr>\n",
       "      <th>painting_keyword</th>\n",
       "      <td>0.067738</td>\n",
       "    </tr>\n",
       "    <tr>\n",
       "      <th>installation_keyword</th>\n",
       "      <td>0.033267</td>\n",
       "    </tr>\n",
       "    <tr>\n",
       "      <th>decorative_obj_keyword_med</th>\n",
       "      <td>0.019381</td>\n",
       "    </tr>\n",
       "    <tr>\n",
       "      <th>drawing_paper_word</th>\n",
       "      <td>0.011562</td>\n",
       "    </tr>\n",
       "    <tr>\n",
       "      <th>long_list_of_things</th>\n",
       "      <td>0.006709</td>\n",
       "    </tr>\n",
       "    <tr>\n",
       "      <th>sculpture_keyword</th>\n",
       "      <td>0.003263</td>\n",
       "    </tr>\n",
       "    <tr>\n",
       "      <th>drawing_keyword</th>\n",
       "      <td>0.001794</td>\n",
       "    </tr>\n",
       "  </tbody>\n",
       "</table>\n",
       "</div>"
      ],
      "text/plain": [
       "                                   0\n",
       "print_keyword               0.175838\n",
       "photo_keyword               0.161654\n",
       "decorative_obj_keyword      0.151461\n",
       "is_drawing                  0.133653\n",
       "furniture_keyword           0.126680\n",
       "has_3dimensions             0.106998\n",
       "painting_keyword            0.067738\n",
       "installation_keyword        0.033267\n",
       "decorative_obj_keyword_med  0.019381\n",
       "drawing_paper_word          0.011562\n",
       "long_list_of_things         0.006709\n",
       "sculpture_keyword           0.003263\n",
       "drawing_keyword             0.001794"
      ]
     },
     "execution_count": 21,
     "metadata": {},
     "output_type": "execute_result"
    }
   ],
   "source": [
    "# Get Feature Importances\n",
    "df_feature_importances = pd.DataFrame(data=clf.feature_importances_\n",
    "                                      ,index=X_train.columns).sort_values(0, ascending=False)\n",
    "df_feature_importances"
   ]
  },
  {
   "cell_type": "code",
   "execution_count": 22,
   "metadata": {},
   "outputs": [
    {
     "data": {
      "text/plain": [
       "(array([ 0,  1,  2,  3,  4,  5,  6,  7,  8,  9, 10, 11, 12]),\n",
       " <a list of 13 Text major ticklabel objects>)"
      ]
     },
     "execution_count": 22,
     "metadata": {},
     "output_type": "execute_result"
    },
    {
     "data": {
      "image/png": "[encoded data removed]",
      "text/plain": [
       "<Figure size 432x288 with 1 Axes>"
      ]
     },
     "metadata": {
      "needs_background": "light"
     },
     "output_type": "display_data"
    }
   ],
   "source": [
    "# Plot Importances\n",
    "\n",
    "sns.barplot(y=df_feature_importances[0],x=df_feature_importances.index)\n",
    "plt.xticks(rotation='vertical')"
   ]
  },
  {
   "cell_type": "code",
   "execution_count": 23,
   "metadata": {},
   "outputs": [],
   "source": [
    "# Save to model\n",
    "\n",
    "model = {'model': clf,\n",
    "         'features': cols_to_use,\n",
    "         'labels' : list(y_train.columns)}\n",
    "\n",
    "pkl_filename = \"model_3_DecisionTreeClassifier_v2features.pkl\"\n",
    "with open('./models/'+pkl_filename, 'wb') as file:\n",
    "    pickle.dump(model, file)"
   ]
  },
  {
   "cell_type": "markdown",
   "metadata": {},
   "source": [
    "## Test on Picasso Dataset"
   ]
  },
  {
   "cell_type": "code",
   "execution_count": 24,
   "metadata": {},
   "outputs": [],
   "source": [
    "# Import Validation data\n",
    "\n",
    "df_picasso_test = pd.read_csv('./data/data-1589261181890-picasso-christies-test.csv')"
   ]
  },
  {
   "cell_type": "code",
   "execution_count": 25,
   "metadata": {},
   "outputs": [],
   "source": [
    "# assign column names\n",
    "\n",
    "title_desc_col = 'title'\n",
    "medium_col = 'details'\n",
    "dimension_col = 'details'\n",
    "url_col = 'image_url'\n"
   ]
  },
  {
   "cell_type": "code",
   "execution_count": 26,
   "metadata": {
    "scrolled": true
   },
   "outputs": [
    {
     "name": "stderr",
     "output_type": "stream",
     "text": [
      "/Users/katielazell-fairman/.pyenv/versions/3.8.0/lib/python3.8/site-packages/pandas/core/computation/expressions.py:190: UserWarning: evaluating in Python space because the '+' operator is not supported by numexpr for the bool dtype, use '|' instead\n",
      "  warnings.warn(\n"
     ]
    }
   ],
   "source": [
    "df_transformed_1 = functions.text_based_transformer(df_picasso_test\n",
    "                                        , medium=medium_col\n",
    "                                        , dimensions=dimension_col\n",
    "                                        , title=title_desc_col)\n",
    "\n",
    "df_transformed_2 = functions.is_drawing(df_transformed_1)\n",
    "\n",
    "df_transformed_2['long_list_of_things'] = df_transformed_2['details'].apply(lambda x: functions.long_list_of_things(str(x)))\n",
    "\n",
    "df = df_transformed_2"
   ]
  },
  {
   "cell_type": "code",
   "execution_count": 27,
   "metadata": {},
   "outputs": [],
   "source": [
    "# Get Test Results\n",
    "\n",
    "results = clf.predict(df[cols_to_use])\n",
    "y_pred = pd.DataFrame(columns=y_test.columns\n",
    "                      , data=results\n",
    "                      , index=df.index)\n",
    "\n",
    "# crwate label for the not classified result\n",
    "\n",
    "y_pred['no_classification'] = y_pred.apply(lambda x: 1 if sum(x) == 0 else 0, axis=1)"
   ]
  },
  {
   "cell_type": "code",
   "execution_count": 28,
   "metadata": {},
   "outputs": [
    {
     "data": {
      "text/plain": [
       "50             Painting\n",
       "51    decorative_object\n",
       "52             Painting\n",
       "53    decorative_object\n",
       "54    decorative_object\n",
       "55         Installation\n",
       "56            Sculpture\n",
       "57    no_classification\n",
       "58              Drawing\n",
       "59            Sculpture\n",
       "60    decorative_object\n",
       "61         Installation\n",
       "62             Painting\n",
       "63              Drawing\n",
       "64             Painting\n",
       "65              Drawing\n",
       "66    decorative_object\n",
       "67    decorative_object\n",
       "68              Drawing\n",
       "69            Sculpture\n",
       "70    decorative_object\n",
       "71              Drawing\n",
       "72    no_classification\n",
       "73    no_classification\n",
       "74    decorative_object\n",
       "75             Painting\n",
       "76             Painting\n",
       "77    no_classification\n",
       "78    no_classification\n",
       "79             Painting\n",
       "80    decorative_object\n",
       "81    no_classification\n",
       "82    no_classification\n",
       "83    no_classification\n",
       "84             Painting\n",
       "85         Installation\n",
       "86              Drawing\n",
       "87    decorative_object\n",
       "88            Sculpture\n",
       "89                Print\n",
       "90              Drawing\n",
       "91    no_classification\n",
       "92              Drawing\n",
       "93    decorative_object\n",
       "94    decorative_object\n",
       "95              Drawing\n",
       "96              Drawing\n",
       "97              Drawing\n",
       "98    decorative_object\n",
       "99              Drawing\n",
       "dtype: category\n",
       "Categories (7, object): [Drawing, Installation, Painting, Print, Sculpture, decorative_object, no_classification]"
      ]
     },
     "execution_count": 28,
     "metadata": {},
     "output_type": "execute_result"
    }
   ],
   "source": [
    "x = y_pred.stack()\n",
    "results = pd.Series(pd.Categorical(x[x!=0].index.get_level_values(1)))\n",
    "\n",
    "results[50:]"
   ]
  },
  {
   "cell_type": "code",
   "execution_count": 29,
   "metadata": {},
   "outputs": [
    {
     "name": "stdout",
     "output_type": "stream",
     "text": [
      "0\n"
     ]
    },
    {
     "data": {
      "text/html": [
       "<img src=\"https://www.christies.com/img/LotImages/2008/CKS/2008_CKS_07564_0509_000().jpg\" width=\"250\" height=\"250\"/>"
      ],
      "text/plain": [
       "<IPython.core.display.Image object>"
      ]
     },
     "metadata": {},
     "output_type": "display_data"
    },
    {
     "name": "stdout",
     "output_type": "stream",
     "text": [
      "1\n"
     ]
    },
    {
     "data": {
      "text/html": [
       "<img src=\"https://www.christies.com/img/LotImages/2013/CSK/2013_CSK_08257_0246_000(pablo_picasso_tete_de_chevre_de_profil).jpg\" width=\"250\" height=\"250\"/>"
      ],
      "text/plain": [
       "<IPython.core.display.Image object>"
      ]
     },
     "metadata": {},
     "output_type": "display_data"
    },
    {
     "name": "stdout",
     "output_type": "stream",
     "text": [
      "2\n"
     ]
    },
    {
     "data": {
      "text/html": [
       "<img src=\"https://www.christies.com/img/LotImages/2010/CKS/2010_CKS_07859_0337_000(pablo_picasso_buste_dhomme).jpg\" width=\"250\" height=\"250\"/>"
      ],
      "text/plain": [
       "<IPython.core.display.Image object>"
      ]
     },
     "metadata": {},
     "output_type": "display_data"
    },
    {
     "name": "stdout",
     "output_type": "stream",
     "text": [
      "3\n"
     ]
    },
    {
     "data": {
      "text/html": [
       "<img src=\"https://www.christies.com/img/LotImages/2008/CKS/2008_CKS_07564_0569_000().jpg\" width=\"250\" height=\"250\"/>"
      ],
      "text/plain": [
       "<IPython.core.display.Image object>"
      ]
     },
     "metadata": {},
     "output_type": "display_data"
    },
    {
     "name": "stdout",
     "output_type": "stream",
     "text": [
      "4\n"
     ]
    },
    {
     "data": {
      "text/html": [
       "<img src=\"https://www.christies.com/img/LotImages/2010/NYR/2010_NYR_02353_0171_000(pablo_picasso_couple).jpg\" width=\"250\" height=\"250\"/>"
      ],
      "text/plain": [
       "<IPython.core.display.Image object>"
      ]
     },
     "metadata": {},
     "output_type": "display_data"
    },
    {
     "name": "stdout",
     "output_type": "stream",
     "text": [
      "5\n"
     ]
    },
    {
     "data": {
      "text/html": [
       "<img src=\"https://www.christies.com/img/LotImages/2006/CSK/2006_CSK_05010_0092_000().jpg\" width=\"250\" height=\"250\"/>"
      ],
      "text/plain": [
       "<IPython.core.display.Image object>"
      ]
     },
     "metadata": {},
     "output_type": "display_data"
    },
    {
     "name": "stdout",
     "output_type": "stream",
     "text": [
      "6\n"
     ]
    },
    {
     "data": {
      "text/html": [
       "<img src=\"https://www.christies.com/img/LotImages/2012/CSK/2012_CSK_04420_0130_000(pablo_picasso_visage_grave_fond_grege).jpg\" width=\"250\" height=\"250\"/>"
      ],
      "text/plain": [
       "<IPython.core.display.Image object>"
      ]
     },
     "metadata": {},
     "output_type": "display_data"
    },
    {
     "name": "stdout",
     "output_type": "stream",
     "text": [
      "7\n"
     ]
    },
    {
     "data": {
      "text/html": [
       "<img src=\"https://www.christies.com/img/LotImages/2013/CKS/2013_CKS_01133_0311_000(pablo_picasso_grand_vase_aux_femmes_voilees).jpg\" width=\"250\" height=\"250\"/>"
      ],
      "text/plain": [
       "<IPython.core.display.Image object>"
      ]
     },
     "metadata": {},
     "output_type": "display_data"
    },
    {
     "name": "stdout",
     "output_type": "stream",
     "text": [
      "8\n"
     ]
    },
    {
     "data": {
      "text/html": [
       "<img src=\"https://www.christies.com/img/LotImages/2007/CKS/2007_CKS_07407_0136_000().jpg\" width=\"250\" height=\"250\"/>"
      ],
      "text/plain": [
       "<IPython.core.display.Image object>"
      ]
     },
     "metadata": {},
     "output_type": "display_data"
    },
    {
     "name": "stdout",
     "output_type": "stream",
     "text": [
      "9\n"
     ]
    },
    {
     "data": {
      "text/html": [
       "<img src=\"https://www.christies.com/img/LotImages/2008/NYR/2008_NYR_02045_0071_000().jpg\" width=\"250\" height=\"250\"/>"
      ],
      "text/plain": [
       "<IPython.core.display.Image object>"
      ]
     },
     "metadata": {},
     "output_type": "display_data"
    },
    {
     "name": "stdout",
     "output_type": "stream",
     "text": [
      "10\n"
     ]
    },
    {
     "data": {
      "text/html": [
       "<img src=\"https://www.christies.com/img/LotImages/2006/CKS/2006_CKS_07188_0080_000().jpg\" width=\"250\" height=\"250\"/>"
      ],
      "text/plain": [
       "<IPython.core.display.Image object>"
      ]
     },
     "metadata": {},
     "output_type": "display_data"
    },
    {
     "name": "stdout",
     "output_type": "stream",
     "text": [
      "11\n"
     ]
    },
    {
     "data": {
      "text/html": [
       "<img src=\"https://www.christies.com/img/LotImages/2006/NYR/2006_NYR_01722_0039_000().jpg\" width=\"250\" height=\"250\"/>"
      ],
      "text/plain": [
       "<IPython.core.display.Image object>"
      ]
     },
     "metadata": {},
     "output_type": "display_data"
    },
    {
     "name": "stdout",
     "output_type": "stream",
     "text": [
      "12\n"
     ]
    },
    {
     "data": {
      "text/html": [
       "<img src=\"https://www.christies.com/img/LotImages/2008/NYR/2008_NYR_02046_0303_000().jpg\" width=\"250\" height=\"250\"/>"
      ],
      "text/plain": [
       "<IPython.core.display.Image object>"
      ]
     },
     "metadata": {},
     "output_type": "display_data"
    },
    {
     "name": "stdout",
     "output_type": "stream",
     "text": [
      "13\n"
     ]
    },
    {
     "data": {
      "text/html": [
       "<img src=\"https://www.christies.com/img/LotImages/2013/CSK/2013_CSK_08257_0206_000(pablo_picasso_le_dejeuner_sur_lherbe).jpg\" width=\"250\" height=\"250\"/>"
      ],
      "text/plain": [
       "<IPython.core.display.Image object>"
      ]
     },
     "metadata": {},
     "output_type": "display_data"
    },
    {
     "name": "stdout",
     "output_type": "stream",
     "text": [
      "14\n"
     ]
    },
    {
     "data": {
      "text/html": [
       "<img src=\"https://www.christies.com/img/LotImages/2007/CSK/2007_CSK_05226_0187_000().jpg\" width=\"250\" height=\"250\"/>"
      ],
      "text/plain": [
       "<IPython.core.display.Image object>"
      ]
     },
     "metadata": {},
     "output_type": "display_data"
    },
    {
     "name": "stdout",
     "output_type": "stream",
     "text": [
      "15\n"
     ]
    },
    {
     "data": {
      "text/html": [
       "<img src=\"https://www.christies.com/img/LotImages/2013/CSK/2013_CSK_08257_0101_000(pablo_picasso_le_coq).jpg\" width=\"250\" height=\"250\"/>"
      ],
      "text/plain": [
       "<IPython.core.display.Image object>"
      ]
     },
     "metadata": {},
     "output_type": "display_data"
    },
    {
     "name": "stdout",
     "output_type": "stream",
     "text": [
      "16\n"
     ]
    },
    {
     "data": {
      "text/html": [
       "<img src=\"https://www.christies.com/img/LotImages/2012/CKS/2012_CKS_05467_0106_000(pablo_picasso_cavalier_en_armure).jpg\" width=\"250\" height=\"250\"/>"
      ],
      "text/plain": [
       "<IPython.core.display.Image object>"
      ]
     },
     "metadata": {},
     "output_type": "display_data"
    },
    {
     "name": "stdout",
     "output_type": "stream",
     "text": [
      "17\n"
     ]
    },
    {
     "data": {
      "text/html": [
       "<img src=\"https://www.christies.com/img/LotImages/2014/CKS/2014_CKS_01505_0032_000(pablo_picasso_tete_dhomme).jpg\" width=\"250\" height=\"250\"/>"
      ],
      "text/plain": [
       "<IPython.core.display.Image object>"
      ]
     },
     "metadata": {},
     "output_type": "display_data"
    },
    {
     "name": "stdout",
     "output_type": "stream",
     "text": [
      "18\n"
     ]
    },
    {
     "data": {
      "text/html": [
       "<img src=\"https://www.christies.com/img/LotImages/2006/NYR/2006_NYR_01724_0205_000().jpg\" width=\"250\" height=\"250\"/>"
      ],
      "text/plain": [
       "<IPython.core.display.Image object>"
      ]
     },
     "metadata": {},
     "output_type": "display_data"
    },
    {
     "name": "stdout",
     "output_type": "stream",
     "text": [
      "19\n"
     ]
    },
    {
     "data": {
      "text/html": [
       "<img src=\"https://www.christies.com/img/LotImages/2014/NYR/2014_NYR_02847_0006_000(pablo_picasso_trois_femmes_nues_et_buste_dhomme).jpg\" width=\"250\" height=\"250\"/>"
      ],
      "text/plain": [
       "<IPython.core.display.Image object>"
      ]
     },
     "metadata": {},
     "output_type": "display_data"
    },
    {
     "name": "stdout",
     "output_type": "stream",
     "text": [
      "20\n"
     ]
    },
    {
     "data": {
      "text/html": [
       "<img src=\"https://www.christies.com/img/LotImages/2006/CSK/2006_CSK_05010_0097_000().jpg\" width=\"250\" height=\"250\"/>"
      ],
      "text/plain": [
       "<IPython.core.display.Image object>"
      ]
     },
     "metadata": {},
     "output_type": "display_data"
    },
    {
     "name": "stdout",
     "output_type": "stream",
     "text": [
      "21\n"
     ]
    },
    {
     "data": {
      "text/html": [
       "<img src=\"https://www.christies.com/img/LotImages/2013/CSK/2013_CSK_08257_0215_000(pablo_picasso_taureau_grave).jpg\" width=\"250\" height=\"250\"/>"
      ],
      "text/plain": [
       "<IPython.core.display.Image object>"
      ]
     },
     "metadata": {},
     "output_type": "display_data"
    },
    {
     "name": "stdout",
     "output_type": "stream",
     "text": [
      "22\n"
     ]
    },
    {
     "data": {
      "text/html": [
       "<img src=\"https://www.christies.com/img/LotImages/2013/CKS/2013_CKS_01132_0150_000(pablo_picasso_le_christ_en_croix).jpg\" width=\"250\" height=\"250\"/>"
      ],
      "text/plain": [
       "<IPython.core.display.Image object>"
      ]
     },
     "metadata": {},
     "output_type": "display_data"
    },
    {
     "name": "stdout",
     "output_type": "stream",
     "text": [
      "23\n"
     ]
    },
    {
     "data": {
      "text/html": [
       "<img src=\"https://www.christies.com/img/LotImages/2006/NYR/2006_NYR_01657_0379_000().jpg\" width=\"250\" height=\"250\"/>"
      ],
      "text/plain": [
       "<IPython.core.display.Image object>"
      ]
     },
     "metadata": {},
     "output_type": "display_data"
    },
    {
     "name": "stdout",
     "output_type": "stream",
     "text": [
      "24\n"
     ]
    },
    {
     "data": {
      "text/html": [
       "<img src=\"https://www.christies.com/img/LotImages/2015/NYR/2015_NYR_03738_1204_000(pablo_picasso_cavalier_en_armure).jpg\" width=\"250\" height=\"250\"/>"
      ],
      "text/plain": [
       "<IPython.core.display.Image object>"
      ]
     },
     "metadata": {},
     "output_type": "display_data"
    },
    {
     "name": "stdout",
     "output_type": "stream",
     "text": [
      "25\n"
     ]
    },
    {
     "data": {
      "text/html": [
       "<img src=\"https://www.christies.com/img/LotImages/2012/CKS/2012_CKS_08050_0301_000(pablo_picasso_dessinateur_et_les_curieux_le_flamenco).jpg\" width=\"250\" height=\"250\"/>"
      ],
      "text/plain": [
       "<IPython.core.display.Image object>"
      ]
     },
     "metadata": {},
     "output_type": "display_data"
    },
    {
     "name": "stdout",
     "output_type": "stream",
     "text": [
      "26\n"
     ]
    },
    {
     "data": {
      "text/html": [
       "<img src=\"https://www.christies.com/img/LotImages/2010/CSK/2010_CSK_05486_0138_000(pablo_picasso_visage_a_la_grille).jpg\" width=\"250\" height=\"250\"/>"
      ],
      "text/plain": [
       "<IPython.core.display.Image object>"
      ]
     },
     "metadata": {},
     "output_type": "display_data"
    },
    {
     "name": "stdout",
     "output_type": "stream",
     "text": [
      "27\n"
     ]
    },
    {
     "data": {
      "text/html": [
       "<img src=\"https://www.christies.com/img/LotImages/2010/CSK/2010_CSK_05486_0156_000(pablo_picasso_pichet_tetes).jpg\" width=\"250\" height=\"250\"/>"
      ],
      "text/plain": [
       "<IPython.core.display.Image object>"
      ]
     },
     "metadata": {},
     "output_type": "display_data"
    },
    {
     "name": "stdout",
     "output_type": "stream",
     "text": [
      "28\n"
     ]
    },
    {
     "data": {
      "text/html": [
       "<img src=\"https://www.christies.com/img/LotImages/2007/CSK/2007_CSK_05226_0182_000().jpg\" width=\"250\" height=\"250\"/>"
      ],
      "text/plain": [
       "<IPython.core.display.Image object>"
      ]
     },
     "metadata": {},
     "output_type": "display_data"
    },
    {
     "name": "stdout",
     "output_type": "stream",
     "text": [
      "29\n"
     ]
    },
    {
     "data": {
      "text/html": [
       "<img src=\"https://www.christies.com/img/LotImages/2010/CKS/2010_CKS_07857_0010_000(pablo_picasso_la_liseuse).jpg\" width=\"250\" height=\"250\"/>"
      ],
      "text/plain": [
       "<IPython.core.display.Image object>"
      ]
     },
     "metadata": {},
     "output_type": "display_data"
    },
    {
     "name": "stdout",
     "output_type": "stream",
     "text": [
      "30\n"
     ]
    },
    {
     "data": {
      "text/html": [
       "<img src=\"https://www.christies.com/img/LotImages/2012/CSK/2012_CSK_04420_0136_000(pablo_picasso_tete_de_chevre_de_profil).jpg\" width=\"250\" height=\"250\"/>"
      ],
      "text/plain": [
       "<IPython.core.display.Image object>"
      ]
     },
     "metadata": {},
     "output_type": "display_data"
    },
    {
     "name": "stdout",
     "output_type": "stream",
     "text": [
      "31\n"
     ]
    },
    {
     "data": {
      "text/html": [
       "<img src=\"https://www.christies.com/img/LotImages/2007/NYR/2007_NYR_01831_0075_000().jpg\" width=\"250\" height=\"250\"/>"
      ],
      "text/plain": [
       "<IPython.core.display.Image object>"
      ]
     },
     "metadata": {},
     "output_type": "display_data"
    },
    {
     "name": "stdout",
     "output_type": "stream",
     "text": [
      "32\n"
     ]
    },
    {
     "data": {
      "text/html": [
       "<img src=\"https://www.christies.com/img/LotImages/2010/CSK/2010_CSK_05486_0153_000(pablo_picasso_mains_au_poisson).jpg\" width=\"250\" height=\"250\"/>"
      ],
      "text/plain": [
       "<IPython.core.display.Image object>"
      ]
     },
     "metadata": {},
     "output_type": "display_data"
    },
    {
     "name": "stdout",
     "output_type": "stream",
     "text": [
      "33\n"
     ]
    },
    {
     "data": {
      "text/html": [
       "<img src=\"https://www.christies.com/img/LotImages/2009/CKS/2009_CKS_07701_0037_000().jpg\" width=\"250\" height=\"250\"/>"
      ],
      "text/plain": [
       "<IPython.core.display.Image object>"
      ]
     },
     "metadata": {},
     "output_type": "display_data"
    },
    {
     "name": "stdout",
     "output_type": "stream",
     "text": [
      "34\n"
     ]
    },
    {
     "data": {
      "text/html": [
       "<img src=\"https://www.christies.com/img/LotImages/2010/CKS/2010_CKS_07859_0342_000(pablo_picasso_faune_cavalier).jpg\" width=\"250\" height=\"250\"/>"
      ],
      "text/plain": [
       "<IPython.core.display.Image object>"
      ]
     },
     "metadata": {},
     "output_type": "display_data"
    },
    {
     "name": "stdout",
     "output_type": "stream",
     "text": [
      "35\n"
     ]
    },
    {
     "data": {
      "text/html": [
       "<img src=\"https://www.christies.com/img/LotImages/2007/CKS/2007_CKS_07407_0140_000().jpg\" width=\"250\" height=\"250\"/>"
      ],
      "text/plain": [
       "<IPython.core.display.Image object>"
      ]
     },
     "metadata": {},
     "output_type": "display_data"
    },
    {
     "name": "stdout",
     "output_type": "stream",
     "text": [
      "36\n"
     ]
    },
    {
     "data": {
      "text/html": [
       "<img src=\"https://www.christies.com/img/LotImages/2010/CKS/2010_CKS_07857_0041_000(pablo_picasso_le_baiser).jpg\" width=\"250\" height=\"250\"/>"
      ],
      "text/plain": [
       "<IPython.core.display.Image object>"
      ]
     },
     "metadata": {},
     "output_type": "display_data"
    },
    {
     "name": "stdout",
     "output_type": "stream",
     "text": [
      "37\n"
     ]
    },
    {
     "data": {
      "text/html": [
       "<img src=\"https://www.christies.com/img/LotImages/2013/CSK/2013_CSK_08257_0249_000(pablo_picasso_profil_de_jacqueline).jpg\" width=\"250\" height=\"250\"/>"
      ],
      "text/plain": [
       "<IPython.core.display.Image object>"
      ]
     },
     "metadata": {},
     "output_type": "display_data"
    },
    {
     "name": "stdout",
     "output_type": "stream",
     "text": [
      "38\n"
     ]
    },
    {
     "data": {
      "text/html": [
       "<img src=\"https://www.christies.com/img/LotImages/2008/CKS/2008_CKS_07599_0044_000().jpg\" width=\"250\" height=\"250\"/>"
      ],
      "text/plain": [
       "<IPython.core.display.Image object>"
      ]
     },
     "metadata": {},
     "output_type": "display_data"
    },
    {
     "name": "stdout",
     "output_type": "stream",
     "text": [
      "39\n"
     ]
    },
    {
     "data": {
      "text/html": [
       "<img src=\"https://www.christies.com/img/LotImages/2014/CSK/2014_CSK_05413_0005_000(pablo_picasso_bouquet_de_fleurs).jpg\" width=\"250\" height=\"250\"/>"
      ],
      "text/plain": [
       "<IPython.core.display.Image object>"
      ]
     },
     "metadata": {},
     "output_type": "display_data"
    },
    {
     "name": "stdout",
     "output_type": "stream",
     "text": [
      "40\n"
     ]
    },
    {
     "data": {
      "text/html": [
       "<img src=\"https://www.christies.com/img/LotImages/2006/CSK/2006_CSK_05008_0100_000().jpg\" width=\"250\" height=\"250\"/>"
      ],
      "text/plain": [
       "<IPython.core.display.Image object>"
      ]
     },
     "metadata": {},
     "output_type": "display_data"
    },
    {
     "name": "stdout",
     "output_type": "stream",
     "text": [
      "41\n"
     ]
    },
    {
     "data": {
      "text/html": [
       "<img src=\"https://www.christies.com/img/LotImages/2013/NYR/2013_NYR_02788_0005_000(pablo_picasso_femme_au_beret_orange_et_au_col_de_fourrure).jpg\" width=\"250\" height=\"250\"/>"
      ],
      "text/plain": [
       "<IPython.core.display.Image object>"
      ]
     },
     "metadata": {},
     "output_type": "display_data"
    },
    {
     "name": "stdout",
     "output_type": "stream",
     "text": [
      "42\n"
     ]
    },
    {
     "data": {
      "text/html": [
       "<img src=\"https://www.christies.com/img/LotImages/2011/CKS/2011_CKS_07976_0320_000(pablo_picasso_taureau).jpg\" width=\"250\" height=\"250\"/>"
      ],
      "text/plain": [
       "<IPython.core.display.Image object>"
      ]
     },
     "metadata": {},
     "output_type": "display_data"
    },
    {
     "name": "stdout",
     "output_type": "stream",
     "text": [
      "43\n"
     ]
    },
    {
     "data": {
      "text/html": [
       "<img src=\"https://www.christies.com/img/LotImages/2008/CSK/2008_CSK_05392_0382_000().jpg\" width=\"250\" height=\"250\"/>"
      ],
      "text/plain": [
       "<IPython.core.display.Image object>"
      ]
     },
     "metadata": {},
     "output_type": "display_data"
    },
    {
     "name": "stdout",
     "output_type": "stream",
     "text": [
      "44\n"
     ]
    },
    {
     "data": {
      "text/html": [
       "<img src=\"https://www.christies.com/img/LotImages/2006/NYR/2006_NYR_01724_0210_000().jpg\" width=\"250\" height=\"250\"/>"
      ],
      "text/plain": [
       "<IPython.core.display.Image object>"
      ]
     },
     "metadata": {},
     "output_type": "display_data"
    },
    {
     "name": "stdout",
     "output_type": "stream",
     "text": [
      "45\n"
     ]
    },
    {
     "data": {
      "text/html": [
       "<img src=\"https://www.christies.com/img/LotImages/2008/NYR/2008_NYR_01994_0008_000().jpg\" width=\"250\" height=\"250\"/>"
      ],
      "text/plain": [
       "<IPython.core.display.Image object>"
      ]
     },
     "metadata": {},
     "output_type": "display_data"
    },
    {
     "name": "stdout",
     "output_type": "stream",
     "text": [
      "46\n"
     ]
    },
    {
     "data": {
      "text/html": [
       "<img src=\"https://www.christies.com/img/LotImages/2008/CKS/2008_CKS_07601_0261_000().jpg\" width=\"250\" height=\"250\"/>"
      ],
      "text/plain": [
       "<IPython.core.display.Image object>"
      ]
     },
     "metadata": {},
     "output_type": "display_data"
    },
    {
     "name": "stdout",
     "output_type": "stream",
     "text": [
      "47\n"
     ]
    },
    {
     "data": {
      "text/html": [
       "<img src=\"https://www.christies.com/img/LotImages/2011/CKS/2011_CKS_07976_0326_000(pablo_picasso_scene_de_tauromachie).jpg\" width=\"250\" height=\"250\"/>"
      ],
      "text/plain": [
       "<IPython.core.display.Image object>"
      ]
     },
     "metadata": {},
     "output_type": "display_data"
    },
    {
     "name": "stdout",
     "output_type": "stream",
     "text": [
      "48\n"
     ]
    },
    {
     "data": {
      "text/html": [
       "<img src=\"https://www.christies.com/img/LotImages/2008/NYR/2008_NYR_01996_0160_000().jpg\" width=\"250\" height=\"250\"/>"
      ],
      "text/plain": [
       "<IPython.core.display.Image object>"
      ]
     },
     "metadata": {},
     "output_type": "display_data"
    },
    {
     "name": "stdout",
     "output_type": "stream",
     "text": [
      "49\n"
     ]
    },
    {
     "data": {
      "text/html": [
       "<img src=\"https://www.christies.com/img/LotImages/2007/NYR/2007_NYR_01902_0142_000().jpg\" width=\"250\" height=\"250\"/>"
      ],
      "text/plain": [
       "<IPython.core.display.Image object>"
      ]
     },
     "metadata": {},
     "output_type": "display_data"
    },
    {
     "name": "stdout",
     "output_type": "stream",
     "text": [
      "50\n"
     ]
    },
    {
     "data": {
      "text/html": [
       "<img src=\"https://www.christies.com/img/LotImages/2016/NYR/2016_NYR_12145_0001B_000(pablo_picasso_le_hibou).jpg\" width=\"250\" height=\"250\"/>"
      ],
      "text/plain": [
       "<IPython.core.display.Image object>"
      ]
     },
     "metadata": {},
     "output_type": "display_data"
    },
    {
     "name": "stdout",
     "output_type": "stream",
     "text": [
      "51\n"
     ]
    },
    {
     "data": {
      "text/html": [
       "<img src=\"https://www.christies.com/img/LotImages/2010/CSK/2010_CSK_05486_0148_000(pablo_picasso_fruits_de_provence).jpg\" width=\"250\" height=\"250\"/>"
      ],
      "text/plain": [
       "<IPython.core.display.Image object>"
      ]
     },
     "metadata": {},
     "output_type": "display_data"
    },
    {
     "name": "stdout",
     "output_type": "stream",
     "text": [
      "52\n"
     ]
    },
    {
     "data": {
      "text/html": [
       "<img src=\"https://www.christies.com/img/LotImages/2012/CKS/2012_CKS_05465_0051_000(pablo_picasso_nu_couche_et_homme_a_la_guitarre).jpg\" width=\"250\" height=\"250\"/>"
      ],
      "text/plain": [
       "<IPython.core.display.Image object>"
      ]
     },
     "metadata": {},
     "output_type": "display_data"
    },
    {
     "name": "stdout",
     "output_type": "stream",
     "text": [
      "53\n"
     ]
    },
    {
     "data": {
      "text/html": [
       "<img src=\"https://www.christies.com/img/LotImages/2011/CKS/2011_CKS_07976_0317_000(pablo_picasso_bouquet_a_la_pomme).jpg\" width=\"250\" height=\"250\"/>"
      ],
      "text/plain": [
       "<IPython.core.display.Image object>"
      ]
     },
     "metadata": {},
     "output_type": "display_data"
    },
    {
     "name": "stdout",
     "output_type": "stream",
     "text": [
      "54\n"
     ]
    },
    {
     "data": {
      "text/html": [
       "<img src=\"https://www.christies.com/img/LotImages/2008/CSK/2008_CSK_05394_0093_000().jpg\" width=\"250\" height=\"250\"/>"
      ],
      "text/plain": [
       "<IPython.core.display.Image object>"
      ]
     },
     "metadata": {},
     "output_type": "display_data"
    },
    {
     "name": "stdout",
     "output_type": "stream",
     "text": [
      "55\n"
     ]
    },
    {
     "data": {
      "text/html": [
       "<img src=\"https://www.christies.com/img/LotImages/2008/CSK/2008_CSK_05392_0383_000().jpg\" width=\"250\" height=\"250\"/>"
      ],
      "text/plain": [
       "<IPython.core.display.Image object>"
      ]
     },
     "metadata": {},
     "output_type": "display_data"
    },
    {
     "name": "stdout",
     "output_type": "stream",
     "text": [
      "56\n"
     ]
    },
    {
     "data": {
      "text/html": [
       "<img src=\"https://www.christies.com/img/LotImages/2006/CSK/2006_CSK_05008_0117_000().jpg\" width=\"250\" height=\"250\"/>"
      ],
      "text/plain": [
       "<IPython.core.display.Image object>"
      ]
     },
     "metadata": {},
     "output_type": "display_data"
    },
    {
     "name": "stdout",
     "output_type": "stream",
     "text": [
      "57\n"
     ]
    },
    {
     "data": {
      "text/html": [
       "<img src=\"https://www.christies.com/img/LotImages/2015/CKS/2015_CKS_10379_0191_000(pablo_picasso_etudes).jpg\" width=\"250\" height=\"250\"/>"
      ],
      "text/plain": [
       "<IPython.core.display.Image object>"
      ]
     },
     "metadata": {},
     "output_type": "display_data"
    },
    {
     "name": "stdout",
     "output_type": "stream",
     "text": [
      "58\n"
     ]
    },
    {
     "data": {
      "text/html": [
       "<img src=\"https://www.christies.com/img/LotImages/2011/NYR/2011_NYR_02478_0135_000(pablo_picasso_le_dejeuner).jpg\" width=\"250\" height=\"250\"/>"
      ],
      "text/plain": [
       "<IPython.core.display.Image object>"
      ]
     },
     "metadata": {},
     "output_type": "display_data"
    },
    {
     "name": "stdout",
     "output_type": "stream",
     "text": [
      "59\n"
     ]
    },
    {
     "data": {
      "text/html": [
       "<img src=\"https://www.christies.com/img/LotImages/2012/CKS/2012_CKS_05467_0112_000(pablo_picasso_nu_debout_et_deux_hommes).jpg\" width=\"250\" height=\"250\"/>"
      ],
      "text/plain": [
       "<IPython.core.display.Image object>"
      ]
     },
     "metadata": {},
     "output_type": "display_data"
    },
    {
     "name": "stdout",
     "output_type": "stream",
     "text": [
      "60\n"
     ]
    },
    {
     "data": {
      "text/html": [
       "<img src=\"https://www.christies.com/img/LotImages/2011/CKS/2011_CKS_07976_0313_000(pablo_picasso_visage_masque).jpg\" width=\"250\" height=\"250\"/>"
      ],
      "text/plain": [
       "<IPython.core.display.Image object>"
      ]
     },
     "metadata": {},
     "output_type": "display_data"
    },
    {
     "name": "stdout",
     "output_type": "stream",
     "text": [
      "61\n"
     ]
    },
    {
     "data": {
      "text/html": [
       "<img src=\"https://www.christies.com/img/LotImages/2006/CSK/2006_CSK_05008_0116_000().jpg\" width=\"250\" height=\"250\"/>"
      ],
      "text/plain": [
       "<IPython.core.display.Image object>"
      ]
     },
     "metadata": {},
     "output_type": "display_data"
    },
    {
     "name": "stdout",
     "output_type": "stream",
     "text": [
      "62\n"
     ]
    },
    {
     "data": {
      "text/html": [
       "<img src=\"https://www.christies.com/img/LotImages/2011/CKS/2011_CKS_07951_0008_000(pablo_picasso_verre_et_pipe).jpg\" width=\"250\" height=\"250\"/>"
      ],
      "text/plain": [
       "<IPython.core.display.Image object>"
      ]
     },
     "metadata": {},
     "output_type": "display_data"
    },
    {
     "name": "stdout",
     "output_type": "stream",
     "text": [
      "63\n"
     ]
    },
    {
     "data": {
      "text/html": [
       "<img src=\"https://www.christies.com/img/LotImages/2007/CKS/2007_CKS_07407_0134_000().jpg\" width=\"250\" height=\"250\"/>"
      ],
      "text/plain": [
       "<IPython.core.display.Image object>"
      ]
     },
     "metadata": {},
     "output_type": "display_data"
    },
    {
     "name": "stdout",
     "output_type": "stream",
     "text": [
      "64\n"
     ]
    },
    {
     "data": {
      "text/html": [
       "<img src=\"https://www.christies.com/img/LotImages/2017/CKS/2017_CKS_14239_0001_000(pablo_picasso_les_gateaux).jpg\" width=\"250\" height=\"250\"/>"
      ],
      "text/plain": [
       "<IPython.core.display.Image object>"
      ]
     },
     "metadata": {},
     "output_type": "display_data"
    },
    {
     "name": "stdout",
     "output_type": "stream",
     "text": [
      "65\n"
     ]
    },
    {
     "data": {
      "text/html": [
       "<img src=\"https://www.christies.com/img/LotImages/2017/CKS/2017_CKS_14240_0218_000(edouard_vuillard_la_plage_vue_de_la_cabine).jpg\" width=\"250\" height=\"250\"/>"
      ],
      "text/plain": [
       "<IPython.core.display.Image object>"
      ]
     },
     "metadata": {},
     "output_type": "display_data"
    },
    {
     "name": "stdout",
     "output_type": "stream",
     "text": [
      "66\n"
     ]
    },
    {
     "data": {
      "text/html": [
       "<img src=\"https://www.christies.com/img/LotImages/2007/CSK/2007_CSK_05224_0519_000().jpg\" width=\"250\" height=\"250\"/>"
      ],
      "text/plain": [
       "<IPython.core.display.Image object>"
      ]
     },
     "metadata": {},
     "output_type": "display_data"
    },
    {
     "name": "stdout",
     "output_type": "stream",
     "text": [
      "67\n"
     ]
    },
    {
     "data": {
      "text/html": [
       "<img src=\"https://www.christies.com/img/LotImages/2007/CSK/2007_CSK_05224_0516_000().jpg\" width=\"250\" height=\"250\"/>"
      ],
      "text/plain": [
       "<IPython.core.display.Image object>"
      ]
     },
     "metadata": {},
     "output_type": "display_data"
    },
    {
     "name": "stdout",
     "output_type": "stream",
     "text": [
      "68\n"
     ]
    },
    {
     "data": {
      "text/html": [
       "<img src=\"https://www.christies.com/img/LotImages/2013/CKS/2013_CKS_01132_0144_000(pablo_picasso_nu_couche).jpg\" width=\"250\" height=\"250\"/>"
      ],
      "text/plain": [
       "<IPython.core.display.Image object>"
      ]
     },
     "metadata": {},
     "output_type": "display_data"
    },
    {
     "name": "stdout",
     "output_type": "stream",
     "text": [
      "69\n"
     ]
    },
    {
     "data": {
      "text/html": [
       "<img src=\"https://www.christies.com/img/LotImages/2015/NYR/2015_NYR_03785_1341_000(pablo_picasso_femme_debout).jpg\" width=\"250\" height=\"250\"/>"
      ],
      "text/plain": [
       "<IPython.core.display.Image object>"
      ]
     },
     "metadata": {},
     "output_type": "display_data"
    },
    {
     "name": "stdout",
     "output_type": "stream",
     "text": [
      "70\n"
     ]
    },
    {
     "data": {
      "text/html": [
       "<img src=\"https://www.christies.com/img/LotImages/2013/CSK/2013_CSK_08257_0209_000(pablo_picasso_visage_no_130).jpg\" width=\"250\" height=\"250\"/>"
      ],
      "text/plain": [
       "<IPython.core.display.Image object>"
      ]
     },
     "metadata": {},
     "output_type": "display_data"
    },
    {
     "name": "stdout",
     "output_type": "stream",
     "text": [
      "71\n"
     ]
    },
    {
     "data": {
      "text/html": [
       "<img src=\"https://www.christies.com/img/LotImages/2006/NYR/2006_NYR_01724_0175_000().jpg\" width=\"250\" height=\"250\"/>"
      ],
      "text/plain": [
       "<IPython.core.display.Image object>"
      ]
     },
     "metadata": {},
     "output_type": "display_data"
    },
    {
     "name": "stdout",
     "output_type": "stream",
     "text": [
      "72\n"
     ]
    },
    {
     "data": {
      "text/html": [
       "<img src=\"https://www.christies.com/img/LotImages/2006/NYR/2006_NYR_01698_0088_000().jpg\" width=\"250\" height=\"250\"/>"
      ],
      "text/plain": [
       "<IPython.core.display.Image object>"
      ]
     },
     "metadata": {},
     "output_type": "display_data"
    },
    {
     "name": "stdout",
     "output_type": "stream",
     "text": [
      "73\n"
     ]
    },
    {
     "data": {
      "text/html": [
       "<img src=\"https://www.christies.com/img/LotImages/2011/CKS/2011_CKS_07976_0309_000(pablo_picasso_sujet_poule).jpg\" width=\"250\" height=\"250\"/>"
      ],
      "text/plain": [
       "<IPython.core.display.Image object>"
      ]
     },
     "metadata": {},
     "output_type": "display_data"
    },
    {
     "name": "stdout",
     "output_type": "stream",
     "text": [
      "74\n"
     ]
    },
    {
     "data": {
      "text/html": [
       "<img src=\"https://www.christies.com/img/LotImages/2011/CKS/2011_CKS_07976_0328_000(pablo_picasso_visage).jpg\" width=\"250\" height=\"250\"/>"
      ],
      "text/plain": [
       "<IPython.core.display.Image object>"
      ]
     },
     "metadata": {},
     "output_type": "display_data"
    },
    {
     "name": "stdout",
     "output_type": "stream",
     "text": [
      "75\n"
     ]
    },
    {
     "data": {
      "text/html": [
       "<img src=\"https://www.christies.com/img/LotImages/2007/NYR/2007_NYR_01831_0055_000().jpg\" width=\"250\" height=\"250\"/>"
      ],
      "text/plain": [
       "<IPython.core.display.Image object>"
      ]
     },
     "metadata": {},
     "output_type": "display_data"
    },
    {
     "name": "stdout",
     "output_type": "stream",
     "text": [
      "76\n"
     ]
    },
    {
     "data": {
      "text/html": [
       "<img src=\"https://www.christies.com/img/LotImages/2016/NYR/2016_NYR_12145_0003B_000(pablo_picasso_portrait_de_renart).jpg\" width=\"250\" height=\"250\"/>"
      ],
      "text/plain": [
       "<IPython.core.display.Image object>"
      ]
     },
     "metadata": {},
     "output_type": "display_data"
    },
    {
     "name": "stdout",
     "output_type": "stream",
     "text": [
      "77\n"
     ]
    },
    {
     "data": {
      "text/html": [
       "<img src=\"https://www.christies.com/img/LotImages/2017/NYR/2017_NYR_14185_0116_000(pablo_picasso_nu_debout).jpg\" width=\"250\" height=\"250\"/>"
      ],
      "text/plain": [
       "<IPython.core.display.Image object>"
      ]
     },
     "metadata": {},
     "output_type": "display_data"
    },
    {
     "name": "stdout",
     "output_type": "stream",
     "text": [
      "78\n"
     ]
    },
    {
     "data": {
      "text/html": [
       "<img src=\"https://www.christies.com/img/LotImages/2011/CKS/2011_CKS_07976_0308_000(pablo_picasso_figure_de_proue).jpg\" width=\"250\" height=\"250\"/>"
      ],
      "text/plain": [
       "<IPython.core.display.Image object>"
      ]
     },
     "metadata": {},
     "output_type": "display_data"
    },
    {
     "name": "stdout",
     "output_type": "stream",
     "text": [
      "79\n"
     ]
    },
    {
     "data": {
      "text/html": [
       "<img src=\"https://www.christies.com/img/LotImages/2017/NYR/2017_NYR_15004_0056A_000(pablo_picasso_figure).jpg\" width=\"250\" height=\"250\"/>"
      ],
      "text/plain": [
       "<IPython.core.display.Image object>"
      ]
     },
     "metadata": {},
     "output_type": "display_data"
    },
    {
     "name": "stdout",
     "output_type": "stream",
     "text": [
      "80\n"
     ]
    },
    {
     "data": {
      "text/html": [
       "<img src=\"https://www.christies.com/img/LotImages/2010/CSK/2010_CSK_05486_0170_000(pablo_picasso_corrida).jpg\" width=\"250\" height=\"250\"/>"
      ],
      "text/plain": [
       "<IPython.core.display.Image object>"
      ]
     },
     "metadata": {},
     "output_type": "display_data"
    },
    {
     "name": "stdout",
     "output_type": "stream",
     "text": [
      "81\n"
     ]
    },
    {
     "data": {
      "text/html": [
       "<img src=\"https://www.christies.com/img/LotImages/2017/CKS/2017_CKS_14240_0132_000(pablo_picasso_le_peintre_et_son_modele).jpg\" width=\"250\" height=\"250\"/>"
      ],
      "text/plain": [
       "<IPython.core.display.Image object>"
      ]
     },
     "metadata": {},
     "output_type": "display_data"
    },
    {
     "name": "stdout",
     "output_type": "stream",
     "text": [
      "82\n"
     ]
    },
    {
     "data": {
      "text/html": [
       "<img src=\"https://www.christies.com/img/LotImages/2014/CSK/2014_CSK_05313_0061_000(pablo_picasso_jaime_sabartes_a_los_toros_andre_sauret_editeur_monte_ca).jpg\" width=\"250\" height=\"250\"/>"
      ],
      "text/plain": [
       "<IPython.core.display.Image object>"
      ]
     },
     "metadata": {},
     "output_type": "display_data"
    },
    {
     "name": "stdout",
     "output_type": "stream",
     "text": [
      "83\n"
     ]
    },
    {
     "data": {
      "text/html": [
       "<img src=\"https://www.christies.com/img/LotImages/2011/NYR/2011_NYR_02479_0349_000(pablo_picasso_tete_de_faune).jpg\" width=\"250\" height=\"250\"/>"
      ],
      "text/plain": [
       "<IPython.core.display.Image object>"
      ]
     },
     "metadata": {},
     "output_type": "display_data"
    },
    {
     "name": "stdout",
     "output_type": "stream",
     "text": [
      "84\n"
     ]
    },
    {
     "data": {
      "text/html": [
       "<img src=\"https://www.christies.com/img/LotImages/2011/NYR/2011_NYR_02437_0026_000(pablo_picasso_femme_assise_au_chapeau).jpg\" width=\"250\" height=\"250\"/>"
      ],
      "text/plain": [
       "<IPython.core.display.Image object>"
      ]
     },
     "metadata": {},
     "output_type": "display_data"
    },
    {
     "name": "stdout",
     "output_type": "stream",
     "text": [
      "85\n"
     ]
    },
    {
     "data": {
      "text/html": [
       "<img src=\"https://www.christies.com/img/LotImages/2012/CSK/2012_CSK_04420_0134_000(pablo_picasso_pichet_aux_oiseaux).jpg\" width=\"250\" height=\"250\"/>"
      ],
      "text/plain": [
       "<IPython.core.display.Image object>"
      ]
     },
     "metadata": {},
     "output_type": "display_data"
    },
    {
     "name": "stdout",
     "output_type": "stream",
     "text": [
      "86\n"
     ]
    },
    {
     "data": {
      "text/html": [
       "<img src=\"https://www.christies.com/img/LotImages/2007/NYR/2007_NYR_01874_0112_000().jpg\" width=\"250\" height=\"250\"/>"
      ],
      "text/plain": [
       "<IPython.core.display.Image object>"
      ]
     },
     "metadata": {},
     "output_type": "display_data"
    },
    {
     "name": "stdout",
     "output_type": "stream",
     "text": [
      "87\n"
     ]
    },
    {
     "data": {
      "text/html": [
       "<img src=\"https://www.christies.com/img/LotImages/2010/CSK/2010_CSK_05486_0128_000(pablo_picasso_vallauris).jpg\" width=\"250\" height=\"250\"/>"
      ],
      "text/plain": [
       "<IPython.core.display.Image object>"
      ]
     },
     "metadata": {},
     "output_type": "display_data"
    },
    {
     "name": "stdout",
     "output_type": "stream",
     "text": [
      "88\n"
     ]
    },
    {
     "data": {
      "text/html": [
       "<img src=\"https://www.christies.com/img/LotImages/2013/CSK/2013_CSK_08257_0245_000(pablo_picasso_visage_aux_cercles).jpg\" width=\"250\" height=\"250\"/>"
      ],
      "text/plain": [
       "<IPython.core.display.Image object>"
      ]
     },
     "metadata": {},
     "output_type": "display_data"
    },
    {
     "name": "stdout",
     "output_type": "stream",
     "text": [
      "89\n"
     ]
    },
    {
     "data": {
      "text/html": [
       "<img src=\"https://www.christies.com/img/LotImages/2016/NYR/2016_NYR_12069_0018C_000(pablo_picasso_la_minotauromachie).jpg\" width=\"250\" height=\"250\"/>"
      ],
      "text/plain": [
       "<IPython.core.display.Image object>"
      ]
     },
     "metadata": {},
     "output_type": "display_data"
    },
    {
     "name": "stdout",
     "output_type": "stream",
     "text": [
      "90\n"
     ]
    },
    {
     "data": {
      "text/html": [
       "<img src=\"https://www.christies.com/img/LotImages/2007/CKS/2007_CKS_07407_0213_000().jpg\" width=\"250\" height=\"250\"/>"
      ],
      "text/plain": [
       "<IPython.core.display.Image object>"
      ]
     },
     "metadata": {},
     "output_type": "display_data"
    },
    {
     "name": "stdout",
     "output_type": "stream",
     "text": [
      "91\n"
     ]
    },
    {
     "data": {
      "text/html": [
       "<img src=\"https://www.christies.com/img/LotImages/2014/CSK/2014_CSK_05313_0067_000(pablo_picasso_homme_rembranesque_assis_chez_les_filles_from_series_347).jpg\" width=\"250\" height=\"250\"/>"
      ],
      "text/plain": [
       "<IPython.core.display.Image object>"
      ]
     },
     "metadata": {},
     "output_type": "display_data"
    },
    {
     "name": "stdout",
     "output_type": "stream",
     "text": [
      "92\n"
     ]
    },
    {
     "data": {
      "text/html": [
       "<img src=\"https://www.christies.com/img/LotImages/2006/NYR/2006_NYR_01724_0116_000().jpg\" width=\"250\" height=\"250\"/>"
      ],
      "text/plain": [
       "<IPython.core.display.Image object>"
      ]
     },
     "metadata": {},
     "output_type": "display_data"
    },
    {
     "name": "stdout",
     "output_type": "stream",
     "text": [
      "93\n"
     ]
    },
    {
     "data": {
      "text/html": [
       "<img src=\"https://www.christies.com/img/LotImages/2011/CKS/2011_CKS_07976_0302_000(pablo_picasso_picador).jpg\" width=\"250\" height=\"250\"/>"
      ],
      "text/plain": [
       "<IPython.core.display.Image object>"
      ]
     },
     "metadata": {},
     "output_type": "display_data"
    },
    {
     "name": "stdout",
     "output_type": "stream",
     "text": [
      "94\n"
     ]
    },
    {
     "data": {
      "text/html": [
       "<img src=\"https://www.christies.com/img/LotImages/2013/CSK/2013_CSK_08257_0255_000(pablo_picasso_cavalier_et_cheval).jpg\" width=\"250\" height=\"250\"/>"
      ],
      "text/plain": [
       "<IPython.core.display.Image object>"
      ]
     },
     "metadata": {},
     "output_type": "display_data"
    },
    {
     "name": "stdout",
     "output_type": "stream",
     "text": [
      "95\n"
     ]
    },
    {
     "data": {
      "text/html": [
       "<img src=\"https://www.christies.com/img/LotImages/2008/NYR/2008_NYR_01996_0128_000().jpg\" width=\"250\" height=\"250\"/>"
      ],
      "text/plain": [
       "<IPython.core.display.Image object>"
      ]
     },
     "metadata": {},
     "output_type": "display_data"
    },
    {
     "name": "stdout",
     "output_type": "stream",
     "text": [
      "96\n"
     ]
    },
    {
     "data": {
      "text/html": [
       "<img src=\"https://www.christies.com/img/LotImages/2008/CKS/2008_CKS_07562_0042_000().jpg\" width=\"250\" height=\"250\"/>"
      ],
      "text/plain": [
       "<IPython.core.display.Image object>"
      ]
     },
     "metadata": {},
     "output_type": "display_data"
    },
    {
     "name": "stdout",
     "output_type": "stream",
     "text": [
      "97\n"
     ]
    },
    {
     "data": {
      "text/html": [
       "<img src=\"https://www.christies.com/img/LotImages/2014/CKS/2014_CKS_01508_0218_000(pablo_picasso_femme_accoudee).jpg\" width=\"250\" height=\"250\"/>"
      ],
      "text/plain": [
       "<IPython.core.display.Image object>"
      ]
     },
     "metadata": {},
     "output_type": "display_data"
    },
    {
     "name": "stdout",
     "output_type": "stream",
     "text": [
      "98\n"
     ]
    },
    {
     "data": {
      "text/html": [
       "<img src=\"https://www.christies.com/img/LotImages/2012/CSK/2012_CSK_04420_0109_000(pablo_picasso_visage_no_197).jpg\" width=\"250\" height=\"250\"/>"
      ],
      "text/plain": [
       "<IPython.core.display.Image object>"
      ]
     },
     "metadata": {},
     "output_type": "display_data"
    },
    {
     "name": "stdout",
     "output_type": "stream",
     "text": [
      "99\n"
     ]
    },
    {
     "data": {
      "text/html": [
       "<img src=\"https://www.christies.com/img/LotImages/2016/NYR/2016_NYR_12146_1008_000(pablo_picasso_visite_a_latelier).jpg\" width=\"250\" height=\"250\"/>"
      ],
      "text/plain": [
       "<IPython.core.display.Image object>"
      ]
     },
     "metadata": {},
     "output_type": "display_data"
    }
   ],
   "source": [
    "utils.view_images_from_url(df, url_col, subsample=False)"
   ]
  },
  {
   "cell_type": "code",
   "execution_count": 30,
   "metadata": {
    "scrolled": true
   },
   "outputs": [
    {
     "data": {
      "text/html": [
       "<div>\n",
       "<style scoped>\n",
       "    .dataframe tbody tr th:only-of-type {\n",
       "        vertical-align: middle;\n",
       "    }\n",
       "\n",
       "    .dataframe tbody tr th {\n",
       "        vertical-align: top;\n",
       "    }\n",
       "\n",
       "    .dataframe thead th {\n",
       "        text-align: right;\n",
       "    }\n",
       "</style>\n",
       "<table border=\"1\" class=\"dataframe\">\n",
       "  <thead>\n",
       "    <tr style=\"text-align: right;\">\n",
       "      <th></th>\n",
       "      <th>0</th>\n",
       "    </tr>\n",
       "  </thead>\n",
       "  <tbody>\n",
       "    <tr>\n",
       "      <th>0</th>\n",
       "      <td>Drawing</td>\n",
       "    </tr>\n",
       "    <tr>\n",
       "      <th>1</th>\n",
       "      <td>decorative_object</td>\n",
       "    </tr>\n",
       "    <tr>\n",
       "      <th>2</th>\n",
       "      <td>Painting</td>\n",
       "    </tr>\n",
       "    <tr>\n",
       "      <th>3</th>\n",
       "      <td>no_classification</td>\n",
       "    </tr>\n",
       "    <tr>\n",
       "      <th>4</th>\n",
       "      <td>Drawing</td>\n",
       "    </tr>\n",
       "    <tr>\n",
       "      <th>...</th>\n",
       "      <td>...</td>\n",
       "    </tr>\n",
       "    <tr>\n",
       "      <th>95</th>\n",
       "      <td>Drawing</td>\n",
       "    </tr>\n",
       "    <tr>\n",
       "      <th>96</th>\n",
       "      <td>Drawing</td>\n",
       "    </tr>\n",
       "    <tr>\n",
       "      <th>97</th>\n",
       "      <td>Drawing</td>\n",
       "    </tr>\n",
       "    <tr>\n",
       "      <th>98</th>\n",
       "      <td>decorative_object</td>\n",
       "    </tr>\n",
       "    <tr>\n",
       "      <th>99</th>\n",
       "      <td>Drawing</td>\n",
       "    </tr>\n",
       "  </tbody>\n",
       "</table>\n",
       "<p>100 rows × 1 columns</p>\n",
       "</div>"
      ],
      "text/plain": [
       "                    0\n",
       "0             Drawing\n",
       "1   decorative_object\n",
       "2            Painting\n",
       "3   no_classification\n",
       "4             Drawing\n",
       "..                ...\n",
       "95            Drawing\n",
       "96            Drawing\n",
       "97            Drawing\n",
       "98  decorative_object\n",
       "99            Drawing\n",
       "\n",
       "[100 rows x 1 columns]"
      ]
     },
     "execution_count": 30,
     "metadata": {},
     "output_type": "execute_result"
    }
   ],
   "source": [
    "results = pd.DataFrame(results)\n",
    "results"
   ]
  },
  {
   "cell_type": "markdown",
   "metadata": {},
   "source": [
    "## Manual Assesment\n",
    "\n",
    "Accuracy: 0.80\n",
    "\n",
    "some drawings are not identified\n",
    "decorative objects perform well\n",
    "There's an edge case where a painted wooden sculpture was classified as a painting."
   ]
  },
  {
   "cell_type": "code",
   "execution_count": null,
   "metadata": {},
   "outputs": [],
   "source": []
  }
 ],
 "metadata": {
  "kernelspec": {
   "display_name": "Python 3",
   "language": "python",
   "name": "python3"
  },
  "language_info": {
   "codemirror_mode": {
    "name": "ipython",
    "version": 3
   },
   "file_extension": ".py",
   "mimetype": "text/x-python",
   "name": "python",
   "nbconvert_exporter": "python",
   "pygments_lexer": "ipython3",
   "version": "3.8.0"
  }
 },
 "nbformat": 4,
 "nbformat_minor": 4
}
