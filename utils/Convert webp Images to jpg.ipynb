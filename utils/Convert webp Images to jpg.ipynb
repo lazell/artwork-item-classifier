{
 "cells": [
  {
   "cell_type": "code",
   "execution_count": 1,
   "metadata": {},
   "outputs": [],
   "source": [
    "from PIL import Image\n",
    "from io import BytesIO\n",
    "import os\n"
   ]
  },
  {
   "cell_type": "code",
   "execution_count": 41,
   "metadata": {},
   "outputs": [
    {
     "name": "stdout",
     "output_type": "stream",
     "text": [
      "s-l225 (1)marble_sculpture\n",
      "s-l225 (10)marble_sculpture\n",
      "s-l225 (11)marble_sculpture\n",
      "s-l225 (12)marble_sculpture\n",
      "s-l225 (13)marble_sculpture\n",
      "s-l225 (14)marble_sculpture\n",
      "s-l225 (15)marble_sculpture\n",
      "s-l225 (16)marble_sculpture\n",
      "s-l225 (17)marble_sculpture\n",
      "s-l225 (18)marble_sculpture\n",
      "s-l225 (19)marble_sculpture\n",
      "s-l225 (2)marble_sculpture\n",
      "s-l225 (20)marble_sculpture\n",
      "s-l225 (21)marble_sculpture\n",
      "s-l225 (22)marble_sculpture\n",
      "s-l225 (23)marble_sculpture\n",
      "s-l225 (24)marble_sculpture\n",
      "s-l225 (25)marble_sculpture\n",
      "s-l225 (26)marble_sculpture\n",
      "s-l225 (27)marble_sculpture\n",
      "s-l225 (28)marble_sculpture\n",
      "s-l225 (29)marble_sculpture\n",
      "s-l225 (3)marble_sculpture\n",
      "s-l225 (30)marble_sculpture\n",
      "s-l225 (31)marble_sculpture\n",
      "s-l225 (32)marble_sculpture\n",
      "s-l225 (33)marble_sculpture\n",
      "s-l225 (34)marble_sculpture\n",
      "s-l225 (35)marble_sculpture\n",
      "s-l225 (36)marble_sculpture\n",
      "s-l225 (37)marble_sculpture\n",
      "s-l225 (38)marble_sculpture\n",
      "s-l225 (39)marble_sculpture\n",
      "s-l225 (4)marble_sculpture\n",
      "s-l225 (40)marble_sculpture\n",
      "s-l225 (41)marble_sculpture\n",
      "s-l225 (42)marble_sculpture\n",
      "s-l225 (43)marble_sculpture\n",
      "s-l225 (44)marble_sculpture\n",
      "s-l225 (45)marble_sculpture\n",
      "s-l225 (46)marble_sculpture\n",
      "s-l225 (47)marble_sculpture\n",
      "s-l225 (48)marble_sculpture\n",
      "s-l225 (49)marble_sculpture\n",
      "s-l225 (5)marble_sculpture\n",
      "s-l225 (50)marble_sculpture\n",
      "s-l225 (51)marble_sculpture\n",
      "s-l225 (52)marble_sculpture\n",
      "s-l225 (53)marble_sculpture\n",
      "s-l225 (54)marble_sculpture\n",
      "s-l225 (6)marble_sculpture\n",
      "s-l225 (7)marble_sculpture\n",
      "s-l225 (8)marble_sculpture\n",
      "s-l225 (9)marble_sculpture\n",
      "s-l225marble_sculpture\n"
     ]
    }
   ],
   "source": [
    "for file in os.listdir(\"/Users/katielazell-fairman/Downloads/\"):\n",
    "    if file.endswith(\".webp\"):\n",
    "        \n",
    "        im = Image.open(\"/Users/katielazell-fairman/Downloads/{}\".format(file)).convert(\"RGB\")\n",
    "        filename = file[:-5]+\"marble_sculpture\"\n",
    "        print(filename)\n",
    "        im.save(\"./data/ebay_images/sculpture/{}.jpg\".format(filename) ,\"jpeg\")\n",
    "        os.remove(\"/Users/katielazell-fairman/Downloads/{}\".format(file))"
   ]
  }
 ],
 "metadata": {
  "kernelspec": {
   "display_name": "Python 3",
   "language": "python",
   "name": "python3"
  },
  "language_info": {
   "codemirror_mode": {
    "name": "ipython",
    "version": 3
   },
   "file_extension": ".py",
   "mimetype": "text/x-python",
   "name": "python",
   "nbconvert_exporter": "python",
   "pygments_lexer": "ipython3",
   "version": "3.8.0"
  }
 },
 "nbformat": 4,
 "nbformat_minor": 4
}
