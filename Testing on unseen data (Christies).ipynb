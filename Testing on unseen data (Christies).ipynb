{
 "cells": [
  {
   "cell_type": "markdown",
   "metadata": {},
   "source": [
    "## Feature Pipeline"
   ]
  },
  {
   "cell_type": "code",
   "execution_count": 1,
   "metadata": {},
   "outputs": [],
   "source": [
    "import pandas as pd\n",
    "import numpy as np\n",
    "\n",
    "import pickle\n",
    "import matplotlib.pyplot as plt\n",
    "import seaborn as sns\n",
    "\n",
    "from feature_engineering import functions\n",
    "from utils import utils\n",
    "from sklearn.pipeline import Pipeline"
   ]
  },
  {
   "cell_type": "code",
   "execution_count": 2,
   "metadata": {},
   "outputs": [],
   "source": [
    "# Import data\n",
    "\n",
    "df_picasso_test = pd.read_csv('./data/data-1589261181890-picasso-christies-test.csv')"
   ]
  },
  {
   "cell_type": "code",
   "execution_count": 3,
   "metadata": {},
   "outputs": [],
   "source": [
    "# assign column names\n",
    "\n",
    "title_desc_col = 'title'\n",
    "medium_col = 'details'\n",
    "dimension_col = 'details'\n",
    "url_col = 'image_url'\n"
   ]
  },
  {
   "cell_type": "code",
   "execution_count": 4,
   "metadata": {},
   "outputs": [
    {
     "name": "stderr",
     "output_type": "stream",
     "text": [
      "/Users/katielazell-fairman/.pyenv/versions/3.8.0/lib/python3.8/site-packages/pandas/core/computation/expressions.py:190: UserWarning: evaluating in Python space because the '+' operator is not supported by numexpr for the bool dtype, use '|' instead\n",
      "  warnings.warn(\n"
     ]
    }
   ],
   "source": [
    "df_transformed_1 = functions.text_based_transformer(df_picasso_test\n",
    "                                        , medium=medium_col\n",
    "                                        , dimensions=dimension_col\n",
    "                                        , title=title_desc_col)\n",
    "\n",
    "df_transformed_2 = functions.is_drawing(df_transformed_1)\n",
    "\n",
    "df_transformed_2['long_list_of_things'] = df_transformed_2['details'].apply(lambda x: functions.long_list_of_things(str(x)))\n",
    "\n",
    "df = df_transformed_2"
   ]
  },
  {
   "cell_type": "code",
   "execution_count": 5,
   "metadata": {},
   "outputs": [
    {
     "data": {
      "text/plain": [
       "Index(['index', 'sale_date', 'price', 'estimate_min', 'estimate_max',\n",
       "       'currency', 'artist', 'title', 'size', 'details', 'image_url',\n",
       "       'timestamp', 'auction_id', 'filename_id', 'filepath', 'filename',\n",
       "       'long_list_of_things', 'installation_keyword', 'print_keyword',\n",
       "       'drawing_paper_word', 'drawing_keyword', 'painting_keyword',\n",
       "       'photo_keyword', 'has_3dimensions', 'furniture_keyword',\n",
       "       'decorative_obj_keyword', 'is_drawing'],\n",
       "      dtype='object')"
      ]
     },
     "execution_count": 5,
     "metadata": {},
     "output_type": "execute_result"
    }
   ],
   "source": [
    "df.columns"
   ]
  },
  {
   "cell_type": "code",
   "execution_count": 6,
   "metadata": {},
   "outputs": [
    {
     "name": "stdout",
     "output_type": "stream",
     "text": [
      "26\n"
     ]
    },
    {
     "data": {
      "text/html": [
       "<img src=\"https://www.christies.com/img/LotImages/2010/CSK/2010_CSK_05486_0138_000(pablo_picasso_visage_a_la_grille).jpg\" width=\"250\" height=\"250\"/>"
      ],
      "text/plain": [
       "<IPython.core.display.Image object>"
      ]
     },
     "metadata": {},
     "output_type": "display_data"
    },
    {
     "name": "stdout",
     "output_type": "stream",
     "text": [
      "86\n"
     ]
    },
    {
     "data": {
      "text/html": [
       "<img src=\"https://www.christies.com/img/LotImages/2007/NYR/2007_NYR_01874_0112_000().jpg\" width=\"250\" height=\"250\"/>"
      ],
      "text/plain": [
       "<IPython.core.display.Image object>"
      ]
     },
     "metadata": {},
     "output_type": "display_data"
    },
    {
     "name": "stdout",
     "output_type": "stream",
     "text": [
      "2\n"
     ]
    },
    {
     "data": {
      "text/html": [
       "<img src=\"https://www.christies.com/img/LotImages/2010/CKS/2010_CKS_07859_0337_000(pablo_picasso_buste_dhomme).jpg\" width=\"250\" height=\"250\"/>"
      ],
      "text/plain": [
       "<IPython.core.display.Image object>"
      ]
     },
     "metadata": {},
     "output_type": "display_data"
    },
    {
     "name": "stdout",
     "output_type": "stream",
     "text": [
      "55\n"
     ]
    },
    {
     "data": {
      "text/html": [
       "<img src=\"https://www.christies.com/img/LotImages/2008/CSK/2008_CSK_05392_0383_000().jpg\" width=\"250\" height=\"250\"/>"
      ],
      "text/plain": [
       "<IPython.core.display.Image object>"
      ]
     },
     "metadata": {},
     "output_type": "display_data"
    },
    {
     "name": "stdout",
     "output_type": "stream",
     "text": [
      "75\n"
     ]
    },
    {
     "data": {
      "text/html": [
       "<img src=\"https://www.christies.com/img/LotImages/2007/NYR/2007_NYR_01831_0055_000().jpg\" width=\"250\" height=\"250\"/>"
      ],
      "text/plain": [
       "<IPython.core.display.Image object>"
      ]
     },
     "metadata": {},
     "output_type": "display_data"
    },
    {
     "name": "stdout",
     "output_type": "stream",
     "text": [
      "93\n"
     ]
    },
    {
     "data": {
      "text/html": [
       "<img src=\"https://www.christies.com/img/LotImages/2011/CKS/2011_CKS_07976_0302_000(pablo_picasso_picador).jpg\" width=\"250\" height=\"250\"/>"
      ],
      "text/plain": [
       "<IPython.core.display.Image object>"
      ]
     },
     "metadata": {},
     "output_type": "display_data"
    },
    {
     "name": "stdout",
     "output_type": "stream",
     "text": [
      "16\n"
     ]
    },
    {
     "data": {
      "text/html": [
       "<img src=\"https://www.christies.com/img/LotImages/2012/CKS/2012_CKS_05467_0106_000(pablo_picasso_cavalier_en_armure).jpg\" width=\"250\" height=\"250\"/>"
      ],
      "text/plain": [
       "<IPython.core.display.Image object>"
      ]
     },
     "metadata": {},
     "output_type": "display_data"
    },
    {
     "name": "stdout",
     "output_type": "stream",
     "text": [
      "73\n"
     ]
    },
    {
     "data": {
      "text/html": [
       "<img src=\"https://www.christies.com/img/LotImages/2011/CKS/2011_CKS_07976_0309_000(pablo_picasso_sujet_poule).jpg\" width=\"250\" height=\"250\"/>"
      ],
      "text/plain": [
       "<IPython.core.display.Image object>"
      ]
     },
     "metadata": {},
     "output_type": "display_data"
    },
    {
     "name": "stdout",
     "output_type": "stream",
     "text": [
      "54\n"
     ]
    },
    {
     "data": {
      "text/html": [
       "<img src=\"https://www.christies.com/img/LotImages/2008/CSK/2008_CSK_05394_0093_000().jpg\" width=\"250\" height=\"250\"/>"
      ],
      "text/plain": [
       "<IPython.core.display.Image object>"
      ]
     },
     "metadata": {},
     "output_type": "display_data"
    },
    {
     "name": "stdout",
     "output_type": "stream",
     "text": [
      "95\n"
     ]
    },
    {
     "data": {
      "text/html": [
       "<img src=\"https://www.christies.com/img/LotImages/2008/NYR/2008_NYR_01996_0128_000().jpg\" width=\"250\" height=\"250\"/>"
      ],
      "text/plain": [
       "<IPython.core.display.Image object>"
      ]
     },
     "metadata": {},
     "output_type": "display_data"
    },
    {
     "name": "stdout",
     "output_type": "stream",
     "text": [
      "53\n"
     ]
    },
    {
     "data": {
      "text/html": [
       "<img src=\"https://www.christies.com/img/LotImages/2011/CKS/2011_CKS_07976_0317_000(pablo_picasso_bouquet_a_la_pomme).jpg\" width=\"250\" height=\"250\"/>"
      ],
      "text/plain": [
       "<IPython.core.display.Image object>"
      ]
     },
     "metadata": {},
     "output_type": "display_data"
    },
    {
     "name": "stdout",
     "output_type": "stream",
     "text": [
      "92\n"
     ]
    },
    {
     "data": {
      "text/html": [
       "<img src=\"https://www.christies.com/img/LotImages/2006/NYR/2006_NYR_01724_0116_000().jpg\" width=\"250\" height=\"250\"/>"
      ],
      "text/plain": [
       "<IPython.core.display.Image object>"
      ]
     },
     "metadata": {},
     "output_type": "display_data"
    },
    {
     "name": "stdout",
     "output_type": "stream",
     "text": [
      "78\n"
     ]
    },
    {
     "data": {
      "text/html": [
       "<img src=\"https://www.christies.com/img/LotImages/2011/CKS/2011_CKS_07976_0308_000(pablo_picasso_figure_de_proue).jpg\" width=\"250\" height=\"250\"/>"
      ],
      "text/plain": [
       "<IPython.core.display.Image object>"
      ]
     },
     "metadata": {},
     "output_type": "display_data"
    },
    {
     "name": "stdout",
     "output_type": "stream",
     "text": [
      "13\n"
     ]
    },
    {
     "data": {
      "text/html": [
       "<img src=\"https://www.christies.com/img/LotImages/2013/CSK/2013_CSK_08257_0206_000(pablo_picasso_le_dejeuner_sur_lherbe).jpg\" width=\"250\" height=\"250\"/>"
      ],
      "text/plain": [
       "<IPython.core.display.Image object>"
      ]
     },
     "metadata": {},
     "output_type": "display_data"
    },
    {
     "name": "stdout",
     "output_type": "stream",
     "text": [
      "7\n"
     ]
    },
    {
     "data": {
      "text/html": [
       "<img src=\"https://www.christies.com/img/LotImages/2013/CKS/2013_CKS_01133_0311_000(pablo_picasso_grand_vase_aux_femmes_voilees).jpg\" width=\"250\" height=\"250\"/>"
      ],
      "text/plain": [
       "<IPython.core.display.Image object>"
      ]
     },
     "metadata": {},
     "output_type": "display_data"
    },
    {
     "name": "stdout",
     "output_type": "stream",
     "text": [
      "30\n"
     ]
    },
    {
     "data": {
      "text/html": [
       "<img src=\"https://www.christies.com/img/LotImages/2012/CSK/2012_CSK_04420_0136_000(pablo_picasso_tete_de_chevre_de_profil).jpg\" width=\"250\" height=\"250\"/>"
      ],
      "text/plain": [
       "<IPython.core.display.Image object>"
      ]
     },
     "metadata": {},
     "output_type": "display_data"
    },
    {
     "name": "stdout",
     "output_type": "stream",
     "text": [
      "22\n"
     ]
    },
    {
     "data": {
      "text/html": [
       "<img src=\"https://www.christies.com/img/LotImages/2013/CKS/2013_CKS_01132_0150_000(pablo_picasso_le_christ_en_croix).jpg\" width=\"250\" height=\"250\"/>"
      ],
      "text/plain": [
       "<IPython.core.display.Image object>"
      ]
     },
     "metadata": {},
     "output_type": "display_data"
    },
    {
     "name": "stdout",
     "output_type": "stream",
     "text": [
      "24\n"
     ]
    },
    {
     "data": {
      "text/html": [
       "<img src=\"https://www.christies.com/img/LotImages/2015/NYR/2015_NYR_03738_1204_000(pablo_picasso_cavalier_en_armure).jpg\" width=\"250\" height=\"250\"/>"
      ],
      "text/plain": [
       "<IPython.core.display.Image object>"
      ]
     },
     "metadata": {},
     "output_type": "display_data"
    },
    {
     "name": "stdout",
     "output_type": "stream",
     "text": [
      "33\n"
     ]
    },
    {
     "data": {
      "text/html": [
       "<img src=\"https://www.christies.com/img/LotImages/2009/CKS/2009_CKS_07701_0037_000().jpg\" width=\"250\" height=\"250\"/>"
      ],
      "text/plain": [
       "<IPython.core.display.Image object>"
      ]
     },
     "metadata": {},
     "output_type": "display_data"
    },
    {
     "name": "stdout",
     "output_type": "stream",
     "text": [
      "8\n"
     ]
    },
    {
     "data": {
      "text/html": [
       "<img src=\"https://www.christies.com/img/LotImages/2007/CKS/2007_CKS_07407_0136_000().jpg\" width=\"250\" height=\"250\"/>"
      ],
      "text/plain": [
       "<IPython.core.display.Image object>"
      ]
     },
     "metadata": {},
     "output_type": "display_data"
    }
   ],
   "source": [
    "utils.view_images_from_url(df, url_col)"
   ]
  },
  {
   "cell_type": "code",
   "execution_count": 7,
   "metadata": {},
   "outputs": [],
   "source": [
    "# Load model\n",
    "model_filename = \"model_1_DecisionTreeClassifier.pkl\"\n",
    "\n",
    "with open('./models/'+ model_filename , 'rb') as file:\n",
    "    model_file = pickle.load(file)"
   ]
  },
  {
   "cell_type": "code",
   "execution_count": 8,
   "metadata": {},
   "outputs": [
    {
     "data": {
      "text/plain": [
       "{'model': DecisionTreeClassifier(ccp_alpha=0.0, class_weight=None, criterion='gini',\n",
       "                        max_depth=9, max_features=None, max_leaf_nodes=None,\n",
       "                        min_impurity_decrease=0.0, min_impurity_split=None,\n",
       "                        min_samples_leaf=1, min_samples_split=10,\n",
       "                        min_weight_fraction_leaf=0.0, presort='deprecated',\n",
       "                        random_state=None, splitter='best'),\n",
       " 'features': ['long_list_of_things',\n",
       "  'installation_keyword',\n",
       "  'print_keyword',\n",
       "  'drawing_paper_word',\n",
       "  'drawing_keyword',\n",
       "  'painting_keyword',\n",
       "  'photo_keyword',\n",
       "  'has_3dimensions',\n",
       "  'furniture_keyword',\n",
       "  'decorative_obj_keyword',\n",
       "  'is_drawing'],\n",
       " 'labels': ['Drawing',\n",
       "  'Installation',\n",
       "  'Painting',\n",
       "  'Photograph',\n",
       "  'Print',\n",
       "  'Sculpture',\n",
       "  'decorative_object',\n",
       "  'furniture']}"
      ]
     },
     "execution_count": 8,
     "metadata": {},
     "output_type": "execute_result"
    }
   ],
   "source": [
    "# Check model file\n",
    "model_file"
   ]
  },
  {
   "cell_type": "code",
   "execution_count": 9,
   "metadata": {},
   "outputs": [
    {
     "data": {
      "text/html": [
       "<div>\n",
       "<style scoped>\n",
       "    .dataframe tbody tr th:only-of-type {\n",
       "        vertical-align: middle;\n",
       "    }\n",
       "\n",
       "    .dataframe tbody tr th {\n",
       "        vertical-align: top;\n",
       "    }\n",
       "\n",
       "    .dataframe thead th {\n",
       "        text-align: right;\n",
       "    }\n",
       "</style>\n",
       "<table border=\"1\" class=\"dataframe\">\n",
       "  <thead>\n",
       "    <tr style=\"text-align: right;\">\n",
       "      <th></th>\n",
       "      <th>long_list_of_things</th>\n",
       "      <th>installation_keyword</th>\n",
       "      <th>print_keyword</th>\n",
       "      <th>drawing_paper_word</th>\n",
       "      <th>drawing_keyword</th>\n",
       "      <th>painting_keyword</th>\n",
       "      <th>photo_keyword</th>\n",
       "      <th>has_3dimensions</th>\n",
       "      <th>furniture_keyword</th>\n",
       "      <th>decorative_obj_keyword</th>\n",
       "      <th>is_drawing</th>\n",
       "    </tr>\n",
       "  </thead>\n",
       "  <tbody>\n",
       "    <tr>\n",
       "      <th>0</th>\n",
       "      <td>True</td>\n",
       "      <td>False</td>\n",
       "      <td>False</td>\n",
       "      <td>True</td>\n",
       "      <td>True</td>\n",
       "      <td>False</td>\n",
       "      <td>False</td>\n",
       "      <td>False</td>\n",
       "      <td>False</td>\n",
       "      <td>False</td>\n",
       "      <td>True</td>\n",
       "    </tr>\n",
       "    <tr>\n",
       "      <th>1</th>\n",
       "      <td>True</td>\n",
       "      <td>False</td>\n",
       "      <td>False</td>\n",
       "      <td>False</td>\n",
       "      <td>False</td>\n",
       "      <td>False</td>\n",
       "      <td>False</td>\n",
       "      <td>False</td>\n",
       "      <td>False</td>\n",
       "      <td>False</td>\n",
       "      <td>False</td>\n",
       "    </tr>\n",
       "    <tr>\n",
       "      <th>2</th>\n",
       "      <td>True</td>\n",
       "      <td>False</td>\n",
       "      <td>False</td>\n",
       "      <td>False</td>\n",
       "      <td>False</td>\n",
       "      <td>True</td>\n",
       "      <td>False</td>\n",
       "      <td>False</td>\n",
       "      <td>False</td>\n",
       "      <td>False</td>\n",
       "      <td>False</td>\n",
       "    </tr>\n",
       "    <tr>\n",
       "      <th>3</th>\n",
       "      <td>True</td>\n",
       "      <td>False</td>\n",
       "      <td>False</td>\n",
       "      <td>True</td>\n",
       "      <td>True</td>\n",
       "      <td>True</td>\n",
       "      <td>False</td>\n",
       "      <td>True</td>\n",
       "      <td>False</td>\n",
       "      <td>False</td>\n",
       "      <td>True</td>\n",
       "    </tr>\n",
       "    <tr>\n",
       "      <th>4</th>\n",
       "      <td>True</td>\n",
       "      <td>False</td>\n",
       "      <td>False</td>\n",
       "      <td>True</td>\n",
       "      <td>True</td>\n",
       "      <td>False</td>\n",
       "      <td>False</td>\n",
       "      <td>False</td>\n",
       "      <td>False</td>\n",
       "      <td>False</td>\n",
       "      <td>True</td>\n",
       "    </tr>\n",
       "    <tr>\n",
       "      <th>...</th>\n",
       "      <td>...</td>\n",
       "      <td>...</td>\n",
       "      <td>...</td>\n",
       "      <td>...</td>\n",
       "      <td>...</td>\n",
       "      <td>...</td>\n",
       "      <td>...</td>\n",
       "      <td>...</td>\n",
       "      <td>...</td>\n",
       "      <td>...</td>\n",
       "      <td>...</td>\n",
       "    </tr>\n",
       "    <tr>\n",
       "      <th>95</th>\n",
       "      <td>True</td>\n",
       "      <td>False</td>\n",
       "      <td>False</td>\n",
       "      <td>True</td>\n",
       "      <td>True</td>\n",
       "      <td>True</td>\n",
       "      <td>False</td>\n",
       "      <td>False</td>\n",
       "      <td>False</td>\n",
       "      <td>False</td>\n",
       "      <td>True</td>\n",
       "    </tr>\n",
       "    <tr>\n",
       "      <th>96</th>\n",
       "      <td>True</td>\n",
       "      <td>False</td>\n",
       "      <td>False</td>\n",
       "      <td>True</td>\n",
       "      <td>True</td>\n",
       "      <td>True</td>\n",
       "      <td>False</td>\n",
       "      <td>False</td>\n",
       "      <td>False</td>\n",
       "      <td>False</td>\n",
       "      <td>True</td>\n",
       "    </tr>\n",
       "    <tr>\n",
       "      <th>97</th>\n",
       "      <td>True</td>\n",
       "      <td>False</td>\n",
       "      <td>False</td>\n",
       "      <td>True</td>\n",
       "      <td>True</td>\n",
       "      <td>False</td>\n",
       "      <td>False</td>\n",
       "      <td>False</td>\n",
       "      <td>False</td>\n",
       "      <td>False</td>\n",
       "      <td>True</td>\n",
       "    </tr>\n",
       "    <tr>\n",
       "      <th>98</th>\n",
       "      <td>True</td>\n",
       "      <td>False</td>\n",
       "      <td>False</td>\n",
       "      <td>False</td>\n",
       "      <td>False</td>\n",
       "      <td>False</td>\n",
       "      <td>False</td>\n",
       "      <td>True</td>\n",
       "      <td>False</td>\n",
       "      <td>False</td>\n",
       "      <td>False</td>\n",
       "    </tr>\n",
       "    <tr>\n",
       "      <th>99</th>\n",
       "      <td>True</td>\n",
       "      <td>False</td>\n",
       "      <td>False</td>\n",
       "      <td>True</td>\n",
       "      <td>True</td>\n",
       "      <td>False</td>\n",
       "      <td>False</td>\n",
       "      <td>False</td>\n",
       "      <td>False</td>\n",
       "      <td>False</td>\n",
       "      <td>True</td>\n",
       "    </tr>\n",
       "  </tbody>\n",
       "</table>\n",
       "<p>100 rows × 11 columns</p>\n",
       "</div>"
      ],
      "text/plain": [
       "    long_list_of_things  installation_keyword  print_keyword  \\\n",
       "0                  True                 False          False   \n",
       "1                  True                 False          False   \n",
       "2                  True                 False          False   \n",
       "3                  True                 False          False   \n",
       "4                  True                 False          False   \n",
       "..                  ...                   ...            ...   \n",
       "95                 True                 False          False   \n",
       "96                 True                 False          False   \n",
       "97                 True                 False          False   \n",
       "98                 True                 False          False   \n",
       "99                 True                 False          False   \n",
       "\n",
       "    drawing_paper_word  drawing_keyword  painting_keyword  photo_keyword  \\\n",
       "0                 True             True             False          False   \n",
       "1                False            False             False          False   \n",
       "2                False            False              True          False   \n",
       "3                 True             True              True          False   \n",
       "4                 True             True             False          False   \n",
       "..                 ...              ...               ...            ...   \n",
       "95                True             True              True          False   \n",
       "96                True             True              True          False   \n",
       "97                True             True             False          False   \n",
       "98               False            False             False          False   \n",
       "99                True             True             False          False   \n",
       "\n",
       "    has_3dimensions  furniture_keyword  decorative_obj_keyword  is_drawing  \n",
       "0             False              False                   False        True  \n",
       "1             False              False                   False       False  \n",
       "2             False              False                   False       False  \n",
       "3              True              False                   False        True  \n",
       "4             False              False                   False        True  \n",
       "..              ...                ...                     ...         ...  \n",
       "95            False              False                   False        True  \n",
       "96            False              False                   False        True  \n",
       "97            False              False                   False        True  \n",
       "98             True              False                   False       False  \n",
       "99            False              False                   False        True  \n",
       "\n",
       "[100 rows x 11 columns]"
      ]
     },
     "execution_count": 9,
     "metadata": {},
     "output_type": "execute_result"
    }
   ],
   "source": [
    "model = model_file['model']\n",
    "features = model_file['features']\n",
    "labels = model_file['labels']\n",
    "\n",
    "# Check all Model Features Exist\n",
    "\n",
    "df[features]"
   ]
  },
  {
   "cell_type": "code",
   "execution_count": 28,
   "metadata": {},
   "outputs": [],
   "source": [
    "# Get Test Results\n",
    "\n",
    "results = model.predict(df[features])\n",
    "y_pred = pd.DataFrame(columns=labels\n",
    "                      , data=results\n",
    "                      , index=df.index)"
   ]
  },
  {
   "cell_type": "code",
   "execution_count": 31,
   "metadata": {},
   "outputs": [],
   "source": [
    "y_pred['no_classification'] = y_pred.apply(lambda x: 1 if sum(x) == 0 else 0, axis=1)"
   ]
  },
  {
   "cell_type": "code",
   "execution_count": 32,
   "metadata": {},
   "outputs": [
    {
     "data": {
      "text/html": [
       "<div>\n",
       "<style scoped>\n",
       "    .dataframe tbody tr th:only-of-type {\n",
       "        vertical-align: middle;\n",
       "    }\n",
       "\n",
       "    .dataframe tbody tr th {\n",
       "        vertical-align: top;\n",
       "    }\n",
       "\n",
       "    .dataframe thead th {\n",
       "        text-align: right;\n",
       "    }\n",
       "</style>\n",
       "<table border=\"1\" class=\"dataframe\">\n",
       "  <thead>\n",
       "    <tr style=\"text-align: right;\">\n",
       "      <th></th>\n",
       "      <th>Drawing</th>\n",
       "      <th>Installation</th>\n",
       "      <th>Painting</th>\n",
       "      <th>Photograph</th>\n",
       "      <th>Print</th>\n",
       "      <th>Sculpture</th>\n",
       "      <th>decorative_object</th>\n",
       "      <th>furniture</th>\n",
       "      <th>no_classification</th>\n",
       "    </tr>\n",
       "  </thead>\n",
       "  <tbody>\n",
       "    <tr>\n",
       "      <th>0</th>\n",
       "      <td>1</td>\n",
       "      <td>0</td>\n",
       "      <td>0</td>\n",
       "      <td>0</td>\n",
       "      <td>0</td>\n",
       "      <td>0</td>\n",
       "      <td>0</td>\n",
       "      <td>0</td>\n",
       "      <td>0</td>\n",
       "    </tr>\n",
       "    <tr>\n",
       "      <th>1</th>\n",
       "      <td>0</td>\n",
       "      <td>0</td>\n",
       "      <td>0</td>\n",
       "      <td>0</td>\n",
       "      <td>0</td>\n",
       "      <td>0</td>\n",
       "      <td>0</td>\n",
       "      <td>0</td>\n",
       "      <td>1</td>\n",
       "    </tr>\n",
       "    <tr>\n",
       "      <th>2</th>\n",
       "      <td>0</td>\n",
       "      <td>0</td>\n",
       "      <td>1</td>\n",
       "      <td>0</td>\n",
       "      <td>0</td>\n",
       "      <td>0</td>\n",
       "      <td>0</td>\n",
       "      <td>0</td>\n",
       "      <td>0</td>\n",
       "    </tr>\n",
       "    <tr>\n",
       "      <th>3</th>\n",
       "      <td>0</td>\n",
       "      <td>1</td>\n",
       "      <td>0</td>\n",
       "      <td>0</td>\n",
       "      <td>0</td>\n",
       "      <td>0</td>\n",
       "      <td>0</td>\n",
       "      <td>0</td>\n",
       "      <td>0</td>\n",
       "    </tr>\n",
       "    <tr>\n",
       "      <th>4</th>\n",
       "      <td>1</td>\n",
       "      <td>0</td>\n",
       "      <td>0</td>\n",
       "      <td>0</td>\n",
       "      <td>0</td>\n",
       "      <td>0</td>\n",
       "      <td>0</td>\n",
       "      <td>0</td>\n",
       "      <td>0</td>\n",
       "    </tr>\n",
       "    <tr>\n",
       "      <th>...</th>\n",
       "      <td>...</td>\n",
       "      <td>...</td>\n",
       "      <td>...</td>\n",
       "      <td>...</td>\n",
       "      <td>...</td>\n",
       "      <td>...</td>\n",
       "      <td>...</td>\n",
       "      <td>...</td>\n",
       "      <td>...</td>\n",
       "    </tr>\n",
       "    <tr>\n",
       "      <th>95</th>\n",
       "      <td>1</td>\n",
       "      <td>0</td>\n",
       "      <td>0</td>\n",
       "      <td>0</td>\n",
       "      <td>0</td>\n",
       "      <td>0</td>\n",
       "      <td>0</td>\n",
       "      <td>0</td>\n",
       "      <td>0</td>\n",
       "    </tr>\n",
       "    <tr>\n",
       "      <th>96</th>\n",
       "      <td>1</td>\n",
       "      <td>0</td>\n",
       "      <td>0</td>\n",
       "      <td>0</td>\n",
       "      <td>0</td>\n",
       "      <td>0</td>\n",
       "      <td>0</td>\n",
       "      <td>0</td>\n",
       "      <td>0</td>\n",
       "    </tr>\n",
       "    <tr>\n",
       "      <th>97</th>\n",
       "      <td>1</td>\n",
       "      <td>0</td>\n",
       "      <td>0</td>\n",
       "      <td>0</td>\n",
       "      <td>0</td>\n",
       "      <td>0</td>\n",
       "      <td>0</td>\n",
       "      <td>0</td>\n",
       "      <td>0</td>\n",
       "    </tr>\n",
       "    <tr>\n",
       "      <th>98</th>\n",
       "      <td>0</td>\n",
       "      <td>0</td>\n",
       "      <td>0</td>\n",
       "      <td>0</td>\n",
       "      <td>0</td>\n",
       "      <td>1</td>\n",
       "      <td>0</td>\n",
       "      <td>0</td>\n",
       "      <td>0</td>\n",
       "    </tr>\n",
       "    <tr>\n",
       "      <th>99</th>\n",
       "      <td>1</td>\n",
       "      <td>0</td>\n",
       "      <td>0</td>\n",
       "      <td>0</td>\n",
       "      <td>0</td>\n",
       "      <td>0</td>\n",
       "      <td>0</td>\n",
       "      <td>0</td>\n",
       "      <td>0</td>\n",
       "    </tr>\n",
       "  </tbody>\n",
       "</table>\n",
       "<p>100 rows × 9 columns</p>\n",
       "</div>"
      ],
      "text/plain": [
       "    Drawing  Installation  Painting  Photograph  Print  Sculpture  \\\n",
       "0         1             0         0           0      0          0   \n",
       "1         0             0         0           0      0          0   \n",
       "2         0             0         1           0      0          0   \n",
       "3         0             1         0           0      0          0   \n",
       "4         1             0         0           0      0          0   \n",
       "..      ...           ...       ...         ...    ...        ...   \n",
       "95        1             0         0           0      0          0   \n",
       "96        1             0         0           0      0          0   \n",
       "97        1             0         0           0      0          0   \n",
       "98        0             0         0           0      0          1   \n",
       "99        1             0         0           0      0          0   \n",
       "\n",
       "    decorative_object  furniture  no_classification  \n",
       "0                   0          0                  0  \n",
       "1                   0          0                  1  \n",
       "2                   0          0                  0  \n",
       "3                   0          0                  0  \n",
       "4                   0          0                  0  \n",
       "..                ...        ...                ...  \n",
       "95                  0          0                  0  \n",
       "96                  0          0                  0  \n",
       "97                  0          0                  0  \n",
       "98                  0          0                  0  \n",
       "99                  0          0                  0  \n",
       "\n",
       "[100 rows x 9 columns]"
      ]
     },
     "execution_count": 32,
     "metadata": {},
     "output_type": "execute_result"
    }
   ],
   "source": [
    "y_pred"
   ]
  },
  {
   "cell_type": "code",
   "execution_count": 41,
   "metadata": {},
   "outputs": [
    {
     "data": {
      "text/plain": [
       "60    no_classification\n",
       "61            Sculpture\n",
       "62             Painting\n",
       "63              Drawing\n",
       "64             Painting\n",
       "65              Drawing\n",
       "66            Sculpture\n",
       "67            Sculpture\n",
       "68              Drawing\n",
       "69    no_classification\n",
       "70            Sculpture\n",
       "71              Drawing\n",
       "72         Installation\n",
       "73    no_classification\n",
       "74            Sculpture\n",
       "75             Painting\n",
       "76             Painting\n",
       "77              Drawing\n",
       "78    no_classification\n",
       "79             Painting\n",
       "80            Sculpture\n",
       "81         Installation\n",
       "82    no_classification\n",
       "83    no_classification\n",
       "84             Painting\n",
       "85            Sculpture\n",
       "86              Drawing\n",
       "87            Sculpture\n",
       "88    no_classification\n",
       "89                Print\n",
       "90              Drawing\n",
       "91    no_classification\n",
       "92              Drawing\n",
       "93            Sculpture\n",
       "94    no_classification\n",
       "95              Drawing\n",
       "96              Drawing\n",
       "97              Drawing\n",
       "98            Sculpture\n",
       "99              Drawing\n",
       "dtype: category\n",
       "Categories (7, object): [Drawing, Installation, Painting, Print, Sculpture, decorative_object, no_classification]"
      ]
     },
     "execution_count": 41,
     "metadata": {},
     "output_type": "execute_result"
    }
   ],
   "source": [
    "x = y_pred.stack()\n",
    "results = pd.Series(pd.Categorical(x[x!=0].index.get_level_values(1)))\n",
    "\n",
    "results[60:]"
   ]
  },
  {
   "cell_type": "code",
   "execution_count": 34,
   "metadata": {},
   "outputs": [
    {
     "name": "stdout",
     "output_type": "stream",
     "text": [
      "0\n"
     ]
    },
    {
     "data": {
      "text/html": [
       "<img src=\"https://www.christies.com/img/LotImages/2008/CKS/2008_CKS_07564_0509_000().jpg\" width=\"250\" height=\"250\"/>"
      ],
      "text/plain": [
       "<IPython.core.display.Image object>"
      ]
     },
     "metadata": {},
     "output_type": "display_data"
    },
    {
     "name": "stdout",
     "output_type": "stream",
     "text": [
      "1\n"
     ]
    },
    {
     "data": {
      "text/html": [
       "<img src=\"https://www.christies.com/img/LotImages/2013/CSK/2013_CSK_08257_0246_000(pablo_picasso_tete_de_chevre_de_profil).jpg\" width=\"250\" height=\"250\"/>"
      ],
      "text/plain": [
       "<IPython.core.display.Image object>"
      ]
     },
     "metadata": {},
     "output_type": "display_data"
    },
    {
     "name": "stdout",
     "output_type": "stream",
     "text": [
      "2\n"
     ]
    },
    {
     "data": {
      "text/html": [
       "<img src=\"https://www.christies.com/img/LotImages/2010/CKS/2010_CKS_07859_0337_000(pablo_picasso_buste_dhomme).jpg\" width=\"250\" height=\"250\"/>"
      ],
      "text/plain": [
       "<IPython.core.display.Image object>"
      ]
     },
     "metadata": {},
     "output_type": "display_data"
    },
    {
     "name": "stdout",
     "output_type": "stream",
     "text": [
      "3\n"
     ]
    },
    {
     "data": {
      "text/html": [
       "<img src=\"https://www.christies.com/img/LotImages/2008/CKS/2008_CKS_07564_0569_000().jpg\" width=\"250\" height=\"250\"/>"
      ],
      "text/plain": [
       "<IPython.core.display.Image object>"
      ]
     },
     "metadata": {},
     "output_type": "display_data"
    },
    {
     "name": "stdout",
     "output_type": "stream",
     "text": [
      "4\n"
     ]
    },
    {
     "data": {
      "text/html": [
       "<img src=\"https://www.christies.com/img/LotImages/2010/NYR/2010_NYR_02353_0171_000(pablo_picasso_couple).jpg\" width=\"250\" height=\"250\"/>"
      ],
      "text/plain": [
       "<IPython.core.display.Image object>"
      ]
     },
     "metadata": {},
     "output_type": "display_data"
    },
    {
     "name": "stdout",
     "output_type": "stream",
     "text": [
      "5\n"
     ]
    },
    {
     "data": {
      "text/html": [
       "<img src=\"https://www.christies.com/img/LotImages/2006/CSK/2006_CSK_05010_0092_000().jpg\" width=\"250\" height=\"250\"/>"
      ],
      "text/plain": [
       "<IPython.core.display.Image object>"
      ]
     },
     "metadata": {},
     "output_type": "display_data"
    },
    {
     "name": "stdout",
     "output_type": "stream",
     "text": [
      "6\n"
     ]
    },
    {
     "data": {
      "text/html": [
       "<img src=\"https://www.christies.com/img/LotImages/2012/CSK/2012_CSK_04420_0130_000(pablo_picasso_visage_grave_fond_grege).jpg\" width=\"250\" height=\"250\"/>"
      ],
      "text/plain": [
       "<IPython.core.display.Image object>"
      ]
     },
     "metadata": {},
     "output_type": "display_data"
    },
    {
     "name": "stdout",
     "output_type": "stream",
     "text": [
      "7\n"
     ]
    },
    {
     "data": {
      "text/html": [
       "<img src=\"https://www.christies.com/img/LotImages/2013/CKS/2013_CKS_01133_0311_000(pablo_picasso_grand_vase_aux_femmes_voilees).jpg\" width=\"250\" height=\"250\"/>"
      ],
      "text/plain": [
       "<IPython.core.display.Image object>"
      ]
     },
     "metadata": {},
     "output_type": "display_data"
    },
    {
     "name": "stdout",
     "output_type": "stream",
     "text": [
      "8\n"
     ]
    },
    {
     "data": {
      "text/html": [
       "<img src=\"https://www.christies.com/img/LotImages/2007/CKS/2007_CKS_07407_0136_000().jpg\" width=\"250\" height=\"250\"/>"
      ],
      "text/plain": [
       "<IPython.core.display.Image object>"
      ]
     },
     "metadata": {},
     "output_type": "display_data"
    },
    {
     "name": "stdout",
     "output_type": "stream",
     "text": [
      "9\n"
     ]
    },
    {
     "data": {
      "text/html": [
       "<img src=\"https://www.christies.com/img/LotImages/2008/NYR/2008_NYR_02045_0071_000().jpg\" width=\"250\" height=\"250\"/>"
      ],
      "text/plain": [
       "<IPython.core.display.Image object>"
      ]
     },
     "metadata": {},
     "output_type": "display_data"
    },
    {
     "name": "stdout",
     "output_type": "stream",
     "text": [
      "10\n"
     ]
    },
    {
     "data": {
      "text/html": [
       "<img src=\"https://www.christies.com/img/LotImages/2006/CKS/2006_CKS_07188_0080_000().jpg\" width=\"250\" height=\"250\"/>"
      ],
      "text/plain": [
       "<IPython.core.display.Image object>"
      ]
     },
     "metadata": {},
     "output_type": "display_data"
    },
    {
     "name": "stdout",
     "output_type": "stream",
     "text": [
      "11\n"
     ]
    },
    {
     "data": {
      "text/html": [
       "<img src=\"https://www.christies.com/img/LotImages/2006/NYR/2006_NYR_01722_0039_000().jpg\" width=\"250\" height=\"250\"/>"
      ],
      "text/plain": [
       "<IPython.core.display.Image object>"
      ]
     },
     "metadata": {},
     "output_type": "display_data"
    },
    {
     "name": "stdout",
     "output_type": "stream",
     "text": [
      "12\n"
     ]
    },
    {
     "data": {
      "text/html": [
       "<img src=\"https://www.christies.com/img/LotImages/2008/NYR/2008_NYR_02046_0303_000().jpg\" width=\"250\" height=\"250\"/>"
      ],
      "text/plain": [
       "<IPython.core.display.Image object>"
      ]
     },
     "metadata": {},
     "output_type": "display_data"
    },
    {
     "name": "stdout",
     "output_type": "stream",
     "text": [
      "13\n"
     ]
    },
    {
     "data": {
      "text/html": [
       "<img src=\"https://www.christies.com/img/LotImages/2013/CSK/2013_CSK_08257_0206_000(pablo_picasso_le_dejeuner_sur_lherbe).jpg\" width=\"250\" height=\"250\"/>"
      ],
      "text/plain": [
       "<IPython.core.display.Image object>"
      ]
     },
     "metadata": {},
     "output_type": "display_data"
    },
    {
     "name": "stdout",
     "output_type": "stream",
     "text": [
      "14\n"
     ]
    },
    {
     "data": {
      "text/html": [
       "<img src=\"https://www.christies.com/img/LotImages/2007/CSK/2007_CSK_05226_0187_000().jpg\" width=\"250\" height=\"250\"/>"
      ],
      "text/plain": [
       "<IPython.core.display.Image object>"
      ]
     },
     "metadata": {},
     "output_type": "display_data"
    },
    {
     "name": "stdout",
     "output_type": "stream",
     "text": [
      "15\n"
     ]
    },
    {
     "data": {
      "text/html": [
       "<img src=\"https://www.christies.com/img/LotImages/2013/CSK/2013_CSK_08257_0101_000(pablo_picasso_le_coq).jpg\" width=\"250\" height=\"250\"/>"
      ],
      "text/plain": [
       "<IPython.core.display.Image object>"
      ]
     },
     "metadata": {},
     "output_type": "display_data"
    },
    {
     "name": "stdout",
     "output_type": "stream",
     "text": [
      "16\n"
     ]
    },
    {
     "data": {
      "text/html": [
       "<img src=\"https://www.christies.com/img/LotImages/2012/CKS/2012_CKS_05467_0106_000(pablo_picasso_cavalier_en_armure).jpg\" width=\"250\" height=\"250\"/>"
      ],
      "text/plain": [
       "<IPython.core.display.Image object>"
      ]
     },
     "metadata": {},
     "output_type": "display_data"
    },
    {
     "name": "stdout",
     "output_type": "stream",
     "text": [
      "17\n"
     ]
    },
    {
     "data": {
      "text/html": [
       "<img src=\"https://www.christies.com/img/LotImages/2014/CKS/2014_CKS_01505_0032_000(pablo_picasso_tete_dhomme).jpg\" width=\"250\" height=\"250\"/>"
      ],
      "text/plain": [
       "<IPython.core.display.Image object>"
      ]
     },
     "metadata": {},
     "output_type": "display_data"
    },
    {
     "name": "stdout",
     "output_type": "stream",
     "text": [
      "18\n"
     ]
    },
    {
     "data": {
      "text/html": [
       "<img src=\"https://www.christies.com/img/LotImages/2006/NYR/2006_NYR_01724_0205_000().jpg\" width=\"250\" height=\"250\"/>"
      ],
      "text/plain": [
       "<IPython.core.display.Image object>"
      ]
     },
     "metadata": {},
     "output_type": "display_data"
    },
    {
     "name": "stdout",
     "output_type": "stream",
     "text": [
      "19\n"
     ]
    },
    {
     "data": {
      "text/html": [
       "<img src=\"https://www.christies.com/img/LotImages/2014/NYR/2014_NYR_02847_0006_000(pablo_picasso_trois_femmes_nues_et_buste_dhomme).jpg\" width=\"250\" height=\"250\"/>"
      ],
      "text/plain": [
       "<IPython.core.display.Image object>"
      ]
     },
     "metadata": {},
     "output_type": "display_data"
    },
    {
     "name": "stdout",
     "output_type": "stream",
     "text": [
      "20\n"
     ]
    },
    {
     "data": {
      "text/html": [
       "<img src=\"https://www.christies.com/img/LotImages/2006/CSK/2006_CSK_05010_0097_000().jpg\" width=\"250\" height=\"250\"/>"
      ],
      "text/plain": [
       "<IPython.core.display.Image object>"
      ]
     },
     "metadata": {},
     "output_type": "display_data"
    },
    {
     "name": "stdout",
     "output_type": "stream",
     "text": [
      "21\n"
     ]
    },
    {
     "data": {
      "text/html": [
       "<img src=\"https://www.christies.com/img/LotImages/2013/CSK/2013_CSK_08257_0215_000(pablo_picasso_taureau_grave).jpg\" width=\"250\" height=\"250\"/>"
      ],
      "text/plain": [
       "<IPython.core.display.Image object>"
      ]
     },
     "metadata": {},
     "output_type": "display_data"
    },
    {
     "name": "stdout",
     "output_type": "stream",
     "text": [
      "22\n"
     ]
    },
    {
     "data": {
      "text/html": [
       "<img src=\"https://www.christies.com/img/LotImages/2013/CKS/2013_CKS_01132_0150_000(pablo_picasso_le_christ_en_croix).jpg\" width=\"250\" height=\"250\"/>"
      ],
      "text/plain": [
       "<IPython.core.display.Image object>"
      ]
     },
     "metadata": {},
     "output_type": "display_data"
    },
    {
     "name": "stdout",
     "output_type": "stream",
     "text": [
      "23\n"
     ]
    },
    {
     "data": {
      "text/html": [
       "<img src=\"https://www.christies.com/img/LotImages/2006/NYR/2006_NYR_01657_0379_000().jpg\" width=\"250\" height=\"250\"/>"
      ],
      "text/plain": [
       "<IPython.core.display.Image object>"
      ]
     },
     "metadata": {},
     "output_type": "display_data"
    },
    {
     "name": "stdout",
     "output_type": "stream",
     "text": [
      "24\n"
     ]
    },
    {
     "data": {
      "text/html": [
       "<img src=\"https://www.christies.com/img/LotImages/2015/NYR/2015_NYR_03738_1204_000(pablo_picasso_cavalier_en_armure).jpg\" width=\"250\" height=\"250\"/>"
      ],
      "text/plain": [
       "<IPython.core.display.Image object>"
      ]
     },
     "metadata": {},
     "output_type": "display_data"
    },
    {
     "name": "stdout",
     "output_type": "stream",
     "text": [
      "25\n"
     ]
    },
    {
     "data": {
      "text/html": [
       "<img src=\"https://www.christies.com/img/LotImages/2012/CKS/2012_CKS_08050_0301_000(pablo_picasso_dessinateur_et_les_curieux_le_flamenco).jpg\" width=\"250\" height=\"250\"/>"
      ],
      "text/plain": [
       "<IPython.core.display.Image object>"
      ]
     },
     "metadata": {},
     "output_type": "display_data"
    },
    {
     "name": "stdout",
     "output_type": "stream",
     "text": [
      "26\n"
     ]
    },
    {
     "data": {
      "text/html": [
       "<img src=\"https://www.christies.com/img/LotImages/2010/CSK/2010_CSK_05486_0138_000(pablo_picasso_visage_a_la_grille).jpg\" width=\"250\" height=\"250\"/>"
      ],
      "text/plain": [
       "<IPython.core.display.Image object>"
      ]
     },
     "metadata": {},
     "output_type": "display_data"
    },
    {
     "name": "stdout",
     "output_type": "stream",
     "text": [
      "27\n"
     ]
    },
    {
     "data": {
      "text/html": [
       "<img src=\"https://www.christies.com/img/LotImages/2010/CSK/2010_CSK_05486_0156_000(pablo_picasso_pichet_tetes).jpg\" width=\"250\" height=\"250\"/>"
      ],
      "text/plain": [
       "<IPython.core.display.Image object>"
      ]
     },
     "metadata": {},
     "output_type": "display_data"
    },
    {
     "name": "stdout",
     "output_type": "stream",
     "text": [
      "28\n"
     ]
    },
    {
     "data": {
      "text/html": [
       "<img src=\"https://www.christies.com/img/LotImages/2007/CSK/2007_CSK_05226_0182_000().jpg\" width=\"250\" height=\"250\"/>"
      ],
      "text/plain": [
       "<IPython.core.display.Image object>"
      ]
     },
     "metadata": {},
     "output_type": "display_data"
    },
    {
     "name": "stdout",
     "output_type": "stream",
     "text": [
      "29\n"
     ]
    },
    {
     "data": {
      "text/html": [
       "<img src=\"https://www.christies.com/img/LotImages/2010/CKS/2010_CKS_07857_0010_000(pablo_picasso_la_liseuse).jpg\" width=\"250\" height=\"250\"/>"
      ],
      "text/plain": [
       "<IPython.core.display.Image object>"
      ]
     },
     "metadata": {},
     "output_type": "display_data"
    },
    {
     "name": "stdout",
     "output_type": "stream",
     "text": [
      "30\n"
     ]
    },
    {
     "data": {
      "text/html": [
       "<img src=\"https://www.christies.com/img/LotImages/2012/CSK/2012_CSK_04420_0136_000(pablo_picasso_tete_de_chevre_de_profil).jpg\" width=\"250\" height=\"250\"/>"
      ],
      "text/plain": [
       "<IPython.core.display.Image object>"
      ]
     },
     "metadata": {},
     "output_type": "display_data"
    },
    {
     "name": "stdout",
     "output_type": "stream",
     "text": [
      "31\n"
     ]
    },
    {
     "data": {
      "text/html": [
       "<img src=\"https://www.christies.com/img/LotImages/2007/NYR/2007_NYR_01831_0075_000().jpg\" width=\"250\" height=\"250\"/>"
      ],
      "text/plain": [
       "<IPython.core.display.Image object>"
      ]
     },
     "metadata": {},
     "output_type": "display_data"
    },
    {
     "name": "stdout",
     "output_type": "stream",
     "text": [
      "32\n"
     ]
    },
    {
     "data": {
      "text/html": [
       "<img src=\"https://www.christies.com/img/LotImages/2010/CSK/2010_CSK_05486_0153_000(pablo_picasso_mains_au_poisson).jpg\" width=\"250\" height=\"250\"/>"
      ],
      "text/plain": [
       "<IPython.core.display.Image object>"
      ]
     },
     "metadata": {},
     "output_type": "display_data"
    },
    {
     "name": "stdout",
     "output_type": "stream",
     "text": [
      "33\n"
     ]
    },
    {
     "data": {
      "text/html": [
       "<img src=\"https://www.christies.com/img/LotImages/2009/CKS/2009_CKS_07701_0037_000().jpg\" width=\"250\" height=\"250\"/>"
      ],
      "text/plain": [
       "<IPython.core.display.Image object>"
      ]
     },
     "metadata": {},
     "output_type": "display_data"
    },
    {
     "name": "stdout",
     "output_type": "stream",
     "text": [
      "34\n"
     ]
    },
    {
     "data": {
      "text/html": [
       "<img src=\"https://www.christies.com/img/LotImages/2010/CKS/2010_CKS_07859_0342_000(pablo_picasso_faune_cavalier).jpg\" width=\"250\" height=\"250\"/>"
      ],
      "text/plain": [
       "<IPython.core.display.Image object>"
      ]
     },
     "metadata": {},
     "output_type": "display_data"
    },
    {
     "name": "stdout",
     "output_type": "stream",
     "text": [
      "35\n"
     ]
    },
    {
     "data": {
      "text/html": [
       "<img src=\"https://www.christies.com/img/LotImages/2007/CKS/2007_CKS_07407_0140_000().jpg\" width=\"250\" height=\"250\"/>"
      ],
      "text/plain": [
       "<IPython.core.display.Image object>"
      ]
     },
     "metadata": {},
     "output_type": "display_data"
    },
    {
     "name": "stdout",
     "output_type": "stream",
     "text": [
      "36\n"
     ]
    },
    {
     "data": {
      "text/html": [
       "<img src=\"https://www.christies.com/img/LotImages/2010/CKS/2010_CKS_07857_0041_000(pablo_picasso_le_baiser).jpg\" width=\"250\" height=\"250\"/>"
      ],
      "text/plain": [
       "<IPython.core.display.Image object>"
      ]
     },
     "metadata": {},
     "output_type": "display_data"
    },
    {
     "name": "stdout",
     "output_type": "stream",
     "text": [
      "37\n"
     ]
    },
    {
     "data": {
      "text/html": [
       "<img src=\"https://www.christies.com/img/LotImages/2013/CSK/2013_CSK_08257_0249_000(pablo_picasso_profil_de_jacqueline).jpg\" width=\"250\" height=\"250\"/>"
      ],
      "text/plain": [
       "<IPython.core.display.Image object>"
      ]
     },
     "metadata": {},
     "output_type": "display_data"
    },
    {
     "name": "stdout",
     "output_type": "stream",
     "text": [
      "38\n"
     ]
    },
    {
     "data": {
      "text/html": [
       "<img src=\"https://www.christies.com/img/LotImages/2008/CKS/2008_CKS_07599_0044_000().jpg\" width=\"250\" height=\"250\"/>"
      ],
      "text/plain": [
       "<IPython.core.display.Image object>"
      ]
     },
     "metadata": {},
     "output_type": "display_data"
    },
    {
     "name": "stdout",
     "output_type": "stream",
     "text": [
      "39\n"
     ]
    },
    {
     "data": {
      "text/html": [
       "<img src=\"https://www.christies.com/img/LotImages/2014/CSK/2014_CSK_05413_0005_000(pablo_picasso_bouquet_de_fleurs).jpg\" width=\"250\" height=\"250\"/>"
      ],
      "text/plain": [
       "<IPython.core.display.Image object>"
      ]
     },
     "metadata": {},
     "output_type": "display_data"
    },
    {
     "name": "stdout",
     "output_type": "stream",
     "text": [
      "40\n"
     ]
    },
    {
     "data": {
      "text/html": [
       "<img src=\"https://www.christies.com/img/LotImages/2006/CSK/2006_CSK_05008_0100_000().jpg\" width=\"250\" height=\"250\"/>"
      ],
      "text/plain": [
       "<IPython.core.display.Image object>"
      ]
     },
     "metadata": {},
     "output_type": "display_data"
    },
    {
     "name": "stdout",
     "output_type": "stream",
     "text": [
      "41\n"
     ]
    },
    {
     "data": {
      "text/html": [
       "<img src=\"https://www.christies.com/img/LotImages/2013/NYR/2013_NYR_02788_0005_000(pablo_picasso_femme_au_beret_orange_et_au_col_de_fourrure).jpg\" width=\"250\" height=\"250\"/>"
      ],
      "text/plain": [
       "<IPython.core.display.Image object>"
      ]
     },
     "metadata": {},
     "output_type": "display_data"
    },
    {
     "name": "stdout",
     "output_type": "stream",
     "text": [
      "42\n"
     ]
    },
    {
     "data": {
      "text/html": [
       "<img src=\"https://www.christies.com/img/LotImages/2011/CKS/2011_CKS_07976_0320_000(pablo_picasso_taureau).jpg\" width=\"250\" height=\"250\"/>"
      ],
      "text/plain": [
       "<IPython.core.display.Image object>"
      ]
     },
     "metadata": {},
     "output_type": "display_data"
    },
    {
     "name": "stdout",
     "output_type": "stream",
     "text": [
      "43\n"
     ]
    },
    {
     "data": {
      "text/html": [
       "<img src=\"https://www.christies.com/img/LotImages/2008/CSK/2008_CSK_05392_0382_000().jpg\" width=\"250\" height=\"250\"/>"
      ],
      "text/plain": [
       "<IPython.core.display.Image object>"
      ]
     },
     "metadata": {},
     "output_type": "display_data"
    },
    {
     "name": "stdout",
     "output_type": "stream",
     "text": [
      "44\n"
     ]
    },
    {
     "data": {
      "text/html": [
       "<img src=\"https://www.christies.com/img/LotImages/2006/NYR/2006_NYR_01724_0210_000().jpg\" width=\"250\" height=\"250\"/>"
      ],
      "text/plain": [
       "<IPython.core.display.Image object>"
      ]
     },
     "metadata": {},
     "output_type": "display_data"
    },
    {
     "name": "stdout",
     "output_type": "stream",
     "text": [
      "45\n"
     ]
    },
    {
     "data": {
      "text/html": [
       "<img src=\"https://www.christies.com/img/LotImages/2008/NYR/2008_NYR_01994_0008_000().jpg\" width=\"250\" height=\"250\"/>"
      ],
      "text/plain": [
       "<IPython.core.display.Image object>"
      ]
     },
     "metadata": {},
     "output_type": "display_data"
    },
    {
     "name": "stdout",
     "output_type": "stream",
     "text": [
      "46\n"
     ]
    },
    {
     "data": {
      "text/html": [
       "<img src=\"https://www.christies.com/img/LotImages/2008/CKS/2008_CKS_07601_0261_000().jpg\" width=\"250\" height=\"250\"/>"
      ],
      "text/plain": [
       "<IPython.core.display.Image object>"
      ]
     },
     "metadata": {},
     "output_type": "display_data"
    },
    {
     "name": "stdout",
     "output_type": "stream",
     "text": [
      "47\n"
     ]
    },
    {
     "data": {
      "text/html": [
       "<img src=\"https://www.christies.com/img/LotImages/2011/CKS/2011_CKS_07976_0326_000(pablo_picasso_scene_de_tauromachie).jpg\" width=\"250\" height=\"250\"/>"
      ],
      "text/plain": [
       "<IPython.core.display.Image object>"
      ]
     },
     "metadata": {},
     "output_type": "display_data"
    },
    {
     "name": "stdout",
     "output_type": "stream",
     "text": [
      "48\n"
     ]
    },
    {
     "data": {
      "text/html": [
       "<img src=\"https://www.christies.com/img/LotImages/2008/NYR/2008_NYR_01996_0160_000().jpg\" width=\"250\" height=\"250\"/>"
      ],
      "text/plain": [
       "<IPython.core.display.Image object>"
      ]
     },
     "metadata": {},
     "output_type": "display_data"
    },
    {
     "name": "stdout",
     "output_type": "stream",
     "text": [
      "49\n"
     ]
    },
    {
     "data": {
      "text/html": [
       "<img src=\"https://www.christies.com/img/LotImages/2007/NYR/2007_NYR_01902_0142_000().jpg\" width=\"250\" height=\"250\"/>"
      ],
      "text/plain": [
       "<IPython.core.display.Image object>"
      ]
     },
     "metadata": {},
     "output_type": "display_data"
    },
    {
     "name": "stdout",
     "output_type": "stream",
     "text": [
      "50\n"
     ]
    },
    {
     "data": {
      "text/html": [
       "<img src=\"https://www.christies.com/img/LotImages/2016/NYR/2016_NYR_12145_0001B_000(pablo_picasso_le_hibou).jpg\" width=\"250\" height=\"250\"/>"
      ],
      "text/plain": [
       "<IPython.core.display.Image object>"
      ]
     },
     "metadata": {},
     "output_type": "display_data"
    },
    {
     "name": "stdout",
     "output_type": "stream",
     "text": [
      "51\n"
     ]
    },
    {
     "data": {
      "text/html": [
       "<img src=\"https://www.christies.com/img/LotImages/2010/CSK/2010_CSK_05486_0148_000(pablo_picasso_fruits_de_provence).jpg\" width=\"250\" height=\"250\"/>"
      ],
      "text/plain": [
       "<IPython.core.display.Image object>"
      ]
     },
     "metadata": {},
     "output_type": "display_data"
    },
    {
     "name": "stdout",
     "output_type": "stream",
     "text": [
      "52\n"
     ]
    },
    {
     "data": {
      "text/html": [
       "<img src=\"https://www.christies.com/img/LotImages/2012/CKS/2012_CKS_05465_0051_000(pablo_picasso_nu_couche_et_homme_a_la_guitarre).jpg\" width=\"250\" height=\"250\"/>"
      ],
      "text/plain": [
       "<IPython.core.display.Image object>"
      ]
     },
     "metadata": {},
     "output_type": "display_data"
    },
    {
     "name": "stdout",
     "output_type": "stream",
     "text": [
      "53\n"
     ]
    },
    {
     "data": {
      "text/html": [
       "<img src=\"https://www.christies.com/img/LotImages/2011/CKS/2011_CKS_07976_0317_000(pablo_picasso_bouquet_a_la_pomme).jpg\" width=\"250\" height=\"250\"/>"
      ],
      "text/plain": [
       "<IPython.core.display.Image object>"
      ]
     },
     "metadata": {},
     "output_type": "display_data"
    },
    {
     "name": "stdout",
     "output_type": "stream",
     "text": [
      "54\n"
     ]
    },
    {
     "data": {
      "text/html": [
       "<img src=\"https://www.christies.com/img/LotImages/2008/CSK/2008_CSK_05394_0093_000().jpg\" width=\"250\" height=\"250\"/>"
      ],
      "text/plain": [
       "<IPython.core.display.Image object>"
      ]
     },
     "metadata": {},
     "output_type": "display_data"
    },
    {
     "name": "stdout",
     "output_type": "stream",
     "text": [
      "55\n"
     ]
    },
    {
     "data": {
      "text/html": [
       "<img src=\"https://www.christies.com/img/LotImages/2008/CSK/2008_CSK_05392_0383_000().jpg\" width=\"250\" height=\"250\"/>"
      ],
      "text/plain": [
       "<IPython.core.display.Image object>"
      ]
     },
     "metadata": {},
     "output_type": "display_data"
    },
    {
     "name": "stdout",
     "output_type": "stream",
     "text": [
      "56\n"
     ]
    },
    {
     "data": {
      "text/html": [
       "<img src=\"https://www.christies.com/img/LotImages/2006/CSK/2006_CSK_05008_0117_000().jpg\" width=\"250\" height=\"250\"/>"
      ],
      "text/plain": [
       "<IPython.core.display.Image object>"
      ]
     },
     "metadata": {},
     "output_type": "display_data"
    },
    {
     "name": "stdout",
     "output_type": "stream",
     "text": [
      "57\n"
     ]
    },
    {
     "data": {
      "text/html": [
       "<img src=\"https://www.christies.com/img/LotImages/2015/CKS/2015_CKS_10379_0191_000(pablo_picasso_etudes).jpg\" width=\"250\" height=\"250\"/>"
      ],
      "text/plain": [
       "<IPython.core.display.Image object>"
      ]
     },
     "metadata": {},
     "output_type": "display_data"
    },
    {
     "name": "stdout",
     "output_type": "stream",
     "text": [
      "58\n"
     ]
    },
    {
     "data": {
      "text/html": [
       "<img src=\"https://www.christies.com/img/LotImages/2011/NYR/2011_NYR_02478_0135_000(pablo_picasso_le_dejeuner).jpg\" width=\"250\" height=\"250\"/>"
      ],
      "text/plain": [
       "<IPython.core.display.Image object>"
      ]
     },
     "metadata": {},
     "output_type": "display_data"
    },
    {
     "name": "stdout",
     "output_type": "stream",
     "text": [
      "59\n"
     ]
    },
    {
     "data": {
      "text/html": [
       "<img src=\"https://www.christies.com/img/LotImages/2012/CKS/2012_CKS_05467_0112_000(pablo_picasso_nu_debout_et_deux_hommes).jpg\" width=\"250\" height=\"250\"/>"
      ],
      "text/plain": [
       "<IPython.core.display.Image object>"
      ]
     },
     "metadata": {},
     "output_type": "display_data"
    },
    {
     "name": "stdout",
     "output_type": "stream",
     "text": [
      "60\n"
     ]
    },
    {
     "data": {
      "text/html": [
       "<img src=\"https://www.christies.com/img/LotImages/2011/CKS/2011_CKS_07976_0313_000(pablo_picasso_visage_masque).jpg\" width=\"250\" height=\"250\"/>"
      ],
      "text/plain": [
       "<IPython.core.display.Image object>"
      ]
     },
     "metadata": {},
     "output_type": "display_data"
    },
    {
     "name": "stdout",
     "output_type": "stream",
     "text": [
      "61\n"
     ]
    },
    {
     "data": {
      "text/html": [
       "<img src=\"https://www.christies.com/img/LotImages/2006/CSK/2006_CSK_05008_0116_000().jpg\" width=\"250\" height=\"250\"/>"
      ],
      "text/plain": [
       "<IPython.core.display.Image object>"
      ]
     },
     "metadata": {},
     "output_type": "display_data"
    },
    {
     "name": "stdout",
     "output_type": "stream",
     "text": [
      "62\n"
     ]
    },
    {
     "data": {
      "text/html": [
       "<img src=\"https://www.christies.com/img/LotImages/2011/CKS/2011_CKS_07951_0008_000(pablo_picasso_verre_et_pipe).jpg\" width=\"250\" height=\"250\"/>"
      ],
      "text/plain": [
       "<IPython.core.display.Image object>"
      ]
     },
     "metadata": {},
     "output_type": "display_data"
    },
    {
     "name": "stdout",
     "output_type": "stream",
     "text": [
      "63\n"
     ]
    },
    {
     "data": {
      "text/html": [
       "<img src=\"https://www.christies.com/img/LotImages/2007/CKS/2007_CKS_07407_0134_000().jpg\" width=\"250\" height=\"250\"/>"
      ],
      "text/plain": [
       "<IPython.core.display.Image object>"
      ]
     },
     "metadata": {},
     "output_type": "display_data"
    },
    {
     "name": "stdout",
     "output_type": "stream",
     "text": [
      "64\n"
     ]
    },
    {
     "data": {
      "text/html": [
       "<img src=\"https://www.christies.com/img/LotImages/2017/CKS/2017_CKS_14239_0001_000(pablo_picasso_les_gateaux).jpg\" width=\"250\" height=\"250\"/>"
      ],
      "text/plain": [
       "<IPython.core.display.Image object>"
      ]
     },
     "metadata": {},
     "output_type": "display_data"
    },
    {
     "name": "stdout",
     "output_type": "stream",
     "text": [
      "65\n"
     ]
    },
    {
     "data": {
      "text/html": [
       "<img src=\"https://www.christies.com/img/LotImages/2017/CKS/2017_CKS_14240_0218_000(edouard_vuillard_la_plage_vue_de_la_cabine).jpg\" width=\"250\" height=\"250\"/>"
      ],
      "text/plain": [
       "<IPython.core.display.Image object>"
      ]
     },
     "metadata": {},
     "output_type": "display_data"
    },
    {
     "name": "stdout",
     "output_type": "stream",
     "text": [
      "66\n"
     ]
    },
    {
     "data": {
      "text/html": [
       "<img src=\"https://www.christies.com/img/LotImages/2007/CSK/2007_CSK_05224_0519_000().jpg\" width=\"250\" height=\"250\"/>"
      ],
      "text/plain": [
       "<IPython.core.display.Image object>"
      ]
     },
     "metadata": {},
     "output_type": "display_data"
    },
    {
     "name": "stdout",
     "output_type": "stream",
     "text": [
      "67\n"
     ]
    },
    {
     "data": {
      "text/html": [
       "<img src=\"https://www.christies.com/img/LotImages/2007/CSK/2007_CSK_05224_0516_000().jpg\" width=\"250\" height=\"250\"/>"
      ],
      "text/plain": [
       "<IPython.core.display.Image object>"
      ]
     },
     "metadata": {},
     "output_type": "display_data"
    },
    {
     "name": "stdout",
     "output_type": "stream",
     "text": [
      "68\n"
     ]
    },
    {
     "data": {
      "text/html": [
       "<img src=\"https://www.christies.com/img/LotImages/2013/CKS/2013_CKS_01132_0144_000(pablo_picasso_nu_couche).jpg\" width=\"250\" height=\"250\"/>"
      ],
      "text/plain": [
       "<IPython.core.display.Image object>"
      ]
     },
     "metadata": {},
     "output_type": "display_data"
    },
    {
     "name": "stdout",
     "output_type": "stream",
     "text": [
      "69\n"
     ]
    },
    {
     "data": {
      "text/html": [
       "<img src=\"https://www.christies.com/img/LotImages/2015/NYR/2015_NYR_03785_1341_000(pablo_picasso_femme_debout).jpg\" width=\"250\" height=\"250\"/>"
      ],
      "text/plain": [
       "<IPython.core.display.Image object>"
      ]
     },
     "metadata": {},
     "output_type": "display_data"
    },
    {
     "name": "stdout",
     "output_type": "stream",
     "text": [
      "70\n"
     ]
    },
    {
     "data": {
      "text/html": [
       "<img src=\"https://www.christies.com/img/LotImages/2013/CSK/2013_CSK_08257_0209_000(pablo_picasso_visage_no_130).jpg\" width=\"250\" height=\"250\"/>"
      ],
      "text/plain": [
       "<IPython.core.display.Image object>"
      ]
     },
     "metadata": {},
     "output_type": "display_data"
    },
    {
     "name": "stdout",
     "output_type": "stream",
     "text": [
      "71\n"
     ]
    },
    {
     "data": {
      "text/html": [
       "<img src=\"https://www.christies.com/img/LotImages/2006/NYR/2006_NYR_01724_0175_000().jpg\" width=\"250\" height=\"250\"/>"
      ],
      "text/plain": [
       "<IPython.core.display.Image object>"
      ]
     },
     "metadata": {},
     "output_type": "display_data"
    },
    {
     "name": "stdout",
     "output_type": "stream",
     "text": [
      "72\n"
     ]
    },
    {
     "data": {
      "text/html": [
       "<img src=\"https://www.christies.com/img/LotImages/2006/NYR/2006_NYR_01698_0088_000().jpg\" width=\"250\" height=\"250\"/>"
      ],
      "text/plain": [
       "<IPython.core.display.Image object>"
      ]
     },
     "metadata": {},
     "output_type": "display_data"
    },
    {
     "name": "stdout",
     "output_type": "stream",
     "text": [
      "73\n"
     ]
    },
    {
     "data": {
      "text/html": [
       "<img src=\"https://www.christies.com/img/LotImages/2011/CKS/2011_CKS_07976_0309_000(pablo_picasso_sujet_poule).jpg\" width=\"250\" height=\"250\"/>"
      ],
      "text/plain": [
       "<IPython.core.display.Image object>"
      ]
     },
     "metadata": {},
     "output_type": "display_data"
    },
    {
     "name": "stdout",
     "output_type": "stream",
     "text": [
      "74\n"
     ]
    },
    {
     "data": {
      "text/html": [
       "<img src=\"https://www.christies.com/img/LotImages/2011/CKS/2011_CKS_07976_0328_000(pablo_picasso_visage).jpg\" width=\"250\" height=\"250\"/>"
      ],
      "text/plain": [
       "<IPython.core.display.Image object>"
      ]
     },
     "metadata": {},
     "output_type": "display_data"
    },
    {
     "name": "stdout",
     "output_type": "stream",
     "text": [
      "75\n"
     ]
    },
    {
     "data": {
      "text/html": [
       "<img src=\"https://www.christies.com/img/LotImages/2007/NYR/2007_NYR_01831_0055_000().jpg\" width=\"250\" height=\"250\"/>"
      ],
      "text/plain": [
       "<IPython.core.display.Image object>"
      ]
     },
     "metadata": {},
     "output_type": "display_data"
    },
    {
     "name": "stdout",
     "output_type": "stream",
     "text": [
      "76\n"
     ]
    },
    {
     "data": {
      "text/html": [
       "<img src=\"https://www.christies.com/img/LotImages/2016/NYR/2016_NYR_12145_0003B_000(pablo_picasso_portrait_de_renart).jpg\" width=\"250\" height=\"250\"/>"
      ],
      "text/plain": [
       "<IPython.core.display.Image object>"
      ]
     },
     "metadata": {},
     "output_type": "display_data"
    },
    {
     "name": "stdout",
     "output_type": "stream",
     "text": [
      "77\n"
     ]
    },
    {
     "data": {
      "text/html": [
       "<img src=\"https://www.christies.com/img/LotImages/2017/NYR/2017_NYR_14185_0116_000(pablo_picasso_nu_debout).jpg\" width=\"250\" height=\"250\"/>"
      ],
      "text/plain": [
       "<IPython.core.display.Image object>"
      ]
     },
     "metadata": {},
     "output_type": "display_data"
    },
    {
     "name": "stdout",
     "output_type": "stream",
     "text": [
      "78\n"
     ]
    },
    {
     "data": {
      "text/html": [
       "<img src=\"https://www.christies.com/img/LotImages/2011/CKS/2011_CKS_07976_0308_000(pablo_picasso_figure_de_proue).jpg\" width=\"250\" height=\"250\"/>"
      ],
      "text/plain": [
       "<IPython.core.display.Image object>"
      ]
     },
     "metadata": {},
     "output_type": "display_data"
    },
    {
     "name": "stdout",
     "output_type": "stream",
     "text": [
      "79\n"
     ]
    },
    {
     "data": {
      "text/html": [
       "<img src=\"https://www.christies.com/img/LotImages/2017/NYR/2017_NYR_15004_0056A_000(pablo_picasso_figure).jpg\" width=\"250\" height=\"250\"/>"
      ],
      "text/plain": [
       "<IPython.core.display.Image object>"
      ]
     },
     "metadata": {},
     "output_type": "display_data"
    },
    {
     "name": "stdout",
     "output_type": "stream",
     "text": [
      "80\n"
     ]
    },
    {
     "data": {
      "text/html": [
       "<img src=\"https://www.christies.com/img/LotImages/2010/CSK/2010_CSK_05486_0170_000(pablo_picasso_corrida).jpg\" width=\"250\" height=\"250\"/>"
      ],
      "text/plain": [
       "<IPython.core.display.Image object>"
      ]
     },
     "metadata": {},
     "output_type": "display_data"
    },
    {
     "name": "stdout",
     "output_type": "stream",
     "text": [
      "81\n"
     ]
    },
    {
     "data": {
      "text/html": [
       "<img src=\"https://www.christies.com/img/LotImages/2017/CKS/2017_CKS_14240_0132_000(pablo_picasso_le_peintre_et_son_modele).jpg\" width=\"250\" height=\"250\"/>"
      ],
      "text/plain": [
       "<IPython.core.display.Image object>"
      ]
     },
     "metadata": {},
     "output_type": "display_data"
    },
    {
     "name": "stdout",
     "output_type": "stream",
     "text": [
      "82\n"
     ]
    },
    {
     "data": {
      "text/html": [
       "<img src=\"https://www.christies.com/img/LotImages/2014/CSK/2014_CSK_05313_0061_000(pablo_picasso_jaime_sabartes_a_los_toros_andre_sauret_editeur_monte_ca).jpg\" width=\"250\" height=\"250\"/>"
      ],
      "text/plain": [
       "<IPython.core.display.Image object>"
      ]
     },
     "metadata": {},
     "output_type": "display_data"
    },
    {
     "name": "stdout",
     "output_type": "stream",
     "text": [
      "83\n"
     ]
    },
    {
     "data": {
      "text/html": [
       "<img src=\"https://www.christies.com/img/LotImages/2011/NYR/2011_NYR_02479_0349_000(pablo_picasso_tete_de_faune).jpg\" width=\"250\" height=\"250\"/>"
      ],
      "text/plain": [
       "<IPython.core.display.Image object>"
      ]
     },
     "metadata": {},
     "output_type": "display_data"
    },
    {
     "name": "stdout",
     "output_type": "stream",
     "text": [
      "84\n"
     ]
    },
    {
     "data": {
      "text/html": [
       "<img src=\"https://www.christies.com/img/LotImages/2011/NYR/2011_NYR_02437_0026_000(pablo_picasso_femme_assise_au_chapeau).jpg\" width=\"250\" height=\"250\"/>"
      ],
      "text/plain": [
       "<IPython.core.display.Image object>"
      ]
     },
     "metadata": {},
     "output_type": "display_data"
    },
    {
     "name": "stdout",
     "output_type": "stream",
     "text": [
      "85\n"
     ]
    },
    {
     "data": {
      "text/html": [
       "<img src=\"https://www.christies.com/img/LotImages/2012/CSK/2012_CSK_04420_0134_000(pablo_picasso_pichet_aux_oiseaux).jpg\" width=\"250\" height=\"250\"/>"
      ],
      "text/plain": [
       "<IPython.core.display.Image object>"
      ]
     },
     "metadata": {},
     "output_type": "display_data"
    },
    {
     "name": "stdout",
     "output_type": "stream",
     "text": [
      "86\n"
     ]
    },
    {
     "data": {
      "text/html": [
       "<img src=\"https://www.christies.com/img/LotImages/2007/NYR/2007_NYR_01874_0112_000().jpg\" width=\"250\" height=\"250\"/>"
      ],
      "text/plain": [
       "<IPython.core.display.Image object>"
      ]
     },
     "metadata": {},
     "output_type": "display_data"
    },
    {
     "name": "stdout",
     "output_type": "stream",
     "text": [
      "87\n"
     ]
    },
    {
     "data": {
      "text/html": [
       "<img src=\"https://www.christies.com/img/LotImages/2010/CSK/2010_CSK_05486_0128_000(pablo_picasso_vallauris).jpg\" width=\"250\" height=\"250\"/>"
      ],
      "text/plain": [
       "<IPython.core.display.Image object>"
      ]
     },
     "metadata": {},
     "output_type": "display_data"
    },
    {
     "name": "stdout",
     "output_type": "stream",
     "text": [
      "88\n"
     ]
    },
    {
     "data": {
      "text/html": [
       "<img src=\"https://www.christies.com/img/LotImages/2013/CSK/2013_CSK_08257_0245_000(pablo_picasso_visage_aux_cercles).jpg\" width=\"250\" height=\"250\"/>"
      ],
      "text/plain": [
       "<IPython.core.display.Image object>"
      ]
     },
     "metadata": {},
     "output_type": "display_data"
    },
    {
     "name": "stdout",
     "output_type": "stream",
     "text": [
      "89\n"
     ]
    },
    {
     "data": {
      "text/html": [
       "<img src=\"https://www.christies.com/img/LotImages/2016/NYR/2016_NYR_12069_0018C_000(pablo_picasso_la_minotauromachie).jpg\" width=\"250\" height=\"250\"/>"
      ],
      "text/plain": [
       "<IPython.core.display.Image object>"
      ]
     },
     "metadata": {},
     "output_type": "display_data"
    },
    {
     "name": "stdout",
     "output_type": "stream",
     "text": [
      "90\n"
     ]
    },
    {
     "data": {
      "text/html": [
       "<img src=\"https://www.christies.com/img/LotImages/2007/CKS/2007_CKS_07407_0213_000().jpg\" width=\"250\" height=\"250\"/>"
      ],
      "text/plain": [
       "<IPython.core.display.Image object>"
      ]
     },
     "metadata": {},
     "output_type": "display_data"
    },
    {
     "name": "stdout",
     "output_type": "stream",
     "text": [
      "91\n"
     ]
    },
    {
     "data": {
      "text/html": [
       "<img src=\"https://www.christies.com/img/LotImages/2014/CSK/2014_CSK_05313_0067_000(pablo_picasso_homme_rembranesque_assis_chez_les_filles_from_series_347).jpg\" width=\"250\" height=\"250\"/>"
      ],
      "text/plain": [
       "<IPython.core.display.Image object>"
      ]
     },
     "metadata": {},
     "output_type": "display_data"
    },
    {
     "name": "stdout",
     "output_type": "stream",
     "text": [
      "92\n"
     ]
    },
    {
     "data": {
      "text/html": [
       "<img src=\"https://www.christies.com/img/LotImages/2006/NYR/2006_NYR_01724_0116_000().jpg\" width=\"250\" height=\"250\"/>"
      ],
      "text/plain": [
       "<IPython.core.display.Image object>"
      ]
     },
     "metadata": {},
     "output_type": "display_data"
    },
    {
     "name": "stdout",
     "output_type": "stream",
     "text": [
      "93\n"
     ]
    },
    {
     "data": {
      "text/html": [
       "<img src=\"https://www.christies.com/img/LotImages/2011/CKS/2011_CKS_07976_0302_000(pablo_picasso_picador).jpg\" width=\"250\" height=\"250\"/>"
      ],
      "text/plain": [
       "<IPython.core.display.Image object>"
      ]
     },
     "metadata": {},
     "output_type": "display_data"
    },
    {
     "name": "stdout",
     "output_type": "stream",
     "text": [
      "94\n"
     ]
    },
    {
     "data": {
      "text/html": [
       "<img src=\"https://www.christies.com/img/LotImages/2013/CSK/2013_CSK_08257_0255_000(pablo_picasso_cavalier_et_cheval).jpg\" width=\"250\" height=\"250\"/>"
      ],
      "text/plain": [
       "<IPython.core.display.Image object>"
      ]
     },
     "metadata": {},
     "output_type": "display_data"
    },
    {
     "name": "stdout",
     "output_type": "stream",
     "text": [
      "95\n"
     ]
    },
    {
     "data": {
      "text/html": [
       "<img src=\"https://www.christies.com/img/LotImages/2008/NYR/2008_NYR_01996_0128_000().jpg\" width=\"250\" height=\"250\"/>"
      ],
      "text/plain": [
       "<IPython.core.display.Image object>"
      ]
     },
     "metadata": {},
     "output_type": "display_data"
    },
    {
     "name": "stdout",
     "output_type": "stream",
     "text": [
      "96\n"
     ]
    },
    {
     "data": {
      "text/html": [
       "<img src=\"https://www.christies.com/img/LotImages/2008/CKS/2008_CKS_07562_0042_000().jpg\" width=\"250\" height=\"250\"/>"
      ],
      "text/plain": [
       "<IPython.core.display.Image object>"
      ]
     },
     "metadata": {},
     "output_type": "display_data"
    },
    {
     "name": "stdout",
     "output_type": "stream",
     "text": [
      "97\n"
     ]
    },
    {
     "data": {
      "text/html": [
       "<img src=\"https://www.christies.com/img/LotImages/2014/CKS/2014_CKS_01508_0218_000(pablo_picasso_femme_accoudee).jpg\" width=\"250\" height=\"250\"/>"
      ],
      "text/plain": [
       "<IPython.core.display.Image object>"
      ]
     },
     "metadata": {},
     "output_type": "display_data"
    },
    {
     "name": "stdout",
     "output_type": "stream",
     "text": [
      "98\n"
     ]
    },
    {
     "data": {
      "text/html": [
       "<img src=\"https://www.christies.com/img/LotImages/2012/CSK/2012_CSK_04420_0109_000(pablo_picasso_visage_no_197).jpg\" width=\"250\" height=\"250\"/>"
      ],
      "text/plain": [
       "<IPython.core.display.Image object>"
      ]
     },
     "metadata": {},
     "output_type": "display_data"
    },
    {
     "name": "stdout",
     "output_type": "stream",
     "text": [
      "99\n"
     ]
    },
    {
     "data": {
      "text/html": [
       "<img src=\"https://www.christies.com/img/LotImages/2016/NYR/2016_NYR_12146_1008_000(pablo_picasso_visite_a_latelier).jpg\" width=\"250\" height=\"250\"/>"
      ],
      "text/plain": [
       "<IPython.core.display.Image object>"
      ]
     },
     "metadata": {},
     "output_type": "display_data"
    }
   ],
   "source": [
    "utils.view_images_from_url(df, url_col, subsample=False)"
   ]
  },
  {
   "cell_type": "markdown",
   "metadata": {},
   "source": [
    "## Manual Assesment\n",
    "\n",
    "Accuracy: 0.73\n",
    "\n",
    "Drawings are mislabed as installations (likely due to the long list of items logic)\n",
    "The oval style dishes and the vase looking sculptures are somethings not classified as sculpture/decorative object\n",
    "There's an edge case where a painted wooden sculpture was classified as a painting.\n",
    "\n",
    "Feedback:\n",
    "* Need to add 'plate', 'plaque', 'pitcher' as decorative object\n",
    "* Need to add 'bronze',  'patina', 'earthenware' for sculpture\n",
    "* Need to add 'Height' for 3D\n"
   ]
  },
  {
   "cell_type": "code",
   "execution_count": 46,
   "metadata": {},
   "outputs": [
    {
     "name": "stdout",
     "output_type": "stream",
     "text": [
      "0\n",
      "[\"signed Picasso (upper right) \\r\",\"pen, brush and brown ink on paper \\r\",\"7 3/8 x 3\\u00bd in. (18.7 x 8.9 cm.) \",\"\"]\n",
      "\n",
      "\n",
      "1\n",
      "[\"stamped Madoura Plein Feu/Empreinte Originale de Picasso (underneath) \\r\",\"partially glazed ceramic plate \\r\",\"Length: 20 in. (51 cm.) \\r\",\"Conceived on 5 June 1952 and executed in an edition of 250 \"]\n",
      "\n",
      "\n",
      "2\n",
      "[\"signed Picasso (lower left); dated 3.7.69 (upper left) \\r\",\"oil on corrugated cardboard \\r\",\"27\\u00be x 19\\u00bd in. (70.5 x 49.5 cm.) \\r\",\"Painted on 3 July 1969 \"]\n",
      "\n",
      "\n",
      "3\n",
      "[\"with the signature Picasso (lower left) and dated 20.9.72 (upper left; recto); dated 21.9.72. 22.24.24 (lower left; verso)\\r\",\"felt-tip pen on paper (recto); watercolour, wash and brush and India ink on paper (verso)\\r\",\"23\\u00bd x 31\\u00bd in. (59.7 x 79.7 cm.) \\r\",\"Executed between the 20 and 21 September 1972 \"]\n",
      "\n",
      "\n",
      "4\n",
      "[\"dated and numbered 8.11.71.IX (upper left) \\r\",\"black Cont\\u00e9 crayon, colored felt-tip pens and brush and gray wash on paper\\r\",\"12 1/8 x 9 5/8 in. (31 x 24.4 cm.) \\r\",\"Executed on 8 November 1971 \"]\n",
      "\n",
      "\n",
      "5\n",
      "[\"stamped and marked Edition Picasso/Madoura Plein Feu/Edition Picasso (underneath)\\r\",\"partially glazed ceramic vase \\r\",\"11in. (27.9cm.) high \\r\",\"Conceived in 1951 and executed in an edition of 500 \"]\n",
      "\n",
      "\n",
      "6\n",
      "[\"stamped, marked and numbered Madoura Plein Feu/Edition Picasso/I110/115/200 (underneath)\\r\",\"fully glazed ceramic plate \\r\",\"15 3/8 in. (39 cm.) \\r\",\"Conceived in 1947 and executed in an edition of 200 \"]\n",
      "\n",
      "\n",
      "7\n",
      "[\"stamped and marked MADOURA PLEIN FEU/EMPREINTE DE PICASSO 1, inscribed and dated Vallauris MAI 50 (inside the rim)\\r\",\"partially glazed terracotta vase with white engobe \\r\",\"Height: 25\\u00bc in. (64.1 cm.) \\r\",\"Executed in May 1950; this is the unique prototype for the edition of 25 \"]\n",
      "\n",
      "\n",
      "8\n",
      "[\"signed Picasso (lower right); inscribed El de Sol (upper edge) \\r\",\"brush and ink on the back of an advertising card \\r\",\"5\\u00bc x 3\\u00bd in. (13.3 x 9 cm.) \\r\",\"Executed in Barcelona circa 1901 \"]\n",
      "\n",
      "\n",
      "9\n",
      "[\"signed Picasso (lower right); dated 31.5.65. (on the reverse) \\r\",\"oil on canvas \\r\",\"36\\u00bc x 28\\u00be in. (92.2 x 73.2 cm.) \\r\",\"Painted 31 May 1965 \"]\n",
      "\n",
      "\n",
      "10\n",
      "[\"signed and dated Picasso 18.3.59 (upper left); dated 18.3.59 (on the reverse)\\r\",\"oil on canvas \\r\",\"76\\u00be x 55 in. (195 x 139.8 cm.) \\r\",\"Painted in March 1959 \"]\n",
      "\n",
      "\n",
      "11\n",
      "[\"signed and dated Picasso 29 (lower left) \\r\",\"oil on canvas \\r\",\"28\\u00be x 23 5/8 in. (73 x 60 cm.) \\r\",\"Painted in March 1929 \"]\n",
      "\n",
      "\n",
      "12\n",
      "[\"stamped with signature and the silversmiths mark of Fran\\u00e7ois and Pierre Hugo and numbered Picasso 15/20 (on the reverse)\\r\",\"silver repouss\\u00e9 \\r\",\"Diameter: 16\\u00bd in. (41.9 cm.) \\r\",\"Conceived in 1956 \"]\n",
      "\n",
      "\n",
      "13\n",
      "[\"stamped and marked Madoura Plein Feu/Empreinte Originale de Picasso/Exemplaire Editeur (on reverse)\\r\",\"partially glazed terracotta plaque \\r\",\"20 x 24\\u00bc in. (51 x 61.5 cm.) \\r\",\"Conceived in 1964 and executed in an edition of 50 \"]\n",
      "\n",
      "\n",
      "14\n",
      "[\"stamped Madoura Plein Feu/Empreinte Originale de Picasso (underneath) \\r\",\"partially glazed ceramic plate \\r\",\"10in. (25.5cm.) diameter \\r\",\"Conceived in 1956 and executed in an edition of 450 \"]\n",
      "\n",
      "\n",
      "15\n",
      "nan\n",
      "\n",
      "\n",
      "16\n",
      "[\"dated 28.1.51. (lower right) \\r\",\"pen and India ink and wash on paper \\r\",\"8\\u00bc x 10 5/8 in. (21 x 27 cm.) \\r\",\"Executed on 28 January 1951 \"]\n",
      "\n",
      "\n",
      "17\n",
      "[\"dated and numbered 19.1.72. III (on the reverse)\\r\",\"oil on canvas\\r\",\"36\\u00bc x 28\\u00be in. (92 x 73 cm.)\\r\",\"Painted in 1972\"]\n",
      "\n",
      "\n",
      "18\n",
      "[\"signed and dated Picasso vendredi 8.10.71 (upper left); dated again Vendredi 8.10.71. (on the reverse)\\r\",\"pencil on board \\r\",\"8 3/8 x 12\\u00bc in. (21.2 x 31.1 cm.) \\r\",\"Drawn on 8 October 1971 \"]\n",
      "\n",
      "\n",
      "19\n",
      "[\"signed Picasso (lower right); numbered and dated 18.1.69. II (upper right)\\r\",\"pencil on paper \\r\",\"23 1/8 x 31\\u00bc in. (58.6 x 79.6 cm.) \\r\",\"Executed in 1969. \"]\n",
      "\n",
      "\n",
      "20\n",
      "[\"stamped, marked and numbered Madoura Plein Feu/Empreinte Originale de Picasso/J 119/39/100 (on the reverse)\\r\",\"partially glazed terrcotta plaque \\r\",\"12 3/8 x 12 3/8 (31.4 x 31.4cm.) \\r\",\"Concieved between December 1968 and January 1969 and executed in an edition of 100 \"]\n",
      "\n",
      "\n",
      "21\n",
      "[\"stamped and numbered Madoura Plein Feu/Edition Picasso/40/200 (underneath)\\r\",\"glazed ceramic plate \\r\",\"Length: 15 in. (38 cm.) \\r\",\"Conceived in 1947 and executed in an edition of 200 \"]\n",
      "\n",
      "\n",
      "22\n",
      "[\"signed and dated Picasso 26 (upper left) \\r\",\"pen and India ink on paper \\r\",\"16 x 20 1/8 in. (40.7 x 51.1 cm.) \\r\",\"Executed in 1926 \"]\n",
      "\n",
      "\n",
      "23\n",
      "[\"numbered 10/10 (on the back) \\r\",\"bronze with brown patina \\r\",\"Height: 5 in. (12.6 cm.) \\r\",\"Conceived in 1945; this bronze version cast by Valsuani by 1958 \"]\n",
      "\n",
      "\n",
      "24\n",
      "[\"dated 28.1.51. and stamped MADOURA PLEIN FEU (on the underside)\\r\",\"partially glazed terracotta plate\\r\",\"Diameter: 8 \\u00bc in. (21 cm.)\\r\",\"Executed on 28 January 1951; unique\"]\n",
      "\n",
      "\n",
      "25\n",
      "[\"signed with the initials P.R.P (recto; lower right) \\r\",\"charcoal on paper (recto; verso) \\r\",\"12 3/8 x 9 3/8 in. (31.5 x 23.8 cm.) \\r\",\"Executed circa 1898 \"]\n",
      "\n",
      "\n",
      "26\n",
      "[\"stamped, marked and numbered Edition Originale de Picasso/Madoura Plein Feu/C 114/9/100 (underneath)\\r\",\"glazed ceramic plate \\r\",\"16\\u00bein. (43.5cm.) diameter \\r\",\"Conceived in 1956 and executed in an edition of 100 \"]\n",
      "\n",
      "\n",
      "27\n",
      "[\"stamped and marked Edition Picasso/Madoura Plein Feu/Edition Picasso (underneath)\\r\",\"partially glazed ceramic jug \\r\",\"5 1/8in. (23cm.) high \\r\",\"Conceived in 1953 and executed in an edition of 500 \"]\n",
      "\n",
      "\n",
      "28\n",
      "[\"stamped and numbered 57/200/Madoura Plein Feu/Empreinte Originale de Picasso (underneath)\\r\",\"partially glazed ceramic plate \\r\",\"16\\u00bdin. (41.3cm.) diameter \\r\",\"Conceived in 1956 and executed in an edition of 200 \"]\n",
      "\n",
      "\n",
      "29\n",
      "[\"signed Picasso (upper right) \\r\",\"pastel on paper \\r\",\"24 7/8 x 18 7/8 in. (63.3 x 48 cm.) \\r\",\"Executed in 1921 \"]\n",
      "\n",
      "\n",
      "30\n",
      "[\"stamped Madoura Plein Feu/Empreinte Originale de Picasso (underneath) \\r\",\"partially glazed ceramic plate \\r\",\"21 in. (53.5 cm.) diameter \\r\",\"Conceived on 5 June 1952 and executed in an edition of 250 \"]\n",
      "\n",
      "\n",
      "31\n",
      "[\"signed and dated Picasso 6.2.68. (upper left) \\r\",\"oil on panel \\r\",\"51 5/8 x 38\\u00bd in. (131 x 97.7 cm.) \\r\",\"Painted 6 February 1968 \"]\n",
      "\n",
      "\n",
      "32\n",
      "[\"stamped and numbered Edition Originale de Picasso/Madoura Plein Feu/56/250 (underneath)\\r\",\"partially glazed ceramic plate \\r\",\"11\\u00bein. (30cm.) diameter \\r\",\"Concieved in 1953 and executed in an edition of 250 \"]\n",
      "\n",
      "\n",
      "33\n",
      "[\"dated 25.6.71. (lower right) \\r\",\"oil on canvas. \\r\",\"51\\u00bc x 38 3/8 in. (130.1 x 97.5 cm.) \\r\",\"Painted in June 1971 \"]\n",
      "\n",
      "\n",
      "34\n",
      "[\"stamped with the signature and numbered Picasso 14/20 (on the reverse); stamped with the silversmiths mark of Fran\\u00e7ois and Pierre Hugo (along the edge)\\r\",\"silver plate with wooden presentation box \\r\",\"Diameter: 17 in. (43.1 cm.) \\r\",\"Conceived in 1956 and executed in silver in an edition of 20 plus two artists proofs \"]\n",
      "\n",
      "\n",
      "35\n",
      "[\"signed and dated Picasso 1904 (lower centre) \\r\",\"brush and brown ink on paper \\r\",\"5\\u00be x 5\\u00bc in. (14.6 x 13.5 cm.) \\r\",\"Executed in 1904 \"]\n",
      "\n",
      "\n",
      "36\n",
      "[\"signed Picasso (lower right); dated and numbered 10.12.69 II (on the reverse)\\r\",\"20l on canvas \\r\",\"51 1/8 x 37\\u00be in. (130 x 96 cm.) \\r\",\"Painted in Mougins on 10 December 1969 \"]\n",
      "\n",
      "\n",
      "37\n",
      "[\"stamped Madoura Plein Feu/Empreinte Originale de Picasso (on the reverse)\\r\",\"partially glazed ceramic plaque \\r\",\"Diameter: 7 in. (18.4 cm.) \\r\",\"Conceived in 1956 and executed in an edition of 500 \"]\n",
      "\n",
      "\n",
      "38\n",
      "[\"signed and dated Picasso 8D.36 (lower right); dated again indistinctly 8 D.XXXVI (on the stretcher)\\r\",\"oil on canvas \\r\",\"19\\u00be x 24 in. (50 x 61 cm.) \\r\",\"Painted in December 1936 \"]\n",
      "\n",
      "\n",
      "39\n",
      "[\"watercolour on invitation card\\r\",\"5\\u00bd x 4\\u00bc in (14 x 10.8 cm.) \\r\",\"Executed circa 1927-1935 on the reverse of an invitation to the presentation of the Spring collection of HEIM Jeune filles, addressed to Mlle. Walter, presumably Marie-Th\\u00e9r\\u00e8se Walter, the artists muse. \",\"\"]\n",
      "\n",
      "\n",
      "40\n",
      "[\"stamped and marked Edition Picasso/Madoura Plein Feu/Edition Picasso (underneath)\\r\",\"partially glazed ceramic plate \\r\",\"7\\u00bdin. (19cm.) diameter \\r\",\"Conceived in 1952 and executed in an edition of 500 \"]\n",
      "\n",
      "\n",
      "41\n",
      "[\"dated 4 D 37 (upper right) \\r\",\"oil on canvas \\r\",\"24 1/8 x 18 1/8 in. (61.1 x 46 cm.) \\r\",\"Painted on 4 December 1937 \"]\n",
      "\n",
      "\n",
      "42\n",
      "[\"stamped Madoura Plein Feu (underneath) \\r\",\"fully glazed ceramic plate \\r\",\"Length: 14 7/8 in. (37.9 cm.) \\r\",\"Executed in 1947; this work is unique \"]\n",
      "\n",
      "\n",
      "43\n",
      "[\"stamped and marked Edition Picasso/Edition Picasso/Madoura Plein Feu (underneath)\\r\",\"ceramic ashtray \\r\",\"6in. (15.2cm.) diameter \\r\",\"Conceived in 1952 and executed in an edition of 500 \"]\n",
      "\n",
      "\n",
      "44\n",
      "[\"dated and numbered 17.1.64 VIII (upper center) \\r\",\"colored wax crayons on paper \\r\",\"5\\u00bc x 8\\u00bc in. (13.3 x 21 cm.) \\r\",\"Drawn on 17 January 1964 \"]\n",
      "\n",
      "\n",
      "45\n",
      "[\"signed Picasso (lower right) \\r\",\"oil on canvas \\r\",\"36 1/8 x 28 5/8 in. (91.7 x 72.7 cm.) \\r\",\"Painted in April 1954 \"]\n",
      "\n",
      "\n",
      "46\n",
      "[\"signed, dated and inscribed Picasso Para ... Luis Miguel el 17.9.59. (lower centre)\\r\",\"lithograph in grey, brown and black on paper \\r\",\"25 3/8 x 20\\u00bc in. (64.6 x 51.5 cm.) \\r\",\"Executed in 1956; a proof aside from the edition of one hundred before letters \"]\n",
      "\n",
      "\n",
      "47\n",
      "[\"stamped Madoura Plein Feu (underneath) \\r\",\"fully glazed ceramic plate \\r\",\"Length: 14 5/8 in. (37.1 cm.) \\r\",\"Executed in 1947; this work is unique \"]\n",
      "\n",
      "\n",
      "48\n",
      "[\"dated and numbered 15.4.70. II (center right) \\r\",\"pen and India ink on paper \\r\",\"12\\u00bd x 19\\u00bc in. (31.8 x 49 cm.) \\r\",\"Drawn on 15 April 1970 \"]\n",
      "\n",
      "\n",
      "49\n",
      "[\"signed Picasso (lower left) \\r\",\"pen and ink on paper laid down on board \\r\",\"7\\u00be x 10\\u00be in. (19.7 x 27.3 cm.) \\r\",\"Drawn circa 1900-1905 \"]\n",
      "\n",
      "\n",
      "50\n",
      "[\"signed and dated Picasso 22.2.53. (on the front of the base); signed and dated again Picasso 22.2.53. (on the underside)\\r\",\"earthenware painted by the artist\\r\",\"Height: 13 \\u00bc in. (33.6 cm.)\\r\",\"Length: 13 \\u00bd in. (34.3 cm.)\\r\"]\n",
      "\n",
      "\n",
      "51\n",
      "[\"stamped and marked Madoura Plein Feu/CRP/G (underneath) \\r\",\"glazed ceramic plate \\r\",\"8\\u00bcin. (21cm.) square \\r\",\"Conceived in 1948 and executed in an edition of 100 \"]\n",
      "\n",
      "\n",
      "52\n",
      "[\"dated 11.4.72. (on the reverse) \\r\",\"oil on canvas \\r\",\"31 7/8 x 39 3/8 in. (81 x 100 cm.) \\r\",\"Painted in April 1972 \"]\n",
      "\n",
      "\n",
      "53\n",
      "[\"dated 22.1.56 (lower centre); stamped Empreinte Originale de Picasso (underneath)\\r\",\"partially glazed ceramic plate \\r\",\"Diameter: 10 1/8 in. (25.6 cm.) \\r\",\"Conceived on 22 January 1956 and executed in an edition of 400 \"]\n",
      "\n",
      "\n",
      "54\n",
      "[\"marked and numbered N.45 Edition Picasso/112/150/Madoura (underneath) \\r\",\"partially glazed ceramic plate \\r\",\"10in. (25.5cm.) diameter \\r\",\"Conceived in 1963 and executed in an edition of 150 \"]\n",
      "\n",
      "\n",
      "55\n",
      "[\"stamped, marked and numbered Madoura Plein Feu/Empreinte Originale de Picasso/T103/82/100 (underneath)\\r\",\"unglazed ceramic plate \\r\",\"10\\u00bein. (27.3cm.) diameter \\r\",\"Conceived on 20 August 1963 and executed in an edition of 100\"]\n",
      "\n",
      "\n",
      "56\n",
      "[\"stamped, marked and numbered Edition Picasso/n.00/Edition Picasso/Madoura Plein Feu (underneath)\\r\",\"ceramic jug \\r\",\"11in. (28cm.) high \\r\",\"Conceived on 10 April 1953 and executed in an edition of 100\"]\n",
      "\n",
      "\n",
      "57\n",
      "[\"dated 5 janvier 46 (lower right) and again 5.I.46 (within the composition); inscribed 11HS-10 ce soir (lower left)\\r\",\"pen and ink and paper collage on squared paper\\r\",\"8 1/2 x 13 3/4 in. (21.5 x 34.7 cm.)\\r\",\"Executed on 5 January 1946\"]\n",
      "\n",
      "\n",
      "58\n",
      "[\"signed, dated and numbered Picasso 27.7.62. I (upper left) \\r\",\"colored wax crayons and pencil on paper \\r\",\"9\\u00bd x 12 5/8 in. (24.1 x 32 cm.) \\r\",\"Drawn on 27 July 1962 \"]\n",
      "\n",
      "\n",
      "59\n",
      "[\"signed Picasso (upper right); dated 24.7.72. (lower left and again lower right)\\r\",\"gouache and brush and India ink on paper \\r\",\"9\\u00bc x 12\\u00bd in. (23.5 x 31.8 cm.) \\r\",\"Executed on 24 July 1972 \"]\n",
      "\n",
      "\n",
      "60\n",
      "[\"dated and numbered 21.10.47.IV (underneath); stamped Madoura Plein Feu (underneath)\\r\",\"fully glazed ceramic plate \\r\",\"Length: 15 in. (38 cm.) \\r\",\"Executed on 21 October 1947; this work is unique \"]\n",
      "\n",
      "\n",
      "61\n",
      "[\"stamped, marked and numbered Edition Picasso/Madoura Plein Feu/No.00/Edition Picasso (underneath)\\r\",\"partially glazed ceramic bowl \\r\",\"10\\u00bdin. (27cm.) diameter \\r\",\"Conceived in 1956 and executed in an edition of 100 \"]\n",
      "\n",
      "\n",
      "62\n",
      "[\"signed and dated Picasso 19 (lower right) \\r\",\"oil on canvas \\r\",\"10\\u00bd x 8\\u00bd in. (27 x 22 cm.) \\r\",\"Painted in 1919 \"]\n",
      "\n",
      "\n",
      "63\n",
      "[\"signed Picasso (upper right); inscribed LA VACHE... (upper centre) \\r\",\"brush and ink on the back of an advertising card \\r\",\"5\\u00bc x 3\\u00bd in. (13.3 x 9 cm.) \\r\",\"Executed in Barcelona circa 1901 \"]\n",
      "\n",
      "\n",
      "64\n",
      "[\"dated 19 juin 37 (upper left)\\r\",\"oil on canvas\\r\",\"6 5/8 x 8 3/4 in. (16.8 x 22 cm.)\\r\",\"Painted on 19 June 1937\"]\n",
      "\n",
      "\n",
      "65\n",
      "[\"signed Picasso (lower right)\\r\",\"watercolour on paper\\r\",\"13 \\u00be x 11 in. (35 x 28 cm.)\\r\",\"Executed in Gosol in 1906\"]\n",
      "\n",
      "\n",
      "66\n",
      "[\"stamped and marked Edition Picasso/Edition Picasso/Madoura Plein Feu (underneath)\\r\",\"partially glazed ceramic pitcher \\r\",\"11in. (28cm.) high \\r\",\"Conceived in 1954 and executed in an edition of 500 \"]\n",
      "\n",
      "\n",
      "67\n",
      "[\"stamped and numbered Edition Picasso/Edition Picasso/Madoura Plein Feu/23/50 (inside the neck of the vase)\\r\",\"partially glazed vase \\r\",\"(22\\u00bd x 18 x 15\\u00bein. (57 x 45.5 x 40cm.)\\r\",\"Conceived on 22 June 1953 and executed in an edition of 25 \"]\n",
      "\n",
      "\n",
      "68\n",
      "[\"signed and dated 7.8.72. Picasso (lower left) \\r\",\"ballpoint pen and felt-tip pen on paper \\r\",\"6 7/8 x 13 5/8 in. (17.4 x 34.6 cm.) \\r\",\"Executed on 7 August 1972 \"]\n",
      "\n",
      "\n",
      "69\n",
      "[\"numbered and stamped with foundry mark 9/10 C. VALSUANI CIRE PERDUE (on the top of the base)\\r\",\"bronze with dark brown patina\\r\",\"Height: 8 in. (21 cm.)\\r\",\"Conceived in 1945\"]\n",
      "\n",
      "\n",
      "70\n",
      "[\"marked and numbered N.130/Edition Picasso/451/500/Madoura (underneath)\\r\",\"glazed ceramic plate \\r\",\"Diameter: 9 7/8 in. (25.1 cm.) \\r\",\"Conceived in 1963 and executed in an edition of 500 \"]\n",
      "\n",
      "\n",
      "71\n",
      "[\"signed, dated and numbered Picasso 6.6.61.VI (upper left) \\r\",\"pencil on paper \\r\",\"13 x 19\\u00be in. (33 x 50.2 cm.) \\r\",\"Drawn on 6 June 1961 \"]\n",
      "\n",
      "\n",
      "72\n",
      "[\"signed and dated Picasso 3.7.58 (along the lower edge); dedicated Pour Jerry Mason (along the upper edge)\\r\",\"colored crayons on a book page \\r\",\"11 x 8 in. (27.9 x 20.3 cm.) \\r\",\"Drawn 3 July 1958 \"]\n",
      "\n",
      "\n",
      "73\n",
      "[\"stamped Madoura Plein Feu (underneath) \\r\",\"fully glazed ceramic vessel \\r\",\"Length: 8 5/8in. (22 cm.) \\r\",\"Conceived in 1954 and executed in an edition of 150; this work is a variant in design \"]\n",
      "\n",
      "\n",
      "74\n",
      "[\"dated 20.6.63. (underneath) \\r\",\"fully glazed ceramic plate \\r\",\"Diameter: 9 7/8 in. (25.1 cm.) \\r\",\"Executed on 20 June 1963; this work is unique \"]\n",
      "\n",
      "\n",
      "75\n",
      "[\"signed and dated Picasso 11 April 44 (upper left) \\r\",\"oil on canvas \\r\",\"24 x 31 7/8 in. (61 x 81 cm.) \\r\",\"Painted in 1944 \"]\n",
      "\n",
      "\n",
      "76\n",
      "[\"signed \\u2018P. Ruiz P.\\u2019 (upper left)\\r\",\"oil on canvas\\r\",\"18 \\u00bc x 15 in. (44.5 x 38 cm.)\\r\",\"Painted in Barcelona, 1899\"]\n",
      "\n",
      "\n",
      "77\n",
      "[\"signed and dated Picasso 15.8.70. (upper left); dated again 15.8.70. (on the reverse)\\r\",\"pastel and pencil on board\\r\",\"13 x 9 7/8 in. (33 x 25 cm.)\\r\",\"Drawn on 15 August 1970\"]\n",
      "\n",
      "\n",
      "78\n",
      "[\"stamped Madoura Plein Feu (underneath) \\r\",\"partially glazed ceramic vessel \\r\",\"Length: 9 in. (23 cm.) \\r\",\"Conceived in 1952 and executed in an edition of 300 \"]\n",
      "\n",
      "\n",
      "79\n",
      "[\"inscribed RETRATO DE LA MARQUESA DE CULO CRISTIANO ECHANDOLES UN DURO A LOS SOLDADOS MOROS DEFENSORES DE LA VIRGEN (upper left)\\r\",\"oil on canvas\\r\",\"15 x 18 1/8 in. (38.4 x 46 cm.)\\r\",\"Painted in 1937\"]\n",
      "\n",
      "\n",
      "80\n",
      "[\"stamped Madoura Plein Feu/Empreinte Originale de Picasso (underneath) \\r\",\"partially glazed ceramic plate \\r\",\"17in. (43cm.) diameter \\r\",\"Conceived on 11 March 1953 and executed in an edition of 200 \"]\n",
      "\n",
      "\n",
      "81\n",
      "[\"signed and dated 26.5.70. mardi Picasso (lower right); dated again mardi 26.5.70. (on the reverse)\\r\",\"pen and India ink on paper\\r\",\"12 \\u00bc x 9 in. (30.8 x 22.9 cm.)\\r\",\"Executed on 26 May 1970\"]\n",
      "\n",
      "\n",
      "82\n",
      "nan\n",
      "\n",
      "\n",
      "83\n",
      "[\"dated, numbered and with pottery stamp 20.10.47 VI I.227 MADOURA PLEIN FEU (on the back)\\r\",\"glazed ceramic \\r\",\"12 3/8 X 15 in. (32 X 38 cm.) (irregular) \\r\",\"Executed on 20 October 1947; unique \"]\n",
      "\n",
      "\n",
      "84\n",
      "[\"dated 1.1.61. (on the reverse) \\r\",\"oil on canvas \\r\",\"45\\u00be x 35 in. (116 x 89 cm.) \\r\",\"Painted in Vauvenargues, 1 January 1961 \"]\n",
      "\n",
      "\n",
      "85\n",
      "[\"stamped, marked and numbered Edition Picasso/Madoura Plein Feu/Edition Picasso/Edition Picasso/182/200/Madoura (underneath)\\r\",\"partially glazed ceramic pitcher \\r\",\"8\\u00be in. (22 cm.) high \",\"\"]\n",
      "\n",
      "\n",
      "86\n",
      "[\"signed Picasso (lower left), dated 1.7.64 (upper left) and dedicated Pour Barnet (upper right)\\r\",\"red felt-tip pen on paper \\r\",\"4 1/8 x 8 7/8 in. (10.5 x 22.6 cm.) \\r\",\"Drawn on 1 July 1964 \"]\n",
      "\n",
      "\n",
      "87\n",
      "[\"marked and dated Vallauris/1956 (front); stamped and numbered Madoura Plein Feu/Edition Originale de Picasso/C103/37/100 (underneath)\\r\",\"glazed ceramic plate \\r\",\"16\\u00bdin. (42cm.) diameter \\r\",\"Conceived in 1956 and executed in an edition of 100 \"]\n",
      "\n",
      "\n",
      "88\n",
      "[\"dated 9.1.69 (at the base); stamped, marked and numbered Edition Picasso/Madoura Plein Feu/200/500/R140/Madoura (underneath)\\r\",\"partially glazed ceramic pitcher \\r\",\"Height: 11 in. (28 cm.) \\r\",\"Conceived on 9 January 1969 and executed in an edition of 500 \"]\n",
      "\n",
      "\n",
      "89\n",
      "[\"signed Picasso in ink (lower right) and numbered 2/50 (lower left)\\r\",\"etching and engraving with scraper on Montval paper, Baers seventh (final) state\\r\",\"Image size: 19 \\u00bd x 27 \\u00bc in. (50 x 69 cm.)\\r\",\"Sheet size: 22 \\u00bc x 30 in. (57 x 76 cm.)\\r\"]\n",
      "\n",
      "\n",
      "90\n",
      "[\"signed and dated Picasso 14.11.69. (upper left) \\r\",\"wash and brush and ink on paper \\r\",\"10\\u00be x 8\\u00bc in. (27.3 x 21 cm.) \\r\",\"Executed on 14 November 1969 \"]\n",
      "\n",
      "\n",
      "91\n",
      "nan\n",
      "\n",
      "\n",
      "92\n",
      "[\"pen and black ink on paper laid down at the edges on board \\r\",\"6 x 3\\u00be in. (15.2 x 9.5 cm.) \\r\",\"Drawn circa 1901-1902 \",\"\"]\n",
      "\n",
      "\n",
      "93\n",
      "[\"stamped Madoura Plein Feu Empreinte Originale de Picasso (underneath) \\r\",\"fully glazed ceramic plate \\r\",\"Diameter: 9 3/8 in. (23.8 cm.) \\r\",\"Conceived on 25 September 1953 and executed in an edition of 300 \"]\n",
      "\n",
      "\n",
      "94\n",
      "[\"stamped and marked Edition Picasso/Madoura/Madoura Plein Feu/Edition Picasso/170/300/Madoura (underneath)\\r\",\"partially glazed ceramic pitcher \\r\",\"Height: 9 in. (23 cm.) \\r\",\"Conceived in 1952 and executed in an edition of 300 \"]\n",
      "\n",
      "\n",
      "95\n",
      "[\"signed, dedicated and dated Picasso al amigo Pablo Gargallo muy afectuosamente Paris 6 Mayo 1904 (lower right)\\r\",\"pen and brown ink on paper laid down on board \\r\",\"Sheet size: 11\\u00be x 8\\u00be in. (29.9 x 22.2 cm.) \\r\",\"Drawn in Paris, 6 May 1904 \"]\n",
      "\n",
      "\n",
      "96\n",
      "[\"signed Picasso (upper right) \\r\",\"collage and charcoal on paper \\r\",\"9\\u00bd x 12 5/8 in. (24 x 32 cm.) \\r\",\"Executed in 1913 \"]\n",
      "\n",
      "\n",
      "97\n",
      "[\"signed with the initial P (lower right)\\r\",\"pen and ink on paper\\r\",\"12? x 8? in. (31.5 x 22 cm.)\\r\",\"Executed in 1903\"]\n",
      "\n",
      "\n",
      "98\n",
      "[\"marked and numbered No.197/Edition Picasso/368/500/Madoura (underneath)\\r\",\"fully glazed ceramic plate \\r\",\"10 in. (25 cm.) diameter \\r\",\"Conceived in 1963 and executed in an edition of 500 \"]\n",
      "\n",
      "\n",
      "99\n",
      "[\"signed Picasso (upper right) and dated and numbered 17.1.54. IV (lower right)\\r\",\"brush and pen and black ink on paper\\r\",\"9 3/8 x 11 \\u00bd in. (24 x 31.8 cm.)\\r\",\"Executed on 17 January 1954\"]\n",
      "\n",
      "\n"
     ]
    }
   ],
   "source": [
    "for key, values in df['details'].items():\n",
    "    print (key)\n",
    "    print(values)\n",
    "    print (\"\")\n",
    "    print (\"\")"
   ]
  },
  {
   "cell_type": "code",
   "execution_count": null,
   "metadata": {},
   "outputs": [],
   "source": []
  }
 ],
 "metadata": {
  "kernelspec": {
   "display_name": "Python 3",
   "language": "python",
   "name": "python3"
  },
  "language_info": {
   "codemirror_mode": {
    "name": "ipython",
    "version": 3
   },
   "file_extension": ".py",
   "mimetype": "text/x-python",
   "name": "python",
   "nbconvert_exporter": "python",
   "pygments_lexer": "ipython3",
   "version": "3.8.0"
  }
 },
 "nbformat": 4,
 "nbformat_minor": 4
}
