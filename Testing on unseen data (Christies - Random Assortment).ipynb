{
 "cells": [
  {
   "cell_type": "markdown",
   "metadata": {},
   "source": [
    "## Feature Pipeline"
   ]
  },
  {
   "cell_type": "code",
   "execution_count": 2,
   "metadata": {},
   "outputs": [],
   "source": [
    "import pandas as pd\n",
    "import numpy as np\n",
    "\n",
    "import pickle\n",
    "import matplotlib.pyplot as plt\n",
    "import seaborn as sns\n",
    "\n",
    "from feature_engineering import functions\n",
    "from utils import utils\n",
    "from sklearn.pipeline import Pipeline"
   ]
  },
  {
   "cell_type": "code",
   "execution_count": 3,
   "metadata": {},
   "outputs": [],
   "source": [
    "# Import data\n",
    "\n",
    "df_random_test = pd.read_csv('./data/data-1589268390310-random-christies-test.csv')"
   ]
  },
  {
   "cell_type": "code",
   "execution_count": 4,
   "metadata": {},
   "outputs": [],
   "source": [
    "# assign column names\n",
    "\n",
    "title_desc_col = 'title'\n",
    "medium_col = 'details'\n",
    "dimension_col = 'details'\n",
    "url_col = 'image_url'\n"
   ]
  },
  {
   "cell_type": "code",
   "execution_count": 6,
   "metadata": {},
   "outputs": [
    {
     "name": "stderr",
     "output_type": "stream",
     "text": [
      "/Users/katielazell-fairman/.pyenv/versions/3.8.0/lib/python3.8/site-packages/pandas/core/computation/expressions.py:190: UserWarning: evaluating in Python space because the '+' operator is not supported by numexpr for the bool dtype, use '|' instead\n",
      "  warnings.warn(\n"
     ]
    }
   ],
   "source": [
    "df_transformed_1 = functions.text_based_transformer(df_random_test\n",
    "                                        , medium=medium_col\n",
    "                                        , dimensions=dimension_col\n",
    "                                        , title=title_desc_col)\n",
    "\n",
    "df_transformed_2 = functions.is_drawing(df_transformed_1)\n",
    "\n",
    "df_transformed_2['long_list_of_things'] = df_transformed_2['details'].apply(lambda x: functions.long_list_of_things(str(x)))\n",
    "\n",
    "df = df_transformed_2"
   ]
  },
  {
   "cell_type": "code",
   "execution_count": 7,
   "metadata": {},
   "outputs": [
    {
     "data": {
      "text/plain": [
       "Index(['index', 'sale_date', 'price', 'estimate_min', 'estimate_max',\n",
       "       'currency', 'artist', 'title', 'size', 'details', 'image_url',\n",
       "       'timestamp', 'auction_id', 'filename_id', 'filepath', 'filename',\n",
       "       'long_list_of_things', 'installation_keyword', 'print_keyword',\n",
       "       'drawing_paper_word', 'drawing_keyword', 'painting_keyword',\n",
       "       'photo_keyword', 'has_3dimensions', 'furniture_keyword',\n",
       "       'decorative_obj_keyword', 'is_drawing'],\n",
       "      dtype='object')"
      ]
     },
     "execution_count": 7,
     "metadata": {},
     "output_type": "execute_result"
    }
   ],
   "source": [
    "df.columns"
   ]
  },
  {
   "cell_type": "code",
   "execution_count": 8,
   "metadata": {},
   "outputs": [
    {
     "name": "stdout",
     "output_type": "stream",
     "text": [
      "26\n"
     ]
    },
    {
     "data": {
      "text/html": [
       "<img src=\"https://www.christies.com/img/LotImages/2006/NYR/2006_NYR_01657_0317_000().jpg\" width=\"250\" height=\"250\"/>"
      ],
      "text/plain": [
       "<IPython.core.display.Image object>"
      ]
     },
     "metadata": {},
     "output_type": "display_data"
    },
    {
     "name": "stdout",
     "output_type": "stream",
     "text": [
      "86\n"
     ]
    },
    {
     "data": {
      "text/html": [
       "<img src=\"https://www.christies.com/img/LotImages/2015/NYR/2015_NYR_03715_0089_000(fred_sandback_untitled).jpg\" width=\"250\" height=\"250\"/>"
      ],
      "text/plain": [
       "<IPython.core.display.Image object>"
      ]
     },
     "metadata": {},
     "output_type": "display_data"
    },
    {
     "name": "stdout",
     "output_type": "stream",
     "text": [
      "2\n"
     ]
    },
    {
     "data": {
      "text/html": [
       "<img src=\"https://www.christies.com/img/LotImages/2014/DUB/2014_DUB_01230_0021_000(mohammed_sabry_untitled).jpg\" width=\"250\" height=\"250\"/>"
      ],
      "text/plain": [
       "<IPython.core.display.Image object>"
      ]
     },
     "metadata": {},
     "output_type": "display_data"
    },
    {
     "name": "stdout",
     "output_type": "stream",
     "text": [
      "55\n"
     ]
    },
    {
     "data": {
      "text/html": [
       "<img src=\"https://www.christies.com/img/LotImages/2014/CKS/2014_CKS_01509_0418_000(kurt_schwitters_das_schwert_des_deutschen_geistes).jpg\" width=\"250\" height=\"250\"/>"
      ],
      "text/plain": [
       "<IPython.core.display.Image object>"
      ]
     },
     "metadata": {},
     "output_type": "display_data"
    },
    {
     "name": "stdout",
     "output_type": "stream",
     "text": [
      "75\n"
     ]
    },
    {
     "data": {
      "text/html": [
       "<img src=\"https://www.christies.com/img/LotImages/2017/NYR/2017_NYR_14183_0013A_000(henry_moore_working_model_for_reclining_figure_prop).jpg\" width=\"250\" height=\"250\"/>"
      ],
      "text/plain": [
       "<IPython.core.display.Image object>"
      ]
     },
     "metadata": {},
     "output_type": "display_data"
    },
    {
     "name": "stdout",
     "output_type": "stream",
     "text": [
      "93\n"
     ]
    },
    {
     "data": {
      "text/html": [
       "<img src=\"https://www.christies.com/img/LotImages/2012/CKS/2012_CKS_06766_0107_000(massimo_vitali_viareggio).jpg\" width=\"250\" height=\"250\"/>"
      ],
      "text/plain": [
       "<IPython.core.display.Image object>"
      ]
     },
     "metadata": {},
     "output_type": "display_data"
    },
    {
     "name": "stdout",
     "output_type": "stream",
     "text": [
      "16\n"
     ]
    },
    {
     "data": {
      "text/html": [
       "<img src=\"https://www.christies.com/img/LotImages/2010/NYR/2010_NYR_02353_0170_000(henry_moore_seated_figure).jpg\" width=\"250\" height=\"250\"/>"
      ],
      "text/plain": [
       "<IPython.core.display.Image object>"
      ]
     },
     "metadata": {},
     "output_type": "display_data"
    },
    {
     "name": "stdout",
     "output_type": "stream",
     "text": [
      "73\n"
     ]
    },
    {
     "data": {
      "text/html": [
       "<img src=\"https://www.christies.com/img/LotImages/2012/CKS/2012_CKS_08053_0212_000(ugo_rondinone_zehnterseptemberneunzehn_hundertachtundneunzig).jpg\" width=\"250\" height=\"250\"/>"
      ],
      "text/plain": [
       "<IPython.core.display.Image object>"
      ]
     },
     "metadata": {},
     "output_type": "display_data"
    },
    {
     "name": "stdout",
     "output_type": "stream",
     "text": [
      "54\n"
     ]
    },
    {
     "data": {
      "text/html": [
       "<img src=\"https://www.christies.com/img/LotImages/2015/NYR/2015_NYR_03785_1222_000(henri_matisse_torse_debout).jpg\" width=\"250\" height=\"250\"/>"
      ],
      "text/plain": [
       "<IPython.core.display.Image object>"
      ]
     },
     "metadata": {},
     "output_type": "display_data"
    },
    {
     "name": "stdout",
     "output_type": "stream",
     "text": [
      "95\n"
     ]
    },
    {
     "data": {
      "text/html": [
       "<img src=\"https://www.christies.com/img/LotImages/2011/DUB/2011_DUB_07935_0038_000(adel_el-siwi_the_five_nomadic_kings_d5486466).jpg\" width=\"250\" height=\"250\"/>"
      ],
      "text/plain": [
       "<IPython.core.display.Image object>"
      ]
     },
     "metadata": {},
     "output_type": "display_data"
    },
    {
     "name": "stdout",
     "output_type": "stream",
     "text": [
      "53\n"
     ]
    },
    {
     "data": {
      "text/html": [
       "<img src=\"https://www.christies.com/img/LotImages/2011/CKS/2011_CKS_07954_0440_000(aristide_maillol_etude_pour_la_pensee).jpg\" width=\"250\" height=\"250\"/>"
      ],
      "text/plain": [
       "<IPython.core.display.Image object>"
      ]
     },
     "metadata": {},
     "output_type": "display_data"
    },
    {
     "name": "stdout",
     "output_type": "stream",
     "text": [
      "92\n"
     ]
    },
    {
     "data": {
      "text/html": [
       "<img src=\"https://www.christies.com/img/LotImages/2010/CSK/2010_CSK_05486_0166_000(pablo_picasso_taureau_sous_larbre).jpg\" width=\"250\" height=\"250\"/>"
      ],
      "text/plain": [
       "<IPython.core.display.Image object>"
      ]
     },
     "metadata": {},
     "output_type": "display_data"
    },
    {
     "name": "stdout",
     "output_type": "stream",
     "text": [
      "78\n"
     ]
    },
    {
     "data": {
      "text/html": [
       "<img src=\"https://www.christies.com/img/LotImages/2008/NYR/2008_NYR_02046_0105_000().jpg\" width=\"250\" height=\"250\"/>"
      ],
      "text/plain": [
       "<IPython.core.display.Image object>"
      ]
     },
     "metadata": {},
     "output_type": "display_data"
    },
    {
     "name": "stdout",
     "output_type": "stream",
     "text": [
      "13\n"
     ]
    },
    {
     "data": {
      "text/html": [
       "<img src=\"https://www.christies.com/img/LotImages/2012/CKS/2012_CKS_05709_0017_000(martin_kippenberger_untitled).jpg\" width=\"250\" height=\"250\"/>"
      ],
      "text/plain": [
       "<IPython.core.display.Image object>"
      ]
     },
     "metadata": {},
     "output_type": "display_data"
    },
    {
     "name": "stdout",
     "output_type": "stream",
     "text": [
      "7\n"
     ]
    },
    {
     "data": {
      "text/html": [
       "<img src=\"https://www.christies.com/img/LotImages/2007/CKS/2007_CKS_07408_0289_000().jpg\" width=\"250\" height=\"250\"/>"
      ],
      "text/plain": [
       "<IPython.core.display.Image object>"
      ]
     },
     "metadata": {},
     "output_type": "display_data"
    },
    {
     "name": "stdout",
     "output_type": "stream",
     "text": [
      "30\n"
     ]
    },
    {
     "data": {
      "text/html": [
       "<img src=\"https://www.christies.com/img/LotImages/2013/CSK/2013_CSK_08981_0023_000(lionel_townsend_crawshaw_summer_holidays).jpg\" width=\"250\" height=\"250\"/>"
      ],
      "text/plain": [
       "<IPython.core.display.Image object>"
      ]
     },
     "metadata": {},
     "output_type": "display_data"
    },
    {
     "name": "stdout",
     "output_type": "stream",
     "text": [
      "22\n"
     ]
    },
    {
     "data": {
      "text/html": [
       "<img src=\"https://www.christies.com/img/LotImages/2006/NYR/2006_NYR_01726_0249_000().jpg\" width=\"250\" height=\"250\"/>"
      ],
      "text/plain": [
       "<IPython.core.display.Image object>"
      ]
     },
     "metadata": {},
     "output_type": "display_data"
    },
    {
     "name": "stdout",
     "output_type": "stream",
     "text": [
      "24\n"
     ]
    },
    {
     "data": {
      "text/html": [
       "<img src=\"https://www.christies.com/img/LotImages/2007/DUB/2007_DUB_07477_0072_000().jpg\" width=\"250\" height=\"250\"/>"
      ],
      "text/plain": [
       "<IPython.core.display.Image object>"
      ]
     },
     "metadata": {},
     "output_type": "display_data"
    },
    {
     "name": "stdout",
     "output_type": "stream",
     "text": [
      "33\n"
     ]
    },
    {
     "data": {
      "text/html": [
       "<img src=\"https://www.christies.com/img/LotImages/2013/NYR/2013_NYR_02786_0184_000(milton_resnick_flag).jpg\" width=\"250\" height=\"250\"/>"
      ],
      "text/plain": [
       "<IPython.core.display.Image object>"
      ]
     },
     "metadata": {},
     "output_type": "display_data"
    },
    {
     "name": "stdout",
     "output_type": "stream",
     "text": [
      "8\n"
     ]
    },
    {
     "data": {
      "text/html": [
       "<img src=\"https://www.christies.com/img/LotImages/2013/CKS/2013_CKS_01105_0450_000(emil_nolde_heuwiese).jpg\" width=\"250\" height=\"250\"/>"
      ],
      "text/plain": [
       "<IPython.core.display.Image object>"
      ]
     },
     "metadata": {},
     "output_type": "display_data"
    }
   ],
   "source": [
    "utils.view_images_from_url(df, url_col)"
   ]
  },
  {
   "cell_type": "code",
   "execution_count": 9,
   "metadata": {},
   "outputs": [],
   "source": [
    "# Load model\n",
    "model_filename = \"model_1_DecisionTreeClassifier.pkl\"\n",
    "\n",
    "with open('./models/'+ model_filename , 'rb') as file:\n",
    "    model_file = pickle.load(file)"
   ]
  },
  {
   "cell_type": "code",
   "execution_count": 10,
   "metadata": {},
   "outputs": [
    {
     "data": {
      "text/plain": [
       "{'model': DecisionTreeClassifier(ccp_alpha=0.0, class_weight=None, criterion='gini',\n",
       "                        max_depth=9, max_features=None, max_leaf_nodes=None,\n",
       "                        min_impurity_decrease=0.0, min_impurity_split=None,\n",
       "                        min_samples_leaf=1, min_samples_split=10,\n",
       "                        min_weight_fraction_leaf=0.0, presort='deprecated',\n",
       "                        random_state=None, splitter='best'),\n",
       " 'features': ['long_list_of_things',\n",
       "  'installation_keyword',\n",
       "  'print_keyword',\n",
       "  'drawing_paper_word',\n",
       "  'drawing_keyword',\n",
       "  'painting_keyword',\n",
       "  'photo_keyword',\n",
       "  'has_3dimensions',\n",
       "  'furniture_keyword',\n",
       "  'decorative_obj_keyword',\n",
       "  'is_drawing'],\n",
       " 'labels': ['Drawing',\n",
       "  'Installation',\n",
       "  'Painting',\n",
       "  'Photograph',\n",
       "  'Print',\n",
       "  'Sculpture',\n",
       "  'decorative_object',\n",
       "  'furniture']}"
      ]
     },
     "execution_count": 10,
     "metadata": {},
     "output_type": "execute_result"
    }
   ],
   "source": [
    "# Check model file\n",
    "model_file"
   ]
  },
  {
   "cell_type": "code",
   "execution_count": 11,
   "metadata": {},
   "outputs": [
    {
     "data": {
      "text/html": [
       "<div>\n",
       "<style scoped>\n",
       "    .dataframe tbody tr th:only-of-type {\n",
       "        vertical-align: middle;\n",
       "    }\n",
       "\n",
       "    .dataframe tbody tr th {\n",
       "        vertical-align: top;\n",
       "    }\n",
       "\n",
       "    .dataframe thead th {\n",
       "        text-align: right;\n",
       "    }\n",
       "</style>\n",
       "<table border=\"1\" class=\"dataframe\">\n",
       "  <thead>\n",
       "    <tr style=\"text-align: right;\">\n",
       "      <th></th>\n",
       "      <th>long_list_of_things</th>\n",
       "      <th>installation_keyword</th>\n",
       "      <th>print_keyword</th>\n",
       "      <th>drawing_paper_word</th>\n",
       "      <th>drawing_keyword</th>\n",
       "      <th>painting_keyword</th>\n",
       "      <th>photo_keyword</th>\n",
       "      <th>has_3dimensions</th>\n",
       "      <th>furniture_keyword</th>\n",
       "      <th>decorative_obj_keyword</th>\n",
       "      <th>is_drawing</th>\n",
       "    </tr>\n",
       "  </thead>\n",
       "  <tbody>\n",
       "    <tr>\n",
       "      <th>0</th>\n",
       "      <td>True</td>\n",
       "      <td>False</td>\n",
       "      <td>False</td>\n",
       "      <td>False</td>\n",
       "      <td>False</td>\n",
       "      <td>True</td>\n",
       "      <td>False</td>\n",
       "      <td>False</td>\n",
       "      <td>False</td>\n",
       "      <td>False</td>\n",
       "      <td>False</td>\n",
       "    </tr>\n",
       "    <tr>\n",
       "      <th>1</th>\n",
       "      <td>False</td>\n",
       "      <td>False</td>\n",
       "      <td>False</td>\n",
       "      <td>False</td>\n",
       "      <td>False</td>\n",
       "      <td>True</td>\n",
       "      <td>False</td>\n",
       "      <td>False</td>\n",
       "      <td>False</td>\n",
       "      <td>False</td>\n",
       "      <td>False</td>\n",
       "    </tr>\n",
       "    <tr>\n",
       "      <th>2</th>\n",
       "      <td>True</td>\n",
       "      <td>False</td>\n",
       "      <td>False</td>\n",
       "      <td>True</td>\n",
       "      <td>True</td>\n",
       "      <td>False</td>\n",
       "      <td>False</td>\n",
       "      <td>False</td>\n",
       "      <td>False</td>\n",
       "      <td>False</td>\n",
       "      <td>True</td>\n",
       "    </tr>\n",
       "    <tr>\n",
       "      <th>3</th>\n",
       "      <td>True</td>\n",
       "      <td>False</td>\n",
       "      <td>False</td>\n",
       "      <td>False</td>\n",
       "      <td>True</td>\n",
       "      <td>True</td>\n",
       "      <td>False</td>\n",
       "      <td>False</td>\n",
       "      <td>False</td>\n",
       "      <td>False</td>\n",
       "      <td>True</td>\n",
       "    </tr>\n",
       "    <tr>\n",
       "      <th>4</th>\n",
       "      <td>False</td>\n",
       "      <td>False</td>\n",
       "      <td>False</td>\n",
       "      <td>False</td>\n",
       "      <td>False</td>\n",
       "      <td>False</td>\n",
       "      <td>False</td>\n",
       "      <td>False</td>\n",
       "      <td>False</td>\n",
       "      <td>False</td>\n",
       "      <td>False</td>\n",
       "    </tr>\n",
       "    <tr>\n",
       "      <th>...</th>\n",
       "      <td>...</td>\n",
       "      <td>...</td>\n",
       "      <td>...</td>\n",
       "      <td>...</td>\n",
       "      <td>...</td>\n",
       "      <td>...</td>\n",
       "      <td>...</td>\n",
       "      <td>...</td>\n",
       "      <td>...</td>\n",
       "      <td>...</td>\n",
       "      <td>...</td>\n",
       "    </tr>\n",
       "    <tr>\n",
       "      <th>95</th>\n",
       "      <td>True</td>\n",
       "      <td>False</td>\n",
       "      <td>False</td>\n",
       "      <td>False</td>\n",
       "      <td>True</td>\n",
       "      <td>True</td>\n",
       "      <td>False</td>\n",
       "      <td>False</td>\n",
       "      <td>False</td>\n",
       "      <td>False</td>\n",
       "      <td>True</td>\n",
       "    </tr>\n",
       "    <tr>\n",
       "      <th>96</th>\n",
       "      <td>True</td>\n",
       "      <td>False</td>\n",
       "      <td>False</td>\n",
       "      <td>False</td>\n",
       "      <td>True</td>\n",
       "      <td>True</td>\n",
       "      <td>False</td>\n",
       "      <td>False</td>\n",
       "      <td>False</td>\n",
       "      <td>False</td>\n",
       "      <td>True</td>\n",
       "    </tr>\n",
       "    <tr>\n",
       "      <th>97</th>\n",
       "      <td>False</td>\n",
       "      <td>False</td>\n",
       "      <td>False</td>\n",
       "      <td>False</td>\n",
       "      <td>False</td>\n",
       "      <td>False</td>\n",
       "      <td>False</td>\n",
       "      <td>False</td>\n",
       "      <td>False</td>\n",
       "      <td>False</td>\n",
       "      <td>False</td>\n",
       "    </tr>\n",
       "    <tr>\n",
       "      <th>98</th>\n",
       "      <td>True</td>\n",
       "      <td>False</td>\n",
       "      <td>False</td>\n",
       "      <td>True</td>\n",
       "      <td>True</td>\n",
       "      <td>False</td>\n",
       "      <td>False</td>\n",
       "      <td>False</td>\n",
       "      <td>False</td>\n",
       "      <td>False</td>\n",
       "      <td>True</td>\n",
       "    </tr>\n",
       "    <tr>\n",
       "      <th>99</th>\n",
       "      <td>True</td>\n",
       "      <td>False</td>\n",
       "      <td>False</td>\n",
       "      <td>False</td>\n",
       "      <td>False</td>\n",
       "      <td>False</td>\n",
       "      <td>False</td>\n",
       "      <td>True</td>\n",
       "      <td>False</td>\n",
       "      <td>False</td>\n",
       "      <td>False</td>\n",
       "    </tr>\n",
       "  </tbody>\n",
       "</table>\n",
       "<p>100 rows × 11 columns</p>\n",
       "</div>"
      ],
      "text/plain": [
       "    long_list_of_things  installation_keyword  print_keyword  \\\n",
       "0                  True                 False          False   \n",
       "1                 False                 False          False   \n",
       "2                  True                 False          False   \n",
       "3                  True                 False          False   \n",
       "4                 False                 False          False   \n",
       "..                  ...                   ...            ...   \n",
       "95                 True                 False          False   \n",
       "96                 True                 False          False   \n",
       "97                False                 False          False   \n",
       "98                 True                 False          False   \n",
       "99                 True                 False          False   \n",
       "\n",
       "    drawing_paper_word  drawing_keyword  painting_keyword  photo_keyword  \\\n",
       "0                False            False              True          False   \n",
       "1                False            False              True          False   \n",
       "2                 True             True             False          False   \n",
       "3                False             True              True          False   \n",
       "4                False            False             False          False   \n",
       "..                 ...              ...               ...            ...   \n",
       "95               False             True              True          False   \n",
       "96               False             True              True          False   \n",
       "97               False            False             False          False   \n",
       "98                True             True             False          False   \n",
       "99               False            False             False          False   \n",
       "\n",
       "    has_3dimensions  furniture_keyword  decorative_obj_keyword  is_drawing  \n",
       "0             False              False                   False       False  \n",
       "1             False              False                   False       False  \n",
       "2             False              False                   False        True  \n",
       "3             False              False                   False        True  \n",
       "4             False              False                   False       False  \n",
       "..              ...                ...                     ...         ...  \n",
       "95            False              False                   False        True  \n",
       "96            False              False                   False        True  \n",
       "97            False              False                   False       False  \n",
       "98            False              False                   False        True  \n",
       "99             True              False                   False       False  \n",
       "\n",
       "[100 rows x 11 columns]"
      ]
     },
     "execution_count": 11,
     "metadata": {},
     "output_type": "execute_result"
    }
   ],
   "source": [
    "model = model_file['model']\n",
    "features = model_file['features']\n",
    "labels = model_file['labels']\n",
    "\n",
    "# Check all Model Features Exist\n",
    "\n",
    "df[features]"
   ]
  },
  {
   "cell_type": "code",
   "execution_count": 12,
   "metadata": {},
   "outputs": [],
   "source": [
    "# Get Test Results\n",
    "\n",
    "results = model.predict(df[features])\n",
    "y_pred = pd.DataFrame(columns=labels\n",
    "                      , data=results\n",
    "                      , index=df.index)"
   ]
  },
  {
   "cell_type": "code",
   "execution_count": 13,
   "metadata": {},
   "outputs": [],
   "source": [
    "y_pred['no_classification'] = y_pred.apply(lambda x: 1 if sum(x) == 0 else 0, axis=1)"
   ]
  },
  {
   "cell_type": "code",
   "execution_count": 14,
   "metadata": {},
   "outputs": [
    {
     "data": {
      "text/html": [
       "<div>\n",
       "<style scoped>\n",
       "    .dataframe tbody tr th:only-of-type {\n",
       "        vertical-align: middle;\n",
       "    }\n",
       "\n",
       "    .dataframe tbody tr th {\n",
       "        vertical-align: top;\n",
       "    }\n",
       "\n",
       "    .dataframe thead th {\n",
       "        text-align: right;\n",
       "    }\n",
       "</style>\n",
       "<table border=\"1\" class=\"dataframe\">\n",
       "  <thead>\n",
       "    <tr style=\"text-align: right;\">\n",
       "      <th></th>\n",
       "      <th>Drawing</th>\n",
       "      <th>Installation</th>\n",
       "      <th>Painting</th>\n",
       "      <th>Photograph</th>\n",
       "      <th>Print</th>\n",
       "      <th>Sculpture</th>\n",
       "      <th>decorative_object</th>\n",
       "      <th>furniture</th>\n",
       "      <th>no_classification</th>\n",
       "    </tr>\n",
       "  </thead>\n",
       "  <tbody>\n",
       "    <tr>\n",
       "      <th>0</th>\n",
       "      <td>0</td>\n",
       "      <td>0</td>\n",
       "      <td>1</td>\n",
       "      <td>0</td>\n",
       "      <td>0</td>\n",
       "      <td>0</td>\n",
       "      <td>0</td>\n",
       "      <td>0</td>\n",
       "      <td>0</td>\n",
       "    </tr>\n",
       "    <tr>\n",
       "      <th>1</th>\n",
       "      <td>0</td>\n",
       "      <td>0</td>\n",
       "      <td>1</td>\n",
       "      <td>0</td>\n",
       "      <td>0</td>\n",
       "      <td>0</td>\n",
       "      <td>0</td>\n",
       "      <td>0</td>\n",
       "      <td>0</td>\n",
       "    </tr>\n",
       "    <tr>\n",
       "      <th>2</th>\n",
       "      <td>1</td>\n",
       "      <td>0</td>\n",
       "      <td>0</td>\n",
       "      <td>0</td>\n",
       "      <td>0</td>\n",
       "      <td>0</td>\n",
       "      <td>0</td>\n",
       "      <td>0</td>\n",
       "      <td>0</td>\n",
       "    </tr>\n",
       "    <tr>\n",
       "      <th>3</th>\n",
       "      <td>1</td>\n",
       "      <td>0</td>\n",
       "      <td>0</td>\n",
       "      <td>0</td>\n",
       "      <td>0</td>\n",
       "      <td>0</td>\n",
       "      <td>0</td>\n",
       "      <td>0</td>\n",
       "      <td>0</td>\n",
       "    </tr>\n",
       "    <tr>\n",
       "      <th>4</th>\n",
       "      <td>0</td>\n",
       "      <td>0</td>\n",
       "      <td>0</td>\n",
       "      <td>0</td>\n",
       "      <td>0</td>\n",
       "      <td>0</td>\n",
       "      <td>0</td>\n",
       "      <td>0</td>\n",
       "      <td>1</td>\n",
       "    </tr>\n",
       "    <tr>\n",
       "      <th>...</th>\n",
       "      <td>...</td>\n",
       "      <td>...</td>\n",
       "      <td>...</td>\n",
       "      <td>...</td>\n",
       "      <td>...</td>\n",
       "      <td>...</td>\n",
       "      <td>...</td>\n",
       "      <td>...</td>\n",
       "      <td>...</td>\n",
       "    </tr>\n",
       "    <tr>\n",
       "      <th>95</th>\n",
       "      <td>1</td>\n",
       "      <td>0</td>\n",
       "      <td>0</td>\n",
       "      <td>0</td>\n",
       "      <td>0</td>\n",
       "      <td>0</td>\n",
       "      <td>0</td>\n",
       "      <td>0</td>\n",
       "      <td>0</td>\n",
       "    </tr>\n",
       "    <tr>\n",
       "      <th>96</th>\n",
       "      <td>1</td>\n",
       "      <td>0</td>\n",
       "      <td>0</td>\n",
       "      <td>0</td>\n",
       "      <td>0</td>\n",
       "      <td>0</td>\n",
       "      <td>0</td>\n",
       "      <td>0</td>\n",
       "      <td>0</td>\n",
       "    </tr>\n",
       "    <tr>\n",
       "      <th>97</th>\n",
       "      <td>0</td>\n",
       "      <td>0</td>\n",
       "      <td>0</td>\n",
       "      <td>0</td>\n",
       "      <td>0</td>\n",
       "      <td>0</td>\n",
       "      <td>0</td>\n",
       "      <td>0</td>\n",
       "      <td>1</td>\n",
       "    </tr>\n",
       "    <tr>\n",
       "      <th>98</th>\n",
       "      <td>1</td>\n",
       "      <td>0</td>\n",
       "      <td>0</td>\n",
       "      <td>0</td>\n",
       "      <td>0</td>\n",
       "      <td>0</td>\n",
       "      <td>0</td>\n",
       "      <td>0</td>\n",
       "      <td>0</td>\n",
       "    </tr>\n",
       "    <tr>\n",
       "      <th>99</th>\n",
       "      <td>0</td>\n",
       "      <td>0</td>\n",
       "      <td>0</td>\n",
       "      <td>0</td>\n",
       "      <td>0</td>\n",
       "      <td>1</td>\n",
       "      <td>0</td>\n",
       "      <td>0</td>\n",
       "      <td>0</td>\n",
       "    </tr>\n",
       "  </tbody>\n",
       "</table>\n",
       "<p>100 rows × 9 columns</p>\n",
       "</div>"
      ],
      "text/plain": [
       "    Drawing  Installation  Painting  Photograph  Print  Sculpture  \\\n",
       "0         0             0         1           0      0          0   \n",
       "1         0             0         1           0      0          0   \n",
       "2         1             0         0           0      0          0   \n",
       "3         1             0         0           0      0          0   \n",
       "4         0             0         0           0      0          0   \n",
       "..      ...           ...       ...         ...    ...        ...   \n",
       "95        1             0         0           0      0          0   \n",
       "96        1             0         0           0      0          0   \n",
       "97        0             0         0           0      0          0   \n",
       "98        1             0         0           0      0          0   \n",
       "99        0             0         0           0      0          1   \n",
       "\n",
       "    decorative_object  furniture  no_classification  \n",
       "0                   0          0                  0  \n",
       "1                   0          0                  0  \n",
       "2                   0          0                  0  \n",
       "3                   0          0                  0  \n",
       "4                   0          0                  1  \n",
       "..                ...        ...                ...  \n",
       "95                  0          0                  0  \n",
       "96                  0          0                  0  \n",
       "97                  0          0                  1  \n",
       "98                  0          0                  0  \n",
       "99                  0          0                  0  \n",
       "\n",
       "[100 rows x 9 columns]"
      ]
     },
     "execution_count": 14,
     "metadata": {},
     "output_type": "execute_result"
    }
   ],
   "source": [
    "y_pred"
   ]
  },
  {
   "cell_type": "code",
   "execution_count": 18,
   "metadata": {},
   "outputs": [
    {
     "data": {
      "text/plain": [
       "60    no_classification\n",
       "61            Sculpture\n",
       "62            Sculpture\n",
       "63         Installation\n",
       "64         Installation\n",
       "65    no_classification\n",
       "66            Sculpture\n",
       "67            Sculpture\n",
       "68    no_classification\n",
       "69    no_classification\n",
       "70    no_classification\n",
       "71            Sculpture\n",
       "72    no_classification\n",
       "73            Sculpture\n",
       "74    no_classification\n",
       "75    no_classification\n",
       "76    decorative_object\n",
       "77            Sculpture\n",
       "78            Sculpture\n",
       "79            Sculpture\n",
       "80            Sculpture\n",
       "81    no_classification\n",
       "82            Sculpture\n",
       "83            Sculpture\n",
       "84    no_classification\n",
       "85            Sculpture\n",
       "86             Painting\n",
       "87    no_classification\n",
       "88              Drawing\n",
       "89    no_classification\n",
       "90              Drawing\n",
       "91         Installation\n",
       "92            Sculpture\n",
       "93    no_classification\n",
       "94                Print\n",
       "95              Drawing\n",
       "96              Drawing\n",
       "97    no_classification\n",
       "98              Drawing\n",
       "99            Sculpture\n",
       "dtype: category\n",
       "Categories (8, object): [Drawing, Installation, Painting, Photograph, Print, Sculpture, decorative_object, no_classification]"
      ]
     },
     "execution_count": 18,
     "metadata": {},
     "output_type": "execute_result"
    }
   ],
   "source": [
    "x = y_pred.stack()\n",
    "results = pd.Series(pd.Categorical(x[x!=0].index.get_level_values(1)))\n",
    "\n",
    "results[60:]"
   ]
  },
  {
   "cell_type": "code",
   "execution_count": 17,
   "metadata": {},
   "outputs": [
    {
     "name": "stdout",
     "output_type": "stream",
     "text": [
      "0\n"
     ]
    },
    {
     "data": {
      "text/html": [
       "<img src=\"https://www.christies.com/img/LotImages/2017/NYR/2017_NYR_13256_0004_000(wifredo_lam_untitled).jpg\" width=\"250\" height=\"250\"/>"
      ],
      "text/plain": [
       "<IPython.core.display.Image object>"
      ]
     },
     "metadata": {},
     "output_type": "display_data"
    },
    {
     "name": "stdout",
     "output_type": "stream",
     "text": [
      "1\n"
     ]
    },
    {
     "data": {
      "text/html": [
       "<img src=\"https://www.christies.com/img/LotImages/2012/NYR/2012_NYR_02644_0098_000(ludwig_sander_untitled).jpg\" width=\"250\" height=\"250\"/>"
      ],
      "text/plain": [
       "<IPython.core.display.Image object>"
      ]
     },
     "metadata": {},
     "output_type": "display_data"
    },
    {
     "name": "stdout",
     "output_type": "stream",
     "text": [
      "2\n"
     ]
    },
    {
     "data": {
      "text/html": [
       "<img src=\"https://www.christies.com/img/LotImages/2014/DUB/2014_DUB_01230_0021_000(mohammed_sabry_untitled).jpg\" width=\"250\" height=\"250\"/>"
      ],
      "text/plain": [
       "<IPython.core.display.Image object>"
      ]
     },
     "metadata": {},
     "output_type": "display_data"
    },
    {
     "name": "stdout",
     "output_type": "stream",
     "text": [
      "3\n"
     ]
    },
    {
     "data": {
      "text/html": [
       "<img src=\"https://www.christies.com/img/LotImages/2013/CKS/2013_CKS_01106_0006_000(yayoi_kusama_pumpkin).jpg\" width=\"250\" height=\"250\"/>"
      ],
      "text/plain": [
       "<IPython.core.display.Image object>"
      ]
     },
     "metadata": {},
     "output_type": "display_data"
    },
    {
     "name": "stdout",
     "output_type": "stream",
     "text": [
      "4\n"
     ]
    },
    {
     "data": {
      "text/html": [
       "<img src=\"https://www.christies.com/img/LotImages/2014/NYR/2014_NYR_02824_0003_000(marilyn_minter_black_orchid).jpg\" width=\"250\" height=\"250\"/>"
      ],
      "text/plain": [
       "<IPython.core.display.Image object>"
      ]
     },
     "metadata": {},
     "output_type": "display_data"
    },
    {
     "name": "stdout",
     "output_type": "stream",
     "text": [
      "5\n"
     ]
    },
    {
     "data": {
      "text/html": [
       "<img src=\"https://www.christies.com/img/LotImages/2013/CKS/2013_CKS_01135_0141_000(christo_the_gates_project_for_central_park_new_york_city).jpg\" width=\"250\" height=\"250\"/>"
      ],
      "text/plain": [
       "<IPython.core.display.Image object>"
      ]
     },
     "metadata": {},
     "output_type": "display_data"
    },
    {
     "name": "stdout",
     "output_type": "stream",
     "text": [
      "6\n"
     ]
    },
    {
     "data": {
      "text/html": [
       "<img src=\"https://www.christies.com/img/LotImages/2007/CKS/2007_CKS_07405_0458_000().jpg\" width=\"250\" height=\"250\"/>"
      ],
      "text/plain": [
       "<IPython.core.display.Image object>"
      ]
     },
     "metadata": {},
     "output_type": "display_data"
    },
    {
     "name": "stdout",
     "output_type": "stream",
     "text": [
      "7\n"
     ]
    },
    {
     "data": {
      "text/html": [
       "<img src=\"https://www.christies.com/img/LotImages/2007/CKS/2007_CKS_07408_0289_000().jpg\" width=\"250\" height=\"250\"/>"
      ],
      "text/plain": [
       "<IPython.core.display.Image object>"
      ]
     },
     "metadata": {},
     "output_type": "display_data"
    },
    {
     "name": "stdout",
     "output_type": "stream",
     "text": [
      "8\n"
     ]
    },
    {
     "data": {
      "text/html": [
       "<img src=\"https://www.christies.com/img/LotImages/2013/CKS/2013_CKS_01105_0450_000(emil_nolde_heuwiese).jpg\" width=\"250\" height=\"250\"/>"
      ],
      "text/plain": [
       "<IPython.core.display.Image object>"
      ]
     },
     "metadata": {},
     "output_type": "display_data"
    },
    {
     "name": "stdout",
     "output_type": "stream",
     "text": [
      "9\n"
     ]
    },
    {
     "data": {
      "text/html": [
       "<img src=\"https://www.christies.com/img/LotImages/2008/CSK/2008_CSK_05396_0454_000().jpg\" width=\"250\" height=\"250\"/>"
      ],
      "text/plain": [
       "<IPython.core.display.Image object>"
      ]
     },
     "metadata": {},
     "output_type": "display_data"
    },
    {
     "name": "stdout",
     "output_type": "stream",
     "text": [
      "10\n"
     ]
    },
    {
     "data": {
      "text/html": [
       "<img src=\"https://www.christies.com/img/LotImages/2009/CKS/2009_CKS_07706_0147_000().jpg\" width=\"250\" height=\"250\"/>"
      ],
      "text/plain": [
       "<IPython.core.display.Image object>"
      ]
     },
     "metadata": {},
     "output_type": "display_data"
    },
    {
     "name": "stdout",
     "output_type": "stream",
     "text": [
      "11\n"
     ]
    },
    {
     "data": {
      "text/html": [
       "<img src=\"https://www.christies.com/img/LotImages/2014/DUB/2014_DUB_01230_0010_000(effat_naghi_untitled).jpg\" width=\"250\" height=\"250\"/>"
      ],
      "text/plain": [
       "<IPython.core.display.Image object>"
      ]
     },
     "metadata": {},
     "output_type": "display_data"
    },
    {
     "name": "stdout",
     "output_type": "stream",
     "text": [
      "12\n"
     ]
    },
    {
     "data": {
      "text/html": [
       "<img src=\"https://www.christies.com/img/LotImages/2008/CKS/2008_CKS_07563_0250_000().jpg\" width=\"250\" height=\"250\"/>"
      ],
      "text/plain": [
       "<IPython.core.display.Image object>"
      ]
     },
     "metadata": {},
     "output_type": "display_data"
    },
    {
     "name": "stdout",
     "output_type": "stream",
     "text": [
      "13\n"
     ]
    },
    {
     "data": {
      "text/html": [
       "<img src=\"https://www.christies.com/img/LotImages/2012/CKS/2012_CKS_05709_0017_000(martin_kippenberger_untitled).jpg\" width=\"250\" height=\"250\"/>"
      ],
      "text/plain": [
       "<IPython.core.display.Image object>"
      ]
     },
     "metadata": {},
     "output_type": "display_data"
    },
    {
     "name": "stdout",
     "output_type": "stream",
     "text": [
      "14\n"
     ]
    },
    {
     "data": {
      "text/html": [
       "<img src=\"https://www.christies.com/img/LotImages/2013/NYR/2013_NYR_02789_0108_000(pablo_picasso_la_pique).jpg\" width=\"250\" height=\"250\"/>"
      ],
      "text/plain": [
       "<IPython.core.display.Image object>"
      ]
     },
     "metadata": {},
     "output_type": "display_data"
    },
    {
     "name": "stdout",
     "output_type": "stream",
     "text": [
      "15\n"
     ]
    },
    {
     "data": {
      "text/html": [
       "<img src=\"https://www.christies.com/img/LotImages/2014/NYR/2014_NYR_02844_0020_000(pablo_picasso_dix-neuf_plats_en_argent_i_visage_de_faune--dated_28655).jpg\" width=\"250\" height=\"250\"/>"
      ],
      "text/plain": [
       "<IPython.core.display.Image object>"
      ]
     },
     "metadata": {},
     "output_type": "display_data"
    },
    {
     "name": "stdout",
     "output_type": "stream",
     "text": [
      "16\n"
     ]
    },
    {
     "data": {
      "text/html": [
       "<img src=\"https://www.christies.com/img/LotImages/2010/NYR/2010_NYR_02353_0170_000(henry_moore_seated_figure).jpg\" width=\"250\" height=\"250\"/>"
      ],
      "text/plain": [
       "<IPython.core.display.Image object>"
      ]
     },
     "metadata": {},
     "output_type": "display_data"
    },
    {
     "name": "stdout",
     "output_type": "stream",
     "text": [
      "17\n"
     ]
    },
    {
     "data": {
      "text/html": [
       "<img src=\"https://www.christies.com/img/LotImages/2017/CKS/2017_CKS_13488_0458_000(marianne_von_werefkin_ameisenhaufen).jpg\" width=\"250\" height=\"250\"/>"
      ],
      "text/plain": [
       "<IPython.core.display.Image object>"
      ]
     },
     "metadata": {},
     "output_type": "display_data"
    },
    {
     "name": "stdout",
     "output_type": "stream",
     "text": [
      "18\n"
     ]
    },
    {
     "data": {
      "text/html": [
       "<img src=\"https://www.christies.com/img/LotImages/2017/NYR/2017_NYR_14997_0848_000(louise_bourgeois_untitled).jpg\" width=\"250\" height=\"250\"/>"
      ],
      "text/plain": [
       "<IPython.core.display.Image object>"
      ]
     },
     "metadata": {},
     "output_type": "display_data"
    },
    {
     "name": "stdout",
     "output_type": "stream",
     "text": [
      "19\n"
     ]
    },
    {
     "data": {
      "text/html": [
       "<img src=\"https://www.christies.com/img/LotImages/2010/NYR/2010_NYR_02336_0302_000(jamini_roy_untitled).jpg\" width=\"250\" height=\"250\"/>"
      ],
      "text/plain": [
       "<IPython.core.display.Image object>"
      ]
     },
     "metadata": {},
     "output_type": "display_data"
    },
    {
     "name": "stdout",
     "output_type": "stream",
     "text": [
      "20\n"
     ]
    },
    {
     "data": {
      "text/html": [
       "<img src=\"https://www.christies.com/img/LotImages/2007/CSK/2007_CSK_05226_0183_000().jpg\" width=\"250\" height=\"250\"/>"
      ],
      "text/plain": [
       "<IPython.core.display.Image object>"
      ]
     },
     "metadata": {},
     "output_type": "display_data"
    },
    {
     "name": "stdout",
     "output_type": "stream",
     "text": [
      "21\n"
     ]
    },
    {
     "data": {
      "text/html": [
       "<img src=\"https://www.christies.com/img/LotImages/2008/NYR/2008_NYR_01967_0095_000().jpg\" width=\"250\" height=\"250\"/>"
      ],
      "text/plain": [
       "<IPython.core.display.Image object>"
      ]
     },
     "metadata": {},
     "output_type": "display_data"
    },
    {
     "name": "stdout",
     "output_type": "stream",
     "text": [
      "22\n"
     ]
    },
    {
     "data": {
      "text/html": [
       "<img src=\"https://www.christies.com/img/LotImages/2006/NYR/2006_NYR_01726_0249_000().jpg\" width=\"250\" height=\"250\"/>"
      ],
      "text/plain": [
       "<IPython.core.display.Image object>"
      ]
     },
     "metadata": {},
     "output_type": "display_data"
    },
    {
     "name": "stdout",
     "output_type": "stream",
     "text": [
      "23\n"
     ]
    },
    {
     "data": {
      "text/html": [
       "<img src=\"https://www.christies.com/img/LotImages/2011/CSK/2011_CSK_06658_0004_000(dorothea_sharp_rba_vpsaw_the_sandcastle).jpg\" width=\"250\" height=\"250\"/>"
      ],
      "text/plain": [
       "<IPython.core.display.Image object>"
      ]
     },
     "metadata": {},
     "output_type": "display_data"
    },
    {
     "name": "stdout",
     "output_type": "stream",
     "text": [
      "24\n"
     ]
    },
    {
     "data": {
      "text/html": [
       "<img src=\"https://www.christies.com/img/LotImages/2007/DUB/2007_DUB_07477_0072_000().jpg\" width=\"250\" height=\"250\"/>"
      ],
      "text/plain": [
       "<IPython.core.display.Image object>"
      ]
     },
     "metadata": {},
     "output_type": "display_data"
    },
    {
     "name": "stdout",
     "output_type": "stream",
     "text": [
      "25\n"
     ]
    },
    {
     "data": {
      "text/html": [
       "<img src=\"https://www.christies.com/img/LotImages/2013/CKS/2013_CKS_01129_0018_000(hari_ambadas_gade_untitled).jpg\" width=\"250\" height=\"250\"/>"
      ],
      "text/plain": [
       "<IPython.core.display.Image object>"
      ]
     },
     "metadata": {},
     "output_type": "display_data"
    },
    {
     "name": "stdout",
     "output_type": "stream",
     "text": [
      "26\n"
     ]
    },
    {
     "data": {
      "text/html": [
       "<img src=\"https://www.christies.com/img/LotImages/2006/NYR/2006_NYR_01657_0317_000().jpg\" width=\"250\" height=\"250\"/>"
      ],
      "text/plain": [
       "<IPython.core.display.Image object>"
      ]
     },
     "metadata": {},
     "output_type": "display_data"
    },
    {
     "name": "stdout",
     "output_type": "stream",
     "text": [
      "27\n"
     ]
    },
    {
     "data": {
      "text/html": [
       "<img src=\"https://www.christies.com/img/LotImages/2012/CKS/2012_CKS_06766_0080_000(alex_landrum_tremble_intrigue).jpg\" width=\"250\" height=\"250\"/>"
      ],
      "text/plain": [
       "<IPython.core.display.Image object>"
      ]
     },
     "metadata": {},
     "output_type": "display_data"
    },
    {
     "name": "stdout",
     "output_type": "stream",
     "text": [
      "28\n"
     ]
    },
    {
     "data": {
      "text/html": [
       "<img src=\"https://www.christies.com/img/LotImages/2014/NYR/2014_NYR_02892_0171_000(jennifer_bartlett_aspen_6_weeks_painting_9).jpg\" width=\"250\" height=\"250\"/>"
      ],
      "text/plain": [
       "<IPython.core.display.Image object>"
      ]
     },
     "metadata": {},
     "output_type": "display_data"
    },
    {
     "name": "stdout",
     "output_type": "stream",
     "text": [
      "29\n"
     ]
    },
    {
     "data": {
      "text/html": [
       "<img src=\"https://www.christies.com/img/LotImages/2011/CKS/2011_CKS_07978_0227_000(miquel_barcelo_untitled).jpg\" width=\"250\" height=\"250\"/>"
      ],
      "text/plain": [
       "<IPython.core.display.Image object>"
      ]
     },
     "metadata": {},
     "output_type": "display_data"
    },
    {
     "name": "stdout",
     "output_type": "stream",
     "text": [
      "30\n"
     ]
    },
    {
     "data": {
      "text/html": [
       "<img src=\"https://www.christies.com/img/LotImages/2013/CSK/2013_CSK_08981_0023_000(lionel_townsend_crawshaw_summer_holidays).jpg\" width=\"250\" height=\"250\"/>"
      ],
      "text/plain": [
       "<IPython.core.display.Image object>"
      ]
     },
     "metadata": {},
     "output_type": "display_data"
    },
    {
     "name": "stdout",
     "output_type": "stream",
     "text": [
      "31\n"
     ]
    },
    {
     "data": {
      "text/html": [
       "<img src=\"https://www.christies.com/img/LotImages/2007/CKS/2007_CKS_07358_0204_000().jpg\" width=\"250\" height=\"250\"/>"
      ],
      "text/plain": [
       "<IPython.core.display.Image object>"
      ]
     },
     "metadata": {},
     "output_type": "display_data"
    },
    {
     "name": "stdout",
     "output_type": "stream",
     "text": [
      "32\n"
     ]
    },
    {
     "data": {
      "text/html": [
       "<img src=\"https://www.christies.com/img/LotImages/2006/CSK/2006_CSK_05008_0076_000().jpg\" width=\"250\" height=\"250\"/>"
      ],
      "text/plain": [
       "<IPython.core.display.Image object>"
      ]
     },
     "metadata": {},
     "output_type": "display_data"
    },
    {
     "name": "stdout",
     "output_type": "stream",
     "text": [
      "33\n"
     ]
    },
    {
     "data": {
      "text/html": [
       "<img src=\"https://www.christies.com/img/LotImages/2013/NYR/2013_NYR_02786_0184_000(milton_resnick_flag).jpg\" width=\"250\" height=\"250\"/>"
      ],
      "text/plain": [
       "<IPython.core.display.Image object>"
      ]
     },
     "metadata": {},
     "output_type": "display_data"
    },
    {
     "name": "stdout",
     "output_type": "stream",
     "text": [
      "34\n"
     ]
    },
    {
     "data": {
      "text/html": [
       "<img src=\"https://www.christies.com/img/LotImages/2011/CKS/2011_CKS_07974_0016_000(henri_matisse_oceanie_la_mer).jpg\" width=\"250\" height=\"250\"/>"
      ],
      "text/plain": [
       "<IPython.core.display.Image object>"
      ]
     },
     "metadata": {},
     "output_type": "display_data"
    },
    {
     "name": "stdout",
     "output_type": "stream",
     "text": [
      "35\n"
     ]
    },
    {
     "data": {
      "text/html": [
       "<img src=\"https://www.christies.com/img/LotImages/2006/NYR/2006_NYR_01659_0171_000().jpg\" width=\"250\" height=\"250\"/>"
      ],
      "text/plain": [
       "<IPython.core.display.Image object>"
      ]
     },
     "metadata": {},
     "output_type": "display_data"
    },
    {
     "name": "stdout",
     "output_type": "stream",
     "text": [
      "36\n"
     ]
    },
    {
     "data": {
      "text/html": [
       "<img src=\"https://www.christies.com/img/LotImages/2014/NYR/2014_NYR_02822_0148_000(peter_rindisbacher_poplar_point_lake_winipeg).jpg\" width=\"250\" height=\"250\"/>"
      ],
      "text/plain": [
       "<IPython.core.display.Image object>"
      ]
     },
     "metadata": {},
     "output_type": "display_data"
    },
    {
     "name": "stdout",
     "output_type": "stream",
     "text": [
      "37\n"
     ]
    },
    {
     "data": {
      "text/html": [
       "<img src=\"https://www.christies.com/img/LotImages/2014/CKS/2014_CKS_01543_0020_000(ivon_hitchens_spring_flowers_with_blue_teapot).jpg\" width=\"250\" height=\"250\"/>"
      ],
      "text/plain": [
       "<IPython.core.display.Image object>"
      ]
     },
     "metadata": {},
     "output_type": "display_data"
    },
    {
     "name": "stdout",
     "output_type": "stream",
     "text": [
      "38\n"
     ]
    },
    {
     "data": {
      "text/html": [
       "<img src=\"https://www.christies.com/img/LotImages/2011/CKS/2011_CKS_07956_0113_000(piero_manzoni_achrome).jpg\" width=\"250\" height=\"250\"/>"
      ],
      "text/plain": [
       "<IPython.core.display.Image object>"
      ]
     },
     "metadata": {},
     "output_type": "display_data"
    },
    {
     "name": "stdout",
     "output_type": "stream",
     "text": [
      "39\n"
     ]
    },
    {
     "data": {
      "text/html": [
       "<img src=\"https://www.christies.com/img/LotImages/2013/CSK/2013_CSK_09762_0167_000(john_walker_alba_in_green_1980).jpg\" width=\"250\" height=\"250\"/>"
      ],
      "text/plain": [
       "<IPython.core.display.Image object>"
      ]
     },
     "metadata": {},
     "output_type": "display_data"
    },
    {
     "name": "stdout",
     "output_type": "stream",
     "text": [
      "40\n"
     ]
    },
    {
     "data": {
      "text/html": [
       "<img src=\"https://www.christies.com/img/LotImages/2006/NYR/2006_NYR_01729_0041_000().jpg\" width=\"250\" height=\"250\"/>"
      ],
      "text/plain": [
       "<IPython.core.display.Image object>"
      ]
     },
     "metadata": {},
     "output_type": "display_data"
    },
    {
     "name": "stdout",
     "output_type": "stream",
     "text": [
      "41\n"
     ]
    },
    {
     "data": {
      "text/html": [
       "<img src=\"https://www.christies.com/img/LotImages/2013/CSK/2013_CSK_09762_0184_000(william_gear_ra_vertical_red_yellow).jpg\" width=\"250\" height=\"250\"/>"
      ],
      "text/plain": [
       "<IPython.core.display.Image object>"
      ]
     },
     "metadata": {},
     "output_type": "display_data"
    },
    {
     "name": "stdout",
     "output_type": "stream",
     "text": [
      "42\n"
     ]
    },
    {
     "data": {
      "text/html": [
       "<img src=\"https://www.christies.com/img/LotImages/2007/NYR/2007_NYR_01802_0089_000().jpg\" width=\"250\" height=\"250\"/>"
      ],
      "text/plain": [
       "<IPython.core.display.Image object>"
      ]
     },
     "metadata": {},
     "output_type": "display_data"
    },
    {
     "name": "stdout",
     "output_type": "stream",
     "text": [
      "43\n"
     ]
    },
    {
     "data": {
      "text/html": [
       "<img src=\"https://www.christies.com/img/LotImages/2016/NYR/2016_NYR_12070_1046_000(victor_brauner_sans_titre).jpg\" width=\"250\" height=\"250\"/>"
      ],
      "text/plain": [
       "<IPython.core.display.Image object>"
      ]
     },
     "metadata": {},
     "output_type": "display_data"
    },
    {
     "name": "stdout",
     "output_type": "stream",
     "text": [
      "44\n"
     ]
    },
    {
     "data": {
      "text/html": [
       "<img src=\"https://www.christies.com/img/LotImages/2013/NYR/2013_NYR_02727_0208_000(alexander_calder_starfish).jpg\" width=\"250\" height=\"250\"/>"
      ],
      "text/plain": [
       "<IPython.core.display.Image object>"
      ]
     },
     "metadata": {},
     "output_type": "display_data"
    },
    {
     "name": "stdout",
     "output_type": "stream",
     "text": [
      "45\n"
     ]
    },
    {
     "data": {
      "text/html": [
       "<img src=\"https://www.christies.com/img/LotImages/2016/CKS/2016_CKS_12224_0135_000(christopher_wood_harbour_entrance_dieppe).jpg\" width=\"250\" height=\"250\"/>"
      ],
      "text/plain": [
       "<IPython.core.display.Image object>"
      ]
     },
     "metadata": {},
     "output_type": "display_data"
    },
    {
     "name": "stdout",
     "output_type": "stream",
     "text": [
      "46\n"
     ]
    },
    {
     "data": {
      "text/html": [
       "<img src=\"https://www.christies.com/img/LotImages/2014/NYR/2014_NYR_02847_0038_000(jean-michel_basquiat_peter_and_the_wolf).jpg\" width=\"250\" height=\"250\"/>"
      ],
      "text/plain": [
       "<IPython.core.display.Image object>"
      ]
     },
     "metadata": {},
     "output_type": "display_data"
    },
    {
     "name": "stdout",
     "output_type": "stream",
     "text": [
      "47\n"
     ]
    },
    {
     "data": {
      "text/html": [
       "<img src=\"https://www.christies.com/img/LotImages/2010/DUB/2010_DUB_07895_0144_000(ramin_haerizadeh_wonders_of_nature_12).jpg\" width=\"250\" height=\"250\"/>"
      ],
      "text/plain": [
       "<IPython.core.display.Image object>"
      ]
     },
     "metadata": {},
     "output_type": "display_data"
    },
    {
     "name": "stdout",
     "output_type": "stream",
     "text": [
      "48\n"
     ]
    },
    {
     "data": {
      "text/html": [
       "<img src=\"https://www.christies.com/img/LotImages/2008/CKS/2008_CKS_07564_0626_000().jpg\" width=\"250\" height=\"250\"/>"
      ],
      "text/plain": [
       "<IPython.core.display.Image object>"
      ]
     },
     "metadata": {},
     "output_type": "display_data"
    },
    {
     "name": "stdout",
     "output_type": "stream",
     "text": [
      "49\n"
     ]
    },
    {
     "data": {
      "text/html": [
       "<img src=\"https://www.christies.com/img/LotImages/2016/NYR/2016_NYR_12159_0445_000(sol_lewitt_six_drawings_straight_lines_approximately_one_inch_long).jpg\" width=\"250\" height=\"250\"/>"
      ],
      "text/plain": [
       "<IPython.core.display.Image object>"
      ]
     },
     "metadata": {},
     "output_type": "display_data"
    },
    {
     "name": "stdout",
     "output_type": "stream",
     "text": [
      "50\n"
     ]
    },
    {
     "data": {
      "text/html": [
       "<img src=\"https://www.christies.com/img/LotImages/2009/NYR/2009_NYR_02138_0079_000().jpg\" width=\"250\" height=\"250\"/>"
      ],
      "text/plain": [
       "<IPython.core.display.Image object>"
      ]
     },
     "metadata": {},
     "output_type": "display_data"
    },
    {
     "name": "stdout",
     "output_type": "stream",
     "text": [
      "51\n"
     ]
    },
    {
     "data": {
      "text/html": [
       "<img src=\"https://www.christies.com/img/LotImages/2008/NYR/2008_NYR_01995_0385_000().jpg\" width=\"250\" height=\"250\"/>"
      ],
      "text/plain": [
       "<IPython.core.display.Image object>"
      ]
     },
     "metadata": {},
     "output_type": "display_data"
    },
    {
     "name": "stdout",
     "output_type": "stream",
     "text": [
      "52\n"
     ]
    },
    {
     "data": {
      "text/html": [
       "<img src=\"https://www.christies.com/img/LotImages/2008/NYR/2008_NYR_02045_0029_000().jpg\" width=\"250\" height=\"250\"/>"
      ],
      "text/plain": [
       "<IPython.core.display.Image object>"
      ]
     },
     "metadata": {},
     "output_type": "display_data"
    },
    {
     "name": "stdout",
     "output_type": "stream",
     "text": [
      "53\n"
     ]
    },
    {
     "data": {
      "text/html": [
       "<img src=\"https://www.christies.com/img/LotImages/2011/CKS/2011_CKS_07954_0440_000(aristide_maillol_etude_pour_la_pensee).jpg\" width=\"250\" height=\"250\"/>"
      ],
      "text/plain": [
       "<IPython.core.display.Image object>"
      ]
     },
     "metadata": {},
     "output_type": "display_data"
    },
    {
     "name": "stdout",
     "output_type": "stream",
     "text": [
      "54\n"
     ]
    },
    {
     "data": {
      "text/html": [
       "<img src=\"https://www.christies.com/img/LotImages/2015/NYR/2015_NYR_03785_1222_000(henri_matisse_torse_debout).jpg\" width=\"250\" height=\"250\"/>"
      ],
      "text/plain": [
       "<IPython.core.display.Image object>"
      ]
     },
     "metadata": {},
     "output_type": "display_data"
    },
    {
     "name": "stdout",
     "output_type": "stream",
     "text": [
      "55\n"
     ]
    },
    {
     "data": {
      "text/html": [
       "<img src=\"https://www.christies.com/img/LotImages/2014/CKS/2014_CKS_01509_0418_000(kurt_schwitters_das_schwert_des_deutschen_geistes).jpg\" width=\"250\" height=\"250\"/>"
      ],
      "text/plain": [
       "<IPython.core.display.Image object>"
      ]
     },
     "metadata": {},
     "output_type": "display_data"
    },
    {
     "name": "stdout",
     "output_type": "stream",
     "text": [
      "56\n"
     ]
    },
    {
     "data": {
      "text/html": [
       "<img src=\"https://www.christies.com/img/LotImages/2017/NYR/2017_NYR_15006_0332_000(auguste_rodin_etude_pour_le_secret).jpg\" width=\"250\" height=\"250\"/>"
      ],
      "text/plain": [
       "<IPython.core.display.Image object>"
      ]
     },
     "metadata": {},
     "output_type": "display_data"
    },
    {
     "name": "stdout",
     "output_type": "stream",
     "text": [
      "57\n"
     ]
    },
    {
     "data": {
      "text/html": [
       "<img src=\"https://www.christies.com/img/LotImages/2014/NYR/2014_NYR_03473_0576_000(william_morris_petroglyph_vessel_1989).jpg\" width=\"250\" height=\"250\"/>"
      ],
      "text/plain": [
       "<IPython.core.display.Image object>"
      ]
     },
     "metadata": {},
     "output_type": "display_data"
    },
    {
     "name": "stdout",
     "output_type": "stream",
     "text": [
      "58\n"
     ]
    },
    {
     "data": {
      "text/html": [
       "<img src=\"https://www.christies.com/img/LotImages/2006/CSK/2006_CSK_05010_0111_000().jpg\" width=\"250\" height=\"250\"/>"
      ],
      "text/plain": [
       "<IPython.core.display.Image object>"
      ]
     },
     "metadata": {},
     "output_type": "display_data"
    },
    {
     "name": "stdout",
     "output_type": "stream",
     "text": [
      "59\n"
     ]
    },
    {
     "data": {
      "text/html": [
       "<img src=\"https://www.christies.com/img/LotImages/2012/CSK/2012_CSK_06240_0059_000(gutfreund_otto_lovers).jpg\" width=\"250\" height=\"250\"/>"
      ],
      "text/plain": [
       "<IPython.core.display.Image object>"
      ]
     },
     "metadata": {},
     "output_type": "display_data"
    },
    {
     "name": "stdout",
     "output_type": "stream",
     "text": [
      "60\n"
     ]
    },
    {
     "data": {
      "text/html": [
       "<img src=\"https://www.christies.com/img/LotImages/2012/NYR/2012_NYR_02596_0436_000(kathe_kollwitz_pieta).jpg\" width=\"250\" height=\"250\"/>"
      ],
      "text/plain": [
       "<IPython.core.display.Image object>"
      ]
     },
     "metadata": {},
     "output_type": "display_data"
    },
    {
     "name": "stdout",
     "output_type": "stream",
     "text": [
      "61\n"
     ]
    },
    {
     "data": {
      "text/html": [
       "<img src=\"https://www.christies.com/img/LotImages/2013/CKS/2013_CKS_01122_0007_000(dame_barbara_hepworth_curved_form).jpg\" width=\"250\" height=\"250\"/>"
      ],
      "text/plain": [
       "<IPython.core.display.Image object>"
      ]
     },
     "metadata": {},
     "output_type": "display_data"
    },
    {
     "name": "stdout",
     "output_type": "stream",
     "text": [
      "62\n"
     ]
    },
    {
     "data": {
      "text/html": [
       "<img src=\"https://www.christies.com/img/LotImages/2010/CSK/2010_CSK_05486_0155_000(pablo_picasso_hibou_marron_noir).jpg\" width=\"250\" height=\"250\"/>"
      ],
      "text/plain": [
       "<IPython.core.display.Image object>"
      ]
     },
     "metadata": {},
     "output_type": "display_data"
    },
    {
     "name": "stdout",
     "output_type": "stream",
     "text": [
      "63\n"
     ]
    },
    {
     "data": {
      "text/html": [
       "<img src=\"https://www.christies.com/img/LotImages/2012/CKS/2012_CKS_06766_0011_000(haluk_akakce_blue_and_black_on_white).jpg\" width=\"250\" height=\"250\"/>"
      ],
      "text/plain": [
       "<IPython.core.display.Image object>"
      ]
     },
     "metadata": {},
     "output_type": "display_data"
    },
    {
     "name": "stdout",
     "output_type": "stream",
     "text": [
      "64\n"
     ]
    },
    {
     "data": {
      "text/html": [
       "<img src=\"https://www.christies.com/img/LotImages/2017/NYR/2017_NYR_14997_0823_000(dan_flavin_the_diagonal_of_may_25_1963).jpg\" width=\"250\" height=\"250\"/>"
      ],
      "text/plain": [
       "<IPython.core.display.Image object>"
      ]
     },
     "metadata": {},
     "output_type": "display_data"
    },
    {
     "name": "stdout",
     "output_type": "stream",
     "text": [
      "65\n"
     ]
    },
    {
     "data": {
      "text/html": [
       "<img src=\"https://www.christies.com/img/LotImages/2017/NYR/2017_NYR_15006_0386_000(gerhard_marcks_zehspieler).jpg\" width=\"250\" height=\"250\"/>"
      ],
      "text/plain": [
       "<IPython.core.display.Image object>"
      ]
     },
     "metadata": {},
     "output_type": "display_data"
    },
    {
     "name": "stdout",
     "output_type": "stream",
     "text": [
      "66\n"
     ]
    },
    {
     "data": {
      "text/html": [
       "<img src=\"https://www.christies.com/img/LotImages/2008/NYR/2008_NYR_01999_0341_000().jpg\" width=\"250\" height=\"250\"/>"
      ],
      "text/plain": [
       "<IPython.core.display.Image object>"
      ]
     },
     "metadata": {},
     "output_type": "display_data"
    },
    {
     "name": "stdout",
     "output_type": "stream",
     "text": [
      "67\n"
     ]
    },
    {
     "data": {
      "text/html": [
       "<img src=\"https://www.christies.com/img/LotImages/2013/NYR/2013_NYR_02681_0092_000(isidore_konti_pushing_men_a_pair_of_bookends).jpg\" width=\"250\" height=\"250\"/>"
      ],
      "text/plain": [
       "<IPython.core.display.Image object>"
      ]
     },
     "metadata": {},
     "output_type": "display_data"
    },
    {
     "name": "stdout",
     "output_type": "stream",
     "text": [
      "68\n"
     ]
    },
    {
     "data": {
      "text/html": [
       "<img src=\"https://www.christies.com/img/LotImages/2016/NYR/2016_NYR_12071_1211_000(henry_moore_horse).jpg\" width=\"250\" height=\"250\"/>"
      ],
      "text/plain": [
       "<IPython.core.display.Image object>"
      ]
     },
     "metadata": {},
     "output_type": "display_data"
    },
    {
     "name": "stdout",
     "output_type": "stream",
     "text": [
      "69\n"
     ]
    },
    {
     "data": {
      "text/html": [
       "<img src=\"https://www.christies.com/img/LotImages/2013/NYR/2013_NYR_02790_0320_000(auguste_rodin_danaide_petit_modele_version_type_i).jpg\" width=\"250\" height=\"250\"/>"
      ],
      "text/plain": [
       "<IPython.core.display.Image object>"
      ]
     },
     "metadata": {},
     "output_type": "display_data"
    },
    {
     "name": "stdout",
     "output_type": "stream",
     "text": [
      "70\n"
     ]
    },
    {
     "data": {
      "text/html": [
       "<img src=\"https://www.christies.com/img/LotImages/2016/CKS/2016_CKS_12226_0145_000(dame_elisabeth_frink_ra_man_with_goggles).jpg\" width=\"250\" height=\"250\"/>"
      ],
      "text/plain": [
       "<IPython.core.display.Image object>"
      ]
     },
     "metadata": {},
     "output_type": "display_data"
    },
    {
     "name": "stdout",
     "output_type": "stream",
     "text": [
      "71\n"
     ]
    },
    {
     "data": {
      "text/html": [
       "<img src=\"https://www.christies.com/img/LotImages/2006/CKS/2006_CKS_07247_0149_000().jpg\" width=\"250\" height=\"250\"/>"
      ],
      "text/plain": [
       "<IPython.core.display.Image object>"
      ]
     },
     "metadata": {},
     "output_type": "display_data"
    },
    {
     "name": "stdout",
     "output_type": "stream",
     "text": [
      "72\n"
     ]
    },
    {
     "data": {
      "text/html": [
       "<img src=\"https://www.christies.com/img/LotImages/2015/CKS/2015_CKS_10380_0319_000(baltasar_lobo_jeune_fille_de_face_mains_croisees).jpg\" width=\"250\" height=\"250\"/>"
      ],
      "text/plain": [
       "<IPython.core.display.Image object>"
      ]
     },
     "metadata": {},
     "output_type": "display_data"
    },
    {
     "name": "stdout",
     "output_type": "stream",
     "text": [
      "73\n"
     ]
    },
    {
     "data": {
      "text/html": [
       "<img src=\"https://www.christies.com/img/LotImages/2012/CKS/2012_CKS_08053_0212_000(ugo_rondinone_zehnterseptemberneunzehn_hundertachtundneunzig).jpg\" width=\"250\" height=\"250\"/>"
      ],
      "text/plain": [
       "<IPython.core.display.Image object>"
      ]
     },
     "metadata": {},
     "output_type": "display_data"
    },
    {
     "name": "stdout",
     "output_type": "stream",
     "text": [
      "74\n"
     ]
    },
    {
     "data": {
      "text/html": [
       "<img src=\"https://www.christies.com/img/LotImages/2016/CKS/2016_CKS_11791_0311_000(marino_marini_latleta).jpg\" width=\"250\" height=\"250\"/>"
      ],
      "text/plain": [
       "<IPython.core.display.Image object>"
      ]
     },
     "metadata": {},
     "output_type": "display_data"
    },
    {
     "name": "stdout",
     "output_type": "stream",
     "text": [
      "75\n"
     ]
    },
    {
     "data": {
      "text/html": [
       "<img src=\"https://www.christies.com/img/LotImages/2017/NYR/2017_NYR_14183_0013A_000(henry_moore_working_model_for_reclining_figure_prop).jpg\" width=\"250\" height=\"250\"/>"
      ],
      "text/plain": [
       "<IPython.core.display.Image object>"
      ]
     },
     "metadata": {},
     "output_type": "display_data"
    },
    {
     "name": "stdout",
     "output_type": "stream",
     "text": [
      "76\n"
     ]
    },
    {
     "data": {
      "text/html": [
       "<img src=\"https://www.christies.com/img/LotImages/2016/NYR/2016_NYR_12147_1202_000(alberto_giacometti_lampadaire_modele_feuille).jpg\" width=\"250\" height=\"250\"/>"
      ],
      "text/plain": [
       "<IPython.core.display.Image object>"
      ]
     },
     "metadata": {},
     "output_type": "display_data"
    },
    {
     "name": "stdout",
     "output_type": "stream",
     "text": [
      "77\n"
     ]
    },
    {
     "data": {
      "text/html": [
       "<img src=\"https://www.christies.com/img/LotImages/2012/CSK/2012_CSK_04420_0141_000(pablo_picasso_joueur_de_flute_et_chevre).jpg\" width=\"250\" height=\"250\"/>"
      ],
      "text/plain": [
       "<IPython.core.display.Image object>"
      ]
     },
     "metadata": {},
     "output_type": "display_data"
    },
    {
     "name": "stdout",
     "output_type": "stream",
     "text": [
      "78\n"
     ]
    },
    {
     "data": {
      "text/html": [
       "<img src=\"https://www.christies.com/img/LotImages/2008/NYR/2008_NYR_02046_0105_000().jpg\" width=\"250\" height=\"250\"/>"
      ],
      "text/plain": [
       "<IPython.core.display.Image object>"
      ]
     },
     "metadata": {},
     "output_type": "display_data"
    },
    {
     "name": "stdout",
     "output_type": "stream",
     "text": [
      "79\n"
     ]
    },
    {
     "data": {
      "text/html": [
       "<img src=\"https://www.christies.com/img/LotImages/2013/CKS/2013_CKS_01124_0206_000(henri_gaudier-brzeska_mermaid).jpg\" width=\"250\" height=\"250\"/>"
      ],
      "text/plain": [
       "<IPython.core.display.Image object>"
      ]
     },
     "metadata": {},
     "output_type": "display_data"
    },
    {
     "name": "stdout",
     "output_type": "stream",
     "text": [
      "80\n"
     ]
    },
    {
     "data": {
      "text/html": [
       "<img src=\"https://www.christies.com/img/LotImages/2012/CKS/2012_CKS_05326_0006_000(frederic_lord_leighton_pra_the_sluggard).jpg\" width=\"250\" height=\"250\"/>"
      ],
      "text/plain": [
       "<IPython.core.display.Image object>"
      ]
     },
     "metadata": {},
     "output_type": "display_data"
    },
    {
     "name": "stdout",
     "output_type": "stream",
     "text": [
      "81\n"
     ]
    },
    {
     "data": {
      "text/html": [
       "<img src=\"https://www.christies.com/img/LotImages/2011/CKS/2011_CKS_07951_0027_000(henri_laurens_pablo_picasso_femme_debout).jpg\" width=\"250\" height=\"250\"/>"
      ],
      "text/plain": [
       "<IPython.core.display.Image object>"
      ]
     },
     "metadata": {},
     "output_type": "display_data"
    },
    {
     "name": "stdout",
     "output_type": "stream",
     "text": [
      "82\n"
     ]
    },
    {
     "data": {
      "text/html": [
       "<img src=\"https://www.christies.com/img/LotImages/2012/CSK/2012_CSK_04420_0110_000(pablo_picasso_visage_no_12).jpg\" width=\"250\" height=\"250\"/>"
      ],
      "text/plain": [
       "<IPython.core.display.Image object>"
      ]
     },
     "metadata": {},
     "output_type": "display_data"
    },
    {
     "name": "stdout",
     "output_type": "stream",
     "text": [
      "83\n"
     ]
    },
    {
     "data": {
      "text/html": [
       "<img src=\"https://www.christies.com/img/LotImages/2008/CSK/2008_CSK_05392_0395_000().jpg\" width=\"250\" height=\"250\"/>"
      ],
      "text/plain": [
       "<IPython.core.display.Image object>"
      ]
     },
     "metadata": {},
     "output_type": "display_data"
    },
    {
     "name": "stdout",
     "output_type": "stream",
     "text": [
      "84\n"
     ]
    },
    {
     "data": {
      "text/html": [
       "<img src=\"https://www.christies.com/img/LotImages/2011/NYR/2011_NYR_02439_0346_000(jacques_lipchitz_mardi_gras).jpg\" width=\"250\" height=\"250\"/>"
      ],
      "text/plain": [
       "<IPython.core.display.Image object>"
      ]
     },
     "metadata": {},
     "output_type": "display_data"
    },
    {
     "name": "stdout",
     "output_type": "stream",
     "text": [
      "85\n"
     ]
    },
    {
     "data": {
      "text/html": [
       "<img src=\"https://www.christies.com/img/LotImages/2013/CKS/2013_CKS_01158_0137_000(robert_clatworthy_ra_horse).jpg\" width=\"250\" height=\"250\"/>"
      ],
      "text/plain": [
       "<IPython.core.display.Image object>"
      ]
     },
     "metadata": {},
     "output_type": "display_data"
    },
    {
     "name": "stdout",
     "output_type": "stream",
     "text": [
      "86\n"
     ]
    },
    {
     "data": {
      "text/html": [
       "<img src=\"https://www.christies.com/img/LotImages/2015/NYR/2015_NYR_03715_0089_000(fred_sandback_untitled).jpg\" width=\"250\" height=\"250\"/>"
      ],
      "text/plain": [
       "<IPython.core.display.Image object>"
      ]
     },
     "metadata": {},
     "output_type": "display_data"
    },
    {
     "name": "stdout",
     "output_type": "stream",
     "text": [
      "87\n"
     ]
    },
    {
     "data": {
      "text/html": [
       "<img src=\"https://www.christies.com/img/LotImages/2010/CKS/2010_CKS_07859_0305_000(auguste_rodin_leternel_printemps).jpg\" width=\"250\" height=\"250\"/>"
      ],
      "text/plain": [
       "<IPython.core.display.Image object>"
      ]
     },
     "metadata": {},
     "output_type": "display_data"
    },
    {
     "name": "stdout",
     "output_type": "stream",
     "text": [
      "88\n"
     ]
    },
    {
     "data": {
      "text/html": [
       "<img src=\"https://www.christies.com/img/LotImages/2015/CKS/2015_CKS_11148_0027_000(augustus_edwin_john_om_ra_female_nude_seated).jpg\" width=\"250\" height=\"250\"/>"
      ],
      "text/plain": [
       "<IPython.core.display.Image object>"
      ]
     },
     "metadata": {},
     "output_type": "display_data"
    },
    {
     "name": "stdout",
     "output_type": "stream",
     "text": [
      "89\n"
     ]
    },
    {
     "data": {
      "text/html": [
       "<img src=\"https://www.christies.com/img/LotImages/2012/CKS/2012_CKS_05472_0354_000(henri_laurens_femme_en_chemise).jpg\" width=\"250\" height=\"250\"/>"
      ],
      "text/plain": [
       "<IPython.core.display.Image object>"
      ]
     },
     "metadata": {},
     "output_type": "display_data"
    },
    {
     "name": "stdout",
     "output_type": "stream",
     "text": [
      "90\n"
     ]
    },
    {
     "data": {
      "text/html": [
       "<img src=\"https://www.christies.com/img/LotImages/2016/NYR/2016_NYR_12153_0114_000(gilbert_george_pink_dilemma).jpg\" width=\"250\" height=\"250\"/>"
      ],
      "text/plain": [
       "<IPython.core.display.Image object>"
      ]
     },
     "metadata": {},
     "output_type": "display_data"
    },
    {
     "name": "stdout",
     "output_type": "stream",
     "text": [
      "91\n"
     ]
    },
    {
     "data": {
      "text/html": [
       "<img src=\"https://www.christies.com/img/LotImages/2014/NYR/2014_NYR_02847_0051_000(robert_ryman_painting_measuring_10_x_11_with_white_and_green_shapes_an).jpg\" width=\"250\" height=\"250\"/>"
      ],
      "text/plain": [
       "<IPython.core.display.Image object>"
      ]
     },
     "metadata": {},
     "output_type": "display_data"
    },
    {
     "name": "stdout",
     "output_type": "stream",
     "text": [
      "92\n"
     ]
    },
    {
     "data": {
      "text/html": [
       "<img src=\"https://www.christies.com/img/LotImages/2010/CSK/2010_CSK_05486_0166_000(pablo_picasso_taureau_sous_larbre).jpg\" width=\"250\" height=\"250\"/>"
      ],
      "text/plain": [
       "<IPython.core.display.Image object>"
      ]
     },
     "metadata": {},
     "output_type": "display_data"
    },
    {
     "name": "stdout",
     "output_type": "stream",
     "text": [
      "93\n"
     ]
    },
    {
     "data": {
      "text/html": [
       "<img src=\"https://www.christies.com/img/LotImages/2012/CKS/2012_CKS_06766_0107_000(massimo_vitali_viareggio).jpg\" width=\"250\" height=\"250\"/>"
      ],
      "text/plain": [
       "<IPython.core.display.Image object>"
      ]
     },
     "metadata": {},
     "output_type": "display_data"
    },
    {
     "name": "stdout",
     "output_type": "stream",
     "text": [
      "94\n"
     ]
    },
    {
     "data": {
      "text/html": [
       "<img src=\"https://www.christies.com/img/LotImages/2015/CSK/2015_CSK_10444_0074_000(wilhelmina_barns-graham_under_water).jpg\" width=\"250\" height=\"250\"/>"
      ],
      "text/plain": [
       "<IPython.core.display.Image object>"
      ]
     },
     "metadata": {},
     "output_type": "display_data"
    },
    {
     "name": "stdout",
     "output_type": "stream",
     "text": [
      "95\n"
     ]
    },
    {
     "data": {
      "text/html": [
       "<img src=\"https://www.christies.com/img/LotImages/2011/DUB/2011_DUB_07935_0038_000(adel_el-siwi_the_five_nomadic_kings_d5486466).jpg\" width=\"250\" height=\"250\"/>"
      ],
      "text/plain": [
       "<IPython.core.display.Image object>"
      ]
     },
     "metadata": {},
     "output_type": "display_data"
    },
    {
     "name": "stdout",
     "output_type": "stream",
     "text": [
      "96\n"
     ]
    },
    {
     "data": {
      "text/html": [
       "<img src=\"https://www.christies.com/img/LotImages/2015/NYR/2015_NYR_03715_0019_000(hc_westermann_the_killer_iceberg_+_fog).jpg\" width=\"250\" height=\"250\"/>"
      ],
      "text/plain": [
       "<IPython.core.display.Image object>"
      ]
     },
     "metadata": {},
     "output_type": "display_data"
    },
    {
     "name": "stdout",
     "output_type": "stream",
     "text": [
      "97\n"
     ]
    },
    {
     "data": {
      "text/html": [
       "<img src=\"https://www.christies.com/img/LotImages/2007/CKS/2007_CKS_07405_0333_000().jpg\" width=\"250\" height=\"250\"/>"
      ],
      "text/plain": [
       "<IPython.core.display.Image object>"
      ]
     },
     "metadata": {},
     "output_type": "display_data"
    },
    {
     "name": "stdout",
     "output_type": "stream",
     "text": [
      "98\n"
     ]
    },
    {
     "data": {
      "text/html": [
       "<img src=\"https://www.christies.com/img/LotImages/2012/CSK/2012_CSK_06240_0103_000(gino_severini_pierrot_musicien).jpg\" width=\"250\" height=\"250\"/>"
      ],
      "text/plain": [
       "<IPython.core.display.Image object>"
      ]
     },
     "metadata": {},
     "output_type": "display_data"
    },
    {
     "name": "stdout",
     "output_type": "stream",
     "text": [
      "99\n"
     ]
    },
    {
     "data": {
      "text/html": [
       "<img src=\"https://www.christies.com/img/LotImages/2006/CSK/2006_CSK_05010_0124_000().jpg\" width=\"250\" height=\"250\"/>"
      ],
      "text/plain": [
       "<IPython.core.display.Image object>"
      ]
     },
     "metadata": {},
     "output_type": "display_data"
    }
   ],
   "source": [
    "utils.view_images_from_url(df, url_col, subsample=False)"
   ]
  },
  {
   "cell_type": "markdown",
   "metadata": {},
   "source": [
    "## Manual Assesment\n",
    "\n",
    "Accuracy: 0.64\n",
    "\n",
    "Many bronze sculptures are not classifiedclassified as sculpture/decorative object.\n",
    "Drawing misclassified as installation\n",
    "When there's a little depth to the painting it can be classed as 3D\n",
    "There's an edge case where a painted wooden sculpture was classified as a painting.\n",
    "\n",
    "Feedback:\n",
    "* Need to add 'terracotta' to decorative object\n"
   ]
  },
  {
   "cell_type": "code",
   "execution_count": 19,
   "metadata": {},
   "outputs": [
    {
     "name": "stdout",
     "output_type": "stream",
     "text": [
      "0\n",
      "[\"signed and dated Wifredo Lam, 1970 (faintly on the lower right and again on the reverse)\\r\",\"oil on canvas\\r\",\"18 x 14 7/8 in. (45.7 x 37.7 cm.)\\r\",\"Painted in 1970.\"]\n",
      "\n",
      "\n",
      "1\n",
      "[\"signed and dated Sander 1964 (on the reverse) \\r\",\"oil on canvas \\r\",\"60 x 54\\u00bc in. (152.4 x 137.7 cm.) \\r\",\"Painted in 1964. \"]\n",
      "\n",
      "\n",
      "2\n",
      "[\"signed in Arabic, signed M.Sabry (lower left) \\r\",\"pastel and charcoal on paper \\r\",\"17 3/8 x 25 1/8in. (44 x 64cm.) \\r\",\"Executed circa late 1950s \"]\n",
      "\n",
      "\n",
      "3\n",
      "[\"signed, titled in Japanese and dated YAYOI KUSAMA 1980 (on the reverse); signed and dated Yayoi Kusama 1980 (on the stretcher)\\r\",\"acrylic, graphite and fabric collage on canvas \\r\",\"51 3/8 x 64in. (130.5 x 162.6cm.) \\r\",\"Executed in 1980 \"]\n",
      "\n",
      "\n",
      "4\n",
      "[\"c-print on Plexiglas \\r\",\"86 x 57\\u00bc in. (218.4 x 145.4 cm.) \\r\",\"Executed in 2012. This work is number two of two artists proofs aside from an edition of three. \",\"\"]\n",
      "\n",
      "\n",
      "5\n",
      "[\"signed, titled and dated Christo 2002 The Gates (Project for Central Park, New York City) (lower left of the upper panel); dedicated For Eduardo Chillida N.Y. 2004 (upper left of the upper panel) \\r\",\"(i) pencil, printed topographic map, oil, fabric collage, wax crayon and pastel on card \\r\",\"(ii) pencil, gouache, charcoal, wax crayon and pastel on card\\r\",\"(i) 15 x 65in. (38 x 165cm.)\\r\"]\n",
      "\n",
      "\n",
      "6\n",
      "[\"signed and dated max ernst 73 (lower right) \\r\",\"oil on canvas \\r\",\"7\\u00bd x 10 5/8 in. (19 x 27.1 cm.) \\r\",\"Painted in 1973 \"]\n",
      "\n",
      "\n",
      "7\n",
      "[\"signed and dated Yves Klein 1961 (on the reverse) \\r\",\"dry white pigment in synthetic resin on fabric on board \\r\",\"16 1/8 x 27\\u00bdin. (41 x 70cm.) \\r\",\"Executed in 1961 \"]\n",
      "\n",
      "\n",
      "8\n",
      "[\"signed and dated Nolde. 07. (lower left); signed and inscribed Emil Nolde. He\\u00fcwiese (on the stretcher)\\r\",\"oil on canvas \\r\",\"18\\u00bd x 27\\u00be in. (47 x 70.6 cm.) \\r\",\"Painted in 1907 \"]\n",
      "\n",
      "\n",
      "9\n",
      "[\"signed, inscribed and dated le 7 mai 84 Amiti\\u00e9s Jean (along the lower edge)\\r\",\"gouache, marker pen, paper collage, feather, ribbon, self-adhesive labels, ballpoint pen and tape on card\\r\",\"9 7/8 x 13\\u00bein. (25.1 x 35cm.) \\r\",\"Executed in 1984 \"]\n",
      "\n",
      "\n",
      "10\n",
      "[\"signed, titled and dated M. Paladino 2006 PERFECT ROOM (on the reverse)\\r\",\"oil and burlap collage on canvas \\r\",\"51\\u00bc xx 43 3/8in. (130 x 110cm.) \\r\",\"Painted in 2006 \"]\n",
      "\n",
      "\n",
      "11\n",
      "[\"signed in Arabic, signed EFFAT NAGHI (lower right) \\r\",\"oil on panel \\r\",\"36 x 22 3/8in. (91.5 x 56.8cm.) \\r\",\"Painted circa early 1960s \"]\n",
      "\n",
      "\n",
      "12\n",
      "[\"oil on patterned fabric \\r\",\"83 x 26 1/8 in. (210.8 x 66.3 cm.) \\r\",\"Painted circa 1925 \",\"\"]\n",
      "\n",
      "\n",
      "13\n",
      "[\"signed with the artists initials and dated M.K, 96 (lower right)\\r\",\"ballpoint pen, ink pen and wax crayon on hotel stationery\\r\",\"11 x 8\\u00bdin. (28 x 21.5cm.) \\r\",\"Executed in 1996 \"]\n",
      "\n",
      "\n",
      "14\n",
      "[\"signed, dated and numbered Picasso 11.11.59. III (lower right) \\r\",\"brush and black ink on paper \\r\",\"20 x 26 1/8 in. (51.2 x 66.5 cm.) \\r\",\"Painted on 11 November 1959 \"]\n",
      "\n",
      "\n",
      "15\n",
      "[\"i. Visage de faune--dated 28.6.55. (on the right side); diameter: 9 7/8 in. (25 cm.)\\r\",\"ii. Profil de Jacqueline--dated 22.1.56. (on the reverse); diameter: 15 7/8 in. (40.3 cm.)\\r\",\"iii. T\\u00eate de taureau--diameter: 16 5/8 in. (42.2 cm.)\\r\",\"iv. Visage aux mains--diameter: 16\\u00bd in. (41.9 cm.)\\r\"]\n",
      "\n",
      "\n",
      "16\n",
      "[\"signed and dated Moore 1959 (lower left) \\r\",\"pastel and brush and gray wash on paper \\r\",\"11 3/8 x 9\\u00bd in. (28.9 x 24.1 cm.) \\r\",\"Executed in 1958-1959 \"]\n",
      "\n",
      "\n",
      "17\n",
      "[\"oil and tempera on paper laid down on board\\r\",\"17 1/4 x 18 1/2 in. (43.8 x 46.9 cm.)\\r\",\"Painted circa 1916\",\"\"]\n",
      "\n",
      "\n",
      "18\n",
      "[\"incised with the artists initials LB (lower side edge)\\r\",\"marble, in two parts\\r\",\"overall: 4 7/8 x 11 x 3 in. (12.4 x 27.9 x 7.6 cm.)\\r\",\"Executed in 1994. This work is unique.\"]\n",
      "\n",
      "\n",
      "19\n",
      "[\"each: signed in Bengali (lower right) \\r\",\"gouache on card \\r\",\"4\\u00bc x 6 in. (10.8 x 15.2 cm.); 4\\u00bc x 6 in. (10.8 x 15.2 cm.); 4 5/8 x 5\\u00be (11.7 x 14.6 cm.); 4 5/8 x 5 1/8 in. (11.7 x 13 cm.)\\r\",\"Group of four paintings \\t (4)\"]\n",
      "\n",
      "\n",
      "20\n",
      "[\"stamped, marked and numbered Madoura Plein Feu/Empreinte Originale de Picasso/C 106/58/100 (underneath)\\r\",\"unglazed ceramic plate \\r\",\"16\\u00bdin. (42cm.) diameter \\r\",\"Conceived in 1956 and executed in an edition of 100 \"]\n",
      "\n",
      "\n",
      "21\n",
      "[\"signed, dated and inscribed Dal\\u00ed 1974 CARL MARX (on the left page); signed again Dal\\u00ed (on the right page)\\r\",\"ballpoint pen on paper \\r\",\"9 3/8 x 8 in. (23.8 x 20.3 cm.) \\r\",\"Drawn in 1974 \"]\n",
      "\n",
      "\n",
      "22\n",
      "[\"signed with initials, titled, inscribed and dated Greg. Arizona Biltmore. DH. Feb 1976. (lower right)\\r\",\"ink on paper \\r\",\"17 x 14 in. (43.2 x 35.6 cm.) \\r\",\"Drawn in 1976. \"]\n",
      "\n",
      "\n",
      "23\n",
      "[\"signed DOROTHEA/SHARP (lower left) \\r\",\"oil on canvas \\r\",\"17\\u00bc x 19\\u00bd in. (43.8 x 49.5 cm.) \",\"\"]\n",
      "\n",
      "\n",
      "24\n",
      "[\"signed KACIMI and again in Arabic (lower right) \\r\",\"acrylic and charcoal on canvas \\r\",\"101\\u00bd x 77\\u00bdin. (258 x 197cm.) \\r\",\"Painted circa 1990 \"]\n",
      "\n",
      "\n",
      "25\n",
      "[\"signed Gade (lower right) \\r\",\"oil on canvas \\r\",\"56 x 54 in. (142.2 x 137.2 cm.) \\r\",\"Painted in 1982 \"]\n",
      "\n",
      "\n",
      "26\n",
      "[\"stamped with signature E Vuillard (Lugt 2497a; lower right) \\r\",\"oil on board \\r\",\"10\\u00bc x 8\\u00be in. (26 x 22.3 cm.) \\r\",\"Painted circa 1893 \"]\n",
      "\n",
      "\n",
      "27\n",
      "[\"each: signed and dated A. Landrum 92 (on the stretcher) \\r\",\"household paint and cut-out letters on canvas, in two parts \\r\",\"each: 74 x 51in. (188 x 129.5cm.) \\r\",\"Executed in 1992 \"]\n",
      "\n",
      "\n",
      "28\n",
      "[\"oil on canvas\\r\",\"31 x 31 in. (78.7 x 78.7 cm.)\\r\",\"Painted in 1995.\",\"\"]\n",
      "\n",
      "\n",
      "29\n",
      "[\"signed BARCEL\\u00d3 (lower right), dated 1989 (lower left) \\r\",\"gouache and oil on paper mounted on card \\r\",\"14\\u00bd x 19 7/8in. (36.5 x 50.4cm.) \\r\",\"Executed in 1989 \"]\n",
      "\n",
      "\n",
      "30\n",
      "[\"signed L Crawshaw (lower right) and further signed and inscribed Summer Holidays/Lionel T. Crawshaw/20 Law Avenue/Doncaster (on the artists label on the stretcher)\\r\",\"oil on canvas \\r\",\"19\\u00bd x 25\\u00bc in. (49.5 x 64.1 cm.) \",\"\"]\n",
      "\n",
      "\n",
      "31\n",
      "[\"signed with the artists initials and dated D.H. 66 (lower right) \\r\",\"ink on paper \\r\",\"10 x 12\\u00bdin. (25.2 x 31.7cm.) \\r\",\"Executed in 1966 \"]\n",
      "\n",
      "\n",
      "32\n",
      "[\"signed Eug. Zak (upper left) \\r\",\"pencil and pastel on paper \\r\",\"12 x 9in. (30.5 x 20.9cm.) \\r\",\"Drawn on 9 April 1918 \"]\n",
      "\n",
      "\n",
      "33\n",
      "[\"signed and dated RESNICK 1963 (on the reverse); titled FLAG (on the stretcher)\\r\",\"oil on canvas \\r\",\"50 x 40 in. (127 x 101.6 cm.) \\r\",\"Painted in 1963. \"]\n",
      "\n",
      "\n",
      "34\n",
      "[\"signed and numbered Henri Matisse 26/30 (lower right) \\r\",\"screenprint on linen \\r\",\"68\\u00bc x 152\\u00bd in. (173.5 x 387.5 cm.) \\r\",\"Executed in 1946-1947 in a numbered edition of 30 \"]\n",
      "\n",
      "\n",
      "35\n",
      "[\"signed and dated 27-8-63 SOULAGES (on the reverse); titled and dated again Peinture 130 x 97 cm 27 Aout 63 (on the stretcher)\\r\",\"oil on canvas \\r\",\"51 3/8 x 38\\u00bc in. (130.5 x 97.3 cm.) \\r\",\"Painted in 1963. \"]\n",
      "\n",
      "\n",
      "36\n",
      "[\"signed Peter Rindisbacher. (lower right)--inscribed with title (lower center)\\r\",\"watercolor and ink on paper \\r\",\"4\\u00be x 7 in. (12.1 x 17.8 cm.) \\r\",\"Executed circa 1821-22. \"]\n",
      "\n",
      "\n",
      "37\n",
      "[\"Spring Flowers with Blue Teapot \",\"\\r\",\"stamped twice with studio stamp (on the reverse)\",\"\\r\"]\n",
      "\n",
      "\n",
      "38\n",
      "[\"polystyrene and inorganic phosphorus \\r\",\"17\\u00bc x 12 5/8in. (44 x 32cm.) \\r\",\"Executed in 1960-61 \",\"\"]\n",
      "\n",
      "\n",
      "39\n",
      "[\"signed, inscribed and dated Alba in Green/John Walker 1980 (on the reverse)\\r\",\"oil on canvas with encaustic\\r\",\"80 x 69\\u00be in. (203.2 x 177.2 cm.)\",\"\"]\n",
      "\n",
      "\n",
      "40\n",
      "[\"signed toledo (on the reverse) \\r\",\"oil and sand on canvas \\r\",\"39\\u00bc x 32 in. (100 x 81 cm.) \\r\",\"Painted in 1987. \"]\n",
      "\n",
      "\n",
      "41\n",
      "[\"signed and dated Gear 66 (lower right)\\r\",\"oil on canvas\\r\",\"47\\u00bd x 23\\u00be in. (120.6 x 60.4 cm.)\\r\",\"Painted in November 1966.\"]\n",
      "\n",
      "\n",
      "42\n",
      "[\"signed and dated Survage. 34 (lower right) \\r\",\"oil on canvas \\r\",\"13\\u00be x 10\\u00be in. (35 x 27.3 cm.) \\r\",\"Painted in 1934 \"]\n",
      "\n",
      "\n",
      "43\n",
      "[\"signed, dated and numbered VICTOR BRAUNER 1957. VIII. (lower right)\\r\",\"oil, paraffin and pen and black ink on board\\r\",\"25 \\u00be x 19 \\u00be in. (65.3 x 50.2 cm.)\\r\",\"Executed in 1957\"]\n",
      "\n",
      "\n",
      "44\n",
      "[\"signed with initials and numbered CA 1/4 (on the base) \\r\",\"bronze \\r\",\"34\\u00bc x 35\\u00bd x 22 in. (86.7 x 90.2 x 55.9 cm.) \\r\",\"Executed in 1944. This work is number one from an edition of four. \"]\n",
      "\n",
      "\n",
      "45\n",
      "[\"oil on canvas\\r\",\"19 \\u00bd x 24 in. (49.3 x 61 cm.)\\r\",\"Painted in 1929.\",\"\"]\n",
      "\n",
      "\n",
      "46\n",
      "[\"signed, titled and dated Peter and the Wolf Jean Michel Basquiat 85 (on the reverse)\\r\",\"acrylic, oilstick and paper collage on canvas \\r\",\"100 x 113 5/8 in. (254 x 289 cm.) \\r\",\"Painted in 1985. \"]\n",
      "\n",
      "\n",
      "47\n",
      "[\"signed, dated and numbered  Ramin Haerizadeh-2006-1/10 (lower left) \\r\",\"c-print printed with Durst Lambda 130 print on FUJI matt photographic paper\\r\",\"59 x 41\\u00bcin. (150 x 105cm.) \\r\",\"Executed in 2006, this work is number one from an edition of ten \"]\n",
      "\n",
      "\n",
      "48\n",
      "[\"signed and dated Foujita 1924, signed again in Japanese (lower left)\\r\",\"pen and ink and wash on Japan paper \\r\",\"15\\u00bc x 10 5/8 (39 x 27 cm.) \\r\",\"Executed in 1924 \"]\n",
      "\n",
      "\n",
      "49\n",
      "[\"each signed, titled and dated:\\r\",\"i. Straight lines, approximately one inch long, drawn horizontally and vertically, at random, within a rectangle. September 24, 1970 Sol Lewitt (lower left)\\r\",\"ii. Straight lines, approximately one inch long, drawn diagonally left to right and diagonally right to left, at random, within a rectangle. September 30, 1970 Sol Lewitt (lower left)\\r\",\"iii. Straight lines, approximately one inch long, drawn horizontally, and diagonally left to right, at random within a rectangle Sept 25, 1970 Sol Lewitt (lower left)\\r\"]\n",
      "\n",
      "\n",
      "50\n",
      "[\"signed, dated and numbered Archipenko 63 4/8 (on the back leg) \\r\",\"bronze with blue and black patina \\r\",\"Height: 14 in. (35.5 cm.) \\r\",\"Conceived and cast in 1963 \"]\n",
      "\n",
      "\n",
      "51\n",
      "[\"bronze with brown patina \\r\",\"Height: 16 1/8 in. (41 cm.) \\r\",\"Designed by Alberto Giacometti for Jean-Michel Frank 1936; this bronze version cast at a later date by Diego Giacometti \",\"\"]\n",
      "\n",
      "\n",
      "52\n",
      "[\"signed Degas (Lugt 658; on the front of the base); numbered and stamped with foundry mark 48/K A.A. HEBRARD CIRE PERDUE (on the back of the base)\\r\",\"bronze with dark brown patina \\r\",\"Height: 10 5/8 in. (27 cm.) \\r\",\"Original wax model executed between 1882-1895 and cast in an edition of twenty-two, numbered A-T plus two casts reserved for the Degas heirs and the founder H\\u00e9brard; marked HER and HER.D respectively \"]\n",
      "\n",
      "\n",
      "53\n",
      "[\"signed with the monogram and numbered 1/6 (on the top of the base); inscribed with the foundry mark .Alexis Rudier.Fondeur.Paris, (on the back of the base)\\r\",\"bronze with brown patina \\r\",\"Height: 8 5/8 in. (21.8 cm.) \\r\",\"Conceived in 1902-1905 and cast in a numbered edition of six \"]\n",
      "\n",
      "\n",
      "54\n",
      "[\"with raised initials and numbered HM 1/10 (on the right leg); stamped with foundry mark C. VALSUANI CIRE PERDUE (on the left leg)\\r\",\"Height: 10 1/8 in. (25.7 cm.)\\r\",\"Conceived in Paris in 1909; this bronze version cast in 1929\",\"\"]\n",
      "\n",
      "\n",
      "55\n",
      "[\"signed and dated Kurt Schwitters 1935 (underneath)\\r\",\"painted wood\\r\",\"Height: 18 7/8 in. (47.8 cm.)\\r\",\"Executed in 1935\"]\n",
      "\n",
      "\n",
      "56\n",
      "[\"signed A. Rodin (on the front); inscribed with foundry mark Alexis Rudier Fondeur Paris (on the back)\\r\",\"bronze with dark brown and green patina\\r\",\"Height: 4 7/8 in. (12.4 cm.)\\r\",\"Conceived in 1910; this bronze version cast between 1940-1952\"]\n",
      "\n",
      "\n",
      "57\n",
      "[\"blown glass with glass powders \\r\",\"14 in. (35.5 cm.) high \\r\",\"signed and dated William Morris. 1989 \",\"\"]\n",
      "\n",
      "\n",
      "58\n",
      "[\"stamped and marked Madoura Plein Feu/Edition Picasso/Madoura/Edition Picasso (underneath)\\r\",\"glazed ceramic vase \\r\",\"11\\u00bein. (29.8cm.) high \\r\",\"Conceived in 1951 and executed in an edition of 300 \"]\n",
      "\n",
      "\n",
      "59\n",
      "[\"signed GUTFREUND (under the womens left leg) \\r\",\"Bronze with brown patina \\r\",\"Height: 5 1/8 in. (13 cm.)\\r\",\"Length: 12\\u00bd in. (31.8 cm.)\\r\"]\n",
      "\n",
      "\n",
      "60\n",
      "[\"signed and stamped with foundry mark Kollwitz H. NOACK BERLIN (on the back)\\r\",\"zinc with brown and green patina \\r\",\"Height: 15\\u00bc in. (38.7 cm.) \\r\",\"Conceived in 1937-1938; this zinc version cast between 1940 and 1943 \"]\n",
      "\n",
      "\n",
      "61\n",
      "[\"signed, dated and numbered Barbara Hepworth 1961 1/7 (on the top of the base)\\r\",\"bronze with a green brown patina and copper strings \\r\",\"83\\u00bd in. (212 cm.) high, including base \",\"\"]\n",
      "\n",
      "\n",
      "62\n",
      "[\"stamped and marked Madoura Plein Feu/Edition Picasso/Edition Picasso Madoura (underneath)\\r\",\"glazed ceramic vase \\r\",\"11\\u00bdin. (29cm.) high \\r\",\"Conceived in 1951 and executed in an edition of 300 \"]\n",
      "\n",
      "\n",
      "63\n",
      "[\"single channel video on DVD \\r\",\"duration 02:00 minutes \\r\",\"Executed in 2002, this work is number four from an edition of six plus one artists proof \",\"\"]\n",
      "\n",
      "\n",
      "64\n",
      "[\"pink fluorescent light\\r\",\"96 in. (244 cm.)\\r\",\"Executed in 1963. This work is number two from an edition of three and is accompanied by a certificate of authenticity signed by the artist.\",\"\"]\n",
      "\n",
      "\n",
      "65\n",
      "[\"signed with monogram (on the right buttock)\\r\",\"bronze with brown patina\\r\",\"Height: 9 \\u00bc in. (23.5 cm.)\\r\",\"Conceived in 1942\"]\n",
      "\n",
      "\n",
      "66\n",
      "[\"signed Takashi Murakami (on the reverse) \\r\",\"acrylic on canvas mounted on panel \\r\",\"47\\u00bc x 47\\u00bc x 2 in. (1200 x 1200 x 50 mm) \\r\",\"Painted in 2004. \"]\n",
      "\n",
      "\n",
      "67\n",
      "[\"each, inscribed \\u00a9/I. Konti (on the base)--each, stamped #140 GORHAM CO. FOUNDERS/Q471 (along the base)\\r\",\"each, bronze with brown patina \\r\",\"each, 6\\u00bc in. (15.9 cm.) high \\t (2)\",\"\"]\n",
      "\n",
      "\n",
      "68\n",
      "[\"signed and numbered Moore 4/9 (on the top of the base)\\r\",\"bronze with brown patina\\r\",\"Height: 22 \\u00bd in. (57.6 cm.)\\r\",\"Length: 26 7/8 in. (68.7 cm.)\\r\"]\n",
      "\n",
      "\n",
      "69\n",
      "[\"signed A. Rodin. (on the front of the base); inscribed and dated 1963. \\u00a9 by Mus\\u00e9e Rodin. (on the front lower edge); inscribed with foundry mark Georges Rudier. Fondeur. Paris. (on the back lower edge); with raised signature A. Rodin (on the underside)\\r\",\"bronze with brown and green patina \\r\",\"Height: 8\\u00bc in. (21 cm.)\\r\",\"Length: 15 in. (38.1 cm.)\\r\"]\n",
      "\n",
      "\n",
      "70\n",
      "[\"signed and numbered Frink 0/0 (on the base)\\r\",\"bronze with a dark brown and polished patina\\r\",\"42 in. (106.8 cm.) high\\r\",\"Conceived in 1969 and cast in an edition of 6.\"]\n",
      "\n",
      "\n",
      "71\n",
      "[\"aluminium construction, painted wheel rim, six televisions, one laser disc player and one laser disc\\r\",\"35\\u00bdin. (90cm.) diameter\\r\",\"18 11/16in. (47.5cm.) deep\\r\",\"Executed in 1990 \"]\n",
      "\n",
      "\n",
      "72\n",
      "[\"signed and numbered Lobo 2/8 and stamped with the foundry mark Susse Fondeur Paris (at the back of the figure)\\r\",\"bronze with dark brown patina\\r\",\"Height: 16 1/2 in. (42 cm.)\\r\",\"Conceived in 1975 and cast in 1975 in an edition of eight plus four artists proofs\"]\n",
      "\n",
      "\n",
      "73\n",
      "[\"signed, titled and dated twice No. 112 1998 ZEHNTERSEPTEMBERNEUNZEHN HUNDERTACHTUNDNEUNZIG Ugo Rondinone 1998 (on the stretcher)\\r\",\"acrylic on canvas \\r\",\"diameter: 86 5/8in. (220cm.) \\r\",\"Painted in 1998 \"]\n",
      "\n",
      "\n",
      "74\n",
      "[\"signed and dated MARINO 1933 (on the base)\\r\",\"bronze with dark brown patina\\r\",\"Height: 19 7/8 in. (50.5 cm.)\\r\",\"Conceived in 1933\"]\n",
      "\n",
      "\n",
      "75\n",
      "[\"signed and numbered Moore 1/9 (on the back of the base)\\r\",\"bronze with green and brown patina\\r\",\"Length: 31 \\u00bd in. (80 cm.)\\r\",\"Conceived and cast in 1976\"]\n",
      "\n",
      "\n",
      "76\n",
      "[\"bronze with green and dark brown patina\\r\",\"Height: 54 3/8 in. (138.2 cm.)\\r\",\"Designed by Alberto Giacometti for Jean-Michel Frank circa 1936; this bronze version cast by Diego Giacometti at a later date\",\"\"]\n",
      "\n",
      "\n",
      "77\n",
      "[\"stamped Madoura Plein Feu/Empreinte Originale de Picasso (underneath) \\r\",\"partially glazed ceramic plaque \\r\",\"9 7/8 in. (25 cm.) diameter \\r\",\"Conceived in 1956 and executed in an edition of 450 \"]\n",
      "\n",
      "\n",
      "78\n",
      "[\"signed Vlaminck (on the reverse) \\r\",\"painted and glazed ceramic \\r\",\"Diameter: 12 3/8 in. (31.4 cm.) \\r\",\"Executed circa 1906 \"]\n",
      "\n",
      "\n",
      "79\n",
      "[\"bronze with a brown green patina \\r\",\"11 in. (27.9 cm.) long \\r\",\"Carved in marble in 1913, and cast in bronze in an edition of 9 by Fiorini on behalf of H.S. (Jim) Ede. \",\"\"]\n",
      "\n",
      "\n",
      "80\n",
      "[\"signed Fred Leighton and with title to the front \\r\",\"bronze with a dark green/brown patina \\r\",\"20 3/8 in. (51.7 cm.) high \\r\",\"sold with the receipt from The Fine Art Society, London. \"]\n",
      "\n",
      "\n",
      "81\n",
      "[\"terracotta and India ink \\r\",\"Height 11 5/8 in. (29.5 cm.) \\r\",\"Executed in terracotta by Laurens in 1921 and painted by Picasso between 1951 and 1953; this work is unique \",\"\"]\n",
      "\n",
      "\n",
      "82\n",
      "[\"marked and numbered No/159/Madoura/Edition Picasso (underneath)\\r\",\"partially glazed ceramic plate \\r\",\"10 in. (25.3 cm.) diameter \\r\",\"Conceived in 1963 and executed in an edition of 150 \"]\n",
      "\n",
      "\n",
      "83\n",
      "[\"with signature Jean Cocteau (lower centre), marked Edition originale de/Jean Cocteau/Atelier Madeline-Jolly/exemplaire dauteur (underneath)\\r\",\"white earthenware plate \\r\",\"14\\u00bcin. (36.2cm.) diameter \\r\",\"Conceived in 1961 and executed in an edition of 25 plus 5 artists proofs\"]\n",
      "\n",
      "\n",
      "84\n",
      "[\"signed and stamped with foundry mark J Lipchitz C. VALSUANI CIRE PERDUE (on the top of the base)\\r\",\"bronze with gold patina \\r\",\"Height: 11 in. (28 cm.) \\r\",\"Conceived in 1926; unique \"]\n",
      "\n",
      "\n",
      "85\n",
      "[\"stamped RC/3 1/2/KC (on the chest)\\r\",\"bronze with a dark brown patina\\r\",\"25\\u00bd in. (64.8 cm.) long, excluding base\\r\",\"Conceived in 1983 and cast in an edition of 12.\"]\n",
      "\n",
      "\n",
      "86\n",
      "[\"blue acrylic yarn, three ply\\r\",\"dimensions variable\\r\",\"Executed in 1970.\",\"\"]\n",
      "\n",
      "\n",
      "87\n",
      "[\"signed Rodin (on the back of the base); inscribed with the foundry mark F.BARBEDIENNE (on the left side of the base); inscribed 613i (on the inside)\\r\",\"bronze with dark brown patina \\r\",\"Height: 9 5/8 in. (24.5 cm.) \\r\",\"Conceived in 1884 and in this reduced size in 1898; this bronze version cast circa 1905 \"]\n",
      "\n",
      "\n",
      "88\n",
      "[\"signed John (lower left)\\r\",\"pencil on paper\\r\",\"18 x 12 \\u00bd in. (45.8 x 31.8 cm. )\",\"\"]\n",
      "\n",
      "\n",
      "89\n",
      "[\"numbered VIII (underneath) \\r\",\"terracotta \\r\",\"Height: 11\\u00bd in. (29.3 cm.) \\r\",\"Conceived in 1921 and executed in a numbered edition of ten \"]\n",
      "\n",
      "\n",
      "90\n",
      "[\"signed, titled and dated PINK DILEMMA 1982 Gilbert & George (on the lower right panel)\\r\",\"sixteen elements--hand colored gelatin silver prints in artists frames\\r\",\"overall: 95 x 79 1/2 in. (241.3 x 201.9 cm.)\\r\",\"Executed in 1982.\"]\n",
      "\n",
      "\n",
      "91\n",
      "[\"signed and dated five times RRyman61 (lower left); titled Painting measuring 10\\u00be x 11 with white and green shapes and signed five times in neutral at the lower left in black pen, center right (on the reverse)\\r\",\"oil and gesso on unstretched linen canvas in artists frame \\r\",\"canvas: 10\\u00be x 11 in. (27.3 x 27.9 cm.)\\r\",\"artists frame: 14 x 14 x  7/8 in. (35.5 x 35.5 x 2.2 cm.)\\r\"]\n",
      "\n",
      "\n",
      "92\n",
      "[\"stamped and marked Edition Picasso/Madoura Plein Feu/Edition Picasso (underneath)\\r\",\"partially glazed ceramic plate \\r\",\"7\\u00bein. (20cm.) diameter \\r\",\"Conceived in 1952 and executed in an edition of 500 \"]\n",
      "\n",
      "\n",
      "93\n",
      "[\"signed, titled, numbered and dated VIAREGGIO - AIR SHOW - 1995 printed 1997 4/9 Vitali (on a paper label affixed to the reverse)\\r\",\"colour coupler print face-mounted on Plexiglas \\r\",\"70 1/8 x 84 1/8in. (178.2 x 213.6cm.) \\r\",\"Executed in 1995 and printed in 1997, this work is number four from an edition of nine \"]\n",
      "\n",
      "\n",
      "94\n",
      "[\"signed and dated WBarnsGraham 1958 (lower right), signed again, inscribed and dated again Under Water 1958/W. BarnsGraham (on card attached to the backboard)\\r\",\"gouache with linocut\\r\",\"8 \\u00bd x 9 7/8 in. (21.6 x 25.1 cm.)\",\"\"]\n",
      "\n",
      "\n",
      "95\n",
      "[\"signed and dated SIWI 2007 and signed again in Arabic (lower right of the first and third panels, lower left of the second and fifth panels and lower centre of the fourth panel); signed again, titled in Arabic and dated 2007 (on the reverse of each panel)\\r\",\"oil, watercolour, gold paint, crayon and glue on panel; pentaptych \\r\",\"each: 74\\u00be x 33\\u00bcin. (190 x 84.5cm.)\\r\",\"overall: 74\\u00be x 169\\u00bcin. (190 x 430cm.)\\r\"]\n",
      "\n",
      "\n",
      "96\n",
      "[\"signed with the artist\\u2019s initials and dated H.C.W. 73\\u2019 (lower right); titled and dated again October 26, \\u201973 \\u2013 The Killer iceberg + fog\\u2019 (upper edge); dedicated and signed again Cliff\\u2019 (lower edge)\\r\",\"watercolor, ink and leaves in artist\\u2019s frame\\r\",\"overall: 16 5/8 x 16 \\u00be in. (42.2 x 42.5 cm.)\\r\",\"sheet: 9 \\u00be x 7 7/8 in. (24.7 x 20 cm.)\\r\"]\n",
      "\n",
      "\n",
      "97\n",
      "[\"signed and inscribed A.Rodin Georges Rudier.Fondeur.Paris (on the back of the base); inscribed \\u00a9 by mus\\u00e9e Rodin (on the left side); with the raised signature A.Rodin (on the inside)\\r\",\"bronze with dark brown and green patina \\r\",\"Height: 18\\u00bd in. (47.1 cm.) \\r\",\"Originally conceived between 1887 and 1895 and in this reduced size in 1895; this version cast in 1958 \"]\n",
      "\n",
      "\n",
      "98\n",
      "[\"signed and dated G. Severini 1924 (lower right) \\r\",\"pencil on paper \\r\",\"14\\u00bd x 10 3/8 in. (36.7 x 26.3 cm.) \\r\",\"Executed in 1924. With a dedication from Jeanne Fort, the artists wife: Alla signora Marisa Farnetani con amicizia sincera J. Severini \"]\n",
      "\n",
      "\n",
      "99\n",
      "[\"signed and numbered Dal\\u00ed/187/330 (on one of the drawers), stamped with foundry mark Foneria/Mibrosa/Barcelona (on the reverse)\\r\",\"bronze with brown patina \\r\",\"12 x 23\\u00bd x 8\\u00bdin. (30.5 x 59.6 x 21.5cm.) \\r\",\"Conceived and  cast in 1982 in an edition of 330 and 11 examples numbered A/K to K/K plus one artists proof\"]\n",
      "\n",
      "\n"
     ]
    }
   ],
   "source": [
    "for key, values in df['details'].items():\n",
    "    print (key)\n",
    "    print(values)\n",
    "    print (\"\")\n",
    "    print (\"\")"
   ]
  },
  {
   "cell_type": "code",
   "execution_count": null,
   "metadata": {},
   "outputs": [],
   "source": []
  }
 ],
 "metadata": {
  "kernelspec": {
   "display_name": "Python 3",
   "language": "python",
   "name": "python3"
  },
  "language_info": {
   "codemirror_mode": {
    "name": "ipython",
    "version": 3
   },
   "file_extension": ".py",
   "mimetype": "text/x-python",
   "name": "python",
   "nbconvert_exporter": "python",
   "pygments_lexer": "ipython3",
   "version": "3.8.0"
  }
 },
 "nbformat": 4,
 "nbformat_minor": 4
}
