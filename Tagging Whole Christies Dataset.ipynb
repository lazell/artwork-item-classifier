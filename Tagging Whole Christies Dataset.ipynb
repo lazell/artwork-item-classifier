{
 "cells": [
  {
   "cell_type": "code",
   "execution_count": 1,
   "metadata": {},
   "outputs": [],
   "source": [
    "import pandas as pd\n",
    "import numpy as np\n",
    "\n",
    "import pickle\n",
    "import matplotlib.pyplot as plt\n",
    "import seaborn as sns\n",
    "\n",
    "from feature_engineering import functions\n",
    "from utils import utils"
   ]
  },
  {
   "cell_type": "code",
   "execution_count": 4,
   "metadata": {},
   "outputs": [],
   "source": [
    "# Import Christies dataset\n",
    "\n",
    "df = pd.read_csv('./data/data-1589349272172-non-french-christies.csv')"
   ]
  },
  {
   "cell_type": "code",
   "execution_count": 5,
   "metadata": {},
   "outputs": [],
   "source": [
    "# assign column names\n",
    "\n",
    "title_desc_col = 'title'\n",
    "medium_col = 'details'\n",
    "dimension_col = 'details'\n",
    "url_col = 'image_url'\n"
   ]
  },
  {
   "cell_type": "code",
   "execution_count": 7,
   "metadata": {},
   "outputs": [
    {
     "name": "stderr",
     "output_type": "stream",
     "text": [
      "/Users/katielazell-fairman/.pyenv/versions/3.8.0/lib/python3.8/site-packages/pandas/core/computation/expressions.py:190: UserWarning: evaluating in Python space because the '+' operator is not supported by numexpr for the bool dtype, use '|' instead\n",
      "  warnings.warn(\n"
     ]
    }
   ],
   "source": [
    "df_transformed_1 = functions.text_based_transformer(df\n",
    "                                        , medium=medium_col\n",
    "                                        , dimensions=dimension_col\n",
    "                                        , title=title_desc_col)\n",
    "\n",
    "df_transformed_2 = functions.is_drawing(df_transformed_1)\n",
    "\n",
    "df_transformed_2['long_list_of_things'] = df_transformed_2['details'].apply(lambda x: functions.long_list_of_things(str(x)))\n",
    "\n",
    "df = df_transformed_2"
   ]
  },
  {
   "cell_type": "code",
   "execution_count": 8,
   "metadata": {},
   "outputs": [],
   "source": [
    "# Load model\n",
    "model_filename = \"model_3_DecisionTreeClassifier_v2features.pkl\"\n",
    "\n",
    "with open('./models/'+ model_filename , 'rb') as file:\n",
    "    model_file = pickle.load(file)"
   ]
  },
  {
   "cell_type": "code",
   "execution_count": 9,
   "metadata": {},
   "outputs": [
    {
     "data": {
      "text/plain": [
       "{'model': DecisionTreeClassifier(ccp_alpha=0.0, class_weight=None, criterion='gini',\n",
       "                        max_depth=10, max_features=None, max_leaf_nodes=None,\n",
       "                        min_impurity_decrease=0.0, min_impurity_split=None,\n",
       "                        min_samples_leaf=1, min_samples_split=5,\n",
       "                        min_weight_fraction_leaf=0.0, presort='deprecated',\n",
       "                        random_state=None, splitter='best'),\n",
       " 'features': ['long_list_of_things',\n",
       "  'installation_keyword',\n",
       "  'print_keyword',\n",
       "  'drawing_paper_word',\n",
       "  'drawing_keyword',\n",
       "  'painting_keyword',\n",
       "  'photo_keyword',\n",
       "  'has_3dimensions',\n",
       "  'furniture_keyword',\n",
       "  'sculpture_keyword',\n",
       "  'decorative_obj_keyword',\n",
       "  'decorative_obj_keyword_med',\n",
       "  'is_drawing'],\n",
       " 'labels': ['Drawing',\n",
       "  'Installation',\n",
       "  'Painting',\n",
       "  'Photograph',\n",
       "  'Print',\n",
       "  'Sculpture',\n",
       "  'decorative_object',\n",
       "  'furniture']}"
      ]
     },
     "execution_count": 9,
     "metadata": {},
     "output_type": "execute_result"
    }
   ],
   "source": [
    "# Check model file\n",
    "model_file"
   ]
  },
  {
   "cell_type": "code",
   "execution_count": 10,
   "metadata": {},
   "outputs": [
    {
     "data": {
      "text/html": [
       "<div>\n",
       "<style scoped>\n",
       "    .dataframe tbody tr th:only-of-type {\n",
       "        vertical-align: middle;\n",
       "    }\n",
       "\n",
       "    .dataframe tbody tr th {\n",
       "        vertical-align: top;\n",
       "    }\n",
       "\n",
       "    .dataframe thead th {\n",
       "        text-align: right;\n",
       "    }\n",
       "</style>\n",
       "<table border=\"1\" class=\"dataframe\">\n",
       "  <thead>\n",
       "    <tr style=\"text-align: right;\">\n",
       "      <th></th>\n",
       "      <th>long_list_of_things</th>\n",
       "      <th>installation_keyword</th>\n",
       "      <th>print_keyword</th>\n",
       "      <th>drawing_paper_word</th>\n",
       "      <th>drawing_keyword</th>\n",
       "      <th>painting_keyword</th>\n",
       "      <th>photo_keyword</th>\n",
       "      <th>has_3dimensions</th>\n",
       "      <th>furniture_keyword</th>\n",
       "      <th>sculpture_keyword</th>\n",
       "      <th>decorative_obj_keyword</th>\n",
       "      <th>decorative_obj_keyword_med</th>\n",
       "      <th>is_drawing</th>\n",
       "    </tr>\n",
       "  </thead>\n",
       "  <tbody>\n",
       "    <tr>\n",
       "      <th>0</th>\n",
       "      <td>False</td>\n",
       "      <td>False</td>\n",
       "      <td>False</td>\n",
       "      <td>False</td>\n",
       "      <td>False</td>\n",
       "      <td>True</td>\n",
       "      <td>False</td>\n",
       "      <td>False</td>\n",
       "      <td>False</td>\n",
       "      <td>False</td>\n",
       "      <td>False</td>\n",
       "      <td>False</td>\n",
       "      <td>False</td>\n",
       "    </tr>\n",
       "    <tr>\n",
       "      <th>1</th>\n",
       "      <td>True</td>\n",
       "      <td>False</td>\n",
       "      <td>False</td>\n",
       "      <td>True</td>\n",
       "      <td>False</td>\n",
       "      <td>False</td>\n",
       "      <td>True</td>\n",
       "      <td>False</td>\n",
       "      <td>False</td>\n",
       "      <td>False</td>\n",
       "      <td>False</td>\n",
       "      <td>False</td>\n",
       "      <td>True</td>\n",
       "    </tr>\n",
       "    <tr>\n",
       "      <th>2</th>\n",
       "      <td>False</td>\n",
       "      <td>False</td>\n",
       "      <td>False</td>\n",
       "      <td>False</td>\n",
       "      <td>False</td>\n",
       "      <td>False</td>\n",
       "      <td>False</td>\n",
       "      <td>True</td>\n",
       "      <td>False</td>\n",
       "      <td>False</td>\n",
       "      <td>False</td>\n",
       "      <td>False</td>\n",
       "      <td>False</td>\n",
       "    </tr>\n",
       "    <tr>\n",
       "      <th>3</th>\n",
       "      <td>False</td>\n",
       "      <td>True</td>\n",
       "      <td>False</td>\n",
       "      <td>False</td>\n",
       "      <td>False</td>\n",
       "      <td>False</td>\n",
       "      <td>False</td>\n",
       "      <td>True</td>\n",
       "      <td>False</td>\n",
       "      <td>True</td>\n",
       "      <td>False</td>\n",
       "      <td>False</td>\n",
       "      <td>False</td>\n",
       "    </tr>\n",
       "    <tr>\n",
       "      <th>4</th>\n",
       "      <td>False</td>\n",
       "      <td>False</td>\n",
       "      <td>False</td>\n",
       "      <td>False</td>\n",
       "      <td>False</td>\n",
       "      <td>True</td>\n",
       "      <td>False</td>\n",
       "      <td>False</td>\n",
       "      <td>False</td>\n",
       "      <td>False</td>\n",
       "      <td>True</td>\n",
       "      <td>False</td>\n",
       "      <td>False</td>\n",
       "    </tr>\n",
       "    <tr>\n",
       "      <th>...</th>\n",
       "      <td>...</td>\n",
       "      <td>...</td>\n",
       "      <td>...</td>\n",
       "      <td>...</td>\n",
       "      <td>...</td>\n",
       "      <td>...</td>\n",
       "      <td>...</td>\n",
       "      <td>...</td>\n",
       "      <td>...</td>\n",
       "      <td>...</td>\n",
       "      <td>...</td>\n",
       "      <td>...</td>\n",
       "      <td>...</td>\n",
       "    </tr>\n",
       "    <tr>\n",
       "      <th>38926</th>\n",
       "      <td>True</td>\n",
       "      <td>True</td>\n",
       "      <td>False</td>\n",
       "      <td>False</td>\n",
       "      <td>True</td>\n",
       "      <td>True</td>\n",
       "      <td>True</td>\n",
       "      <td>False</td>\n",
       "      <td>False</td>\n",
       "      <td>False</td>\n",
       "      <td>False</td>\n",
       "      <td>False</td>\n",
       "      <td>True</td>\n",
       "    </tr>\n",
       "    <tr>\n",
       "      <th>38927</th>\n",
       "      <td>True</td>\n",
       "      <td>False</td>\n",
       "      <td>False</td>\n",
       "      <td>False</td>\n",
       "      <td>False</td>\n",
       "      <td>False</td>\n",
       "      <td>False</td>\n",
       "      <td>True</td>\n",
       "      <td>False</td>\n",
       "      <td>True</td>\n",
       "      <td>False</td>\n",
       "      <td>False</td>\n",
       "      <td>False</td>\n",
       "    </tr>\n",
       "    <tr>\n",
       "      <th>38928</th>\n",
       "      <td>False</td>\n",
       "      <td>False</td>\n",
       "      <td>False</td>\n",
       "      <td>True</td>\n",
       "      <td>False</td>\n",
       "      <td>True</td>\n",
       "      <td>False</td>\n",
       "      <td>False</td>\n",
       "      <td>False</td>\n",
       "      <td>False</td>\n",
       "      <td>False</td>\n",
       "      <td>False</td>\n",
       "      <td>True</td>\n",
       "    </tr>\n",
       "    <tr>\n",
       "      <th>38929</th>\n",
       "      <td>True</td>\n",
       "      <td>False</td>\n",
       "      <td>False</td>\n",
       "      <td>False</td>\n",
       "      <td>True</td>\n",
       "      <td>False</td>\n",
       "      <td>True</td>\n",
       "      <td>True</td>\n",
       "      <td>False</td>\n",
       "      <td>False</td>\n",
       "      <td>False</td>\n",
       "      <td>False</td>\n",
       "      <td>True</td>\n",
       "    </tr>\n",
       "    <tr>\n",
       "      <th>38930</th>\n",
       "      <td>False</td>\n",
       "      <td>False</td>\n",
       "      <td>False</td>\n",
       "      <td>False</td>\n",
       "      <td>False</td>\n",
       "      <td>True</td>\n",
       "      <td>False</td>\n",
       "      <td>True</td>\n",
       "      <td>False</td>\n",
       "      <td>False</td>\n",
       "      <td>False</td>\n",
       "      <td>False</td>\n",
       "      <td>False</td>\n",
       "    </tr>\n",
       "  </tbody>\n",
       "</table>\n",
       "<p>38931 rows × 13 columns</p>\n",
       "</div>"
      ],
      "text/plain": [
       "       long_list_of_things  installation_keyword  print_keyword  \\\n",
       "0                    False                 False          False   \n",
       "1                     True                 False          False   \n",
       "2                    False                 False          False   \n",
       "3                    False                  True          False   \n",
       "4                    False                 False          False   \n",
       "...                    ...                   ...            ...   \n",
       "38926                 True                  True          False   \n",
       "38927                 True                 False          False   \n",
       "38928                False                 False          False   \n",
       "38929                 True                 False          False   \n",
       "38930                False                 False          False   \n",
       "\n",
       "       drawing_paper_word  drawing_keyword  painting_keyword  photo_keyword  \\\n",
       "0                   False            False              True          False   \n",
       "1                    True            False             False           True   \n",
       "2                   False            False             False          False   \n",
       "3                   False            False             False          False   \n",
       "4                   False            False              True          False   \n",
       "...                   ...              ...               ...            ...   \n",
       "38926               False             True              True           True   \n",
       "38927               False            False             False          False   \n",
       "38928                True            False              True          False   \n",
       "38929               False             True             False           True   \n",
       "38930               False            False              True          False   \n",
       "\n",
       "       has_3dimensions  furniture_keyword  sculpture_keyword  \\\n",
       "0                False              False              False   \n",
       "1                False              False              False   \n",
       "2                 True              False              False   \n",
       "3                 True              False               True   \n",
       "4                False              False              False   \n",
       "...                ...                ...                ...   \n",
       "38926            False              False              False   \n",
       "38927             True              False               True   \n",
       "38928            False              False              False   \n",
       "38929             True              False              False   \n",
       "38930             True              False              False   \n",
       "\n",
       "       decorative_obj_keyword  decorative_obj_keyword_med  is_drawing  \n",
       "0                       False                       False       False  \n",
       "1                       False                       False        True  \n",
       "2                       False                       False       False  \n",
       "3                       False                       False       False  \n",
       "4                        True                       False       False  \n",
       "...                       ...                         ...         ...  \n",
       "38926                   False                       False        True  \n",
       "38927                   False                       False       False  \n",
       "38928                   False                       False        True  \n",
       "38929                   False                       False        True  \n",
       "38930                   False                       False       False  \n",
       "\n",
       "[38931 rows x 13 columns]"
      ]
     },
     "execution_count": 10,
     "metadata": {},
     "output_type": "execute_result"
    }
   ],
   "source": [
    "model = model_file['model']\n",
    "features = model_file['features']\n",
    "labels = model_file['labels']\n",
    "\n",
    "# Check all Model Features Exist\n",
    "\n",
    "df[features]"
   ]
  },
  {
   "cell_type": "code",
   "execution_count": 13,
   "metadata": {},
   "outputs": [],
   "source": [
    "# Get Test Results\n",
    "\n",
    "results = model.predict(df[features])\n",
    "y_pred = pd.DataFrame(columns=labels\n",
    "                      , data=results\n",
    "                      , index=df.index)\n",
    "\n",
    "# create label for the not classified result\n",
    "\n",
    "y_pred['no_classification'] = y_pred.apply(lambda x: 1 if sum(x) == 0 else 0, axis=1)\n",
    "x = y_pred.stack()\n",
    "results = pd.Series(pd.Categorical(x[x!=0].index.get_level_values(1)))\n",
    "\n",
    "df_classifications=pd.DataFrame(results, columns=['Classification'])"
   ]
  },
  {
   "cell_type": "code",
   "execution_count": 24,
   "metadata": {},
   "outputs": [],
   "source": [
    "df_classified = df.join(df_classifications)"
   ]
  },
  {
   "cell_type": "code",
   "execution_count": 25,
   "metadata": {},
   "outputs": [
    {
     "data": {
      "text/html": [
       "<div>\n",
       "<style scoped>\n",
       "    .dataframe tbody tr th:only-of-type {\n",
       "        vertical-align: middle;\n",
       "    }\n",
       "\n",
       "    .dataframe tbody tr th {\n",
       "        vertical-align: top;\n",
       "    }\n",
       "\n",
       "    .dataframe thead th {\n",
       "        text-align: right;\n",
       "    }\n",
       "</style>\n",
       "<table border=\"1\" class=\"dataframe\">\n",
       "  <thead>\n",
       "    <tr style=\"text-align: right;\">\n",
       "      <th></th>\n",
       "      <th>index</th>\n",
       "      <th>sale_date</th>\n",
       "      <th>price</th>\n",
       "      <th>estimate_min</th>\n",
       "      <th>estimate_max</th>\n",
       "      <th>currency</th>\n",
       "      <th>artist</th>\n",
       "      <th>title</th>\n",
       "      <th>size</th>\n",
       "      <th>details</th>\n",
       "      <th>...</th>\n",
       "      <th>drawing_keyword</th>\n",
       "      <th>painting_keyword</th>\n",
       "      <th>photo_keyword</th>\n",
       "      <th>sculpture_keyword</th>\n",
       "      <th>decorative_obj_keyword_med</th>\n",
       "      <th>has_3dimensions</th>\n",
       "      <th>furniture_keyword</th>\n",
       "      <th>decorative_obj_keyword</th>\n",
       "      <th>is_drawing</th>\n",
       "      <th>Classification</th>\n",
       "    </tr>\n",
       "  </thead>\n",
       "  <tbody>\n",
       "    <tr>\n",
       "      <th>0</th>\n",
       "      <td>24173</td>\n",
       "      <td>2010-09-22 00:00:00</td>\n",
       "      <td>16250</td>\n",
       "      <td>15000.0</td>\n",
       "      <td>20000.0</td>\n",
       "      <td>USD</td>\n",
       "      <td>Eberhard Havekost</td>\n",
       "      <td>Untitled \\r</td>\n",
       "      <td>13 3/8 x 17 3/8 in. (33.9 x 45.4 cm.)</td>\n",
       "      <td>[\"signed and dated Havekost DD 97 (on the reve...</td>\n",
       "      <td>...</td>\n",
       "      <td>False</td>\n",
       "      <td>True</td>\n",
       "      <td>False</td>\n",
       "      <td>False</td>\n",
       "      <td>False</td>\n",
       "      <td>False</td>\n",
       "      <td>False</td>\n",
       "      <td>False</td>\n",
       "      <td>False</td>\n",
       "      <td>Painting</td>\n",
       "    </tr>\n",
       "    <tr>\n",
       "      <th>1</th>\n",
       "      <td>24113</td>\n",
       "      <td>2010-09-22 00:00:00</td>\n",
       "      <td>13750</td>\n",
       "      <td>8000.0</td>\n",
       "      <td>12000.0</td>\n",
       "      <td>USD</td>\n",
       "      <td>Vito Acconci</td>\n",
       "      <td>Changing Title\\r</td>\n",
       "      <td>30 x 14\\u00bd in. (76.2 x 36.8 cm.)</td>\n",
       "      <td>[\"signed, titled and dated Changing Title 1969...</td>\n",
       "      <td>...</td>\n",
       "      <td>False</td>\n",
       "      <td>False</td>\n",
       "      <td>True</td>\n",
       "      <td>False</td>\n",
       "      <td>False</td>\n",
       "      <td>False</td>\n",
       "      <td>False</td>\n",
       "      <td>False</td>\n",
       "      <td>True</td>\n",
       "      <td>Drawing</td>\n",
       "    </tr>\n",
       "    <tr>\n",
       "      <th>2</th>\n",
       "      <td>24125</td>\n",
       "      <td>2010-09-22 00:00:00</td>\n",
       "      <td>11875</td>\n",
       "      <td>12000.0</td>\n",
       "      <td>18000.0</td>\n",
       "      <td>USD</td>\n",
       "      <td>Lucio Fontana</td>\n",
       "      <td>Untitled \\r</td>\n",
       "      <td>5\\u00bc x 5 x 4 in. (13.3 x 12.7 x 10.1cm.)</td>\n",
       "      <td>[\"incised with initials and dated LF 47 (on th...</td>\n",
       "      <td>...</td>\n",
       "      <td>False</td>\n",
       "      <td>False</td>\n",
       "      <td>False</td>\n",
       "      <td>False</td>\n",
       "      <td>False</td>\n",
       "      <td>True</td>\n",
       "      <td>False</td>\n",
       "      <td>False</td>\n",
       "      <td>False</td>\n",
       "      <td>Sculpture</td>\n",
       "    </tr>\n",
       "    <tr>\n",
       "      <th>3</th>\n",
       "      <td>24126</td>\n",
       "      <td>2010-09-22 00:00:00</td>\n",
       "      <td>47500</td>\n",
       "      <td>25000.0</td>\n",
       "      <td>35000.0</td>\n",
       "      <td>USD</td>\n",
       "      <td>Lynda Benglis</td>\n",
       "      <td>Untitled (Shady Grove) \\r</td>\n",
       "      <td>34\\u00bd x 19\\u00bd x 3\\u00be in. (87.6 x 49.5...</td>\n",
       "      <td>[\"signed with initials and numbered LB 282 (on...</td>\n",
       "      <td>...</td>\n",
       "      <td>False</td>\n",
       "      <td>False</td>\n",
       "      <td>False</td>\n",
       "      <td>True</td>\n",
       "      <td>False</td>\n",
       "      <td>True</td>\n",
       "      <td>False</td>\n",
       "      <td>False</td>\n",
       "      <td>False</td>\n",
       "      <td>Sculpture</td>\n",
       "    </tr>\n",
       "    <tr>\n",
       "      <th>4</th>\n",
       "      <td>24235</td>\n",
       "      <td>2010-11-03 00:00:00</td>\n",
       "      <td>626500</td>\n",
       "      <td>500000.0</td>\n",
       "      <td>700000.0</td>\n",
       "      <td>USD</td>\n",
       "      <td>Marc Chagall</td>\n",
       "      <td>Fleurs dans un vase u carreaux \\r</td>\n",
       "      <td>19 5/8 x 16 in. (49.8 x 40.6 cm.)</td>\n",
       "      <td>[\"signed Marc Chagall (lower right) \\r\",\"oil o...</td>\n",
       "      <td>...</td>\n",
       "      <td>False</td>\n",
       "      <td>True</td>\n",
       "      <td>False</td>\n",
       "      <td>False</td>\n",
       "      <td>False</td>\n",
       "      <td>False</td>\n",
       "      <td>False</td>\n",
       "      <td>True</td>\n",
       "      <td>False</td>\n",
       "      <td>decorative_object</td>\n",
       "    </tr>\n",
       "    <tr>\n",
       "      <th>...</th>\n",
       "      <td>...</td>\n",
       "      <td>...</td>\n",
       "      <td>...</td>\n",
       "      <td>...</td>\n",
       "      <td>...</td>\n",
       "      <td>...</td>\n",
       "      <td>...</td>\n",
       "      <td>...</td>\n",
       "      <td>...</td>\n",
       "      <td>...</td>\n",
       "      <td>...</td>\n",
       "      <td>...</td>\n",
       "      <td>...</td>\n",
       "      <td>...</td>\n",
       "      <td>...</td>\n",
       "      <td>...</td>\n",
       "      <td>...</td>\n",
       "      <td>...</td>\n",
       "      <td>...</td>\n",
       "      <td>...</td>\n",
       "      <td>...</td>\n",
       "    </tr>\n",
       "    <tr>\n",
       "      <th>38926</th>\n",
       "      <td>24105</td>\n",
       "      <td>2010-09-22 00:00:00</td>\n",
       "      <td>80500</td>\n",
       "      <td>40000.0</td>\n",
       "      <td>60000.0</td>\n",
       "      <td>USD</td>\n",
       "      <td>Christo</td>\n",
       "      <td>Wrapped Walkways (Project for St. Stephens Gre...</td>\n",
       "      <td>28 x 22 in. (71.1 x 55.8 cm.)</td>\n",
       "      <td>[\"signed and dated CHRISTO 1977 (upper right o...</td>\n",
       "      <td>...</td>\n",
       "      <td>True</td>\n",
       "      <td>True</td>\n",
       "      <td>True</td>\n",
       "      <td>False</td>\n",
       "      <td>False</td>\n",
       "      <td>False</td>\n",
       "      <td>False</td>\n",
       "      <td>False</td>\n",
       "      <td>True</td>\n",
       "      <td>Sculpture</td>\n",
       "    </tr>\n",
       "    <tr>\n",
       "      <th>38927</th>\n",
       "      <td>24107</td>\n",
       "      <td>2010-09-22 00:00:00</td>\n",
       "      <td>11250</td>\n",
       "      <td>10000.0</td>\n",
       "      <td>15000.0</td>\n",
       "      <td>USD</td>\n",
       "      <td>Kenny Scharf</td>\n",
       "      <td>Phorshine \\r</td>\n",
       "      <td>20 x 14 x 14 in. (50.8 x 35.5 x 35.5 cm.)</td>\n",
       "      <td>[\"signed, numbered and dated Kenny Scharf 96 3...</td>\n",
       "      <td>...</td>\n",
       "      <td>False</td>\n",
       "      <td>False</td>\n",
       "      <td>False</td>\n",
       "      <td>True</td>\n",
       "      <td>False</td>\n",
       "      <td>True</td>\n",
       "      <td>False</td>\n",
       "      <td>False</td>\n",
       "      <td>False</td>\n",
       "      <td>Sculpture</td>\n",
       "    </tr>\n",
       "    <tr>\n",
       "      <th>38928</th>\n",
       "      <td>24132</td>\n",
       "      <td>2010-09-22 00:00:00</td>\n",
       "      <td>74500</td>\n",
       "      <td>30000.0</td>\n",
       "      <td>40000.0</td>\n",
       "      <td>USD</td>\n",
       "      <td>Alexander Calder</td>\n",
       "      <td>Untitled \\r</td>\n",
       "      <td>29\\u00bd x 43 in. (74.9 x 109.2 cm.)</td>\n",
       "      <td>[\"signed and dated Calder 66 (lower right) \\r\"...</td>\n",
       "      <td>...</td>\n",
       "      <td>False</td>\n",
       "      <td>True</td>\n",
       "      <td>False</td>\n",
       "      <td>False</td>\n",
       "      <td>False</td>\n",
       "      <td>False</td>\n",
       "      <td>False</td>\n",
       "      <td>False</td>\n",
       "      <td>True</td>\n",
       "      <td>Drawing</td>\n",
       "    </tr>\n",
       "    <tr>\n",
       "      <th>38929</th>\n",
       "      <td>24109</td>\n",
       "      <td>2010-09-22 00:00:00</td>\n",
       "      <td>25000</td>\n",
       "      <td>10000.0</td>\n",
       "      <td>15000.0</td>\n",
       "      <td>USD</td>\n",
       "      <td>Dario Robleto</td>\n",
       "      <td>If We Fly Away, Theyll Fly Away... \\r</td>\n",
       "      <td>24 x 16 x 16 in. (60.9 x 40.6 x 40. 6 cm.)</td>\n",
       "      <td>[\"Bone dust, fabric, metal, silver, lead, viny...</td>\n",
       "      <td>...</td>\n",
       "      <td>True</td>\n",
       "      <td>False</td>\n",
       "      <td>True</td>\n",
       "      <td>False</td>\n",
       "      <td>False</td>\n",
       "      <td>True</td>\n",
       "      <td>False</td>\n",
       "      <td>False</td>\n",
       "      <td>True</td>\n",
       "      <td>no_classification</td>\n",
       "    </tr>\n",
       "    <tr>\n",
       "      <th>38930</th>\n",
       "      <td>24110</td>\n",
       "      <td>2010-09-22 00:00:00</td>\n",
       "      <td>47500</td>\n",
       "      <td>30000.0</td>\n",
       "      <td>40000.0</td>\n",
       "      <td>USD</td>\n",
       "      <td>Allan Mccollum</td>\n",
       "      <td>Perfect Vehicle \\r</td>\n",
       "      <td>78 x 36 x 36 in. (198.1 x 91.4 x 91.4 cm.)</td>\n",
       "      <td>[\"acrylic enamel on glass-fiber-reinforced con...</td>\n",
       "      <td>...</td>\n",
       "      <td>False</td>\n",
       "      <td>True</td>\n",
       "      <td>False</td>\n",
       "      <td>False</td>\n",
       "      <td>False</td>\n",
       "      <td>True</td>\n",
       "      <td>False</td>\n",
       "      <td>False</td>\n",
       "      <td>False</td>\n",
       "      <td>Sculpture</td>\n",
       "    </tr>\n",
       "  </tbody>\n",
       "</table>\n",
       "<p>38931 rows × 30 columns</p>\n",
       "</div>"
      ],
      "text/plain": [
       "       index            sale_date   price  estimate_min  estimate_max  \\\n",
       "0      24173  2010-09-22 00:00:00   16250       15000.0       20000.0   \n",
       "1      24113  2010-09-22 00:00:00   13750        8000.0       12000.0   \n",
       "2      24125  2010-09-22 00:00:00   11875       12000.0       18000.0   \n",
       "3      24126  2010-09-22 00:00:00   47500       25000.0       35000.0   \n",
       "4      24235  2010-11-03 00:00:00  626500      500000.0      700000.0   \n",
       "...      ...                  ...     ...           ...           ...   \n",
       "38926  24105  2010-09-22 00:00:00   80500       40000.0       60000.0   \n",
       "38927  24107  2010-09-22 00:00:00   11250       10000.0       15000.0   \n",
       "38928  24132  2010-09-22 00:00:00   74500       30000.0       40000.0   \n",
       "38929  24109  2010-09-22 00:00:00   25000       10000.0       15000.0   \n",
       "38930  24110  2010-09-22 00:00:00   47500       30000.0       40000.0   \n",
       "\n",
       "      currency             artist  \\\n",
       "0         USD   Eberhard Havekost   \n",
       "1         USD        Vito Acconci   \n",
       "2         USD       Lucio Fontana   \n",
       "3         USD       Lynda Benglis   \n",
       "4         USD        Marc Chagall   \n",
       "...        ...                ...   \n",
       "38926     USD             Christo   \n",
       "38927     USD        Kenny Scharf   \n",
       "38928     USD    Alexander Calder   \n",
       "38929     USD       Dario Robleto   \n",
       "38930     USD      Allan Mccollum   \n",
       "\n",
       "                                                   title  \\\n",
       "0                                            Untitled \\r   \n",
       "1                                       Changing Title\\r   \n",
       "2                                            Untitled \\r   \n",
       "3                              Untitled (Shady Grove) \\r   \n",
       "4                      Fleurs dans un vase u carreaux \\r   \n",
       "...                                                  ...   \n",
       "38926  Wrapped Walkways (Project for St. Stephens Gre...   \n",
       "38927                                       Phorshine \\r   \n",
       "38928                                        Untitled \\r   \n",
       "38929              If We Fly Away, Theyll Fly Away... \\r   \n",
       "38930                                 Perfect Vehicle \\r   \n",
       "\n",
       "                                                    size  \\\n",
       "0                  13 3/8 x 17 3/8 in. (33.9 x 45.4 cm.)   \n",
       "1                    30 x 14\\u00bd in. (76.2 x 36.8 cm.)   \n",
       "2            5\\u00bc x 5 x 4 in. (13.3 x 12.7 x 10.1cm.)   \n",
       "3      34\\u00bd x 19\\u00bd x 3\\u00be in. (87.6 x 49.5...   \n",
       "4                      19 5/8 x 16 in. (49.8 x 40.6 cm.)   \n",
       "...                                                  ...   \n",
       "38926                      28 x 22 in. (71.1 x 55.8 cm.)   \n",
       "38927          20 x 14 x 14 in. (50.8 x 35.5 x 35.5 cm.)   \n",
       "38928               29\\u00bd x 43 in. (74.9 x 109.2 cm.)   \n",
       "38929         24 x 16 x 16 in. (60.9 x 40.6 x 40. 6 cm.)   \n",
       "38930         78 x 36 x 36 in. (198.1 x 91.4 x 91.4 cm.)   \n",
       "\n",
       "                                                 details  ... drawing_keyword  \\\n",
       "0      [\"signed and dated Havekost DD 97 (on the reve...  ...           False   \n",
       "1      [\"signed, titled and dated Changing Title 1969...  ...           False   \n",
       "2      [\"incised with initials and dated LF 47 (on th...  ...           False   \n",
       "3      [\"signed with initials and numbered LB 282 (on...  ...           False   \n",
       "4      [\"signed Marc Chagall (lower right) \\r\",\"oil o...  ...           False   \n",
       "...                                                  ...  ...             ...   \n",
       "38926  [\"signed and dated CHRISTO 1977 (upper right o...  ...            True   \n",
       "38927  [\"signed, numbered and dated Kenny Scharf 96 3...  ...           False   \n",
       "38928  [\"signed and dated Calder 66 (lower right) \\r\"...  ...           False   \n",
       "38929  [\"Bone dust, fabric, metal, silver, lead, viny...  ...            True   \n",
       "38930  [\"acrylic enamel on glass-fiber-reinforced con...  ...           False   \n",
       "\n",
       "      painting_keyword  photo_keyword sculpture_keyword  \\\n",
       "0                 True          False             False   \n",
       "1                False           True             False   \n",
       "2                False          False             False   \n",
       "3                False          False              True   \n",
       "4                 True          False             False   \n",
       "...                ...            ...               ...   \n",
       "38926             True           True             False   \n",
       "38927            False          False              True   \n",
       "38928             True          False             False   \n",
       "38929            False           True             False   \n",
       "38930             True          False             False   \n",
       "\n",
       "      decorative_obj_keyword_med has_3dimensions  furniture_keyword  \\\n",
       "0                          False           False              False   \n",
       "1                          False           False              False   \n",
       "2                          False            True              False   \n",
       "3                          False            True              False   \n",
       "4                          False           False              False   \n",
       "...                          ...             ...                ...   \n",
       "38926                      False           False              False   \n",
       "38927                      False            True              False   \n",
       "38928                      False           False              False   \n",
       "38929                      False            True              False   \n",
       "38930                      False            True              False   \n",
       "\n",
       "       decorative_obj_keyword  is_drawing     Classification  \n",
       "0                       False       False           Painting  \n",
       "1                       False        True            Drawing  \n",
       "2                       False       False          Sculpture  \n",
       "3                       False       False          Sculpture  \n",
       "4                        True       False  decorative_object  \n",
       "...                       ...         ...                ...  \n",
       "38926                   False        True          Sculpture  \n",
       "38927                   False       False          Sculpture  \n",
       "38928                   False        True            Drawing  \n",
       "38929                   False        True  no_classification  \n",
       "38930                   False       False          Sculpture  \n",
       "\n",
       "[38931 rows x 30 columns]"
      ]
     },
     "execution_count": 25,
     "metadata": {},
     "output_type": "execute_result"
    }
   ],
   "source": [
    "df_classified"
   ]
  },
  {
   "cell_type": "code",
   "execution_count": 26,
   "metadata": {},
   "outputs": [],
   "source": [
    "df_cat = df_classified[['index', 'Classification']].groupby('Classification').count().sort_values('index', ascending=False)\n"
   ]
  },
  {
   "cell_type": "code",
   "execution_count": 27,
   "metadata": {},
   "outputs": [
    {
     "data": {
      "text/html": [
       "<div>\n",
       "<style scoped>\n",
       "    .dataframe tbody tr th:only-of-type {\n",
       "        vertical-align: middle;\n",
       "    }\n",
       "\n",
       "    .dataframe tbody tr th {\n",
       "        vertical-align: top;\n",
       "    }\n",
       "\n",
       "    .dataframe thead th {\n",
       "        text-align: right;\n",
       "    }\n",
       "</style>\n",
       "<table border=\"1\" class=\"dataframe\">\n",
       "  <thead>\n",
       "    <tr style=\"text-align: right;\">\n",
       "      <th></th>\n",
       "      <th>index</th>\n",
       "    </tr>\n",
       "    <tr>\n",
       "      <th>Classification</th>\n",
       "      <th></th>\n",
       "    </tr>\n",
       "  </thead>\n",
       "  <tbody>\n",
       "    <tr>\n",
       "      <th>Painting</th>\n",
       "      <td>17335</td>\n",
       "    </tr>\n",
       "    <tr>\n",
       "      <th>Drawing</th>\n",
       "      <td>9590</td>\n",
       "    </tr>\n",
       "    <tr>\n",
       "      <th>Sculpture</th>\n",
       "      <td>5725</td>\n",
       "    </tr>\n",
       "    <tr>\n",
       "      <th>no_classification</th>\n",
       "      <td>3623</td>\n",
       "    </tr>\n",
       "    <tr>\n",
       "      <th>Photograph</th>\n",
       "      <td>798</td>\n",
       "    </tr>\n",
       "    <tr>\n",
       "      <th>decorative_object</th>\n",
       "      <td>766</td>\n",
       "    </tr>\n",
       "    <tr>\n",
       "      <th>Installation</th>\n",
       "      <td>626</td>\n",
       "    </tr>\n",
       "    <tr>\n",
       "      <th>Print</th>\n",
       "      <td>328</td>\n",
       "    </tr>\n",
       "    <tr>\n",
       "      <th>furniture</th>\n",
       "      <td>140</td>\n",
       "    </tr>\n",
       "  </tbody>\n",
       "</table>\n",
       "</div>"
      ],
      "text/plain": [
       "                   index\n",
       "Classification          \n",
       "Painting           17335\n",
       "Drawing             9590\n",
       "Sculpture           5725\n",
       "no_classification   3623\n",
       "Photograph           798\n",
       "decorative_object    766\n",
       "Installation         626\n",
       "Print                328\n",
       "furniture            140"
      ]
     },
     "execution_count": 27,
     "metadata": {},
     "output_type": "execute_result"
    }
   ],
   "source": [
    "df_cat"
   ]
  },
  {
   "cell_type": "code",
   "execution_count": 33,
   "metadata": {},
   "outputs": [
    {
     "name": "stdout",
     "output_type": "stream",
     "text": [
      "21782\n"
     ]
    },
    {
     "data": {
      "text/html": [
       "<img src=\"https://www.christies.com/img/LotImages/2012/CKS/2012_CKS_06766_0101_000(arjan_van_helmond_chandelier_6).jpg\" width=\"250\" height=\"250\"/>"
      ],
      "text/plain": [
       "<IPython.core.display.Image object>"
      ]
     },
     "metadata": {},
     "output_type": "display_data"
    },
    {
     "name": "stdout",
     "output_type": "stream",
     "text": [
      "23196\n"
     ]
    },
    {
     "data": {
      "text/html": [
       "<img src=\"https://www.christies.com/img/LotImages/2008/NYR/2008_NYR_01970_0060_000().jpg\" width=\"250\" height=\"250\"/>"
      ],
      "text/plain": [
       "<IPython.core.display.Image object>"
      ]
     },
     "metadata": {},
     "output_type": "display_data"
    },
    {
     "name": "stdout",
     "output_type": "stream",
     "text": [
      "32203\n"
     ]
    },
    {
     "data": {
      "text/html": [
       "<img src=\"https://www.christies.com/img/LotImages/2013/HGK/2013_HGK_03257_0608_000(ugo_untoro_dinner_table_after_matisse).jpg\" width=\"250\" height=\"250\"/>"
      ],
      "text/plain": [
       "<IPython.core.display.Image object>"
      ]
     },
     "metadata": {},
     "output_type": "display_data"
    },
    {
     "name": "stdout",
     "output_type": "stream",
     "text": [
      "5117\n"
     ]
    },
    {
     "data": {
      "text/html": [
       "<img src=\"https://www.christies.com/img/LotImages/2012/CSK/2012_CSK_04420_0223_000(henri_martin_bouquet_sur_la_table_en_pierre_de_marquayrol).jpg\" width=\"250\" height=\"250\"/>"
      ],
      "text/plain": [
       "<IPython.core.display.Image object>"
      ]
     },
     "metadata": {},
     "output_type": "display_data"
    },
    {
     "name": "stdout",
     "output_type": "stream",
     "text": [
      "1872\n"
     ]
    },
    {
     "data": {
      "text/html": [
       "<img src=\"https://www.christies.com/img/LotImages/2011/NYR/2011_NYR_02481_0702_000(george_segal_blue_girl_on_park_bench).jpg\" width=\"250\" height=\"250\"/>"
      ],
      "text/plain": [
       "<IPython.core.display.Image object>"
      ]
     },
     "metadata": {},
     "output_type": "display_data"
    },
    {
     "name": "stdout",
     "output_type": "stream",
     "text": [
      "25366\n"
     ]
    },
    {
     "data": {
      "text/html": [
       "<img src=\"https://www.christies.com/img/LotImages/2006/CKS/2006_CKS_07191_0028_000().jpg\" width=\"250\" height=\"250\"/>"
      ],
      "text/plain": [
       "<IPython.core.display.Image object>"
      ]
     },
     "metadata": {},
     "output_type": "display_data"
    },
    {
     "name": "stdout",
     "output_type": "stream",
     "text": [
      "8028\n"
     ]
    },
    {
     "data": {
      "text/html": [
       "<img src=\"https://www.christies.com/img/LotImages/2014/NYR/2014_NYR_02849_0544_000(weiwei_ai_fairytale_chairs).jpg\" width=\"250\" height=\"250\"/>"
      ],
      "text/plain": [
       "<IPython.core.display.Image object>"
      ]
     },
     "metadata": {},
     "output_type": "display_data"
    },
    {
     "name": "stdout",
     "output_type": "stream",
     "text": [
      "20884\n"
     ]
    },
    {
     "data": {
      "text/html": [
       "<img src=\"https://www.christies.com/img/LotImages/2017/NYR/2017_NYR_14183_0003A_000(henry_moore_rocking_chair_no_1).jpg\" width=\"250\" height=\"250\"/>"
      ],
      "text/plain": [
       "<IPython.core.display.Image object>"
      ]
     },
     "metadata": {},
     "output_type": "display_data"
    },
    {
     "name": "stdout",
     "output_type": "stream",
     "text": [
      "7282\n"
     ]
    },
    {
     "data": {
      "text/html": [
       "<img src=\"https://www.christies.com/img/LotImages/2014/CKS/2014_CKS_01534_0335_000(diego_giacometti_table_grecque_rectangulaire).jpg\" width=\"250\" height=\"250\"/>"
      ],
      "text/plain": [
       "<IPython.core.display.Image object>"
      ]
     },
     "metadata": {},
     "output_type": "display_data"
    },
    {
     "name": "stdout",
     "output_type": "stream",
     "text": [
      "21878\n"
     ]
    },
    {
     "data": {
      "text/html": [
       "<img src=\"https://www.christies.com/img/LotImages/2012/CSK/2012_CSK_07751_0392_000(ken_howard_ra_deck_chairs).jpg\" width=\"250\" height=\"250\"/>"
      ],
      "text/plain": [
       "<IPython.core.display.Image object>"
      ]
     },
     "metadata": {},
     "output_type": "display_data"
    },
    {
     "name": "stdout",
     "output_type": "stream",
     "text": [
      "20394\n"
     ]
    },
    {
     "data": {
      "text/html": [
       "<img src=\"https://www.christies.com/img/LotImages/2007/CKS/2007_CKS_07408_0364_000().jpg\" width=\"250\" height=\"250\"/>"
      ],
      "text/plain": [
       "<IPython.core.display.Image object>"
      ]
     },
     "metadata": {},
     "output_type": "display_data"
    },
    {
     "name": "stdout",
     "output_type": "stream",
     "text": [
      "27094\n"
     ]
    },
    {
     "data": {
      "text/html": [
       "<img src=\"https://www.christies.com/img/LotImages/2014/CKS/2014_CKS_01543_0032_000(lynn_chadwick_ra_sitting_couple_on_bench).jpg\" width=\"250\" height=\"250\"/>"
      ],
      "text/plain": [
       "<IPython.core.display.Image object>"
      ]
     },
     "metadata": {},
     "output_type": "display_data"
    },
    {
     "name": "stdout",
     "output_type": "stream",
     "text": [
      "20905\n"
     ]
    },
    {
     "data": {
      "text/html": [
       "<img src=\"https://www.christies.com/img/LotImages/2014/NYR/2014_NYR_02895_0097_000(fernando_botero_kitchen_table).jpg\" width=\"250\" height=\"250\"/>"
      ],
      "text/plain": [
       "<IPython.core.display.Image object>"
      ]
     },
     "metadata": {},
     "output_type": "display_data"
    },
    {
     "name": "stdout",
     "output_type": "stream",
     "text": [
      "8692\n"
     ]
    },
    {
     "data": {
      "text/html": [
       "<img src=\"https://www.christies.com/img/LotImages/2015/CKS/2015_CKS_10336_0442_000(diego_giacometti_table_basse_trapezoidale_modele_aux_cerfs_et_aux_chie).jpg\" width=\"250\" height=\"250\"/>"
      ],
      "text/plain": [
       "<IPython.core.display.Image object>"
      ]
     },
     "metadata": {},
     "output_type": "display_data"
    },
    {
     "name": "stdout",
     "output_type": "stream",
     "text": [
      "11450\n"
     ]
    },
    {
     "data": {
      "text/html": [
       "<img src=\"https://www.christies.com/img/LotImages/2016/NYR/2016_NYR_12154_0447_000(jeff_koons_find_a_quiet_table).jpg\" width=\"250\" height=\"250\"/>"
      ],
      "text/plain": [
       "<IPython.core.display.Image object>"
      ]
     },
     "metadata": {},
     "output_type": "display_data"
    },
    {
     "name": "stdout",
     "output_type": "stream",
     "text": [
      "1082\n"
     ]
    },
    {
     "data": {
      "text/html": [
       "<img src=\"https://www.christies.com/img/LotImages/2011/NYR/2011_NYR_02424_0631_000(francis_newton_souza_untitled_untitled_untitled).jpg\" width=\"250\" height=\"250\"/>"
      ],
      "text/plain": [
       "<IPython.core.display.Image object>"
      ]
     },
     "metadata": {},
     "output_type": "display_data"
    },
    {
     "name": "stdout",
     "output_type": "stream",
     "text": [
      "12639\n"
     ]
    },
    {
     "data": {
      "text/html": [
       "<img src=\"https://www.christies.com/img/LotImages/2017/NYR/2017_NYR_14186_0334_000(diego_giacometti_table_basse_trapezoidale_modele_aux_hiboux_et_grenoui).jpg\" width=\"250\" height=\"250\"/>"
      ],
      "text/plain": [
       "<IPython.core.display.Image object>"
      ]
     },
     "metadata": {},
     "output_type": "display_data"
    },
    {
     "name": "stdout",
     "output_type": "stream",
     "text": [
      "1824\n"
     ]
    },
    {
     "data": {
      "text/html": [
       "<img src=\"https://www.christies.com/img/LotImages/2011/NYR/2011_NYR_02481_0614_000(eleanore_mikus_tablet_183).jpg\" width=\"250\" height=\"250\"/>"
      ],
      "text/plain": [
       "<IPython.core.display.Image object>"
      ]
     },
     "metadata": {},
     "output_type": "display_data"
    },
    {
     "name": "stdout",
     "output_type": "stream",
     "text": [
      "4628\n"
     ]
    },
    {
     "data": {
      "text/html": [
       "<img src=\"https://www.christies.com/img/LotImages/2012/NYR/2012_NYR_02596_0457_000(diego_giacometti_table_basse_trapezoidale_modele_aux_hiboux_et_aux_gre).jpg\" width=\"250\" height=\"250\"/>"
      ],
      "text/plain": [
       "<IPython.core.display.Image object>"
      ]
     },
     "metadata": {},
     "output_type": "display_data"
    },
    {
     "name": "stdout",
     "output_type": "stream",
     "text": [
      "3840\n"
     ]
    },
    {
     "data": {
      "text/html": [
       "<img src=\"https://www.christies.com/img/LotImages/2012/NYR/2012_NYR_02555_0237_000(henry_moore_seated_nude_in_wicker_chair).jpg\" width=\"250\" height=\"250\"/>"
      ],
      "text/plain": [
       "<IPython.core.display.Image object>"
      ]
     },
     "metadata": {},
     "output_type": "display_data"
    },
    {
     "name": "stdout",
     "output_type": "stream",
     "text": [
      "30724\n"
     ]
    },
    {
     "data": {
      "text/html": [
       "<img src=\"https://www.christies.com/img/LotImages/2013/NYR/2013_NYR_02790_0314_000(bernard_buffet_table_et_chaise).jpg\" width=\"250\" height=\"250\"/>"
      ],
      "text/plain": [
       "<IPython.core.display.Image object>"
      ]
     },
     "metadata": {},
     "output_type": "display_data"
    },
    {
     "name": "stdout",
     "output_type": "stream",
     "text": [
      "22917\n"
     ]
    },
    {
     "data": {
      "text/html": [
       "<img src=\"https://www.christies.com/img/LotImages/2008/CKS/2008_CKS_07653_0090_000().jpg\" width=\"250\" height=\"250\"/>"
      ],
      "text/plain": [
       "<IPython.core.display.Image object>"
      ]
     },
     "metadata": {},
     "output_type": "display_data"
    },
    {
     "name": "stdout",
     "output_type": "stream",
     "text": [
      "24264\n"
     ]
    },
    {
     "data": {
      "text/html": [
       "<img src=\"https://www.christies.com/img/LotImages/2013/CKS/2013_CKS_01106_0033_000(allen_jones_hatstand_table_and_chair_hatstand_table_chair).jpg\" width=\"250\" height=\"250\"/>"
      ],
      "text/plain": [
       "<IPython.core.display.Image object>"
      ]
     },
     "metadata": {},
     "output_type": "display_data"
    },
    {
     "name": "stdout",
     "output_type": "stream",
     "text": [
      "10885\n"
     ]
    },
    {
     "data": {
      "text/html": [
       "<img src=\"https://www.christies.com/img/LotImages/2017/CKS/2017_CKS_13488_0423_000(marc_chagall_couple_au_chandelier).jpg\" width=\"250\" height=\"250\"/>"
      ],
      "text/plain": [
       "<IPython.core.display.Image object>"
      ]
     },
     "metadata": {},
     "output_type": "display_data"
    },
    {
     "name": "stdout",
     "output_type": "stream",
     "text": [
      "36802\n"
     ]
    },
    {
     "data": {
      "text/html": [
       "<img src=\"https://www.christies.com/img/LotImages/2008/NYR/2008_NYR_02045_0013_000().jpg\" width=\"250\" height=\"250\"/>"
      ],
      "text/plain": [
       "<IPython.core.display.Image object>"
      ]
     },
     "metadata": {},
     "output_type": "display_data"
    },
    {
     "name": "stdout",
     "output_type": "stream",
     "text": [
      "19367\n"
     ]
    },
    {
     "data": {
      "text/html": [
       "<img src=\"https://www.christies.com/img/LotImages/2013/CSK/2013_CSK_08257_0140_000(louis_valtat_table_de_campagne_aux_deux_bouquets).jpg\" width=\"250\" height=\"250\"/>"
      ],
      "text/plain": [
       "<IPython.core.display.Image object>"
      ]
     },
     "metadata": {},
     "output_type": "display_data"
    },
    {
     "name": "stdout",
     "output_type": "stream",
     "text": [
      "12637\n"
     ]
    },
    {
     "data": {
      "text/html": [
       "<img src=\"https://www.christies.com/img/LotImages/2017/NYR/2017_NYR_14186_0333_000(diego_giacometti_table_basse_trapezoidale_modele_aux_hiboux_et_grenoui).jpg\" width=\"250\" height=\"250\"/>"
      ],
      "text/plain": [
       "<IPython.core.display.Image object>"
      ]
     },
     "metadata": {},
     "output_type": "display_data"
    },
    {
     "name": "stdout",
     "output_type": "stream",
     "text": [
      "20081\n"
     ]
    },
    {
     "data": {
      "text/html": [
       "<img src=\"https://www.christies.com/img/LotImages/2015/NYR/2015_NYR_03785_1254_000(henry_moore_mother_and_child_on_ladderback_rocking_chair).jpg\" width=\"250\" height=\"250\"/>"
      ],
      "text/plain": [
       "<IPython.core.display.Image object>"
      ]
     },
     "metadata": {},
     "output_type": "display_data"
    },
    {
     "name": "stdout",
     "output_type": "stream",
     "text": [
      "34739\n"
     ]
    },
    {
     "data": {
      "text/html": [
       "<img src=\"https://www.christies.com/img/LotImages/2007/NYR/2007_NYR_01806_0265_000().jpg\" width=\"250\" height=\"250\"/>"
      ],
      "text/plain": [
       "<IPython.core.display.Image object>"
      ]
     },
     "metadata": {},
     "output_type": "display_data"
    },
    {
     "name": "stdout",
     "output_type": "stream",
     "text": [
      "1336\n"
     ]
    },
    {
     "data": {
      "text/html": [
       "<img src=\"https://www.christies.com/img/LotImages/2011/NYR/2011_NYR_02439_0416_000(diego_giacometti_table_grecque_modele_carre).jpg\" width=\"250\" height=\"250\"/>"
      ],
      "text/plain": [
       "<IPython.core.display.Image object>"
      ]
     },
     "metadata": {},
     "output_type": "display_data"
    }
   ],
   "source": [
    "## Check out Furniture Examples\n",
    "\n",
    "clas = 'furniture'\n",
    "utils.view_images_from_url(df_classified[df_classified['Classification'] == clas]\n",
    "                     , url_col\n",
    "                     , subsample=True\n",
    "                     , sample_size=30\n",
    "                     , random_state=8)"
   ]
  },
  {
   "cell_type": "code",
   "execution_count": null,
   "metadata": {},
   "outputs": [],
   "source": [
    "# Some furniture not correct since it depects drawings of furniture"
   ]
  },
  {
   "cell_type": "code",
   "execution_count": 34,
   "metadata": {},
   "outputs": [
    {
     "name": "stdout",
     "output_type": "stream",
     "text": [
      "22590\n"
     ]
    },
    {
     "data": {
      "text/html": [
       "<img src=\"https://www.christies.com/img/LotImages/2008/CSK/2008_CSK_05394_0089_000().jpg\" width=\"250\" height=\"250\"/>"
      ],
      "text/plain": [
       "<IPython.core.display.Image object>"
      ]
     },
     "metadata": {},
     "output_type": "display_data"
    },
    {
     "name": "stdout",
     "output_type": "stream",
     "text": [
      "17293\n"
     ]
    },
    {
     "data": {
      "text/html": [
       "<img src=\"https://www.christies.com/img/LotImages/2008/NYR/2008_NYR_02093_0018_000().jpg\" width=\"250\" height=\"250\"/>"
      ],
      "text/plain": [
       "<IPython.core.display.Image object>"
      ]
     },
     "metadata": {},
     "output_type": "display_data"
    },
    {
     "name": "stdout",
     "output_type": "stream",
     "text": [
      "28484\n"
     ]
    },
    {
     "data": {
      "text/html": [
       "<img src=\"https://www.christies.com/img/LotImages/2007/CKS/2007_CKS_07357_0014_000().jpg\" width=\"250\" height=\"250\"/>"
      ],
      "text/plain": [
       "<IPython.core.display.Image object>"
      ]
     },
     "metadata": {},
     "output_type": "display_data"
    },
    {
     "name": "stdout",
     "output_type": "stream",
     "text": [
      "18220\n"
     ]
    },
    {
     "data": {
      "text/html": [
       "<img src=\"https://www.christies.com/img/LotImages/2010/CKS/2010_CKS_07914_0042_000(thomas_ruff_nude_bb_36).jpg\" width=\"250\" height=\"250\"/>"
      ],
      "text/plain": [
       "<IPython.core.display.Image object>"
      ]
     },
     "metadata": {},
     "output_type": "display_data"
    },
    {
     "name": "stdout",
     "output_type": "stream",
     "text": [
      "28768\n"
     ]
    },
    {
     "data": {
      "text/html": [
       "<img src=\"https://www.christies.com/img/LotImages/2016/DUB/2016_DUB_01244_0035_000(fateh_moudarres_untitled).jpg\" width=\"250\" height=\"250\"/>"
      ],
      "text/plain": [
       "<IPython.core.display.Image object>"
      ]
     },
     "metadata": {},
     "output_type": "display_data"
    },
    {
     "name": "stdout",
     "output_type": "stream",
     "text": [
      "2477\n"
     ]
    },
    {
     "data": {
      "text/html": [
       "<img src=\"https://www.christies.com/img/LotImages/2011/CKS/2011_CKS_07951_0023_000(pablo_picasso_baigneuse_et_cabine_de_bains).jpg\" width=\"250\" height=\"250\"/>"
      ],
      "text/plain": [
       "<IPython.core.display.Image object>"
      ]
     },
     "metadata": {},
     "output_type": "display_data"
    },
    {
     "name": "stdout",
     "output_type": "stream",
     "text": [
      "13118\n"
     ]
    },
    {
     "data": {
      "text/html": [
       "<img src=\"https://www.christies.com/img/LotImages/2017/CKS/2017_CKS_14438_0298_000(zak_ove_the_invisible_man).jpg\" width=\"250\" height=\"250\"/>"
      ],
      "text/plain": [
       "<IPython.core.display.Image object>"
      ]
     },
     "metadata": {},
     "output_type": "display_data"
    },
    {
     "name": "stdout",
     "output_type": "stream",
     "text": [
      "30546\n"
     ]
    },
    {
     "data": {
      "text/html": [
       "<img src=\"https://www.christies.com/img/LotImages/2015/CSK/2015_CSK_10425_0791_000(jean_cocteau_astrologie).jpg\" width=\"250\" height=\"250\"/>"
      ],
      "text/plain": [
       "<IPython.core.display.Image object>"
      ]
     },
     "metadata": {},
     "output_type": "display_data"
    },
    {
     "name": "stdout",
     "output_type": "stream",
     "text": [
      "35484\n"
     ]
    },
    {
     "data": {
      "text/html": [
       "<img src=\"https://www.christies.com/img/LotImages/2007/CKS/2007_CKS_07358_0126_000().jpg\" width=\"250\" height=\"250\"/>"
      ],
      "text/plain": [
       "<IPython.core.display.Image object>"
      ]
     },
     "metadata": {},
     "output_type": "display_data"
    },
    {
     "name": "stdout",
     "output_type": "stream",
     "text": [
      "12201\n"
     ]
    },
    {
     "data": {
      "text/html": [
       "<img src=\"https://www.christies.com/img/LotImages/2016/CSK/2016_CSK_12724_0049_000(dan_rees_one_afternoon_and_evening_in_lianelli_an_ode_to_cerith_wyn_ev).jpg\" width=\"250\" height=\"250\"/>"
      ],
      "text/plain": [
       "<IPython.core.display.Image object>"
      ]
     },
     "metadata": {},
     "output_type": "display_data"
    },
    {
     "name": "stdout",
     "output_type": "stream",
     "text": [
      "35524\n"
     ]
    },
    {
     "data": {
      "text/html": [
       "<img src=\"https://www.christies.com/img/LotImages/2007/CKS/2007_CKS_07358_0243_000().jpg\" width=\"250\" height=\"250\"/>"
      ],
      "text/plain": [
       "<IPython.core.display.Image object>"
      ]
     },
     "metadata": {},
     "output_type": "display_data"
    },
    {
     "name": "stdout",
     "output_type": "stream",
     "text": [
      "31495\n"
     ]
    },
    {
     "data": {
      "text/html": [
       "<img src=\"https://www.christies.com/img/LotImages/2006/NYR/2006_NYR_01660_0603_000().jpg\" width=\"250\" height=\"250\"/>"
      ],
      "text/plain": [
       "<IPython.core.display.Image object>"
      ]
     },
     "metadata": {},
     "output_type": "display_data"
    },
    {
     "name": "stdout",
     "output_type": "stream",
     "text": [
      "5847\n"
     ]
    },
    {
     "data": {
      "text/html": [
       "<img src=\"https://www.christies.com/img/LotImages/2012/CKS/2012_CKS_05539_0212_000(wolfgang_tillmans_lighter_blue_up_iii).jpg\" width=\"250\" height=\"250\"/>"
      ],
      "text/plain": [
       "<IPython.core.display.Image object>"
      ]
     },
     "metadata": {},
     "output_type": "display_data"
    },
    {
     "name": "stdout",
     "output_type": "stream",
     "text": [
      "3961\n"
     ]
    },
    {
     "data": {
      "text/html": [
       "<img src=\"https://www.christies.com/img/LotImages/2012/NYR/2012_NYR_02557_0053_000(urs_fischer_mr_watson--come_here--i_want_to_see_you).jpg\" width=\"250\" height=\"250\"/>"
      ],
      "text/plain": [
       "<IPython.core.display.Image object>"
      ]
     },
     "metadata": {},
     "output_type": "display_data"
    },
    {
     "name": "stdout",
     "output_type": "stream",
     "text": [
      "16067\n"
     ]
    },
    {
     "data": {
      "text/html": [
       "<img src=\"https://www.christies.com/img/LotImages/2017/NYR/2017_NYR_14997_0849_000(carl_andre_13_venifer).jpg\" width=\"250\" height=\"250\"/>"
      ],
      "text/plain": [
       "<IPython.core.display.Image object>"
      ]
     },
     "metadata": {},
     "output_type": "display_data"
    },
    {
     "name": "stdout",
     "output_type": "stream",
     "text": [
      "33833\n"
     ]
    },
    {
     "data": {
      "text/html": [
       "<img src=\"https://www.christies.com/img/LotImages/2014/CKS/2014_CKS_01535_0074_000(sean_scully_wall_of_light_blue_blue).jpg\" width=\"250\" height=\"250\"/>"
      ],
      "text/plain": [
       "<IPython.core.display.Image object>"
      ]
     },
     "metadata": {},
     "output_type": "display_data"
    },
    {
     "name": "stdout",
     "output_type": "stream",
     "text": [
      "12100\n"
     ]
    },
    {
     "data": {
      "text/html": [
       "<img src=\"https://www.christies.com/img/LotImages/2016/HGK/2016_HGK_12516_0245_000(poklong_anading_anonymity_0031_0057_0060_0071).jpg\" width=\"250\" height=\"250\"/>"
      ],
      "text/plain": [
       "<IPython.core.display.Image object>"
      ]
     },
     "metadata": {},
     "output_type": "display_data"
    },
    {
     "name": "stdout",
     "output_type": "stream",
     "text": [
      "28979\n"
     ]
    },
    {
     "data": {
      "text/html": [
       "<img src=\"https://www.christies.com/img/LotImages/2014/CSK/2014_CSK_05935_0089_000(friedrich_kunath_first_life_takes_time_then_time_takes_life).jpg\" width=\"250\" height=\"250\"/>"
      ],
      "text/plain": [
       "<IPython.core.display.Image object>"
      ]
     },
     "metadata": {},
     "output_type": "display_data"
    },
    {
     "name": "stdout",
     "output_type": "stream",
     "text": [
      "16005\n"
     ]
    },
    {
     "data": {
      "text/html": [
       "<img src=\"https://www.christies.com/img/LotImages/2014/CKS/2014_CKS_01533_0130_000(pablo_picasso_nu_agenouille_et_amour).jpg\" width=\"250\" height=\"250\"/>"
      ],
      "text/plain": [
       "<IPython.core.display.Image object>"
      ]
     },
     "metadata": {},
     "output_type": "display_data"
    },
    {
     "name": "stdout",
     "output_type": "stream",
     "text": [
      "32886\n"
     ]
    },
    {
     "data": {
      "text/html": [
       "<img src=\"https://www.christies.com/img/LotImages/2012/CKS/2012_CKS_08053_0381_000(luc_tuymans_untitled).jpg\" width=\"250\" height=\"250\"/>"
      ],
      "text/plain": [
       "<IPython.core.display.Image object>"
      ]
     },
     "metadata": {},
     "output_type": "display_data"
    },
    {
     "name": "stdout",
     "output_type": "stream",
     "text": [
      "11448\n"
     ]
    },
    {
     "data": {
      "text/html": [
       "<img src=\"https://www.christies.com/img/LotImages/2016/NYR/2016_NYR_12154_0442_000(el_anatsui_exoke).jpg\" width=\"250\" height=\"250\"/>"
      ],
      "text/plain": [
       "<IPython.core.display.Image object>"
      ]
     },
     "metadata": {},
     "output_type": "display_data"
    },
    {
     "name": "stdout",
     "output_type": "stream",
     "text": [
      "10008\n"
     ]
    },
    {
     "data": {
      "text/html": [
       "<img src=\"https://www.christies.com/img/LotImages/2015/NYR/2015_NYR_03740_0014B_000(gilbert_george_raining_gin).jpg\" width=\"250\" height=\"250\"/>"
      ],
      "text/plain": [
       "<IPython.core.display.Image object>"
      ]
     },
     "metadata": {},
     "output_type": "display_data"
    },
    {
     "name": "stdout",
     "output_type": "stream",
     "text": [
      "34369\n"
     ]
    },
    {
     "data": {
      "text/html": [
       "<img src=\"https://www.christies.com/img/LotImages/2006/CSK/2006_CSK_05010_0120_000().jpg\" width=\"250\" height=\"250\"/>"
      ],
      "text/plain": [
       "<IPython.core.display.Image object>"
      ]
     },
     "metadata": {},
     "output_type": "display_data"
    },
    {
     "name": "stdout",
     "output_type": "stream",
     "text": [
      "23155\n"
     ]
    },
    {
     "data": {
      "text/html": [
       "<img src=\"https://www.christies.com/img/LotImages/2007/CSK/2007_CSK_05273_0003_000().jpg\" width=\"250\" height=\"250\"/>"
      ],
      "text/plain": [
       "<IPython.core.display.Image object>"
      ]
     },
     "metadata": {},
     "output_type": "display_data"
    },
    {
     "name": "stdout",
     "output_type": "stream",
     "text": [
      "35377\n"
     ]
    },
    {
     "data": {
      "text/html": [
       "<img src=\"https://www.christies.com/img/LotImages/2007/CSK/2007_CSK_05324_0092_000().jpg\" width=\"250\" height=\"250\"/>"
      ],
      "text/plain": [
       "<IPython.core.display.Image object>"
      ]
     },
     "metadata": {},
     "output_type": "display_data"
    },
    {
     "name": "stdout",
     "output_type": "stream",
     "text": [
      "31014\n"
     ]
    },
    {
     "data": {
      "text/html": [
       "<img src=\"https://www.christies.com/img/LotImages/2007/NYR/2007_NYR_01835_0235_000().jpg\" width=\"250\" height=\"250\"/>"
      ],
      "text/plain": [
       "<IPython.core.display.Image object>"
      ]
     },
     "metadata": {},
     "output_type": "display_data"
    },
    {
     "name": "stdout",
     "output_type": "stream",
     "text": [
      "11723\n"
     ]
    },
    {
     "data": {
      "text/html": [
       "<img src=\"https://www.christies.com/img/LotImages/2016/CKS/2016_CKS_12237_0001_000(frederic_lord_leighton_pra_rws_needless_alarms).jpg\" width=\"250\" height=\"250\"/>"
      ],
      "text/plain": [
       "<IPython.core.display.Image object>"
      ]
     },
     "metadata": {},
     "output_type": "display_data"
    },
    {
     "name": "stdout",
     "output_type": "stream",
     "text": [
      "22059\n"
     ]
    },
    {
     "data": {
      "text/html": [
       "<img src=\"https://www.christies.com/img/LotImages/2006/CKS/2006_CKS_07246_0060_000().jpg\" width=\"250\" height=\"250\"/>"
      ],
      "text/plain": [
       "<IPython.core.display.Image object>"
      ]
     },
     "metadata": {},
     "output_type": "display_data"
    },
    {
     "name": "stdout",
     "output_type": "stream",
     "text": [
      "2295\n"
     ]
    },
    {
     "data": {
      "text/html": [
       "<img src=\"https://www.christies.com/img/LotImages/2011/DUB/2011_DUB_07933_0115_000(marwa_adel_whisper).jpg\" width=\"250\" height=\"250\"/>"
      ],
      "text/plain": [
       "<IPython.core.display.Image object>"
      ]
     },
     "metadata": {},
     "output_type": "display_data"
    },
    {
     "name": "stdout",
     "output_type": "stream",
     "text": [
      "13781\n"
     ]
    },
    {
     "data": {
      "text/html": [
       "<img src=\"https://www.christies.com/img/LotImages/2013/NYR/2013_NYR_02727_0138_000(andreas_gursky_pyongyang_ii).jpg\" width=\"250\" height=\"250\"/>"
      ],
      "text/plain": [
       "<IPython.core.display.Image object>"
      ]
     },
     "metadata": {},
     "output_type": "display_data"
    }
   ],
   "source": [
    "clas = 'Installation'\n",
    "utils.view_images_from_url(df_classified[df_classified['Classification'] == clas]\n",
    "                     , url_col\n",
    "                     , subsample=True\n",
    "                     , sample_size=30\n",
    "                     , random_state=0)"
   ]
  },
  {
   "cell_type": "code",
   "execution_count": null,
   "metadata": {},
   "outputs": [],
   "source": [
    "# Not great for Installation"
   ]
  },
  {
   "cell_type": "code",
   "execution_count": 38,
   "metadata": {},
   "outputs": [
    {
     "name": "stdout",
     "output_type": "stream",
     "text": [
      "38888\n"
     ]
    },
    {
     "data": {
      "text/html": [
       "<img src=\"https://www.christies.com/img/LotImages/2010/NYR/2010_NYR_02341_0012_000(hiroshi_sugimoto_rosecrans_drive-in_paramount).jpg\" width=\"250\" height=\"250\"/>"
      ],
      "text/plain": [
       "<IPython.core.display.Image object>"
      ]
     },
     "metadata": {},
     "output_type": "display_data"
    },
    {
     "name": "stdout",
     "output_type": "stream",
     "text": [
      "38124\n"
     ]
    },
    {
     "data": {
      "text/html": [
       "<img src=\"https://www.christies.com/img/LotImages/2008/CKS/2008_CKS_07619_0352_000().jpg\" width=\"250\" height=\"250\"/>"
      ],
      "text/plain": [
       "<IPython.core.display.Image object>"
      ]
     },
     "metadata": {},
     "output_type": "display_data"
    },
    {
     "name": "stdout",
     "output_type": "stream",
     "text": [
      "13918\n"
     ]
    },
    {
     "data": {
      "text/html": [
       "<img src=\"https://www.christies.com/img/LotImages/2013/NYR/2013_NYR_02727_0355_000(nan_goldin_amanda_at_the_sauna_hotel_savoy_berlin).jpg\" width=\"250\" height=\"250\"/>"
      ],
      "text/plain": [
       "<IPython.core.display.Image object>"
      ]
     },
     "metadata": {},
     "output_type": "display_data"
    },
    {
     "name": "stdout",
     "output_type": "stream",
     "text": [
      "2365\n"
     ]
    },
    {
     "data": {
      "text/html": [
       "<img src=\"https://www.christies.com/img/LotImages/2011/DUB/2011_DUB_07935_0026_000(murat_germen_muta-morphosis_istanbul_collage).jpg\" width=\"250\" height=\"250\"/>"
      ],
      "text/plain": [
       "<IPython.core.display.Image object>"
      ]
     },
     "metadata": {},
     "output_type": "display_data"
    },
    {
     "name": "stdout",
     "output_type": "stream",
     "text": [
      "472\n"
     ]
    },
    {
     "data": {
      "text/html": [
       "<img src=\"https://www.christies.com/img/LotImages/2010/CSK/2010_CSK_05548_0138_000(cindy_sherman_untitled).jpg\" width=\"250\" height=\"250\"/>"
      ],
      "text/plain": [
       "<IPython.core.display.Image object>"
      ]
     },
     "metadata": {},
     "output_type": "display_data"
    },
    {
     "name": "stdout",
     "output_type": "stream",
     "text": [
      "2229\n"
     ]
    },
    {
     "data": {
      "text/html": [
       "<img src=\"https://www.christies.com/img/LotImages/2011/CSK/2011_CSK_05452_0187_000(nobuyoshi_araki_untitled).jpg\" width=\"250\" height=\"250\"/>"
      ],
      "text/plain": [
       "<IPython.core.display.Image object>"
      ]
     },
     "metadata": {},
     "output_type": "display_data"
    },
    {
     "name": "stdout",
     "output_type": "stream",
     "text": [
      "38922\n"
     ]
    },
    {
     "data": {
      "text/html": [
       "<img src=\"https://www.christies.com/img/LotImages/2010/NYR/2010_NYR_02341_0092_000(hiroshi_sugimoto_hall_of_thirty-three_bays).jpg\" width=\"250\" height=\"250\"/>"
      ],
      "text/plain": [
       "<IPython.core.display.Image object>"
      ]
     },
     "metadata": {},
     "output_type": "display_data"
    },
    {
     "name": "stdout",
     "output_type": "stream",
     "text": [
      "17630\n"
     ]
    },
    {
     "data": {
      "text/html": [
       "<img src=\"https://www.christies.com/img/LotImages/2012/CKS/2012_CKS_05539_0187_000(andreas_gursky_untitled_vii).jpg\" width=\"250\" height=\"250\"/>"
      ],
      "text/plain": [
       "<IPython.core.display.Image object>"
      ]
     },
     "metadata": {},
     "output_type": "display_data"
    },
    {
     "name": "stdout",
     "output_type": "stream",
     "text": [
      "6573\n"
     ]
    },
    {
     "data": {
      "text/html": [
       "<img src=\"https://www.christies.com/img/LotImages/2013/NYR/2013_NYR_02787_0488_000(cindy_sherman_untitled_film_still_2).jpg\" width=\"250\" height=\"250\"/>"
      ],
      "text/plain": [
       "<IPython.core.display.Image object>"
      ]
     },
     "metadata": {},
     "output_type": "display_data"
    },
    {
     "name": "stdout",
     "output_type": "stream",
     "text": [
      "38231\n"
     ]
    },
    {
     "data": {
      "text/html": [
       "<img src=\"https://www.christies.com/img/LotImages/2008/CKS/2008_CKS_07655_0552_000().jpg\" width=\"250\" height=\"250\"/>"
      ],
      "text/plain": [
       "<IPython.core.display.Image object>"
      ]
     },
     "metadata": {},
     "output_type": "display_data"
    },
    {
     "name": "stdout",
     "output_type": "stream",
     "text": [
      "22722\n"
     ]
    },
    {
     "data": {
      "text/html": [
       "<img src=\"https://www.christies.com/img/LotImages/2007/NYR/2007_NYR_01872_0069_000().jpg\" width=\"250\" height=\"250\"/>"
      ],
      "text/plain": [
       "<IPython.core.display.Image object>"
      ]
     },
     "metadata": {},
     "output_type": "display_data"
    },
    {
     "name": "stdout",
     "output_type": "stream",
     "text": [
      "8154\n"
     ]
    },
    {
     "data": {
      "text/html": [
       "<img src=\"https://www.christies.com/img/LotImages/2014/NYR/2014_NYR_02891_0013_000(cindy_sherman_untitled_film_stills).jpg\" width=\"250\" height=\"250\"/>"
      ],
      "text/plain": [
       "<IPython.core.display.Image object>"
      ]
     },
     "metadata": {},
     "output_type": "display_data"
    },
    {
     "name": "stdout",
     "output_type": "stream",
     "text": [
      "1565\n"
     ]
    },
    {
     "data": {
      "text/html": [
       "<img src=\"https://www.christies.com/img/LotImages/2011/NYR/2011_NYR_02442_0369_000(cindy_sherman_untitled_film_still).jpg\" width=\"250\" height=\"250\"/>"
      ],
      "text/plain": [
       "<IPython.core.display.Image object>"
      ]
     },
     "metadata": {},
     "output_type": "display_data"
    },
    {
     "name": "stdout",
     "output_type": "stream",
     "text": [
      "29703\n"
     ]
    },
    {
     "data": {
      "text/html": [
       "<img src=\"https://www.christies.com/img/LotImages/2017/CKS/2017_CKS_14438_0129_000(louise_lawler_kusama).jpg\" width=\"250\" height=\"250\"/>"
      ],
      "text/plain": [
       "<IPython.core.display.Image object>"
      ]
     },
     "metadata": {},
     "output_type": "display_data"
    },
    {
     "name": "stdout",
     "output_type": "stream",
     "text": [
      "31195\n"
     ]
    },
    {
     "data": {
      "text/html": [
       "<img src=\"https://www.christies.com/img/LotImages/2016/DUB/2016_DUB_01244_0106_000(lalla_essaydi_converging_territories_29).jpg\" width=\"250\" height=\"250\"/>"
      ],
      "text/plain": [
       "<IPython.core.display.Image object>"
      ]
     },
     "metadata": {},
     "output_type": "display_data"
    },
    {
     "name": "stdout",
     "output_type": "stream",
     "text": [
      "4977\n"
     ]
    },
    {
     "data": {
      "text/html": [
       "<img src=\"https://www.christies.com/img/LotImages/2012/NYR/2012_NYR_02599_0542_000(louise_lawler_marilyn).jpg\" width=\"250\" height=\"250\"/>"
      ],
      "text/plain": [
       "<IPython.core.display.Image object>"
      ]
     },
     "metadata": {},
     "output_type": "display_data"
    },
    {
     "name": "stdout",
     "output_type": "stream",
     "text": [
      "33940\n"
     ]
    },
    {
     "data": {
      "text/html": [
       "<img src=\"https://www.christies.com/img/LotImages/2014/CKS/2014_CKS_01559_0308_000(walead_beshty_tbd_color_fold).jpg\" width=\"250\" height=\"250\"/>"
      ],
      "text/plain": [
       "<IPython.core.display.Image object>"
      ]
     },
     "metadata": {},
     "output_type": "display_data"
    },
    {
     "name": "stdout",
     "output_type": "stream",
     "text": [
      "28626\n"
     ]
    },
    {
     "data": {
      "text/html": [
       "<img src=\"https://www.christies.com/img/LotImages/2012/CKS/2012_CKS_06766_0030_000(marilyn_minter_bridle).jpg\" width=\"250\" height=\"250\"/>"
      ],
      "text/plain": [
       "<IPython.core.display.Image object>"
      ]
     },
     "metadata": {},
     "output_type": "display_data"
    },
    {
     "name": "stdout",
     "output_type": "stream",
     "text": [
      "4350\n"
     ]
    },
    {
     "data": {
      "text/html": [
       "<img src=\"https://www.christies.com/img/LotImages/2012/NYR/2012_NYR_02582_0064_000(cindy_sherman_ice_skater).jpg\" width=\"250\" height=\"250\"/>"
      ],
      "text/plain": [
       "<IPython.core.display.Image object>"
      ]
     },
     "metadata": {},
     "output_type": "display_data"
    },
    {
     "name": "stdout",
     "output_type": "stream",
     "text": [
      "26451\n"
     ]
    },
    {
     "data": {
      "text/html": [
       "<img src=\"https://www.christies.com/img/LotImages/2011/DUB/2011_DUB_07936_0203_000(youssef_nabil_natacha_fume_le_narguile_cairo_2000).jpg\" width=\"250\" height=\"250\"/>"
      ],
      "text/plain": [
       "<IPython.core.display.Image object>"
      ]
     },
     "metadata": {},
     "output_type": "display_data"
    },
    {
     "name": "stdout",
     "output_type": "stream",
     "text": [
      "28983\n"
     ]
    },
    {
     "data": {
      "text/html": [
       "<img src=\"https://www.christies.com/img/LotImages/2014/CSK/2014_CSK_05935_0096_000(francis_alys_untitled).jpg\" width=\"250\" height=\"250\"/>"
      ],
      "text/plain": [
       "<IPython.core.display.Image object>"
      ]
     },
     "metadata": {},
     "output_type": "display_data"
    },
    {
     "name": "stdout",
     "output_type": "stream",
     "text": [
      "14818\n"
     ]
    },
    {
     "data": {
      "text/html": [
       "<img src=\"https://www.christies.com/img/LotImages/2006/NYR/2006_NYR_01660_0644_000().jpg\" width=\"250\" height=\"250\"/>"
      ],
      "text/plain": [
       "<IPython.core.display.Image object>"
      ]
     },
     "metadata": {},
     "output_type": "display_data"
    },
    {
     "name": "stdout",
     "output_type": "stream",
     "text": [
      "28394\n"
     ]
    },
    {
     "data": {
      "text/html": [
       "<img src=\"https://www.christies.com/img/LotImages/2012/CKS/2012_CKS_05539_0364_000(hiroshi_sugimoto_ohio_theatre_ohio).jpg\" width=\"250\" height=\"250\"/>"
      ],
      "text/plain": [
       "<IPython.core.display.Image object>"
      ]
     },
     "metadata": {},
     "output_type": "display_data"
    },
    {
     "name": "stdout",
     "output_type": "stream",
     "text": [
      "2363\n"
     ]
    },
    {
     "data": {
      "text/html": [
       "<img src=\"https://www.christies.com/img/LotImages/2011/DUB/2011_DUB_07935_0025_000(ahmet_elhan_eski_camii_iii).jpg\" width=\"250\" height=\"250\"/>"
      ],
      "text/plain": [
       "<IPython.core.display.Image object>"
      ]
     },
     "metadata": {},
     "output_type": "display_data"
    },
    {
     "name": "stdout",
     "output_type": "stream",
     "text": [
      "30884\n"
     ]
    },
    {
     "data": {
      "text/html": [
       "<img src=\"https://www.christies.com/img/LotImages/2010/CKS/2010_CKS_07873_0381_000(hiroshi_sugimoto_mathematical_form_surface_0012).jpg\" width=\"250\" height=\"250\"/>"
      ],
      "text/plain": [
       "<IPython.core.display.Image object>"
      ]
     },
     "metadata": {},
     "output_type": "display_data"
    },
    {
     "name": "stdout",
     "output_type": "stream",
     "text": [
      "23437\n"
     ]
    },
    {
     "data": {
      "text/html": [
       "<img src=\"https://www.christies.com/img/LotImages/2012/NYR/2012_NYR_02644_0145_000(cindy_sherman_untitled).jpg\" width=\"250\" height=\"250\"/>"
      ],
      "text/plain": [
       "<IPython.core.display.Image object>"
      ]
     },
     "metadata": {},
     "output_type": "display_data"
    },
    {
     "name": "stdout",
     "output_type": "stream",
     "text": [
      "12228\n"
     ]
    },
    {
     "data": {
      "text/html": [
       "<img src=\"https://www.christies.com/img/LotImages/2016/CSK/2016_CSK_12724_0108_000(gerhard_richter_domecke_i).jpg\" width=\"250\" height=\"250\"/>"
      ],
      "text/plain": [
       "<IPython.core.display.Image object>"
      ]
     },
     "metadata": {},
     "output_type": "display_data"
    },
    {
     "name": "stdout",
     "output_type": "stream",
     "text": [
      "8767\n"
     ]
    },
    {
     "data": {
      "text/html": [
       "<img src=\"https://www.christies.com/img/LotImages/2015/CKS/2015_CKS_10338_0268_000(thomas_struth_paradise_29_peru_2005).jpg\" width=\"250\" height=\"250\"/>"
      ],
      "text/plain": [
       "<IPython.core.display.Image object>"
      ]
     },
     "metadata": {},
     "output_type": "display_data"
    },
    {
     "name": "stdout",
     "output_type": "stream",
     "text": [
      "18291\n"
     ]
    },
    {
     "data": {
      "text/html": [
       "<img src=\"https://www.christies.com/img/LotImages/2016/NYR/2016_NYR_12154_0452_000(richard_prince_untitled).jpg\" width=\"250\" height=\"250\"/>"
      ],
      "text/plain": [
       "<IPython.core.display.Image object>"
      ]
     },
     "metadata": {},
     "output_type": "display_data"
    },
    {
     "name": "stdout",
     "output_type": "stream",
     "text": [
      "14553\n"
     ]
    },
    {
     "data": {
      "text/html": [
       "<img src=\"https://www.christies.com/img/LotImages/2006/CKS/2006_CKS_07191_0008_000().jpg\" width=\"250\" height=\"250\"/>"
      ],
      "text/plain": [
       "<IPython.core.display.Image object>"
      ]
     },
     "metadata": {},
     "output_type": "display_data"
    }
   ],
   "source": [
    "clas = 'Photograph'\n",
    "utils.view_images_from_url(df_classified[df_classified['Classification'] == clas]\n",
    "                     , url_col\n",
    "                     , subsample=True\n",
    "                     , sample_size=30\n",
    "                     , random_state=888)"
   ]
  },
  {
   "cell_type": "code",
   "execution_count": null,
   "metadata": {},
   "outputs": [],
   "source": [
    "# Pretty good for Photograph"
   ]
  },
  {
   "cell_type": "code",
   "execution_count": 40,
   "metadata": {},
   "outputs": [
    {
     "name": "stdout",
     "output_type": "stream",
     "text": [
      "25425\n"
     ]
    },
    {
     "data": {
      "text/html": [
       "<img src=\"https://www.christies.com/img/LotImages/2007/CSK/2007_CSK_05224_0529_000().jpg\" width=\"250\" height=\"250\"/>"
      ],
      "text/plain": [
       "<IPython.core.display.Image object>"
      ]
     },
     "metadata": {},
     "output_type": "display_data"
    },
    {
     "name": "stdout",
     "output_type": "stream",
     "text": [
      "14095\n"
     ]
    },
    {
     "data": {
      "text/html": [
       "<img src=\"https://www.christies.com/img/LotImages/2013/NYR/2013_NYR_02708_0247_000(peter_von_artens_un_gran_papel_arrugado).jpg\" width=\"250\" height=\"250\"/>"
      ],
      "text/plain": [
       "<IPython.core.display.Image object>"
      ]
     },
     "metadata": {},
     "output_type": "display_data"
    },
    {
     "name": "stdout",
     "output_type": "stream",
     "text": [
      "188\n"
     ]
    },
    {
     "data": {
      "text/html": [
       "<img src=\"https://www.christies.com/img/LotImages/2010/NYR/2010_NYR_02354_0406_000(vincent_van_gogh_sloot_en_kleine_brug).jpg\" width=\"250\" height=\"250\"/>"
      ],
      "text/plain": [
       "<IPython.core.display.Image object>"
      ]
     },
     "metadata": {},
     "output_type": "display_data"
    },
    {
     "name": "stdout",
     "output_type": "stream",
     "text": [
      "30219\n"
     ]
    },
    {
     "data": {
      "text/html": [
       "<img src=\"https://www.christies.com/img/LotImages/2013/CSK/2013_CSK_08981_0152_000(sir_george_clausen_ra_rws_a_jug_of_wild_flowers_and_fruit_in_a_bowl).jpg\" width=\"250\" height=\"250\"/>"
      ],
      "text/plain": [
       "<IPython.core.display.Image object>"
      ]
     },
     "metadata": {},
     "output_type": "display_data"
    },
    {
     "name": "stdout",
     "output_type": "stream",
     "text": [
      "5303\n"
     ]
    },
    {
     "data": {
      "text/html": [
       "<img src=\"https://www.christies.com/img/LotImages/2012/CSK/2012_CSK_04420_0129_000(pablo_picasso_petit_indien).jpg\" width=\"250\" height=\"250\"/>"
      ],
      "text/plain": [
       "<IPython.core.display.Image object>"
      ]
     },
     "metadata": {},
     "output_type": "display_data"
    },
    {
     "name": "stdout",
     "output_type": "stream",
     "text": [
      "13863\n"
     ]
    },
    {
     "data": {
      "text/html": [
       "<img src=\"https://www.christies.com/img/LotImages/2013/NYR/2013_NYR_02727_0387_000(viola_frey_pitcher_of_mother).jpg\" width=\"250\" height=\"250\"/>"
      ],
      "text/plain": [
       "<IPython.core.display.Image object>"
      ]
     },
     "metadata": {},
     "output_type": "display_data"
    },
    {
     "name": "stdout",
     "output_type": "stream",
     "text": [
      "3548\n"
     ]
    },
    {
     "data": {
      "text/html": [
       "<img src=\"https://www.christies.com/img/LotImages/2012/NYR/2012_NYR_02541_0037_000(cornelia_parker_thirty_pieces_of_silver_-_round_plate).jpg\" width=\"250\" height=\"250\"/>"
      ],
      "text/plain": [
       "<IPython.core.display.Image object>"
      ]
     },
     "metadata": {},
     "output_type": "display_data"
    },
    {
     "name": "stdout",
     "output_type": "stream",
     "text": [
      "38449\n"
     ]
    },
    {
     "data": {
      "text/html": [
       "<img src=\"https://www.christies.com/img/LotImages/2007/NYR/2007_NYR_01874_0069_000().jpg\" width=\"250\" height=\"250\"/>"
      ],
      "text/plain": [
       "<IPython.core.display.Image object>"
      ]
     },
     "metadata": {},
     "output_type": "display_data"
    },
    {
     "name": "stdout",
     "output_type": "stream",
     "text": [
      "29941\n"
     ]
    },
    {
     "data": {
      "text/html": [
       "<img src=\"https://www.christies.com/img/LotImages/2008/NYR/2008_NYR_01995_0482_000().jpg\" width=\"250\" height=\"250\"/>"
      ],
      "text/plain": [
       "<IPython.core.display.Image object>"
      ]
     },
     "metadata": {},
     "output_type": "display_data"
    },
    {
     "name": "stdout",
     "output_type": "stream",
     "text": [
      "11590\n"
     ]
    },
    {
     "data": {
      "text/html": [
       "<img src=\"https://www.christies.com/img/LotImages/2016/CKS/2016_CKS_12223_0042_000(sir_matthew_smith_fruit_in_a_bowl_striped_background).jpg\" width=\"250\" height=\"250\"/>"
      ],
      "text/plain": [
       "<IPython.core.display.Image object>"
      ]
     },
     "metadata": {},
     "output_type": "display_data"
    },
    {
     "name": "stdout",
     "output_type": "stream",
     "text": [
      "22895\n"
     ]
    },
    {
     "data": {
      "text/html": [
       "<img src=\"https://www.christies.com/img/LotImages/2015/NYR/2015_NYR_03742_0101_000(seth_price_cheap_wall).jpg\" width=\"250\" height=\"250\"/>"
      ],
      "text/plain": [
       "<IPython.core.display.Image object>"
      ]
     },
     "metadata": {},
     "output_type": "display_data"
    },
    {
     "name": "stdout",
     "output_type": "stream",
     "text": [
      "24251\n"
     ]
    },
    {
     "data": {
      "text/html": [
       "<img src=\"https://www.christies.com/img/LotImages/2007/CSK/2007_CSK_05226_0216_000().jpg\" width=\"250\" height=\"250\"/>"
      ],
      "text/plain": [
       "<IPython.core.display.Image object>"
      ]
     },
     "metadata": {},
     "output_type": "display_data"
    },
    {
     "name": "stdout",
     "output_type": "stream",
     "text": [
      "37422\n"
     ]
    },
    {
     "data": {
      "text/html": [
       "<img src=\"https://www.christies.com/img/LotImages/2008/CSK/2008_CSK_05394_0083_000().jpg\" width=\"250\" height=\"250\"/>"
      ],
      "text/plain": [
       "<IPython.core.display.Image object>"
      ]
     },
     "metadata": {},
     "output_type": "display_data"
    },
    {
     "name": "stdout",
     "output_type": "stream",
     "text": [
      "35405\n"
     ]
    },
    {
     "data": {
      "text/html": [
       "<img src=\"https://www.christies.com/img/LotImages/2007/CKS/2007_CKS_07405_0337_000().jpg\" width=\"250\" height=\"250\"/>"
      ],
      "text/plain": [
       "<IPython.core.display.Image object>"
      ]
     },
     "metadata": {},
     "output_type": "display_data"
    },
    {
     "name": "stdout",
     "output_type": "stream",
     "text": [
      "2765\n"
     ]
    },
    {
     "data": {
      "text/html": [
       "<img src=\"https://www.christies.com/img/LotImages/2011/CKS/2011_CKS_07976_0328_000(pablo_picasso_visage).jpg\" width=\"250\" height=\"250\"/>"
      ],
      "text/plain": [
       "<IPython.core.display.Image object>"
      ]
     },
     "metadata": {},
     "output_type": "display_data"
    },
    {
     "name": "stdout",
     "output_type": "stream",
     "text": [
      "6316\n"
     ]
    },
    {
     "data": {
      "text/html": [
       "<img src=\"https://www.christies.com/img/LotImages/2013/CKS/2013_CKS_01133_0317_000(after_a_design_by_diego_giacometti_la_promenade_des_amis).jpg\" width=\"250\" height=\"250\"/>"
      ],
      "text/plain": [
       "<IPython.core.display.Image object>"
      ]
     },
     "metadata": {},
     "output_type": "display_data"
    },
    {
     "name": "stdout",
     "output_type": "stream",
     "text": [
      "29070\n"
     ]
    },
    {
     "data": {
      "text/html": [
       "<img src=\"https://www.christies.com/img/LotImages/2010/NYR/2010_NYR_02341_0028_000(jenny_holzer_the_living_series_just_one_rotten_spot).jpg\" width=\"250\" height=\"250\"/>"
      ],
      "text/plain": [
       "<IPython.core.display.Image object>"
      ]
     },
     "metadata": {},
     "output_type": "display_data"
    },
    {
     "name": "stdout",
     "output_type": "stream",
     "text": [
      "34314\n"
     ]
    },
    {
     "data": {
      "text/html": [
       "<img src=\"https://www.christies.com/img/LotImages/2007/NYR/2007_NYR_01872_0239_000().jpg\" width=\"250\" height=\"250\"/>"
      ],
      "text/plain": [
       "<IPython.core.display.Image object>"
      ]
     },
     "metadata": {},
     "output_type": "display_data"
    },
    {
     "name": "stdout",
     "output_type": "stream",
     "text": [
      "8348\n"
     ]
    },
    {
     "data": {
      "text/html": [
       "<img src=\"https://www.christies.com/img/LotImages/2014/NYR/2014_NYR_03473_0502_000(brian_hirst_scarlet_votive_bowl_2010).jpg\" width=\"250\" height=\"250\"/>"
      ],
      "text/plain": [
       "<IPython.core.display.Image object>"
      ]
     },
     "metadata": {},
     "output_type": "display_data"
    },
    {
     "name": "stdout",
     "output_type": "stream",
     "text": [
      "36854\n"
     ]
    },
    {
     "data": {
      "text/html": [
       "<img src=\"https://www.christies.com/img/LotImages/2008/NYR/2008_NYR_02046_0223_000().jpg\" width=\"250\" height=\"250\"/>"
      ],
      "text/plain": [
       "<IPython.core.display.Image object>"
      ]
     },
     "metadata": {},
     "output_type": "display_data"
    },
    {
     "name": "stdout",
     "output_type": "stream",
     "text": [
      "14618\n"
     ]
    },
    {
     "data": {
      "text/html": [
       "<img src=\"https://www.christies.com/img/LotImages/2006/NYR/2006_NYR_01658_0009_000().jpg\" width=\"250\" height=\"250\"/>"
      ],
      "text/plain": [
       "<IPython.core.display.Image object>"
      ]
     },
     "metadata": {},
     "output_type": "display_data"
    },
    {
     "name": "stdout",
     "output_type": "stream",
     "text": [
      "32019\n"
     ]
    },
    {
     "data": {
      "text/html": [
       "<img src=\"https://www.christies.com/img/LotImages/2015/CKS/2015_CKS_10338_0240_000(david_ostrowski_f).jpg\" width=\"250\" height=\"250\"/>"
      ],
      "text/plain": [
       "<IPython.core.display.Image object>"
      ]
     },
     "metadata": {},
     "output_type": "display_data"
    },
    {
     "name": "stdout",
     "output_type": "stream",
     "text": [
      "24129\n"
     ]
    },
    {
     "data": {
      "text/html": [
       "<img src=\"https://www.christies.com/img/LotImages/2016/CKS/2016_CKS_12226_0190_000(patrick_procktor_ra_gervase_vii).jpg\" width=\"250\" height=\"250\"/>"
      ],
      "text/plain": [
       "<IPython.core.display.Image object>"
      ]
     },
     "metadata": {},
     "output_type": "display_data"
    },
    {
     "name": "stdout",
     "output_type": "stream",
     "text": [
      "6828\n"
     ]
    },
    {
     "data": {
      "text/html": [
       "<img src=\"https://www.christies.com/img/LotImages/2013/CSK/2013_CSK_08257_0232_000(pablo_picasso_corrida).jpg\" width=\"250\" height=\"250\"/>"
      ],
      "text/plain": [
       "<IPython.core.display.Image object>"
      ]
     },
     "metadata": {},
     "output_type": "display_data"
    },
    {
     "name": "stdout",
     "output_type": "stream",
     "text": [
      "29829\n"
     ]
    },
    {
     "data": {
      "text/html": [
       "<img src=\"https://www.christies.com/img/LotImages/2012/CSK/2012_CSK_04420_0109_000(pablo_picasso_visage_no_197).jpg\" width=\"250\" height=\"250\"/>"
      ],
      "text/plain": [
       "<IPython.core.display.Image object>"
      ]
     },
     "metadata": {},
     "output_type": "display_data"
    },
    {
     "name": "stdout",
     "output_type": "stream",
     "text": [
      "5279\n"
     ]
    },
    {
     "data": {
      "text/html": [
       "<img src=\"https://www.christies.com/img/LotImages/2012/CSK/2012_CSK_04420_0112_000(pablo_picasso_motifs_no_17).jpg\" width=\"250\" height=\"250\"/>"
      ],
      "text/plain": [
       "<IPython.core.display.Image object>"
      ]
     },
     "metadata": {},
     "output_type": "display_data"
    },
    {
     "name": "stdout",
     "output_type": "stream",
     "text": [
      "35298\n"
     ]
    },
    {
     "data": {
      "text/html": [
       "<img src=\"https://www.christies.com/img/LotImages/2007/CSK/2007_CSK_05226_0174_000().jpg\" width=\"250\" height=\"250\"/>"
      ],
      "text/plain": [
       "<IPython.core.display.Image object>"
      ]
     },
     "metadata": {},
     "output_type": "display_data"
    },
    {
     "name": "stdout",
     "output_type": "stream",
     "text": [
      "29670\n"
     ]
    },
    {
     "data": {
      "text/html": [
       "<img src=\"https://www.christies.com/img/LotImages/2010/CSK/2010_CSK_05486_0124_000(jean_cocteau_trois_faces_aux_triangles).jpg\" width=\"250\" height=\"250\"/>"
      ],
      "text/plain": [
       "<IPython.core.display.Image object>"
      ]
     },
     "metadata": {},
     "output_type": "display_data"
    },
    {
     "name": "stdout",
     "output_type": "stream",
     "text": [
      "8388\n"
     ]
    },
    {
     "data": {
      "text/html": [
       "<img src=\"https://www.christies.com/img/LotImages/2014/NYR/2014_NYR_03473_0543_000(frantisek_vizner_dark_amber_bowl_1990s).jpg\" width=\"250\" height=\"250\"/>"
      ],
      "text/plain": [
       "<IPython.core.display.Image object>"
      ]
     },
     "metadata": {},
     "output_type": "display_data"
    },
    {
     "name": "stdout",
     "output_type": "stream",
     "text": [
      "19554\n"
     ]
    },
    {
     "data": {
      "text/html": [
       "<img src=\"https://www.christies.com/img/LotImages/2016/NYR/2016_NYR_12153_0144_000(otto_piene).jpg\" width=\"250\" height=\"250\"/>"
      ],
      "text/plain": [
       "<IPython.core.display.Image object>"
      ]
     },
     "metadata": {},
     "output_type": "display_data"
    },
    {
     "name": "stdout",
     "output_type": "stream",
     "text": [
      "35195\n"
     ]
    },
    {
     "data": {
      "text/html": [
       "<img src=\"https://www.christies.com/img/LotImages/2007/NYR/2007_NYR_01904_0258_000().jpg\" width=\"250\" height=\"250\"/>"
      ],
      "text/plain": [
       "<IPython.core.display.Image object>"
      ]
     },
     "metadata": {},
     "output_type": "display_data"
    },
    {
     "name": "stdout",
     "output_type": "stream",
     "text": [
      "26536\n"
     ]
    },
    {
     "data": {
      "text/html": [
       "<img src=\"https://www.christies.com/img/LotImages/2011/HGK/2011_HGK_02857_1779_000(preecha_thaothong_light_on_the_wall).jpg\" width=\"250\" height=\"250\"/>"
      ],
      "text/plain": [
       "<IPython.core.display.Image object>"
      ]
     },
     "metadata": {},
     "output_type": "display_data"
    },
    {
     "name": "stdout",
     "output_type": "stream",
     "text": [
      "34394\n"
     ]
    },
    {
     "data": {
      "text/html": [
       "<img src=\"https://www.christies.com/img/LotImages/2006/CSK/2006_CSK_05008_0106_000().jpg\" width=\"250\" height=\"250\"/>"
      ],
      "text/plain": [
       "<IPython.core.display.Image object>"
      ]
     },
     "metadata": {},
     "output_type": "display_data"
    },
    {
     "name": "stdout",
     "output_type": "stream",
     "text": [
      "25141\n"
     ]
    },
    {
     "data": {
      "text/html": [
       "<img src=\"https://www.christies.com/img/LotImages/2012/CKS/2012_CKS_05539_0133_000(liam_gillick_greenrooms_bars_and_communes).jpg\" width=\"250\" height=\"250\"/>"
      ],
      "text/plain": [
       "<IPython.core.display.Image object>"
      ]
     },
     "metadata": {},
     "output_type": "display_data"
    },
    {
     "name": "stdout",
     "output_type": "stream",
     "text": [
      "27596\n"
     ]
    },
    {
     "data": {
      "text/html": [
       "<img src=\"https://www.christies.com/img/LotImages/2007/CSK/2007_CSK_05224_0527_000().jpg\" width=\"250\" height=\"250\"/>"
      ],
      "text/plain": [
       "<IPython.core.display.Image object>"
      ]
     },
     "metadata": {},
     "output_type": "display_data"
    },
    {
     "name": "stdout",
     "output_type": "stream",
     "text": [
      "5272\n"
     ]
    },
    {
     "data": {
      "text/html": [
       "<img src=\"https://www.christies.com/img/LotImages/2012/CSK/2012_CSK_04420_0107_000(pablo_picasso_visage_no189).jpg\" width=\"250\" height=\"250\"/>"
      ],
      "text/plain": [
       "<IPython.core.display.Image object>"
      ]
     },
     "metadata": {},
     "output_type": "display_data"
    },
    {
     "name": "stdout",
     "output_type": "stream",
     "text": [
      "410\n"
     ]
    },
    {
     "data": {
      "text/html": [
       "<img src=\"https://www.christies.com/img/LotImages/2010/CSK/2010_CSK_05486_0168_000(pablo_picasso_tete_de_chevre_de_profil).jpg\" width=\"250\" height=\"250\"/>"
      ],
      "text/plain": [
       "<IPython.core.display.Image object>"
      ]
     },
     "metadata": {},
     "output_type": "display_data"
    },
    {
     "name": "stdout",
     "output_type": "stream",
     "text": [
      "37675\n"
     ]
    },
    {
     "data": {
      "text/html": [
       "<img src=\"https://www.christies.com/img/LotImages/2008/CKS/2008_CKS_07563_0305_000().jpg\" width=\"250\" height=\"250\"/>"
      ],
      "text/plain": [
       "<IPython.core.display.Image object>"
      ]
     },
     "metadata": {},
     "output_type": "display_data"
    },
    {
     "name": "stdout",
     "output_type": "stream",
     "text": [
      "7697\n"
     ]
    },
    {
     "data": {
      "text/html": [
       "<img src=\"https://www.christies.com/img/LotImages/2014/NYR/2014_NYR_02824_0262_000(frank_stella_scrap_3).jpg\" width=\"250\" height=\"250\"/>"
      ],
      "text/plain": [
       "<IPython.core.display.Image object>"
      ]
     },
     "metadata": {},
     "output_type": "display_data"
    },
    {
     "name": "stdout",
     "output_type": "stream",
     "text": [
      "3507\n"
     ]
    },
    {
     "data": {
      "text/html": [
       "<img src=\"https://www.christies.com/img/LotImages/2012/NYR/2012_NYR_02541_0005_000(martin_creed_work_no_154_an_intrusion_and_a_protrusion_on_the_corner_o).jpg\" width=\"250\" height=\"250\"/>"
      ],
      "text/plain": [
       "<IPython.core.display.Image object>"
      ]
     },
     "metadata": {},
     "output_type": "display_data"
    },
    {
     "name": "stdout",
     "output_type": "stream",
     "text": [
      "20177\n"
     ]
    },
    {
     "data": {
      "text/html": [
       "<img src=\"https://www.christies.com/img/LotImages/2013/CSK/2013_CSK_08257_0231_000(pablo_picasso_visage).jpg\" width=\"250\" height=\"250\"/>"
      ],
      "text/plain": [
       "<IPython.core.display.Image object>"
      ]
     },
     "metadata": {},
     "output_type": "display_data"
    },
    {
     "name": "stdout",
     "output_type": "stream",
     "text": [
      "41\n"
     ]
    },
    {
     "data": {
      "text/html": [
       "<img src=\"https://www.christies.com/img/LotImages/2010/NYR/2010_NYR_02341_0161_000(jennifer_bartlett_summer).jpg\" width=\"250\" height=\"250\"/>"
      ],
      "text/plain": [
       "<IPython.core.display.Image object>"
      ]
     },
     "metadata": {},
     "output_type": "display_data"
    },
    {
     "name": "stdout",
     "output_type": "stream",
     "text": [
      "13481\n"
     ]
    },
    {
     "data": {
      "text/html": [
       "<img src=\"https://www.christies.com/img/LotImages/2017/NYR/2017_NYR_15004_0019A_000(marc_chagall_vase_de_fleurs_et_personnages).jpg\" width=\"250\" height=\"250\"/>"
      ],
      "text/plain": [
       "<IPython.core.display.Image object>"
      ]
     },
     "metadata": {},
     "output_type": "display_data"
    },
    {
     "name": "stdout",
     "output_type": "stream",
     "text": [
      "20078\n"
     ]
    },
    {
     "data": {
      "text/html": [
       "<img src=\"https://www.christies.com/img/LotImages/2014/NYR/2014_NYR_03473_0521_000(stanislaw_borowski_figural_vase_circa_1990).jpg\" width=\"250\" height=\"250\"/>"
      ],
      "text/plain": [
       "<IPython.core.display.Image object>"
      ]
     },
     "metadata": {},
     "output_type": "display_data"
    },
    {
     "name": "stdout",
     "output_type": "stream",
     "text": [
      "36698\n"
     ]
    },
    {
     "data": {
      "text/html": [
       "<img src=\"https://www.christies.com/img/LotImages/2008/NYR/2008_NYR_02023_0160_000().jpg\" width=\"250\" height=\"250\"/>"
      ],
      "text/plain": [
       "<IPython.core.display.Image object>"
      ]
     },
     "metadata": {},
     "output_type": "display_data"
    },
    {
     "name": "stdout",
     "output_type": "stream",
     "text": [
      "24554\n"
     ]
    },
    {
     "data": {
      "text/html": [
       "<img src=\"https://www.christies.com/img/LotImages/2017/NYR/2017_NYR_15004_0018A_000(henri_matisse_les_regates_de_nice).jpg\" width=\"250\" height=\"250\"/>"
      ],
      "text/plain": [
       "<IPython.core.display.Image object>"
      ]
     },
     "metadata": {},
     "output_type": "display_data"
    },
    {
     "name": "stdout",
     "output_type": "stream",
     "text": [
      "38787\n"
     ]
    },
    {
     "data": {
      "text/html": [
       "<img src=\"https://www.christies.com/img/LotImages/2010/NYR/2010_NYR_02340_0093_000(duilio_barnabe_vase_de_fleur).jpg\" width=\"250\" height=\"250\"/>"
      ],
      "text/plain": [
       "<IPython.core.display.Image object>"
      ]
     },
     "metadata": {},
     "output_type": "display_data"
    },
    {
     "name": "stdout",
     "output_type": "stream",
     "text": [
      "20495\n"
     ]
    },
    {
     "data": {
      "text/html": [
       "<img src=\"https://www.christies.com/img/LotImages/2010/CSK/2010_CSK_05486_0140_000(pablo_picasso_visage_no202).jpg\" width=\"250\" height=\"250\"/>"
      ],
      "text/plain": [
       "<IPython.core.display.Image object>"
      ]
     },
     "metadata": {},
     "output_type": "display_data"
    },
    {
     "name": "stdout",
     "output_type": "stream",
     "text": [
      "34393\n"
     ]
    },
    {
     "data": {
      "text/html": [
       "<img src=\"https://www.christies.com/img/LotImages/2006/CSK/2006_CSK_05008_0105_000().jpg\" width=\"250\" height=\"250\"/>"
      ],
      "text/plain": [
       "<IPython.core.display.Image object>"
      ]
     },
     "metadata": {},
     "output_type": "display_data"
    },
    {
     "name": "stdout",
     "output_type": "stream",
     "text": [
      "37420\n"
     ]
    },
    {
     "data": {
      "text/html": [
       "<img src=\"https://www.christies.com/img/LotImages/2008/CSK/2008_CSK_05394_0080_000().jpg\" width=\"250\" height=\"250\"/>"
      ],
      "text/plain": [
       "<IPython.core.display.Image object>"
      ]
     },
     "metadata": {},
     "output_type": "display_data"
    }
   ],
   "source": [
    "clas = 'decorative_object'\n",
    "utils.view_images_from_url(df_classified[df_classified['Classification'] == clas]\n",
    "                     , url_col\n",
    "                     , subsample=True\n",
    "                     , sample_size=50\n",
    "                     , random_state=888)"
   ]
  },
  {
   "cell_type": "code",
   "execution_count": null,
   "metadata": {},
   "outputs": [],
   "source": [
    "# Some false positives due to subject matter of painint/drawing"
   ]
  },
  {
   "cell_type": "code",
   "execution_count": 42,
   "metadata": {},
   "outputs": [
    {
     "name": "stdout",
     "output_type": "stream",
     "text": [
      "2523\n"
     ]
    },
    {
     "data": {
      "text/html": [
       "<img src=\"https://www.christies.com/img/LotImages/2011/CKS/2011_CKS_07954_0419_000(henry_moore_seated_figure_on_circular_steps).jpg\" width=\"250\" height=\"250\"/>"
      ],
      "text/plain": [
       "<IPython.core.display.Image object>"
      ]
     },
     "metadata": {},
     "output_type": "display_data"
    },
    {
     "name": "stdout",
     "output_type": "stream",
     "text": [
      "6277\n"
     ]
    },
    {
     "data": {
      "text/html": [
       "<img src=\"https://www.christies.com/img/LotImages/2013/CKS/2013_CKS_01129_0053_000(maqbool_fida_husain_untitled).jpg\" width=\"250\" height=\"250\"/>"
      ],
      "text/plain": [
       "<IPython.core.display.Image object>"
      ]
     },
     "metadata": {},
     "output_type": "display_data"
    },
    {
     "name": "stdout",
     "output_type": "stream",
     "text": [
      "32175\n"
     ]
    },
    {
     "data": {
      "text/html": [
       "<img src=\"https://www.christies.com/img/LotImages/2013/HGK/2013_HGK_03257_0459_000(zhou_chunya_green_dog_with_plum_blossom).jpg\" width=\"250\" height=\"250\"/>"
      ],
      "text/plain": [
       "<IPython.core.display.Image object>"
      ]
     },
     "metadata": {},
     "output_type": "display_data"
    },
    {
     "name": "stdout",
     "output_type": "stream",
     "text": [
      "21157\n"
     ]
    },
    {
     "data": {
      "text/html": [
       "<img src=\"https://www.christies.com/img/LotImages/2007/NYR/2007_NYR_01806_0224_000().jpg\" width=\"250\" height=\"250\"/>"
      ],
      "text/plain": [
       "<IPython.core.display.Image object>"
      ]
     },
     "metadata": {},
     "output_type": "display_data"
    },
    {
     "name": "stdout",
     "output_type": "stream",
     "text": [
      "3276\n"
     ]
    },
    {
     "data": {
      "text/html": [
       "<img src=\"https://www.christies.com/img/LotImages/2011/CKS/2011_CKS_07990_0030_000(juan_munoz_two_floors_four_figures).jpg\" width=\"250\" height=\"250\"/>"
      ],
      "text/plain": [
       "<IPython.core.display.Image object>"
      ]
     },
     "metadata": {},
     "output_type": "display_data"
    },
    {
     "name": "stdout",
     "output_type": "stream",
     "text": [
      "31365\n"
     ]
    },
    {
     "data": {
      "text/html": [
       "<img src=\"https://www.christies.com/img/LotImages/2012/CKS/2012_CKS_08053_0242_000(rosemarie_trockel_untitled).jpg\" width=\"250\" height=\"250\"/>"
      ],
      "text/plain": [
       "<IPython.core.display.Image object>"
      ]
     },
     "metadata": {},
     "output_type": "display_data"
    },
    {
     "name": "stdout",
     "output_type": "stream",
     "text": [
      "11369\n"
     ]
    },
    {
     "data": {
      "text/html": [
       "<img src=\"https://www.christies.com/img/LotImages/2016/CKS/2016_CKS_12224_0101_000(william_turnbull_venus).jpg\" width=\"250\" height=\"250\"/>"
      ],
      "text/plain": [
       "<IPython.core.display.Image object>"
      ]
     },
     "metadata": {},
     "output_type": "display_data"
    },
    {
     "name": "stdout",
     "output_type": "stream",
     "text": [
      "13411\n"
     ]
    },
    {
     "data": {
      "text/html": [
       "<img src=\"https://www.christies.com/img/LotImages/2017/NYR/2017_NYR_14997_0865_000(franz_west_knotze).jpg\" width=\"250\" height=\"250\"/>"
      ],
      "text/plain": [
       "<IPython.core.display.Image object>"
      ]
     },
     "metadata": {},
     "output_type": "display_data"
    },
    {
     "name": "stdout",
     "output_type": "stream",
     "text": [
      "31749\n"
     ]
    },
    {
     "data": {
      "text/html": [
       "<img src=\"https://www.christies.com/img/LotImages/2014/CSK/2014_CSK_05930_0121_000(frederick_edward_mcwilliam_ara_cruciform).jpg\" width=\"250\" height=\"250\"/>"
      ],
      "text/plain": [
       "<IPython.core.display.Image object>"
      ]
     },
     "metadata": {},
     "output_type": "display_data"
    },
    {
     "name": "stdout",
     "output_type": "stream",
     "text": [
      "21949\n"
     ]
    },
    {
     "data": {
      "text/html": [
       "<img src=\"https://www.christies.com/img/LotImages/2017/CSK/2017_CSK_13297_0003_000(robert_adams_maquette).jpg\" width=\"250\" height=\"250\"/>"
      ],
      "text/plain": [
       "<IPython.core.display.Image object>"
      ]
     },
     "metadata": {},
     "output_type": "display_data"
    },
    {
     "name": "stdout",
     "output_type": "stream",
     "text": [
      "14119\n"
     ]
    },
    {
     "data": {
      "text/html": [
       "<img src=\"https://www.christies.com/img/LotImages/2013/NYR/2013_NYR_02708_0310_000(adolfo_riestra_la_cantante_negra).jpg\" width=\"250\" height=\"250\"/>"
      ],
      "text/plain": [
       "<IPython.core.display.Image object>"
      ]
     },
     "metadata": {},
     "output_type": "display_data"
    },
    {
     "name": "stdout",
     "output_type": "stream",
     "text": [
      "36838\n"
     ]
    },
    {
     "data": {
      "text/html": [
       "<img src=\"https://www.christies.com/img/LotImages/2008/NYR/2008_NYR_02045_0029_000().jpg\" width=\"250\" height=\"250\"/>"
      ],
      "text/plain": [
       "<IPython.core.display.Image object>"
      ]
     },
     "metadata": {},
     "output_type": "display_data"
    },
    {
     "name": "stdout",
     "output_type": "stream",
     "text": [
      "2448\n"
     ]
    },
    {
     "data": {
      "text/html": [
       "<img src=\"https://www.christies.com/img/LotImages/2011/CKS/2011_CKS_07951_0029_000(henry_moore_goslar_warrior).jpg\" width=\"250\" height=\"250\"/>"
      ],
      "text/plain": [
       "<IPython.core.display.Image object>"
      ]
     },
     "metadata": {},
     "output_type": "display_data"
    },
    {
     "name": "stdout",
     "output_type": "stream",
     "text": [
      "25031\n"
     ]
    },
    {
     "data": {
      "text/html": [
       "<img src=\"https://www.christies.com/img/LotImages/2017/NYR/2017_NYR_13892_0216_000(yayoi_kusama_yellow_dots_a).jpg\" width=\"250\" height=\"250\"/>"
      ],
      "text/plain": [
       "<IPython.core.display.Image object>"
      ]
     },
     "metadata": {},
     "output_type": "display_data"
    },
    {
     "name": "stdout",
     "output_type": "stream",
     "text": [
      "1248\n"
     ]
    },
    {
     "data": {
      "text/html": [
       "<img src=\"https://www.christies.com/img/LotImages/2011/NYR/2011_NYR_02437_0043_000(henry_moore_working_model_for_seated_figure_arms_outstretched).jpg\" width=\"250\" height=\"250\"/>"
      ],
      "text/plain": [
       "<IPython.core.display.Image object>"
      ]
     },
     "metadata": {},
     "output_type": "display_data"
    },
    {
     "name": "stdout",
     "output_type": "stream",
     "text": [
      "30423\n"
     ]
    },
    {
     "data": {
      "text/html": [
       "<img src=\"https://www.christies.com/img/LotImages/2013/NYR/2013_NYR_02683_0176_000(oscar_tuazon_window).jpg\" width=\"250\" height=\"250\"/>"
      ],
      "text/plain": [
       "<IPython.core.display.Image object>"
      ]
     },
     "metadata": {},
     "output_type": "display_data"
    },
    {
     "name": "stdout",
     "output_type": "stream",
     "text": [
      "3200\n"
     ]
    },
    {
     "data": {
      "text/html": [
       "<img src=\"https://www.christies.com/img/LotImages/2011/CKS/2011_CKS_07978_0315_000(huma_bhabha_ab).jpg\" width=\"250\" height=\"250\"/>"
      ],
      "text/plain": [
       "<IPython.core.display.Image object>"
      ]
     },
     "metadata": {},
     "output_type": "display_data"
    },
    {
     "name": "stdout",
     "output_type": "stream",
     "text": [
      "35813\n"
     ]
    },
    {
     "data": {
      "text/html": [
       "<img src=\"https://www.christies.com/img/LotImages/2007/CKS/2007_CKS_07408_0282_000().jpg\" width=\"250\" height=\"250\"/>"
      ],
      "text/plain": [
       "<IPython.core.display.Image object>"
      ]
     },
     "metadata": {},
     "output_type": "display_data"
    },
    {
     "name": "stdout",
     "output_type": "stream",
     "text": [
      "36211\n"
     ]
    },
    {
     "data": {
      "text/html": [
       "<img src=\"https://www.christies.com/img/LotImages/2007/CKS/2007_CKS_07487_0619_000().jpg\" width=\"250\" height=\"250\"/>"
      ],
      "text/plain": [
       "<IPython.core.display.Image object>"
      ]
     },
     "metadata": {},
     "output_type": "display_data"
    },
    {
     "name": "stdout",
     "output_type": "stream",
     "text": [
      "37393\n"
     ]
    },
    {
     "data": {
      "text/html": [
       "<img src=\"https://www.christies.com/img/LotImages/2008/CSK/2008_CSK_05392_0404_000().jpg\" width=\"250\" height=\"250\"/>"
      ],
      "text/plain": [
       "<IPython.core.display.Image object>"
      ]
     },
     "metadata": {},
     "output_type": "display_data"
    },
    {
     "name": "stdout",
     "output_type": "stream",
     "text": [
      "1549\n"
     ]
    },
    {
     "data": {
      "text/html": [
       "<img src=\"https://www.christies.com/img/LotImages/2011/NYR/2011_NYR_02442_0335_000(ugo_rondinone_the_eighth_hour_of_the_poem).jpg\" width=\"250\" height=\"250\"/>"
      ],
      "text/plain": [
       "<IPython.core.display.Image object>"
      ]
     },
     "metadata": {},
     "output_type": "display_data"
    },
    {
     "name": "stdout",
     "output_type": "stream",
     "text": [
      "32341\n"
     ]
    },
    {
     "data": {
      "text/html": [
       "<img src=\"https://www.christies.com/img/LotImages/2013/CSK/2013_CSK_08509_0048_000(helen_layfield_bradley_on_our_way_home).jpg\" width=\"250\" height=\"250\"/>"
      ],
      "text/plain": [
       "<IPython.core.display.Image object>"
      ]
     },
     "metadata": {},
     "output_type": "display_data"
    },
    {
     "name": "stdout",
     "output_type": "stream",
     "text": [
      "38035\n"
     ]
    },
    {
     "data": {
      "text/html": [
       "<img src=\"https://www.christies.com/img/LotImages/2008/CKS/2008_CKS_07602_0051_000().jpg\" width=\"250\" height=\"250\"/>"
      ],
      "text/plain": [
       "<IPython.core.display.Image object>"
      ]
     },
     "metadata": {},
     "output_type": "display_data"
    },
    {
     "name": "stdout",
     "output_type": "stream",
     "text": [
      "10092\n"
     ]
    },
    {
     "data": {
      "text/html": [
       "<img src=\"https://www.christies.com/img/LotImages/2015/NYR/2015_NYR_03741_0516_000(john_chamberlain_tonk_1).jpg\" width=\"250\" height=\"250\"/>"
      ],
      "text/plain": [
       "<IPython.core.display.Image object>"
      ]
     },
     "metadata": {},
     "output_type": "display_data"
    },
    {
     "name": "stdout",
     "output_type": "stream",
     "text": [
      "11719\n"
     ]
    },
    {
     "data": {
      "text/html": [
       "<img src=\"https://www.christies.com/img/LotImages/2016/CSK/2016_CSK_12304_0025_000(michael_ayrton_captive).jpg\" width=\"250\" height=\"250\"/>"
      ],
      "text/plain": [
       "<IPython.core.display.Image object>"
      ]
     },
     "metadata": {},
     "output_type": "display_data"
    },
    {
     "name": "stdout",
     "output_type": "stream",
     "text": [
      "7307\n"
     ]
    },
    {
     "data": {
      "text/html": [
       "<img src=\"https://www.christies.com/img/LotImages/2014/CKS/2014_CKS_01544_0141_000(henry_moore_om_ch_mother_and_child_hollow).jpg\" width=\"250\" height=\"250\"/>"
      ],
      "text/plain": [
       "<IPython.core.display.Image object>"
      ]
     },
     "metadata": {},
     "output_type": "display_data"
    },
    {
     "name": "stdout",
     "output_type": "stream",
     "text": [
      "612\n"
     ]
    },
    {
     "data": {
      "text/html": [
       "<img src=\"https://www.christies.com/img/LotImages/2010/CKS/2010_CKS_07860_0007_000(maurizio_cattelan_frank_and_jamie).jpg\" width=\"250\" height=\"250\"/>"
      ],
      "text/plain": [
       "<IPython.core.display.Image object>"
      ]
     },
     "metadata": {},
     "output_type": "display_data"
    },
    {
     "name": "stdout",
     "output_type": "stream",
     "text": [
      "15483\n"
     ]
    },
    {
     "data": {
      "text/html": [
       "<img src=\"https://www.christies.com/img/LotImages/2014/NYR/2014_NYR_02822_0176_000(jonathan_winters_elephants_and_umbrellas).jpg\" width=\"250\" height=\"250\"/>"
      ],
      "text/plain": [
       "<IPython.core.display.Image object>"
      ]
     },
     "metadata": {},
     "output_type": "display_data"
    },
    {
     "name": "stdout",
     "output_type": "stream",
     "text": [
      "3966\n"
     ]
    },
    {
     "data": {
      "text/html": [
       "<img src=\"https://www.christies.com/img/LotImages/2012/NYR/2012_NYR_02558_0104_000(george_rickey_rotors_and_tourmaline).jpg\" width=\"250\" height=\"250\"/>"
      ],
      "text/plain": [
       "<IPython.core.display.Image object>"
      ]
     },
     "metadata": {},
     "output_type": "display_data"
    },
    {
     "name": "stdout",
     "output_type": "stream",
     "text": [
      "35932\n"
     ]
    },
    {
     "data": {
      "text/html": [
       "<img src=\"https://www.christies.com/img/LotImages/2007/CKS/2007_CKS_07408_0625_000().jpg\" width=\"250\" height=\"250\"/>"
      ],
      "text/plain": [
       "<IPython.core.display.Image object>"
      ]
     },
     "metadata": {},
     "output_type": "display_data"
    },
    {
     "name": "stdout",
     "output_type": "stream",
     "text": [
      "4284\n"
     ]
    },
    {
     "data": {
      "text/html": [
       "<img src=\"https://www.christies.com/img/LotImages/2012/NYR/2012_NYR_02577_0397_000(bikash_bhattacharjee_homage_to_santus_grandmother).jpg\" width=\"250\" height=\"250\"/>"
      ],
      "text/plain": [
       "<IPython.core.display.Image object>"
      ]
     },
     "metadata": {},
     "output_type": "display_data"
    },
    {
     "name": "stdout",
     "output_type": "stream",
     "text": [
      "36474\n"
     ]
    },
    {
     "data": {
      "text/html": [
       "<img src=\"https://www.christies.com/img/LotImages/2008/NYR/2008_NYR_01994_0049_000().jpg\" width=\"250\" height=\"250\"/>"
      ],
      "text/plain": [
       "<IPython.core.display.Image object>"
      ]
     },
     "metadata": {},
     "output_type": "display_data"
    },
    {
     "name": "stdout",
     "output_type": "stream",
     "text": [
      "12932\n"
     ]
    },
    {
     "data": {
      "text/html": [
       "<img src=\"https://www.christies.com/img/LotImages/2017/CKS/2017_CKS_14241_0325_000(baltasar_lobo_le_reve).jpg\" width=\"250\" height=\"250\"/>"
      ],
      "text/plain": [
       "<IPython.core.display.Image object>"
      ]
     },
     "metadata": {},
     "output_type": "display_data"
    },
    {
     "name": "stdout",
     "output_type": "stream",
     "text": [
      "19045\n"
     ]
    },
    {
     "data": {
      "text/html": [
       "<img src=\"https://www.christies.com/img/LotImages/2009/CKS/2009_CKS_07702_0471_000().jpg\" width=\"250\" height=\"250\"/>"
      ],
      "text/plain": [
       "<IPython.core.display.Image object>"
      ]
     },
     "metadata": {},
     "output_type": "display_data"
    },
    {
     "name": "stdout",
     "output_type": "stream",
     "text": [
      "28488\n"
     ]
    },
    {
     "data": {
      "text/html": [
       "<img src=\"https://www.christies.com/img/LotImages/2007/CSK/2007_CSK_05225_0773_000().jpg\" width=\"250\" height=\"250\"/>"
      ],
      "text/plain": [
       "<IPython.core.display.Image object>"
      ]
     },
     "metadata": {},
     "output_type": "display_data"
    },
    {
     "name": "stdout",
     "output_type": "stream",
     "text": [
      "7455\n"
     ]
    },
    {
     "data": {
      "text/html": [
       "<img src=\"https://www.christies.com/img/LotImages/2014/CKS/2014_CKS_01559_0369_000(rebecca_warren_totem).jpg\" width=\"250\" height=\"250\"/>"
      ],
      "text/plain": [
       "<IPython.core.display.Image object>"
      ]
     },
     "metadata": {},
     "output_type": "display_data"
    },
    {
     "name": "stdout",
     "output_type": "stream",
     "text": [
      "21499\n"
     ]
    },
    {
     "data": {
      "text/html": [
       "<img src=\"https://www.christies.com/img/LotImages/2013/NYR/2013_NYR_02708_0076_000(arcangelo_ianelli_untitled).jpg\" width=\"250\" height=\"250\"/>"
      ],
      "text/plain": [
       "<IPython.core.display.Image object>"
      ]
     },
     "metadata": {},
     "output_type": "display_data"
    },
    {
     "name": "stdout",
     "output_type": "stream",
     "text": [
      "38636\n"
     ]
    },
    {
     "data": {
      "text/html": [
       "<img src=\"https://www.christies.com/img/LotImages/2009/CKS/2009_CKS_07702_0480_000().jpg\" width=\"250\" height=\"250\"/>"
      ],
      "text/plain": [
       "<IPython.core.display.Image object>"
      ]
     },
     "metadata": {},
     "output_type": "display_data"
    },
    {
     "name": "stdout",
     "output_type": "stream",
     "text": [
      "15661\n"
     ]
    },
    {
     "data": {
      "text/html": [
       "<img src=\"https://www.christies.com/img/LotImages/2006/CKS/2006_CKS_07246_0010_000().jpg\" width=\"250\" height=\"250\"/>"
      ],
      "text/plain": [
       "<IPython.core.display.Image object>"
      ]
     },
     "metadata": {},
     "output_type": "display_data"
    },
    {
     "name": "stdout",
     "output_type": "stream",
     "text": [
      "34366\n"
     ]
    },
    {
     "data": {
      "text/html": [
       "<img src=\"https://www.christies.com/img/LotImages/2006/CSK/2006_CSK_05008_0015_000().jpg\" width=\"250\" height=\"250\"/>"
      ],
      "text/plain": [
       "<IPython.core.display.Image object>"
      ]
     },
     "metadata": {},
     "output_type": "display_data"
    },
    {
     "name": "stdout",
     "output_type": "stream",
     "text": [
      "8838\n"
     ]
    },
    {
     "data": {
      "text/html": [
       "<img src=\"https://www.christies.com/img/LotImages/2015/CKS/2015_CKS_10364_0235_000(lynn_chadwick_ra_sitting_couple_in_robes_iii).jpg\" width=\"250\" height=\"250\"/>"
      ],
      "text/plain": [
       "<IPython.core.display.Image object>"
      ]
     },
     "metadata": {},
     "output_type": "display_data"
    },
    {
     "name": "stdout",
     "output_type": "stream",
     "text": [
      "23608\n"
     ]
    },
    {
     "data": {
      "text/html": [
       "<img src=\"https://www.christies.com/img/LotImages/2006/NYR/2006_NYR_01723_0416_000().jpg\" width=\"250\" height=\"250\"/>"
      ],
      "text/plain": [
       "<IPython.core.display.Image object>"
      ]
     },
     "metadata": {},
     "output_type": "display_data"
    },
    {
     "name": "stdout",
     "output_type": "stream",
     "text": [
      "28255\n"
     ]
    },
    {
     "data": {
      "text/html": [
       "<img src=\"https://www.christies.com/img/LotImages/2006/NYR/2006_NYR_01723_0411_000().jpg\" width=\"250\" height=\"250\"/>"
      ],
      "text/plain": [
       "<IPython.core.display.Image object>"
      ]
     },
     "metadata": {},
     "output_type": "display_data"
    },
    {
     "name": "stdout",
     "output_type": "stream",
     "text": [
      "12481\n"
     ]
    },
    {
     "data": {
      "text/html": [
       "<img src=\"https://www.christies.com/img/LotImages/2007/CKS/2007_CKS_07487_0505_000().jpg\" width=\"250\" height=\"250\"/>"
      ],
      "text/plain": [
       "<IPython.core.display.Image object>"
      ]
     },
     "metadata": {},
     "output_type": "display_data"
    },
    {
     "name": "stdout",
     "output_type": "stream",
     "text": [
      "13077\n"
     ]
    },
    {
     "data": {
      "text/html": [
       "<img src=\"https://www.christies.com/img/LotImages/2017/CKS/2017_CKS_14438_0162_000(stephan_balkenhol_weiblicher_akt_eva).jpg\" width=\"250\" height=\"250\"/>"
      ],
      "text/plain": [
       "<IPython.core.display.Image object>"
      ]
     },
     "metadata": {},
     "output_type": "display_data"
    },
    {
     "name": "stdout",
     "output_type": "stream",
     "text": [
      "5851\n"
     ]
    },
    {
     "data": {
      "text/html": [
       "<img src=\"https://www.christies.com/img/LotImages/2012/CKS/2012_CKS_05539_0216_000(jorg_immendorff_sammler).jpg\" width=\"250\" height=\"250\"/>"
      ],
      "text/plain": [
       "<IPython.core.display.Image object>"
      ]
     },
     "metadata": {},
     "output_type": "display_data"
    },
    {
     "name": "stdout",
     "output_type": "stream",
     "text": [
      "32466\n"
     ]
    },
    {
     "data": {
      "text/html": [
       "<img src=\"https://www.christies.com/img/LotImages/2013/CKS/2013_CKS_01158_0200_000(henry_moore_om_ch_maquette_for_three-quarter_figure_lines).jpg\" width=\"250\" height=\"250\"/>"
      ],
      "text/plain": [
       "<IPython.core.display.Image object>"
      ]
     },
     "metadata": {},
     "output_type": "display_data"
    },
    {
     "name": "stdout",
     "output_type": "stream",
     "text": [
      "25526\n"
     ]
    },
    {
     "data": {
      "text/html": [
       "<img src=\"https://www.christies.com/img/LotImages/2009/NYR/2009_NYR_02127_0090_000().jpg\" width=\"250\" height=\"250\"/>"
      ],
      "text/plain": [
       "<IPython.core.display.Image object>"
      ]
     },
     "metadata": {},
     "output_type": "display_data"
    },
    {
     "name": "stdout",
     "output_type": "stream",
     "text": [
      "29623\n"
     ]
    },
    {
     "data": {
      "text/html": [
       "<img src=\"https://www.christies.com/img/LotImages/2012/CKS/2012_CKS_08051_0561_000(christian_zervos_pablo_picasso_1881-1973_-_catalogue_raisonne).jpg\" width=\"250\" height=\"250\"/>"
      ],
      "text/plain": [
       "<IPython.core.display.Image object>"
      ]
     },
     "metadata": {},
     "output_type": "display_data"
    },
    {
     "name": "stdout",
     "output_type": "stream",
     "text": [
      "21928\n"
     ]
    },
    {
     "data": {
      "text/html": [
       "<img src=\"https://www.christies.com/img/LotImages/2015/HGK/2015_HGK_03415_0194_000(tomokazu_matsuyama_alpha_alpha_alpha).jpg\" width=\"250\" height=\"250\"/>"
      ],
      "text/plain": [
       "<IPython.core.display.Image object>"
      ]
     },
     "metadata": {},
     "output_type": "display_data"
    }
   ],
   "source": [
    "clas = 'Sculpture'\n",
    "utils.view_images_from_url(df_classified[df_classified['Classification'] == clas]\n",
    "                     , url_col\n",
    "                     , subsample=True\n",
    "                     , sample_size=50\n",
    "                     , random_state=888)"
   ]
  },
  {
   "cell_type": "code",
   "execution_count": null,
   "metadata": {},
   "outputs": [],
   "source": [
    "# Pretty good"
   ]
  },
  {
   "cell_type": "code",
   "execution_count": 43,
   "metadata": {},
   "outputs": [
    {
     "name": "stdout",
     "output_type": "stream",
     "text": [
      "16923\n"
     ]
    },
    {
     "data": {
      "text/html": [
       "<img src=\"https://www.christies.com/img/LotImages/2008/HGK/2008_HGK_02601_0032_000().jpg\" width=\"250\" height=\"250\"/>"
      ],
      "text/plain": [
       "<IPython.core.display.Image object>"
      ]
     },
     "metadata": {},
     "output_type": "display_data"
    },
    {
     "name": "stdout",
     "output_type": "stream",
     "text": [
      "34731\n"
     ]
    },
    {
     "data": {
      "text/html": [
       "<img src=\"https://www.christies.com/img/LotImages/2006/DUB/2006_DUB_07333_0126_000().jpg\" width=\"250\" height=\"250\"/>"
      ],
      "text/plain": [
       "<IPython.core.display.Image object>"
      ]
     },
     "metadata": {},
     "output_type": "display_data"
    },
    {
     "name": "stdout",
     "output_type": "stream",
     "text": [
      "31313\n"
     ]
    },
    {
     "data": {
      "text/html": [
       "<img src=\"https://www.christies.com/img/LotImages/2017/CKS/2017_CKS_14438_0219_000(richard_prince_untitled).jpg\" width=\"250\" height=\"250\"/>"
      ],
      "text/plain": [
       "<IPython.core.display.Image object>"
      ]
     },
     "metadata": {},
     "output_type": "display_data"
    },
    {
     "name": "stdout",
     "output_type": "stream",
     "text": [
      "17690\n"
     ]
    },
    {
     "data": {
      "text/html": [
       "<img src=\"https://www.christies.com/img/LotImages/2007/NYR/2007_NYR_01872_0040_000().jpg\" width=\"250\" height=\"250\"/>"
      ],
      "text/plain": [
       "<IPython.core.display.Image object>"
      ]
     },
     "metadata": {},
     "output_type": "display_data"
    },
    {
     "name": "stdout",
     "output_type": "stream",
     "text": [
      "27334\n"
     ]
    },
    {
     "data": {
      "text/html": [
       "<img src=\"https://www.christies.com/img/LotImages/2013/NYR/2013_NYR_02683_0169_000(cindy_sherman_untitled).jpg\" width=\"250\" height=\"250\"/>"
      ],
      "text/plain": [
       "<IPython.core.display.Image object>"
      ]
     },
     "metadata": {},
     "output_type": "display_data"
    },
    {
     "name": "stdout",
     "output_type": "stream",
     "text": [
      "28103\n"
     ]
    },
    {
     "data": {
      "text/html": [
       "<img src=\"https://www.christies.com/img/LotImages/2008/CKS/2008_CKS_07672_0325_000().jpg\" width=\"250\" height=\"250\"/>"
      ],
      "text/plain": [
       "<IPython.core.display.Image object>"
      ]
     },
     "metadata": {},
     "output_type": "display_data"
    },
    {
     "name": "stdout",
     "output_type": "stream",
     "text": [
      "14155\n"
     ]
    },
    {
     "data": {
      "text/html": [
       "<img src=\"https://www.christies.com/img/LotImages/2015/NYR/2015_NYR_03745_0004_000(claudio_bravo_still_life_with_bread_and_potatoes).jpg\" width=\"250\" height=\"250\"/>"
      ],
      "text/plain": [
       "<IPython.core.display.Image object>"
      ]
     },
     "metadata": {},
     "output_type": "display_data"
    },
    {
     "name": "stdout",
     "output_type": "stream",
     "text": [
      "31143\n"
     ]
    },
    {
     "data": {
      "text/html": [
       "<img src=\"https://www.christies.com/img/LotImages/2016/DUB/2016_DUB_01244_0005_000(faramarz_pilaram_untitled).jpg\" width=\"250\" height=\"250\"/>"
      ],
      "text/plain": [
       "<IPython.core.display.Image object>"
      ]
     },
     "metadata": {},
     "output_type": "display_data"
    },
    {
     "name": "stdout",
     "output_type": "stream",
     "text": [
      "1803\n"
     ]
    },
    {
     "data": {
      "text/html": [
       "<img src=\"https://www.christies.com/img/LotImages/2011/NYR/2011_NYR_02479_0408_000(bernard_buffet_homme_nu_debout).jpg\" width=\"250\" height=\"250\"/>"
      ],
      "text/plain": [
       "<IPython.core.display.Image object>"
      ]
     },
     "metadata": {},
     "output_type": "display_data"
    },
    {
     "name": "stdout",
     "output_type": "stream",
     "text": [
      "35809\n"
     ]
    },
    {
     "data": {
      "text/html": [
       "<img src=\"https://www.christies.com/img/LotImages/2007/CKS/2007_CKS_07408_0416_000().jpg\" width=\"250\" height=\"250\"/>"
      ],
      "text/plain": [
       "<IPython.core.display.Image object>"
      ]
     },
     "metadata": {},
     "output_type": "display_data"
    },
    {
     "name": "stdout",
     "output_type": "stream",
     "text": [
      "34544\n"
     ]
    },
    {
     "data": {
      "text/html": [
       "<img src=\"https://www.christies.com/img/LotImages/2006/CKS/2006_CKS_07247_0124_000().jpg\" width=\"250\" height=\"250\"/>"
      ],
      "text/plain": [
       "<IPython.core.display.Image object>"
      ]
     },
     "metadata": {},
     "output_type": "display_data"
    },
    {
     "name": "stdout",
     "output_type": "stream",
     "text": [
      "5511\n"
     ]
    },
    {
     "data": {
      "text/html": [
       "<img src=\"https://www.christies.com/img/LotImages/2012/CKS/2012_CKS_05467_0108_000(henri_matisse_nature_morte_aux_fleurs_et_citrons).jpg\" width=\"250\" height=\"250\"/>"
      ],
      "text/plain": [
       "<IPython.core.display.Image object>"
      ]
     },
     "metadata": {},
     "output_type": "display_data"
    },
    {
     "name": "stdout",
     "output_type": "stream",
     "text": [
      "9183\n"
     ]
    },
    {
     "data": {
      "text/html": [
       "<img src=\"https://www.christies.com/img/LotImages/2015/CSK/2015_CSK_10421_0177_000(jonathan_meese_kinski-macbeth).jpg\" width=\"250\" height=\"250\"/>"
      ],
      "text/plain": [
       "<IPython.core.display.Image object>"
      ]
     },
     "metadata": {},
     "output_type": "display_data"
    },
    {
     "name": "stdout",
     "output_type": "stream",
     "text": [
      "37454\n"
     ]
    },
    {
     "data": {
      "text/html": [
       "<img src=\"https://www.christies.com/img/LotImages/2008/CSK/2008_CSK_05394_0125_000().jpg\" width=\"250\" height=\"250\"/>"
      ],
      "text/plain": [
       "<IPython.core.display.Image object>"
      ]
     },
     "metadata": {},
     "output_type": "display_data"
    },
    {
     "name": "stdout",
     "output_type": "stream",
     "text": [
      "24858\n"
     ]
    },
    {
     "data": {
      "text/html": [
       "<img src=\"https://www.christies.com/img/LotImages/2016/NYR/2016_NYR_12154_0425_000(sigmar_polke_untitled).jpg\" width=\"250\" height=\"250\"/>"
      ],
      "text/plain": [
       "<IPython.core.display.Image object>"
      ]
     },
     "metadata": {},
     "output_type": "display_data"
    },
    {
     "name": "stdout",
     "output_type": "stream",
     "text": [
      "10823\n"
     ]
    },
    {
     "data": {
      "text/html": [
       "<img src=\"https://www.christies.com/img/LotImages/2014/NYR/2014_NYR_02845_0113_000(bernard_buffet_au_bon_coin_chez_maurice).jpg\" width=\"250\" height=\"250\"/>"
      ],
      "text/plain": [
       "<IPython.core.display.Image object>"
      ]
     },
     "metadata": {},
     "output_type": "display_data"
    },
    {
     "name": "stdout",
     "output_type": "stream",
     "text": [
      "29242\n"
     ]
    },
    {
     "data": {
      "text/html": [
       "<img src=\"https://www.christies.com/img/LotImages/2013/CKS/2013_CKS_01134_0013_000(elizabeth_peyton_tokyo).jpg\" width=\"250\" height=\"250\"/>"
      ],
      "text/plain": [
       "<IPython.core.display.Image object>"
      ]
     },
     "metadata": {},
     "output_type": "display_data"
    },
    {
     "name": "stdout",
     "output_type": "stream",
     "text": [
      "25893\n"
     ]
    },
    {
     "data": {
      "text/html": [
       "<img src=\"https://www.christies.com/img/LotImages/2008/CKS/2008_CKS_07600_0461_000().jpg\" width=\"250\" height=\"250\"/>"
      ],
      "text/plain": [
       "<IPython.core.display.Image object>"
      ]
     },
     "metadata": {},
     "output_type": "display_data"
    },
    {
     "name": "stdout",
     "output_type": "stream",
     "text": [
      "11933\n"
     ]
    },
    {
     "data": {
      "text/html": [
       "<img src=\"https://www.christies.com/img/LotImages/2016/DUB/2016_DUB_01244_0002_000(parviz_tanavoli_untitled).jpg\" width=\"250\" height=\"250\"/>"
      ],
      "text/plain": [
       "<IPython.core.display.Image object>"
      ]
     },
     "metadata": {},
     "output_type": "display_data"
    },
    {
     "name": "stdout",
     "output_type": "stream",
     "text": [
      "13282\n"
     ]
    },
    {
     "data": {
      "text/html": [
       "<img src=\"https://www.christies.com/img/LotImages/2017/NYR/2017_NYR_14544_0083_000(willem_de_kooning_untitled).jpg\" width=\"250\" height=\"250\"/>"
      ],
      "text/plain": [
       "<IPython.core.display.Image object>"
      ]
     },
     "metadata": {},
     "output_type": "display_data"
    },
    {
     "name": "stdout",
     "output_type": "stream",
     "text": [
      "30212\n"
     ]
    },
    {
     "data": {
      "text/html": [
       "<img src=\"https://www.christies.com/img/LotImages/2013/CSK/2013_CSK_08647_0449_000(vanessa_beecroft_vb_36_163_leipzig).jpg\" width=\"250\" height=\"250\"/>"
      ],
      "text/plain": [
       "<IPython.core.display.Image object>"
      ]
     },
     "metadata": {},
     "output_type": "display_data"
    },
    {
     "name": "stdout",
     "output_type": "stream",
     "text": [
      "36943\n"
     ]
    },
    {
     "data": {
      "text/html": [
       "<img src=\"https://www.christies.com/img/LotImages/2008/NYR/2008_NYR_02047_0512_000().jpg\" width=\"250\" height=\"250\"/>"
      ],
      "text/plain": [
       "<IPython.core.display.Image object>"
      ]
     },
     "metadata": {},
     "output_type": "display_data"
    },
    {
     "name": "stdout",
     "output_type": "stream",
     "text": [
      "27953\n"
     ]
    },
    {
     "data": {
      "text/html": [
       "<img src=\"https://www.christies.com/img/LotImages/2006/NYR/2006_NYR_01656_0233_000().jpg\" width=\"250\" height=\"250\"/>"
      ],
      "text/plain": [
       "<IPython.core.display.Image object>"
      ]
     },
     "metadata": {},
     "output_type": "display_data"
    },
    {
     "name": "stdout",
     "output_type": "stream",
     "text": [
      "13228\n"
     ]
    },
    {
     "data": {
      "text/html": [
       "<img src=\"https://www.christies.com/img/LotImages/2017/DUB/2017_DUB_14702_0010_000(devrim_erbil_untitled).jpg\" width=\"250\" height=\"250\"/>"
      ],
      "text/plain": [
       "<IPython.core.display.Image object>"
      ]
     },
     "metadata": {},
     "output_type": "display_data"
    },
    {
     "name": "stdout",
     "output_type": "stream",
     "text": [
      "18496\n"
     ]
    },
    {
     "data": {
      "text/html": [
       "<img src=\"https://www.christies.com/img/LotImages/2008/NYR/2008_NYR_01967_0099_000().jpg\" width=\"250\" height=\"250\"/>"
      ],
      "text/plain": [
       "<IPython.core.display.Image object>"
      ]
     },
     "metadata": {},
     "output_type": "display_data"
    },
    {
     "name": "stdout",
     "output_type": "stream",
     "text": [
      "31836\n"
     ]
    },
    {
     "data": {
      "text/html": [
       "<img src=\"https://www.christies.com/img/LotImages/2013/CSK/2013_CSK_08257_0191A_000(pierre-auguste_renoir_and_richard_guino_etude_pour_le_jugement_de_pari).jpg\" width=\"250\" height=\"250\"/>"
      ],
      "text/plain": [
       "<IPython.core.display.Image object>"
      ]
     },
     "metadata": {},
     "output_type": "display_data"
    },
    {
     "name": "stdout",
     "output_type": "stream",
     "text": [
      "35556\n"
     ]
    },
    {
     "data": {
      "text/html": [
       "<img src=\"https://www.christies.com/img/LotImages/2007/CKS/2007_CKS_07358_0324_000().jpg\" width=\"250\" height=\"250\"/>"
      ],
      "text/plain": [
       "<IPython.core.display.Image object>"
      ]
     },
     "metadata": {},
     "output_type": "display_data"
    },
    {
     "name": "stdout",
     "output_type": "stream",
     "text": [
      "22816\n"
     ]
    },
    {
     "data": {
      "text/html": [
       "<img src=\"https://www.christies.com/img/LotImages/2008/CKS/2008_CKS_07562_0026_000().jpg\" width=\"250\" height=\"250\"/>"
      ],
      "text/plain": [
       "<IPython.core.display.Image object>"
      ]
     },
     "metadata": {},
     "output_type": "display_data"
    },
    {
     "name": "stdout",
     "output_type": "stream",
     "text": [
      "17965\n"
     ]
    },
    {
     "data": {
      "text/html": [
       "<img src=\"https://www.christies.com/img/LotImages/2011/CKS/2011_CKS_07991_0360_000(gary_hume_smoke).jpg\" width=\"250\" height=\"250\"/>"
      ],
      "text/plain": [
       "<IPython.core.display.Image object>"
      ]
     },
     "metadata": {},
     "output_type": "display_data"
    },
    {
     "name": "stdout",
     "output_type": "stream",
     "text": [
      "11078\n"
     ]
    },
    {
     "data": {
      "text/html": [
       "<img src=\"https://www.christies.com/img/LotImages/2016/NYR/2016_NYR_12070_1047_000(salvador_dali_le_cavalier_zebre).jpg\" width=\"250\" height=\"250\"/>"
      ],
      "text/plain": [
       "<IPython.core.display.Image object>"
      ]
     },
     "metadata": {},
     "output_type": "display_data"
    },
    {
     "name": "stdout",
     "output_type": "stream",
     "text": [
      "33656\n"
     ]
    },
    {
     "data": {
      "text/html": [
       "<img src=\"https://www.christies.com/img/LotImages/2014/CKS/2014_CKS_01531_0077_000(mohammad_ali_talpur_untitled).jpg\" width=\"250\" height=\"250\"/>"
      ],
      "text/plain": [
       "<IPython.core.display.Image object>"
      ]
     },
     "metadata": {},
     "output_type": "display_data"
    },
    {
     "name": "stdout",
     "output_type": "stream",
     "text": [
      "23280\n"
     ]
    },
    {
     "data": {
      "text/html": [
       "<img src=\"https://www.christies.com/img/LotImages/2010/NYR/2010_NYR_02354_0320_000(theo_van_rysselberghe_sylvie_lacombe).jpg\" width=\"250\" height=\"250\"/>"
      ],
      "text/plain": [
       "<IPython.core.display.Image object>"
      ]
     },
     "metadata": {},
     "output_type": "display_data"
    },
    {
     "name": "stdout",
     "output_type": "stream",
     "text": [
      "9969\n"
     ]
    },
    {
     "data": {
      "text/html": [
       "<img src=\"https://www.christies.com/img/LotImages/2015/NYR/2015_NYR_03737_1168_000(dora_maar_etudes_pour_portrait_de_picasso).jpg\" width=\"250\" height=\"250\"/>"
      ],
      "text/plain": [
       "<IPython.core.display.Image object>"
      ]
     },
     "metadata": {},
     "output_type": "display_data"
    },
    {
     "name": "stdout",
     "output_type": "stream",
     "text": [
      "7166\n"
     ]
    },
    {
     "data": {
      "text/html": [
       "<img src=\"https://www.christies.com/img/LotImages/2014/CKS/2014_CKS_01511_0151_000(tracey_emin_is_legal_sex_anal).jpg\" width=\"250\" height=\"250\"/>"
      ],
      "text/plain": [
       "<IPython.core.display.Image object>"
      ]
     },
     "metadata": {},
     "output_type": "display_data"
    },
    {
     "name": "stdout",
     "output_type": "stream",
     "text": [
      "23991\n"
     ]
    },
    {
     "data": {
      "text/html": [
       "<img src=\"https://www.christies.com/img/LotImages/2012/CKS/2012_CKS_06332_0009_000(lynn_chadwick_ra_stranger_iv).jpg\" width=\"250\" height=\"250\"/>"
      ],
      "text/plain": [
       "<IPython.core.display.Image object>"
      ]
     },
     "metadata": {},
     "output_type": "display_data"
    },
    {
     "name": "stdout",
     "output_type": "stream",
     "text": [
      "29862\n"
     ]
    },
    {
     "data": {
      "text/html": [
       "<img src=\"https://www.christies.com/img/LotImages/2013/NYR/2013_NYR_02785_0041_000(agnes_martin_untitled_13).jpg\" width=\"250\" height=\"250\"/>"
      ],
      "text/plain": [
       "<IPython.core.display.Image object>"
      ]
     },
     "metadata": {},
     "output_type": "display_data"
    },
    {
     "name": "stdout",
     "output_type": "stream",
     "text": [
      "6489\n"
     ]
    },
    {
     "data": {
      "text/html": [
       "<img src=\"https://www.christies.com/img/LotImages/2013/NYR/2013_NYR_02783_0133_000(henry_moore_ideas_for_sculpture).jpg\" width=\"250\" height=\"250\"/>"
      ],
      "text/plain": [
       "<IPython.core.display.Image object>"
      ]
     },
     "metadata": {},
     "output_type": "display_data"
    },
    {
     "name": "stdout",
     "output_type": "stream",
     "text": [
      "26469\n"
     ]
    },
    {
     "data": {
      "text/html": [
       "<img src=\"https://www.christies.com/img/LotImages/2013/CSK/2013_CSK_08257_0069_000(bernard_buffet_venise_la_salute).jpg\" width=\"250\" height=\"250\"/>"
      ],
      "text/plain": [
       "<IPython.core.display.Image object>"
      ]
     },
     "metadata": {},
     "output_type": "display_data"
    },
    {
     "name": "stdout",
     "output_type": "stream",
     "text": [
      "35751\n"
     ]
    },
    {
     "data": {
      "text/html": [
       "<img src=\"https://www.christies.com/img/LotImages/2007/CKS/2007_CKS_07407_0229_000().jpg\" width=\"250\" height=\"250\"/>"
      ],
      "text/plain": [
       "<IPython.core.display.Image object>"
      ]
     },
     "metadata": {},
     "output_type": "display_data"
    },
    {
     "name": "stdout",
     "output_type": "stream",
     "text": [
      "10765\n"
     ]
    },
    {
     "data": {
      "text/html": [
       "<img src=\"https://www.christies.com/img/LotImages/2016/CKS/2016_CKS_11796_0107_000(alighiero_boetti_da_uno_a_dieci_)).jpg\" width=\"250\" height=\"250\"/>"
      ],
      "text/plain": [
       "<IPython.core.display.Image object>"
      ]
     },
     "metadata": {},
     "output_type": "display_data"
    },
    {
     "name": "stdout",
     "output_type": "stream",
     "text": [
      "12262\n"
     ]
    },
    {
     "data": {
      "text/html": [
       "<img src=\"https://www.christies.com/img/LotImages/2017/HGK/2017_HGK_13267_0011_000(wayne_thiebaud_three_ties).jpg\" width=\"250\" height=\"250\"/>"
      ],
      "text/plain": [
       "<IPython.core.display.Image object>"
      ]
     },
     "metadata": {},
     "output_type": "display_data"
    },
    {
     "name": "stdout",
     "output_type": "stream",
     "text": [
      "15534\n"
     ]
    },
    {
     "data": {
      "text/html": [
       "<img src=\"https://www.christies.com/img/LotImages/2013/CKS/2013_CKS_01132_0150_000(pablo_picasso_le_christ_en_croix).jpg\" width=\"250\" height=\"250\"/>"
      ],
      "text/plain": [
       "<IPython.core.display.Image object>"
      ]
     },
     "metadata": {},
     "output_type": "display_data"
    },
    {
     "name": "stdout",
     "output_type": "stream",
     "text": [
      "285\n"
     ]
    },
    {
     "data": {
      "text/html": [
       "<img src=\"https://www.christies.com/img/LotImages/2010/HGK/2010_HGK_02826_1530_000(russel_wong_the_white_pavilion_in_huangshan).jpg\" width=\"250\" height=\"250\"/>"
      ],
      "text/plain": [
       "<IPython.core.display.Image object>"
      ]
     },
     "metadata": {},
     "output_type": "display_data"
    },
    {
     "name": "stdout",
     "output_type": "stream",
     "text": [
      "27143\n"
     ]
    },
    {
     "data": {
      "text/html": [
       "<img src=\"https://www.christies.com/img/LotImages/2014/NYR/2014_NYR_02891_0067_000(arshile_gorky_childs_companions).jpg\" width=\"250\" height=\"250\"/>"
      ],
      "text/plain": [
       "<IPython.core.display.Image object>"
      ]
     },
     "metadata": {},
     "output_type": "display_data"
    },
    {
     "name": "stdout",
     "output_type": "stream",
     "text": [
      "21232\n"
     ]
    },
    {
     "data": {
      "text/html": [
       "<img src=\"https://www.christies.com/img/LotImages/2011/CKS/2011_CKS_07975_0179_000(kees_van_dongen_trois_nus_allonges).jpg\" width=\"250\" height=\"250\"/>"
      ],
      "text/plain": [
       "<IPython.core.display.Image object>"
      ]
     },
     "metadata": {},
     "output_type": "display_data"
    },
    {
     "name": "stdout",
     "output_type": "stream",
     "text": [
      "24912\n"
     ]
    },
    {
     "data": {
      "text/html": [
       "<img src=\"https://www.christies.com/img/LotImages/2007/NYR/2007_NYR_01835_0189_000().jpg\" width=\"250\" height=\"250\"/>"
      ],
      "text/plain": [
       "<IPython.core.display.Image object>"
      ]
     },
     "metadata": {},
     "output_type": "display_data"
    },
    {
     "name": "stdout",
     "output_type": "stream",
     "text": [
      "31516\n"
     ]
    },
    {
     "data": {
      "text/html": [
       "<img src=\"https://www.christies.com/img/LotImages/2006/NYR/2006_NYR_01698_0053_000().jpg\" width=\"250\" height=\"250\"/>"
      ],
      "text/plain": [
       "<IPython.core.display.Image object>"
      ]
     },
     "metadata": {},
     "output_type": "display_data"
    },
    {
     "name": "stdout",
     "output_type": "stream",
     "text": [
      "9421\n"
     ]
    },
    {
     "data": {
      "text/html": [
       "<img src=\"https://www.christies.com/img/LotImages/2015/DUB/2015_DUB_01237_0051_000(charles_hossein_zenderoudi_portrait_jackpot_tons_et_parfums_spot_paint).jpg\" width=\"250\" height=\"250\"/>"
      ],
      "text/plain": [
       "<IPython.core.display.Image object>"
      ]
     },
     "metadata": {},
     "output_type": "display_data"
    },
    {
     "name": "stdout",
     "output_type": "stream",
     "text": [
      "38716\n"
     ]
    },
    {
     "data": {
      "text/html": [
       "<img src=\"https://www.christies.com/img/LotImages/2009/CKS/2009_CKS_07706_0120_000().jpg\" width=\"250\" height=\"250\"/>"
      ],
      "text/plain": [
       "<IPython.core.display.Image object>"
      ]
     },
     "metadata": {},
     "output_type": "display_data"
    },
    {
     "name": "stdout",
     "output_type": "stream",
     "text": [
      "14822\n"
     ]
    },
    {
     "data": {
      "text/html": [
       "<img src=\"https://www.christies.com/img/LotImages/2006/NYR/2006_NYR_01660_0659_000().jpg\" width=\"250\" height=\"250\"/>"
      ],
      "text/plain": [
       "<IPython.core.display.Image object>"
      ]
     },
     "metadata": {},
     "output_type": "display_data"
    }
   ],
   "source": [
    "clas = 'no_classification'\n",
    "utils.view_images_from_url(df_classified[df_classified['Classification'] == clas]\n",
    "                     , url_col\n",
    "                     , subsample=True\n",
    "                     , sample_size=50\n",
    "                     , random_state=888)"
   ]
  },
  {
   "cell_type": "code",
   "execution_count": null,
   "metadata": {},
   "outputs": [],
   "source": [
    "# Mixed bag"
   ]
  },
  {
   "cell_type": "code",
   "execution_count": 44,
   "metadata": {},
   "outputs": [
    {
     "name": "stdout",
     "output_type": "stream",
     "text": [
      "2334\n"
     ]
    },
    {
     "data": {
      "text/html": [
       "<img src=\"https://www.christies.com/img/LotImages/2011/DUB/2011_DUB_07933_0073_000(afsoon_the_shah_and_his_three_queens).jpg\" width=\"250\" height=\"250\"/>"
      ],
      "text/plain": [
       "<IPython.core.display.Image object>"
      ]
     },
     "metadata": {},
     "output_type": "display_data"
    },
    {
     "name": "stdout",
     "output_type": "stream",
     "text": [
      "31051\n"
     ]
    },
    {
     "data": {
      "text/html": [
       "<img src=\"https://www.christies.com/img/LotImages/2013/NYR/2013_NYR_02790_0456_000(alexander_archipenko_family_life).jpg\" width=\"250\" height=\"250\"/>"
      ],
      "text/plain": [
       "<IPython.core.display.Image object>"
      ]
     },
     "metadata": {},
     "output_type": "display_data"
    },
    {
     "name": "stdout",
     "output_type": "stream",
     "text": [
      "16187\n"
     ]
    },
    {
     "data": {
      "text/html": [
       "<img src=\"https://www.christies.com/img/LotImages/2015/NYR/2015_NYR_03737_1034_000(pierre-auguste_renoir_baigneuse_de_dos_sessuyant).jpg\" width=\"250\" height=\"250\"/>"
      ],
      "text/plain": [
       "<IPython.core.display.Image object>"
      ]
     },
     "metadata": {},
     "output_type": "display_data"
    },
    {
     "name": "stdout",
     "output_type": "stream",
     "text": [
      "14694\n"
     ]
    },
    {
     "data": {
      "text/html": [
       "<img src=\"https://www.christies.com/img/LotImages/2006/NYR/2006_NYR_01704_0007_000().jpg\" width=\"250\" height=\"250\"/>"
      ],
      "text/plain": [
       "<IPython.core.display.Image object>"
      ]
     },
     "metadata": {},
     "output_type": "display_data"
    },
    {
     "name": "stdout",
     "output_type": "stream",
     "text": [
      "7503\n"
     ]
    },
    {
     "data": {
      "text/html": [
       "<img src=\"https://www.christies.com/img/LotImages/2014/CKS/2014_CKS_01570_0114_000(keith_vaughan_figure_and_flowering_branch).jpg\" width=\"250\" height=\"250\"/>"
      ],
      "text/plain": [
       "<IPython.core.display.Image object>"
      ]
     },
     "metadata": {},
     "output_type": "display_data"
    },
    {
     "name": "stdout",
     "output_type": "stream",
     "text": [
      "24240\n"
     ]
    },
    {
     "data": {
      "text/html": [
       "<img src=\"https://www.christies.com/img/LotImages/2007/NYR/2007_NYR_01879_0020_000().jpg\" width=\"250\" height=\"250\"/>"
      ],
      "text/plain": [
       "<IPython.core.display.Image object>"
      ]
     },
     "metadata": {},
     "output_type": "display_data"
    },
    {
     "name": "stdout",
     "output_type": "stream",
     "text": [
      "10613\n"
     ]
    },
    {
     "data": {
      "text/html": [
       "<img src=\"https://www.christies.com/img/LotImages/2016/CKS/2016_CKS_11512_0051_000(maqbool_fida_husain_untitled).jpg\" width=\"250\" height=\"250\"/>"
      ],
      "text/plain": [
       "<IPython.core.display.Image object>"
      ]
     },
     "metadata": {},
     "output_type": "display_data"
    },
    {
     "name": "stdout",
     "output_type": "stream",
     "text": [
      "678\n"
     ]
    },
    {
     "data": {
      "text/html": [
       "<img src=\"https://www.christies.com/img/LotImages/2010/CKS/2010_CKS_07873_0317_000(pierre_alechinsky_par_la_cheminee).jpg\" width=\"250\" height=\"250\"/>"
      ],
      "text/plain": [
       "<IPython.core.display.Image object>"
      ]
     },
     "metadata": {},
     "output_type": "display_data"
    },
    {
     "name": "stdout",
     "output_type": "stream",
     "text": [
      "33301\n"
     ]
    },
    {
     "data": {
      "text/html": [
       "<img src=\"https://www.christies.com/img/LotImages/2015/CKS/2015_CKS_11148_0016_000(sir_edward_john_poynter_pra_rws_study_of_a_girls_head_for_helena_and_h).jpg\" width=\"250\" height=\"250\"/>"
      ],
      "text/plain": [
       "<IPython.core.display.Image object>"
      ]
     },
     "metadata": {},
     "output_type": "display_data"
    },
    {
     "name": "stdout",
     "output_type": "stream",
     "text": [
      "3820\n"
     ]
    },
    {
     "data": {
      "text/html": [
       "<img src=\"https://www.christies.com/img/LotImages/2012/NYR/2012_NYR_02555_0230_000(salvador_dali_limmortalite).jpg\" width=\"250\" height=\"250\"/>"
      ],
      "text/plain": [
       "<IPython.core.display.Image object>"
      ]
     },
     "metadata": {},
     "output_type": "display_data"
    },
    {
     "name": "stdout",
     "output_type": "stream",
     "text": [
      "32331\n"
     ]
    },
    {
     "data": {
      "text/html": [
       "<img src=\"https://www.christies.com/img/LotImages/2015/CSK/2015_CSK_10443_0016_000(keith_vaughan_seated_figures).jpg\" width=\"250\" height=\"250\"/>"
      ],
      "text/plain": [
       "<IPython.core.display.Image object>"
      ]
     },
     "metadata": {},
     "output_type": "display_data"
    },
    {
     "name": "stdout",
     "output_type": "stream",
     "text": [
      "13408\n"
     ]
    },
    {
     "data": {
      "text/html": [
       "<img src=\"https://www.christies.com/img/LotImages/2017/NYR/2017_NYR_14997_0858_000(carroll_dunham_personal_distance).jpg\" width=\"250\" height=\"250\"/>"
      ],
      "text/plain": [
       "<IPython.core.display.Image object>"
      ]
     },
     "metadata": {},
     "output_type": "display_data"
    },
    {
     "name": "stdout",
     "output_type": "stream",
     "text": [
      "37343\n"
     ]
    },
    {
     "data": {
      "text/html": [
       "<img src=\"https://www.christies.com/img/LotImages/2008/CSK/2008_CSK_05392_0344_000().jpg\" width=\"250\" height=\"250\"/>"
      ],
      "text/plain": [
       "<IPython.core.display.Image object>"
      ]
     },
     "metadata": {},
     "output_type": "display_data"
    },
    {
     "name": "stdout",
     "output_type": "stream",
     "text": [
      "17700\n"
     ]
    },
    {
     "data": {
      "text/html": [
       "<img src=\"https://www.christies.com/img/LotImages/2014/CKS/2014_CKS_01545_0055_000(eleanor_fortescue-brickdale_rws_lancelot_and_elaine_farewell_fair_lily).jpg\" width=\"250\" height=\"250\"/>"
      ],
      "text/plain": [
       "<IPython.core.display.Image object>"
      ]
     },
     "metadata": {},
     "output_type": "display_data"
    },
    {
     "name": "stdout",
     "output_type": "stream",
     "text": [
      "32520\n"
     ]
    },
    {
     "data": {
      "text/html": [
       "<img src=\"https://www.christies.com/img/LotImages/2013/CSK/2013_CSK_08647_0368_000(william_anastasi_subway_drawing).jpg\" width=\"250\" height=\"250\"/>"
      ],
      "text/plain": [
       "<IPython.core.display.Image object>"
      ]
     },
     "metadata": {},
     "output_type": "display_data"
    },
    {
     "name": "stdout",
     "output_type": "stream",
     "text": [
      "16061\n"
     ]
    },
    {
     "data": {
      "text/html": [
       "<img src=\"https://www.christies.com/img/LotImages/2017/NYR/2017_NYR_13892_0027_000(alexander_calder_untitled).jpg\" width=\"250\" height=\"250\"/>"
      ],
      "text/plain": [
       "<IPython.core.display.Image object>"
      ]
     },
     "metadata": {},
     "output_type": "display_data"
    },
    {
     "name": "stdout",
     "output_type": "stream",
     "text": [
      "4251\n"
     ]
    },
    {
     "data": {
      "text/html": [
       "<img src=\"https://www.christies.com/img/LotImages/2012/NYR/2012_NYR_02577_0342_000(francis_newton_souza_untitled).jpg\" width=\"250\" height=\"250\"/>"
      ],
      "text/plain": [
       "<IPython.core.display.Image object>"
      ]
     },
     "metadata": {},
     "output_type": "display_data"
    },
    {
     "name": "stdout",
     "output_type": "stream",
     "text": [
      "34263\n"
     ]
    },
    {
     "data": {
      "text/html": [
       "<img src=\"https://www.christies.com/img/LotImages/2007/NYR/2007_NYR_01872_0038_000().jpg\" width=\"250\" height=\"250\"/>"
      ],
      "text/plain": [
       "<IPython.core.display.Image object>"
      ]
     },
     "metadata": {},
     "output_type": "display_data"
    },
    {
     "name": "stdout",
     "output_type": "stream",
     "text": [
      "1671\n"
     ]
    },
    {
     "data": {
      "text/html": [
       "<img src=\"https://www.christies.com/img/LotImages/2011/NYR/2011_NYR_02460_0044_000(francis_newton_souza_toilet).jpg\" width=\"250\" height=\"250\"/>"
      ],
      "text/plain": [
       "<IPython.core.display.Image object>"
      ]
     },
     "metadata": {},
     "output_type": "display_data"
    },
    {
     "name": "stdout",
     "output_type": "stream",
     "text": [
      "23148\n"
     ]
    },
    {
     "data": {
      "text/html": [
       "<img src=\"https://www.christies.com/img/LotImages/2007/CSK/2007_CSK_05225_0708_000().jpg\" width=\"250\" height=\"250\"/>"
      ],
      "text/plain": [
       "<IPython.core.display.Image object>"
      ]
     },
     "metadata": {},
     "output_type": "display_data"
    },
    {
     "name": "stdout",
     "output_type": "stream",
     "text": [
      "11274\n"
     ]
    },
    {
     "data": {
      "text/html": [
       "<img src=\"https://www.christies.com/img/LotImages/2016/NYR/2016_NYR_12146_1027_000(albert_marquet_audierne_les_cabines_vertes).jpg\" width=\"250\" height=\"250\"/>"
      ],
      "text/plain": [
       "<IPython.core.display.Image object>"
      ]
     },
     "metadata": {},
     "output_type": "display_data"
    },
    {
     "name": "stdout",
     "output_type": "stream",
     "text": [
      "28021\n"
     ]
    },
    {
     "data": {
      "text/html": [
       "<img src=\"https://www.christies.com/img/LotImages/2013/HGK/2013_HGK_03205_0043_000(cai_guo_qiang_man_eagle_and_eye_in_the_sky_eagles).jpg\" width=\"250\" height=\"250\"/>"
      ],
      "text/plain": [
       "<IPython.core.display.Image object>"
      ]
     },
     "metadata": {},
     "output_type": "display_data"
    },
    {
     "name": "stdout",
     "output_type": "stream",
     "text": [
      "30034\n"
     ]
    },
    {
     "data": {
      "text/html": [
       "<img src=\"https://www.christies.com/img/LotImages/2006/NYR/2006_NYR_01704_0199_000().jpg\" width=\"250\" height=\"250\"/>"
      ],
      "text/plain": [
       "<IPython.core.display.Image object>"
      ]
     },
     "metadata": {},
     "output_type": "display_data"
    },
    {
     "name": "stdout",
     "output_type": "stream",
     "text": [
      "27291\n"
     ]
    },
    {
     "data": {
      "text/html": [
       "<img src=\"https://www.christies.com/img/LotImages/2007/CKS/2007_CKS_07407_0180_000().jpg\" width=\"250\" height=\"250\"/>"
      ],
      "text/plain": [
       "<IPython.core.display.Image object>"
      ]
     },
     "metadata": {},
     "output_type": "display_data"
    },
    {
     "name": "stdout",
     "output_type": "stream",
     "text": [
      "37987\n"
     ]
    },
    {
     "data": {
      "text/html": [
       "<img src=\"https://www.christies.com/img/LotImages/2008/CKS/2008_CKS_07601_0231_000().jpg\" width=\"250\" height=\"250\"/>"
      ],
      "text/plain": [
       "<IPython.core.display.Image object>"
      ]
     },
     "metadata": {},
     "output_type": "display_data"
    },
    {
     "name": "stdout",
     "output_type": "stream",
     "text": [
      "30388\n"
     ]
    },
    {
     "data": {
      "text/html": [
       "<img src=\"https://www.christies.com/img/LotImages/2013/CSK/2013_CSK_09762_0056_000(sir_jacob_epstein_sunita_reclining).jpg\" width=\"250\" height=\"250\"/>"
      ],
      "text/plain": [
       "<IPython.core.display.Image object>"
      ]
     },
     "metadata": {},
     "output_type": "display_data"
    },
    {
     "name": "stdout",
     "output_type": "stream",
     "text": [
      "5561\n"
     ]
    },
    {
     "data": {
      "text/html": [
       "<img src=\"https://www.christies.com/img/LotImages/2012/CKS/2012_CKS_06766_0103_000(jason_brooks_jessica).jpg\" width=\"250\" height=\"250\"/>"
      ],
      "text/plain": [
       "<IPython.core.display.Image object>"
      ]
     },
     "metadata": {},
     "output_type": "display_data"
    },
    {
     "name": "stdout",
     "output_type": "stream",
     "text": [
      "17594\n"
     ]
    },
    {
     "data": {
      "text/html": [
       "<img src=\"https://www.christies.com/img/LotImages/2014/NYR/2014_NYR_02867_0003_000(gladys_nilsson_men_painting).jpg\" width=\"250\" height=\"250\"/>"
      ],
      "text/plain": [
       "<IPython.core.display.Image object>"
      ]
     },
     "metadata": {},
     "output_type": "display_data"
    },
    {
     "name": "stdout",
     "output_type": "stream",
     "text": [
      "38870\n"
     ]
    },
    {
     "data": {
      "text/html": [
       "<img src=\"https://www.christies.com/img/LotImages/2010/NYR/2010_NYR_02341_0007_000(ray_johnson_untitled).jpg\" width=\"250\" height=\"250\"/>"
      ],
      "text/plain": [
       "<IPython.core.display.Image object>"
      ]
     },
     "metadata": {},
     "output_type": "display_data"
    },
    {
     "name": "stdout",
     "output_type": "stream",
     "text": [
      "25513\n"
     ]
    },
    {
     "data": {
      "text/html": [
       "<img src=\"https://www.christies.com/img/LotImages/2013/NYR/2013_NYR_02723_0177_000(avinash_chandra_the_dome).jpg\" width=\"250\" height=\"250\"/>"
      ],
      "text/plain": [
       "<IPython.core.display.Image object>"
      ]
     },
     "metadata": {},
     "output_type": "display_data"
    },
    {
     "name": "stdout",
     "output_type": "stream",
     "text": [
      "136\n"
     ]
    },
    {
     "data": {
      "text/html": [
       "<img src=\"https://www.christies.com/img/LotImages/2010/NYR/2010_NYR_02353_0162_000(joan_miro_drawing_from_la_grande_chaumiere).jpg\" width=\"250\" height=\"250\"/>"
      ],
      "text/plain": [
       "<IPython.core.display.Image object>"
      ]
     },
     "metadata": {},
     "output_type": "display_data"
    },
    {
     "name": "stdout",
     "output_type": "stream",
     "text": [
      "21389\n"
     ]
    },
    {
     "data": {
      "text/html": [
       "<img src=\"https://www.christies.com/img/LotImages/2014/NYR/2014_NYR_02892_0103_000(robert_motherwell_elegy_sketch_with_amber).jpg\" width=\"250\" height=\"250\"/>"
      ],
      "text/plain": [
       "<IPython.core.display.Image object>"
      ]
     },
     "metadata": {},
     "output_type": "display_data"
    },
    {
     "name": "stdout",
     "output_type": "stream",
     "text": [
      "13884\n"
     ]
    },
    {
     "data": {
      "text/html": [
       "<img src=\"https://www.christies.com/img/LotImages/2013/NYR/2013_NYR_02727_0305_000(charline_von_heyl_untitled).jpg\" width=\"250\" height=\"250\"/>"
      ],
      "text/plain": [
       "<IPython.core.display.Image object>"
      ]
     },
     "metadata": {},
     "output_type": "display_data"
    },
    {
     "name": "stdout",
     "output_type": "stream",
     "text": [
      "22126\n"
     ]
    },
    {
     "data": {
      "text/html": [
       "<img src=\"https://www.christies.com/img/LotImages/2009/NYR/2009_NYR_02138_0079_000().jpg\" width=\"250\" height=\"250\"/>"
      ],
      "text/plain": [
       "<IPython.core.display.Image object>"
      ]
     },
     "metadata": {},
     "output_type": "display_data"
    },
    {
     "name": "stdout",
     "output_type": "stream",
     "text": [
      "11314\n"
     ]
    },
    {
     "data": {
      "text/html": [
       "<img src=\"https://www.christies.com/img/LotImages/2016/NYR/2016_NYR_12146_1064_000(james_ensor_projet_pour_cortege_represente_maurice_de_nassau_a_ostende).jpg\" width=\"250\" height=\"250\"/>"
      ],
      "text/plain": [
       "<IPython.core.display.Image object>"
      ]
     },
     "metadata": {},
     "output_type": "display_data"
    },
    {
     "name": "stdout",
     "output_type": "stream",
     "text": [
      "10785\n"
     ]
    },
    {
     "data": {
      "text/html": [
       "<img src=\"https://www.christies.com/img/LotImages/2016/CKS/2016_CKS_11797_0010_000(andy_warhol_two_dollar_bills_40_two_dollar_bills_in_red).jpg\" width=\"250\" height=\"250\"/>"
      ],
      "text/plain": [
       "<IPython.core.display.Image object>"
      ]
     },
     "metadata": {},
     "output_type": "display_data"
    },
    {
     "name": "stdout",
     "output_type": "stream",
     "text": [
      "1551\n"
     ]
    },
    {
     "data": {
      "text/html": [
       "<img src=\"https://www.christies.com/img/LotImages/2011/NYR/2011_NYR_02442_0338_000(mark_grotjahn_untitled).jpg\" width=\"250\" height=\"250\"/>"
      ],
      "text/plain": [
       "<IPython.core.display.Image object>"
      ]
     },
     "metadata": {},
     "output_type": "display_data"
    },
    {
     "name": "stdout",
     "output_type": "stream",
     "text": [
      "4110\n"
     ]
    },
    {
     "data": {
      "text/html": [
       "<img src=\"https://www.christies.com/img/LotImages/2012/NYR/2012_NYR_02559_0421_000(glenn_ligon_study_for_stranger_in_the_village_hands_series).jpg\" width=\"250\" height=\"250\"/>"
      ],
      "text/plain": [
       "<IPython.core.display.Image object>"
      ]
     },
     "metadata": {},
     "output_type": "display_data"
    },
    {
     "name": "stdout",
     "output_type": "stream",
     "text": [
      "28623\n"
     ]
    },
    {
     "data": {
      "text/html": [
       "<img src=\"https://www.christies.com/img/LotImages/2007/CKS/2007_CKS_07408_0424_000().jpg\" width=\"250\" height=\"250\"/>"
      ],
      "text/plain": [
       "<IPython.core.display.Image object>"
      ]
     },
     "metadata": {},
     "output_type": "display_data"
    },
    {
     "name": "stdout",
     "output_type": "stream",
     "text": [
      "10109\n"
     ]
    },
    {
     "data": {
      "text/html": [
       "<img src=\"https://www.christies.com/img/LotImages/2015/NYR/2015_NYR_03741_0591_000(philip_guston_untitled).jpg\" width=\"250\" height=\"250\"/>"
      ],
      "text/plain": [
       "<IPython.core.display.Image object>"
      ]
     },
     "metadata": {},
     "output_type": "display_data"
    },
    {
     "name": "stdout",
     "output_type": "stream",
     "text": [
      "38228\n"
     ]
    },
    {
     "data": {
      "text/html": [
       "<img src=\"https://www.christies.com/img/LotImages/2008/CKS/2008_CKS_07655_0541_000().jpg\" width=\"250\" height=\"250\"/>"
      ],
      "text/plain": [
       "<IPython.core.display.Image object>"
      ]
     },
     "metadata": {},
     "output_type": "display_data"
    },
    {
     "name": "stdout",
     "output_type": "stream",
     "text": [
      "21808\n"
     ]
    },
    {
     "data": {
      "text/html": [
       "<img src=\"https://www.christies.com/img/LotImages/2009/NYR/2009_NYR_02127_0115_000().jpg\" width=\"250\" height=\"250\"/>"
      ],
      "text/plain": [
       "<IPython.core.display.Image object>"
      ]
     },
     "metadata": {},
     "output_type": "display_data"
    },
    {
     "name": "stdout",
     "output_type": "stream",
     "text": [
      "8876\n"
     ]
    },
    {
     "data": {
      "text/html": [
       "<img src=\"https://www.christies.com/img/LotImages/2015/CKS/2015_CKS_10366_0111_000(laurence_stephen_lowry_ra_standing_girl_full-length).jpg\" width=\"250\" height=\"250\"/>"
      ],
      "text/plain": [
       "<IPython.core.display.Image object>"
      ]
     },
     "metadata": {},
     "output_type": "display_data"
    },
    {
     "name": "stdout",
     "output_type": "stream",
     "text": [
      "15983\n"
     ]
    },
    {
     "data": {
      "text/html": [
       "<img src=\"https://www.christies.com/img/LotImages/2010/CKS/2010_CKS_07857_0057_000(rene_magritte_le_seducteur).jpg\" width=\"250\" height=\"250\"/>"
      ],
      "text/plain": [
       "<IPython.core.display.Image object>"
      ]
     },
     "metadata": {},
     "output_type": "display_data"
    },
    {
     "name": "stdout",
     "output_type": "stream",
     "text": [
      "494\n"
     ]
    },
    {
     "data": {
      "text/html": [
       "<img src=\"https://www.christies.com/img/LotImages/2010/CSK/2010_CSK_05548_0115_000(otto_piene_rose_oder_stern).jpg\" width=\"250\" height=\"250\"/>"
      ],
      "text/plain": [
       "<IPython.core.display.Image object>"
      ]
     },
     "metadata": {},
     "output_type": "display_data"
    },
    {
     "name": "stdout",
     "output_type": "stream",
     "text": [
      "14970\n"
     ]
    },
    {
     "data": {
      "text/html": [
       "<img src=\"https://www.christies.com/img/LotImages/2006/NYR/2006_NYR_01704_0164_000().jpg\" width=\"250\" height=\"250\"/>"
      ],
      "text/plain": [
       "<IPython.core.display.Image object>"
      ]
     },
     "metadata": {},
     "output_type": "display_data"
    },
    {
     "name": "stdout",
     "output_type": "stream",
     "text": [
      "30896\n"
     ]
    },
    {
     "data": {
      "text/html": [
       "<img src=\"https://www.christies.com/img/LotImages/2013/HGK/2013_HGK_03205_0013_000(guanzhong_wu_waterfall).jpg\" width=\"250\" height=\"250\"/>"
      ],
      "text/plain": [
       "<IPython.core.display.Image object>"
      ]
     },
     "metadata": {},
     "output_type": "display_data"
    },
    {
     "name": "stdout",
     "output_type": "stream",
     "text": [
      "28529\n"
     ]
    },
    {
     "data": {
      "text/html": [
       "<img src=\"https://www.christies.com/img/LotImages/2007/CKS/2007_CKS_07487_0559_000().jpg\" width=\"250\" height=\"250\"/>"
      ],
      "text/plain": [
       "<IPython.core.display.Image object>"
      ]
     },
     "metadata": {},
     "output_type": "display_data"
    },
    {
     "name": "stdout",
     "output_type": "stream",
     "text": [
      "34734\n"
     ]
    },
    {
     "data": {
      "text/html": [
       "<img src=\"https://www.christies.com/img/LotImages/2007/NYR/2007_NYR_01802_0067_000().jpg\" width=\"250\" height=\"250\"/>"
      ],
      "text/plain": [
       "<IPython.core.display.Image object>"
      ]
     },
     "metadata": {},
     "output_type": "display_data"
    },
    {
     "name": "stdout",
     "output_type": "stream",
     "text": [
      "8995\n"
     ]
    },
    {
     "data": {
      "text/html": [
       "<img src=\"https://www.christies.com/img/LotImages/2015/CKS/2015_CKS_10381_0004_000(richard_hamilton_pin-up_sketch_v).jpg\" width=\"250\" height=\"250\"/>"
      ],
      "text/plain": [
       "<IPython.core.display.Image object>"
      ]
     },
     "metadata": {},
     "output_type": "display_data"
    }
   ],
   "source": [
    "clas = 'Drawing'\n",
    "utils.view_images_from_url(df_classified[df_classified['Classification'] == clas]\n",
    "                     , url_col\n",
    "                     , subsample=True\n",
    "                     , sample_size=50\n",
    "                     , random_state=888)"
   ]
  },
  {
   "cell_type": "code",
   "execution_count": null,
   "metadata": {},
   "outputs": [],
   "source": [
    "# Not that great"
   ]
  },
  {
   "cell_type": "code",
   "execution_count": 45,
   "metadata": {},
   "outputs": [
    {
     "name": "stdout",
     "output_type": "stream",
     "text": [
      "22578\n"
     ]
    },
    {
     "data": {
      "text/html": [
       "<img src=\"https://www.christies.com/img/LotImages/2008/HGK/2008_HGK_02601_0131_000().jpg\" width=\"250\" height=\"250\"/>"
      ],
      "text/plain": [
       "<IPython.core.display.Image object>"
      ]
     },
     "metadata": {},
     "output_type": "display_data"
    },
    {
     "name": "stdout",
     "output_type": "stream",
     "text": [
      "2443\n"
     ]
    },
    {
     "data": {
      "text/html": [
       "<img src=\"https://www.christies.com/img/LotImages/2011/CKS/2011_CKS_07951_0032_000(pablo_picasso_tete_dhomme).jpg\" width=\"250\" height=\"250\"/>"
      ],
      "text/plain": [
       "<IPython.core.display.Image object>"
      ]
     },
     "metadata": {},
     "output_type": "display_data"
    },
    {
     "name": "stdout",
     "output_type": "stream",
     "text": [
      "23917\n"
     ]
    },
    {
     "data": {
      "text/html": [
       "<img src=\"https://www.christies.com/img/LotImages/2011/NYR/2011_NYR_02442_0356_000(gabriel_orozco_samurai_tree_8v).jpg\" width=\"250\" height=\"250\"/>"
      ],
      "text/plain": [
       "<IPython.core.display.Image object>"
      ]
     },
     "metadata": {},
     "output_type": "display_data"
    },
    {
     "name": "stdout",
     "output_type": "stream",
     "text": [
      "33300\n"
     ]
    },
    {
     "data": {
      "text/html": [
       "<img src=\"https://www.christies.com/img/LotImages/2015/NYR/2015_NYR_11682_0066_000(abraham_walkowitz_coney_island).jpg\" width=\"250\" height=\"250\"/>"
      ],
      "text/plain": [
       "<IPython.core.display.Image object>"
      ]
     },
     "metadata": {},
     "output_type": "display_data"
    },
    {
     "name": "stdout",
     "output_type": "stream",
     "text": [
      "19886\n"
     ]
    },
    {
     "data": {
      "text/html": [
       "<img src=\"https://www.christies.com/img/LotImages/2007/CKS/2007_CKS_07358_0308_000().jpg\" width=\"250\" height=\"250\"/>"
      ],
      "text/plain": [
       "<IPython.core.display.Image object>"
      ]
     },
     "metadata": {},
     "output_type": "display_data"
    },
    {
     "name": "stdout",
     "output_type": "stream",
     "text": [
      "13681\n"
     ]
    },
    {
     "data": {
      "text/html": [
       "<img src=\"https://www.christies.com/img/LotImages/2016/NYR/2016_NYR_12166_0203_000(rogelio_polesello_untitled).jpg\" width=\"250\" height=\"250\"/>"
      ],
      "text/plain": [
       "<IPython.core.display.Image object>"
      ]
     },
     "metadata": {},
     "output_type": "display_data"
    },
    {
     "name": "stdout",
     "output_type": "stream",
     "text": [
      "36270\n"
     ]
    },
    {
     "data": {
      "text/html": [
       "<img src=\"https://www.christies.com/img/LotImages/2008/NYR/2008_NYR_01967_0101_000().jpg\" width=\"250\" height=\"250\"/>"
      ],
      "text/plain": [
       "<IPython.core.display.Image object>"
      ]
     },
     "metadata": {},
     "output_type": "display_data"
    },
    {
     "name": "stdout",
     "output_type": "stream",
     "text": [
      "8705\n"
     ]
    },
    {
     "data": {
      "text/html": [
       "<img src=\"https://www.christies.com/img/LotImages/2015/CKS/2015_CKS_10336_0505_000(pierre-auguste_renoir_la_maison_de_renoir_a_cagnes-sur-mer).jpg\" width=\"250\" height=\"250\"/>"
      ],
      "text/plain": [
       "<IPython.core.display.Image object>"
      ]
     },
     "metadata": {},
     "output_type": "display_data"
    },
    {
     "name": "stdout",
     "output_type": "stream",
     "text": [
      "27527\n"
     ]
    },
    {
     "data": {
      "text/html": [
       "<img src=\"https://www.christies.com/img/LotImages/2017/NYR/2017_NYR_15004_0042A_000(claude_monet_le_rio_de_la_salute).jpg\" width=\"250\" height=\"250\"/>"
      ],
      "text/plain": [
       "<IPython.core.display.Image object>"
      ]
     },
     "metadata": {},
     "output_type": "display_data"
    },
    {
     "name": "stdout",
     "output_type": "stream",
     "text": [
      "8755\n"
     ]
    },
    {
     "data": {
      "text/html": [
       "<img src=\"https://www.christies.com/img/LotImages/2015/CKS/2015_CKS_10338_0301_000(richard_estes_staten_island_ferry_interior).jpg\" width=\"250\" height=\"250\"/>"
      ],
      "text/plain": [
       "<IPython.core.display.Image object>"
      ]
     },
     "metadata": {},
     "output_type": "display_data"
    },
    {
     "name": "stdout",
     "output_type": "stream",
     "text": [
      "993\n"
     ]
    },
    {
     "data": {
      "text/html": [
       "<img src=\"https://www.christies.com/img/LotImages/2011/NYR/2011_NYR_02421_0077_000(till_gerhard_nacht_an_allen_tagen).jpg\" width=\"250\" height=\"250\"/>"
      ],
      "text/plain": [
       "<IPython.core.display.Image object>"
      ]
     },
     "metadata": {},
     "output_type": "display_data"
    },
    {
     "name": "stdout",
     "output_type": "stream",
     "text": [
      "24933\n"
     ]
    },
    {
     "data": {
      "text/html": [
       "<img src=\"https://www.christies.com/img/LotImages/2012/CSK/2012_CSK_06240_0138_000(bela_de_kristo_composition_calva).jpg\" width=\"250\" height=\"250\"/>"
      ],
      "text/plain": [
       "<IPython.core.display.Image object>"
      ]
     },
     "metadata": {},
     "output_type": "display_data"
    },
    {
     "name": "stdout",
     "output_type": "stream",
     "text": [
      "36452\n"
     ]
    },
    {
     "data": {
      "text/html": [
       "<img src=\"https://www.christies.com/img/LotImages/2008/NYR/2008_NYR_01994_0041_000().jpg\" width=\"250\" height=\"250\"/>"
      ],
      "text/plain": [
       "<IPython.core.display.Image object>"
      ]
     },
     "metadata": {},
     "output_type": "display_data"
    },
    {
     "name": "stdout",
     "output_type": "stream",
     "text": [
      "5077\n"
     ]
    },
    {
     "data": {
      "text/html": [
       "<img src=\"https://www.christies.com/img/LotImages/2014/NYR/2014_NYR_02822_0029_000(jane_peterson_gloucester_harbor).jpg\" width=\"250\" height=\"250\"/>"
      ],
      "text/plain": [
       "<IPython.core.display.Image object>"
      ]
     },
     "metadata": {},
     "output_type": "display_data"
    },
    {
     "name": "stdout",
     "output_type": "stream",
     "text": [
      "25546\n"
     ]
    },
    {
     "data": {
      "text/html": [
       "<img src=\"https://www.christies.com/img/LotImages/2006/CSK/2006_CSK_05010_0029_000().jpg\" width=\"250\" height=\"250\"/>"
      ],
      "text/plain": [
       "<IPython.core.display.Image object>"
      ]
     },
     "metadata": {},
     "output_type": "display_data"
    },
    {
     "name": "stdout",
     "output_type": "stream",
     "text": [
      "11972\n"
     ]
    },
    {
     "data": {
      "text/html": [
       "<img src=\"https://www.christies.com/img/LotImages/2016/SHA/2016_SHA_12511_0207_000(ding_yi_appearance_of_crosses_2014-2).jpg\" width=\"250\" height=\"250\"/>"
      ],
      "text/plain": [
       "<IPython.core.display.Image object>"
      ]
     },
     "metadata": {},
     "output_type": "display_data"
    },
    {
     "name": "stdout",
     "output_type": "stream",
     "text": [
      "20900\n"
     ]
    },
    {
     "data": {
      "text/html": [
       "<img src=\"https://www.christies.com/img/LotImages/2017/CKS/2017_CKS_14233_0087_000(george_spencer_watson_ra_rws_the_wood_nymphs).jpg\" width=\"250\" height=\"250\"/>"
      ],
      "text/plain": [
       "<IPython.core.display.Image object>"
      ]
     },
     "metadata": {},
     "output_type": "display_data"
    },
    {
     "name": "stdout",
     "output_type": "stream",
     "text": [
      "7343\n"
     ]
    },
    {
     "data": {
      "text/html": [
       "<img src=\"https://www.christies.com/img/LotImages/2014/CKS/2014_CKS_01544_0178_000(richard_eurich_ra_scenes_of_my_childhood).jpg\" width=\"250\" height=\"250\"/>"
      ],
      "text/plain": [
       "<IPython.core.display.Image object>"
      ]
     },
     "metadata": {},
     "output_type": "display_data"
    },
    {
     "name": "stdout",
     "output_type": "stream",
     "text": [
      "11228\n"
     ]
    },
    {
     "data": {
      "text/html": [
       "<img src=\"https://www.christies.com/img/LotImages/2016/NYR/2016_NYR_12145_0019B_000(marc_chagall_le_grand_bouquet).jpg\" width=\"250\" height=\"250\"/>"
      ],
      "text/plain": [
       "<IPython.core.display.Image object>"
      ]
     },
     "metadata": {},
     "output_type": "display_data"
    },
    {
     "name": "stdout",
     "output_type": "stream",
     "text": [
      "6183\n"
     ]
    },
    {
     "data": {
      "text/html": [
       "<img src=\"https://www.christies.com/img/LotImages/2013/NYR/2013_NYR_02750_0148_000(robert_henri_irish_girl).jpg\" width=\"250\" height=\"250\"/>"
      ],
      "text/plain": [
       "<IPython.core.display.Image object>"
      ]
     },
     "metadata": {},
     "output_type": "display_data"
    },
    {
     "name": "stdout",
     "output_type": "stream",
     "text": [
      "8277\n"
     ]
    },
    {
     "data": {
      "text/html": [
       "<img src=\"https://www.christies.com/img/LotImages/2014/HGK/2014_HGK_03361_0523_000(choi_yeong-geol_shan-shui_of_summer).jpg\" width=\"250\" height=\"250\"/>"
      ],
      "text/plain": [
       "<IPython.core.display.Image object>"
      ]
     },
     "metadata": {},
     "output_type": "display_data"
    },
    {
     "name": "stdout",
     "output_type": "stream",
     "text": [
      "24739\n"
     ]
    },
    {
     "data": {
      "text/html": [
       "<img src=\"https://www.christies.com/img/LotImages/2012/CKS/2012_CKS_05326_0094_000(terence_cuneo_trooping_the_colour).jpg\" width=\"250\" height=\"250\"/>"
      ],
      "text/plain": [
       "<IPython.core.display.Image object>"
      ]
     },
     "metadata": {},
     "output_type": "display_data"
    },
    {
     "name": "stdout",
     "output_type": "stream",
     "text": [
      "22528\n"
     ]
    },
    {
     "data": {
      "text/html": [
       "<img src=\"https://www.christies.com/img/LotImages/2007/NYR/2007_NYR_01872_0044_000().jpg\" width=\"250\" height=\"250\"/>"
      ],
      "text/plain": [
       "<IPython.core.display.Image object>"
      ]
     },
     "metadata": {},
     "output_type": "display_data"
    },
    {
     "name": "stdout",
     "output_type": "stream",
     "text": [
      "34683\n"
     ]
    },
    {
     "data": {
      "text/html": [
       "<img src=\"https://www.christies.com/img/LotImages/2006/DUB/2006_DUB_07333_0039_000().jpg\" width=\"250\" height=\"250\"/>"
      ],
      "text/plain": [
       "<IPython.core.display.Image object>"
      ]
     },
     "metadata": {},
     "output_type": "display_data"
    },
    {
     "name": "stdout",
     "output_type": "stream",
     "text": [
      "37924\n"
     ]
    },
    {
     "data": {
      "text/html": [
       "<img src=\"https://www.christies.com/img/LotImages/2008/CKS/2008_CKS_07599_0080_000().jpg\" width=\"250\" height=\"250\"/>"
      ],
      "text/plain": [
       "<IPython.core.display.Image object>"
      ]
     },
     "metadata": {},
     "output_type": "display_data"
    },
    {
     "name": "stdout",
     "output_type": "stream",
     "text": [
      "5131\n"
     ]
    },
    {
     "data": {
      "text/html": [
       "<img src=\"https://www.christies.com/img/LotImages/2012/NYR/2012_NYR_02644_0173_000(yi_chen_untitled).jpg\" width=\"250\" height=\"250\"/>"
      ],
      "text/plain": [
       "<IPython.core.display.Image object>"
      ]
     },
     "metadata": {},
     "output_type": "display_data"
    },
    {
     "name": "stdout",
     "output_type": "stream",
     "text": [
      "15148\n"
     ]
    },
    {
     "data": {
      "text/html": [
       "<img src=\"https://www.christies.com/img/LotImages/2006/NYR/2006_NYR_01725_0041_000().jpg\" width=\"250\" height=\"250\"/>"
      ],
      "text/plain": [
       "<IPython.core.display.Image object>"
      ]
     },
     "metadata": {},
     "output_type": "display_data"
    },
    {
     "name": "stdout",
     "output_type": "stream",
     "text": [
      "14347\n"
     ]
    },
    {
     "data": {
      "text/html": [
       "<img src=\"https://www.christies.com/img/LotImages/2013/NYR/2013_NYR_02747_0231_000(daniel_senise_untitled).jpg\" width=\"250\" height=\"250\"/>"
      ],
      "text/plain": [
       "<IPython.core.display.Image object>"
      ]
     },
     "metadata": {},
     "output_type": "display_data"
    },
    {
     "name": "stdout",
     "output_type": "stream",
     "text": [
      "8276\n"
     ]
    },
    {
     "data": {
      "text/html": [
       "<img src=\"https://www.christies.com/img/LotImages/2014/HGK/2014_HGK_03357_0055_000(chu_teh-chun_no_404).jpg\" width=\"250\" height=\"250\"/>"
      ],
      "text/plain": [
       "<IPython.core.display.Image object>"
      ]
     },
     "metadata": {},
     "output_type": "display_data"
    },
    {
     "name": "stdout",
     "output_type": "stream",
     "text": [
      "28018\n"
     ]
    },
    {
     "data": {
      "text/html": [
       "<img src=\"https://www.christies.com/img/LotImages/2013/HGK/2013_HGK_03205_0042_000(yue_minjun_fifteen_poses_in_life_pink).jpg\" width=\"250\" height=\"250\"/>"
      ],
      "text/plain": [
       "<IPython.core.display.Image object>"
      ]
     },
     "metadata": {},
     "output_type": "display_data"
    },
    {
     "name": "stdout",
     "output_type": "stream",
     "text": [
      "15590\n"
     ]
    },
    {
     "data": {
      "text/html": [
       "<img src=\"https://www.christies.com/img/LotImages/2014/NYR/2014_NYR_02827_0206_000(jamini_roy_untitled_untitled_untitled_untitled).jpg\" width=\"250\" height=\"250\"/>"
      ],
      "text/plain": [
       "<IPython.core.display.Image object>"
      ]
     },
     "metadata": {},
     "output_type": "display_data"
    },
    {
     "name": "stdout",
     "output_type": "stream",
     "text": [
      "11350\n"
     ]
    },
    {
     "data": {
      "text/html": [
       "<img src=\"https://www.christies.com/img/LotImages/2016/NYR/2016_NYR_12153_0109_000(michelangelo_pistoletto_gilardi_assis).jpg\" width=\"250\" height=\"250\"/>"
      ],
      "text/plain": [
       "<IPython.core.display.Image object>"
      ]
     },
     "metadata": {},
     "output_type": "display_data"
    },
    {
     "name": "stdout",
     "output_type": "stream",
     "text": [
      "8615\n"
     ]
    },
    {
     "data": {
      "text/html": [
       "<img src=\"https://www.christies.com/img/LotImages/2015/CKS/2015_CKS_10334_0019_000(pablo_picasso_grappe_de_raisin).jpg\" width=\"250\" height=\"250\"/>"
      ],
      "text/plain": [
       "<IPython.core.display.Image object>"
      ]
     },
     "metadata": {},
     "output_type": "display_data"
    },
    {
     "name": "stdout",
     "output_type": "stream",
     "text": [
      "8349\n"
     ]
    },
    {
     "data": {
      "text/html": [
       "<img src=\"https://www.christies.com/img/LotImages/2014/HGK/2014_HGK_03361_0673_000(gede_mahendra_yasa_mondrian_1_mondrian_2).jpg\" width=\"250\" height=\"250\"/>"
      ],
      "text/plain": [
       "<IPython.core.display.Image object>"
      ]
     },
     "metadata": {},
     "output_type": "display_data"
    },
    {
     "name": "stdout",
     "output_type": "stream",
     "text": [
      "15727\n"
     ]
    },
    {
     "data": {
      "text/html": [
       "<img src=\"https://www.christies.com/img/LotImages/2014/NYR/2014_NYR_02824_0092_000(michael_goldberg_untitled).jpg\" width=\"250\" height=\"250\"/>"
      ],
      "text/plain": [
       "<IPython.core.display.Image object>"
      ]
     },
     "metadata": {},
     "output_type": "display_data"
    },
    {
     "name": "stdout",
     "output_type": "stream",
     "text": [
      "14216\n"
     ]
    },
    {
     "data": {
      "text/html": [
       "<img src=\"https://www.christies.com/img/LotImages/2006/NYR/2006_NYR_01729_0078_000().jpg\" width=\"250\" height=\"250\"/>"
      ],
      "text/plain": [
       "<IPython.core.display.Image object>"
      ]
     },
     "metadata": {},
     "output_type": "display_data"
    },
    {
     "name": "stdout",
     "output_type": "stream",
     "text": [
      "17877\n"
     ]
    },
    {
     "data": {
      "text/html": [
       "<img src=\"https://www.christies.com/img/LotImages/2014/NYR/2014_NYR_02846_0244_000(raoul_dufy_le_bal).jpg\" width=\"250\" height=\"250\"/>"
      ],
      "text/plain": [
       "<IPython.core.display.Image object>"
      ]
     },
     "metadata": {},
     "output_type": "display_data"
    },
    {
     "name": "stdout",
     "output_type": "stream",
     "text": [
      "18697\n"
     ]
    },
    {
     "data": {
      "text/html": [
       "<img src=\"https://www.christies.com/img/LotImages/2017/HGK/2017_HGK_13269_0102_000(yoshitomo_nara_k).jpg\" width=\"250\" height=\"250\"/>"
      ],
      "text/plain": [
       "<IPython.core.display.Image object>"
      ]
     },
     "metadata": {},
     "output_type": "display_data"
    },
    {
     "name": "stdout",
     "output_type": "stream",
     "text": [
      "13639\n"
     ]
    },
    {
     "data": {
      "text/html": [
       "<img src=\"https://www.christies.com/img/LotImages/2016/NYR/2016_NYR_12166_0002_000(rufino_tamayo_peasant_woman).jpg\" width=\"250\" height=\"250\"/>"
      ],
      "text/plain": [
       "<IPython.core.display.Image object>"
      ]
     },
     "metadata": {},
     "output_type": "display_data"
    },
    {
     "name": "stdout",
     "output_type": "stream",
     "text": [
      "32927\n"
     ]
    },
    {
     "data": {
      "text/html": [
       "<img src=\"https://www.christies.com/img/LotImages/2015/CSK/2015_CSK_10421_0178_000(mike_bouchet_yellow_escape).jpg\" width=\"250\" height=\"250\"/>"
      ],
      "text/plain": [
       "<IPython.core.display.Image object>"
      ]
     },
     "metadata": {},
     "output_type": "display_data"
    },
    {
     "name": "stdout",
     "output_type": "stream",
     "text": [
      "28677\n"
     ]
    },
    {
     "data": {
      "text/html": [
       "<img src=\"https://www.christies.com/img/LotImages/2010/DUB/2010_DUB_07895_0032_000(chafic_abboud_premiers_gestes).jpg\" width=\"250\" height=\"250\"/>"
      ],
      "text/plain": [
       "<IPython.core.display.Image object>"
      ]
     },
     "metadata": {},
     "output_type": "display_data"
    },
    {
     "name": "stdout",
     "output_type": "stream",
     "text": [
      "22513\n"
     ]
    },
    {
     "data": {
      "text/html": [
       "<img src=\"https://www.christies.com/img/LotImages/2007/NYR/2007_NYR_01901_0520_000().jpg\" width=\"250\" height=\"250\"/>"
      ],
      "text/plain": [
       "<IPython.core.display.Image object>"
      ]
     },
     "metadata": {},
     "output_type": "display_data"
    },
    {
     "name": "stdout",
     "output_type": "stream",
     "text": [
      "26705\n"
     ]
    },
    {
     "data": {
      "text/html": [
       "<img src=\"https://www.christies.com/img/LotImages/2008/NYR/2008_NYR_01999_0352_000().jpg\" width=\"250\" height=\"250\"/>"
      ],
      "text/plain": [
       "<IPython.core.display.Image object>"
      ]
     },
     "metadata": {},
     "output_type": "display_data"
    },
    {
     "name": "stdout",
     "output_type": "stream",
     "text": [
      "19881\n"
     ]
    },
    {
     "data": {
      "text/html": [
       "<img src=\"https://www.christies.com/img/LotImages/2007/CKS/2007_CKS_07406_0070_000().jpg\" width=\"250\" height=\"250\"/>"
      ],
      "text/plain": [
       "<IPython.core.display.Image object>"
      ]
     },
     "metadata": {},
     "output_type": "display_data"
    },
    {
     "name": "stdout",
     "output_type": "stream",
     "text": [
      "25069\n"
     ]
    },
    {
     "data": {
      "text/html": [
       "<img src=\"https://www.christies.com/img/LotImages/2011/CKS/2011_CKS_07977_0013_000(lucian_freud_woman_smiling).jpg\" width=\"250\" height=\"250\"/>"
      ],
      "text/plain": [
       "<IPython.core.display.Image object>"
      ]
     },
     "metadata": {},
     "output_type": "display_data"
    },
    {
     "name": "stdout",
     "output_type": "stream",
     "text": [
      "35388\n"
     ]
    },
    {
     "data": {
      "text/html": [
       "<img src=\"https://www.christies.com/img/LotImages/2007/CKS/2007_CKS_07357_0006_000().jpg\" width=\"250\" height=\"250\"/>"
      ],
      "text/plain": [
       "<IPython.core.display.Image object>"
      ]
     },
     "metadata": {},
     "output_type": "display_data"
    },
    {
     "name": "stdout",
     "output_type": "stream",
     "text": [
      "34758\n"
     ]
    },
    {
     "data": {
      "text/html": [
       "<img src=\"https://www.christies.com/img/LotImages/2007/NYR/2007_NYR_01802_0124_000().jpg\" width=\"250\" height=\"250\"/>"
      ],
      "text/plain": [
       "<IPython.core.display.Image object>"
      ]
     },
     "metadata": {},
     "output_type": "display_data"
    },
    {
     "name": "stdout",
     "output_type": "stream",
     "text": [
      "28787\n"
     ]
    },
    {
     "data": {
      "text/html": [
       "<img src=\"https://www.christies.com/img/LotImages/2014/NYR/2014_NYR_02853_0102_000(rufino_tamayo_the_frog).jpg\" width=\"250\" height=\"250\"/>"
      ],
      "text/plain": [
       "<IPython.core.display.Image object>"
      ]
     },
     "metadata": {},
     "output_type": "display_data"
    },
    {
     "name": "stdout",
     "output_type": "stream",
     "text": [
      "26383\n"
     ]
    },
    {
     "data": {
      "text/html": [
       "<img src=\"https://www.christies.com/img/LotImages/2015/CSK/2015_CSK_10421_0111_000(chantal_joffe_untitled).jpg\" width=\"250\" height=\"250\"/>"
      ],
      "text/plain": [
       "<IPython.core.display.Image object>"
      ]
     },
     "metadata": {},
     "output_type": "display_data"
    },
    {
     "name": "stdout",
     "output_type": "stream",
     "text": [
      "29397\n"
     ]
    },
    {
     "data": {
      "text/html": [
       "<img src=\"https://www.christies.com/img/LotImages/2012/CKS/2012_CKS_08051_0440_000(alfred_sisley_saint-mammes).jpg\" width=\"250\" height=\"250\"/>"
      ],
      "text/plain": [
       "<IPython.core.display.Image object>"
      ]
     },
     "metadata": {},
     "output_type": "display_data"
    }
   ],
   "source": [
    "clas = 'Painting'\n",
    "utils.view_images_from_url(df_classified[df_classified['Classification'] == clas]\n",
    "                     , url_col\n",
    "                     , subsample=True\n",
    "                     , sample_size=50\n",
    "                     , random_state=888)"
   ]
  },
  {
   "cell_type": "code",
   "execution_count": 47,
   "metadata": {},
   "outputs": [
    {
     "data": {
      "text/plain": [
       "(546, 30)"
      ]
     },
     "execution_count": 47,
     "metadata": {},
     "output_type": "execute_result"
    }
   ],
   "source": [
    "df_classified[df_classified['print_keyword']== True].shape"
   ]
  }
 ],
 "metadata": {
  "kernelspec": {
   "display_name": "Python 3",
   "language": "python",
   "name": "python3"
  },
  "language_info": {
   "codemirror_mode": {
    "name": "ipython",
    "version": 3
   },
   "file_extension": ".py",
   "mimetype": "text/x-python",
   "name": "python",
   "nbconvert_exporter": "python",
   "pygments_lexer": "ipython3",
   "version": "3.8.0"
  }
 },
 "nbformat": 4,
 "nbformat_minor": 4
}
